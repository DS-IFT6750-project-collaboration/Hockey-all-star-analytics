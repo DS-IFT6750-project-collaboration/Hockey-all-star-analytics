{
 "cells": [
  {
   "cell_type": "markdown",
   "metadata": {},
   "source": [
    "# Import libraries and constants"
   ]
  },
  {
   "cell_type": "markdown",
   "metadata": {},
   "source": [
    "# 1. Warmup"
   ]
  },
  {
   "cell_type": "markdown",
   "metadata": {},
   "source": [
    "### Download the .xlsx table from :\n",
    "http://www.nhl.com/stats/goalies?reportType=season&seasonFrom=20172018&seasonTo=20172018"
   ]
  },
  {
   "cell_type": "code",
   "execution_count": null,
   "metadata": {},
   "outputs": [],
   "source": [
    "import numpy as np\n",
    "import pandas as pd\n",
    "import matplotlib.pyplot as plt\n",
    "\n",
    "# set matplotlib parameters\n",
    "plt.rcParams[\"figure.figsize\"] = (10, 6)\n",
    "plt.rcParams[\"font.size\"] = 12"
   ]
  },
  {
   "cell_type": "code",
   "execution_count": null,
   "metadata": {},
   "outputs": [],
   "source": [
    "# set path for Excel file\n",
    "GOALEES_PATH = \"./storage/nhl_goalees.xlsx\"\n",
    "# parameter \"thousands\" parses commas separating thousands in Excel\n",
    "goalees_df = pd.read_excel(GOALEES_PATH, thousands=\",\")\n",
    "goalees_df.head()"
   ]
  },
  {
   "cell_type": "code",
   "execution_count": null,
   "metadata": {},
   "outputs": [],
   "source": [
    "# Filter the original table to keep relevant column\n",
    "# use .copy() to avoid modifying \"goaless_df\"\n",
    "input_df = goalees_df[[\"Player\", \"GP\", \"GS\", \"Team\", \"SA\", \"Svs\", \"GA\", \"GAA\"]].copy()\n",
    "input_df.head()"
   ]
  },
  {
   "cell_type": "code",
   "execution_count": null,
   "metadata": {},
   "outputs": [],
   "source": [
    "# compute saves ratio by dividing n Saves (Svs) by n Shots against (SA)\n",
    "input_df[\"Svs_ratio\"] = input_df[\"Svs\"] / input_df[\"SA\"]"
   ]
  },
  {
   "cell_type": "code",
   "execution_count": null,
   "metadata": {},
   "outputs": [],
   "source": [
    "input_df = input_df.sort_values(\"Svs_ratio\", ascending=False)"
   ]
  },
  {
   "cell_type": "code",
   "execution_count": null,
   "metadata": {},
   "outputs": [],
   "source": [
    "# keep the first 20 rows (import to use \"iloc\", not \"loc\")\n",
    "top20 = input_df.iloc[:20, :]\n",
    "# rename the original index, reset the index, set the new index\n",
    "top20 = top20.rename_axis(\"idx\").reset_index().set_index(\"Player\")\n",
    "print(top20.shape)"
   ]
  },
  {
   "cell_type": "markdown",
   "metadata": {},
   "source": [
    "## Plot top 20 goaltenders according to % shots saved"
   ]
  },
  {
   "cell_type": "code",
   "execution_count": null,
   "metadata": {},
   "outputs": [],
   "source": [
    "#ylim manually sets the range of the bar plot\n",
    "top20[\"Svs_ratio\"].plot(kind=\"bar\", title=\"Top 20 goaltenders by % Shots saved\", ylabel=\"% Shots saved\", ylim=(0.91, 0.939))"
   ]
  },
  {
   "cell_type": "markdown",
   "metadata": {},
   "source": [
    "## Supplementary analysis\n",
    "Do % Shots saved vary according to:\n",
    "- the number of game played?\n",
    "- the number of game started?\n",
    "- the % of game started?"
   ]
  },
  {
   "cell_type": "code",
   "execution_count": null,
   "metadata": {},
   "outputs": [],
   "source": [
    "# create binary column for top 20 players based on % Svs\n",
    "input_df[\"is_top20\"] = 0\n",
    "input_df.loc[top20.idx, \"is_top20\"] = 1"
   ]
  },
  {
   "cell_type": "code",
   "execution_count": null,
   "metadata": {},
   "outputs": [],
   "source": [
    "# ratio of game started\n",
    "input_df[\"GS_ratio\"] = input_df[\"GS\"] / input_df[\"GP\"]"
   ]
  },
  {
   "cell_type": "code",
   "execution_count": null,
   "metadata": {},
   "outputs": [],
   "source": [
    "# reusable function to generate scatter plot\n",
    "def scatter_x_by_y(df, x_col, y_col=\"Svs_ratio\", conditional_col=None):\n",
    "    plt.figure()\n",
    "\n",
    "    # scatter plot using x_col and y_col\n",
    "    plt.scatter(df[x_col], df[y_col])\n",
    "    # if conditional_col is not None\n",
    "    if conditional_col:\n",
    "        # plot x_col and y_col where conditional_col==1 using color \"C1\"\n",
    "        plt.scatter(df.loc[df[conditional_col]==1, x_col], df.loc[df[conditional_col]==1, y_col], color=\"C1\")\n",
    "    \n",
    "    # set axis labels and title\n",
    "    plt.xlabel(x_col)\n",
    "    plt.ylabel(y_col)\n",
    "    plt.title(f\"{y_col} by {x_col}\")\n",
    "\n",
    "    plt.show()"
   ]
  },
  {
   "cell_type": "code",
   "execution_count": null,
   "metadata": {},
   "outputs": [],
   "source": [
    "scatter_x_by_y(input_df, \"GS\", conditional_col=\"is_top20\")\n",
    "scatter_x_by_y(input_df, \"GP\", conditional_col=\"is_top20\")\n",
    "scatter_x_by_y(input_df, \"GS_ratio\", conditional_col=\"is_top20\")\n",
    "scatter_x_by_y(input_df, \"GAA\", conditional_col=\"is_top20\")"
   ]
  },
  {
   "cell_type": "markdown",
   "metadata": {},
   "source": [
    "# API Query\n",
    "https://gitlab.com/dword4/nhlapi/-/blob/master/stats-api.md"
   ]
  },
  {
   "cell_type": "markdown",
   "metadata": {},
   "source": [
    "### Game IDs\n",
    "First 4 digits give the season (ie. 2017 for the 2017-2018 season)\n",
    "\n",
    "Next 2 digits give the type of game\n",
    "- 01 = preseason\n",
    "- 02 = regular season\n",
    "- 03 = playoffs\n",
    "- 04 = all-star\n",
    "\n",
    "Final 4 digits give the specific game number.\n",
    "-  For regular season and preseason games, it ranges from 0001 to the number of games played. (1271 for seasons with 31 teams (2017 and onwards) and 1230 for seasons with 30 teams).\n",
    "-  For playoff games, the 2nd digit of the specific number gives the round of the playoffs, the 3rd digit specifies the matchup, and the 4th digit specifies the game (out of 7)."
   ]
  },
  {
   "cell_type": "code",
   "execution_count": null,
   "metadata": {},
   "outputs": [],
   "source": [
    "import os\n",
    "import requests\n",
    "import json\n",
    "import time"
   ]
  },
  {
   "cell_type": "code",
   "execution_count": null,
   "metadata": {},
   "outputs": [],
   "source": [
    "# class to interact with the API\n",
    "class ApiEngine():\n",
    "    def __init__(self, storage_path):\n",
    "        self.storage_path = storage_path\n",
    "    \n",
    "    # pass start_year, return a string to select a season (i.e., 2017 -> 20172018)\n",
    "    def _start_year_to_season_string(self, start_year):\n",
    "        return str(start_year) + str(start_year+1)\n",
    "    \n",
    "    # save the API JSON response to file\n",
    "    def save_response(self, response, path, overwrite=False):\n",
    "        if overwrite:\n",
    "            with open(path, \"w\") as file:\n",
    "                # if overwrite is true, return to beginning of file and overwrite\n",
    "                file.seek(0)\n",
    "                file.truncate()\n",
    "                json.dump(response, file)\n",
    "            return\n",
    "        \n",
    "        with open(path, \"w\") as file:\n",
    "            json.dump(response, file)\n",
    "    \n",
    "    # query API endpoint\n",
    "    def query_api(self, endpoint, params=None):\n",
    "        # base url of the API\n",
    "        url = f\"https://statsapi.web.nhl.com/api/v1/{endpoint}\"\n",
    "        r = requests.get(url, params=params, timeout=3)\n",
    "        # check if the HTTP request is valid\n",
    "        try:\n",
    "            r.raise_for_status()\n",
    "        except requests.exceptions.RequestException as e:\n",
    "            print(f\"Could not reach API endpoint:\\n'{url}'\")\n",
    "        return r.json()\n",
    "    \n",
    "    # query API for the schedule of the year (to get valid gamePk)\n",
    "    def get_season_schedule(self, start_year):\n",
    "        season_string = self._start_year_to_season_string(start_year)\n",
    "        season_response = self.query_api(\"schedule\", params={\"season\": season_string})\n",
    "        save_path = f\"{self.storage_path}/schedule/schedule_{season_string}.json\"\n",
    "        self.save_response(season_response, save_path, overwrite=False)\n",
    "        \n",
    "    # query API for a specific game\n",
    "    def get_game(self, gamePk):\n",
    "        game_response = self.query_api(f\"game/{gamePk}/feed/live\")\n",
    "        season = game_response[\"gameData\"][\"game\"][\"season\"]\n",
    "        save_path = f\"{self.storage_path}/game/{season}/game_{season}_{gamePk}.json\"\n",
    "        self.save_response(game_response, save_path, overwrite=False)\n",
    "    \n",
    "    # loop to query all games of a season\n",
    "    def get_all_season_games(self, start_year):\n",
    "        season_schedule = self.get_season_schedule(start_year)\n",
    "        \n",
    "        for date in season_schedule[\"dates\"]:\n",
    "            for game in date[\"games\"]:\n",
    "                self.get_game(game[\"gamePk\"])\n",
    "                time.sleep(3) # delay to avoid spamming requests"
   ]
  },
  {
   "cell_type": "code",
   "execution_count": 4,
   "metadata": {},
   "outputs": [],
   "source": [
    "# class to interact with the stored JSON files\n",
    "class StorageEngine():\n",
    "    def __init__(self, storage_path):\n",
    "        self.storage_path = storage_path\n",
    "        \n",
    "    def _start_year_to_season_string(self, start_year):\n",
    "        return str(start_year) + str(start_year+1)\n",
    "    \n",
    "    # load season schedule JSON\n",
    "    def get_season_schedule(self, start_year):\n",
    "        season_string = self._start_year_to_season_string(start_year)\n",
    "        save_path = f\"{self.storage_path}/schedule/schedule_{season_string}.json\"\n",
    "        with open(save_path, \"r\") as file:\n",
    "            return json.load(file)\n",
    "    \n",
    "    # load game JSON\n",
    "    def get_game(self, start_year, gamePk):\n",
    "        season_string = self._start_year_to_season_string(start_year)\n",
    "        save_path = f\"{self.storage_path}/game/{season_string}/game_{season_string}_{gamePk}.json\"\n",
    "        with open(save_path, \"r\") as file:\n",
    "            return json.load(file)\n",
    "    \n",
    "    # get list of valid gamePk from season schedule\n",
    "    def get_all_season_gamePk(self, start_year):\n",
    "        season_schedule = self.get_season_schedule(start_year)\n",
    "\n",
    "        gamePk_list = []\n",
    "        for date in season_schedule[\"dates\"]:\n",
    "            for game in date[\"games\"]:\n",
    "                gamePk_list.append(game[\"gamePk\"])\n",
    "        return gamePk_list"
   ]
  },
  {
   "cell_type": "markdown",
   "metadata": {},
   "source": [
    "# Visualizing JSON data"
   ]
  },
  {
   "cell_type": "code",
   "execution_count": 2,
   "metadata": {},
   "outputs": [],
   "source": [
    "import pandas as pd\n",
    "from ipywidgets import interact\n",
    "import chart_studio.plotly as py\n",
    "import plotly.figure_factory as ff"
   ]
  },
  {
   "cell_type": "code",
   "execution_count": 5,
   "metadata": {},
   "outputs": [
    {
     "data": {
      "application/vnd.jupyter.widget-view+json": {
       "model_id": "5dc7a4f6999b4ed9bef98f03c19fc2f8",
       "version_major": 2,
       "version_minor": 0
      },
      "text/plain": [
       "interactive(children=(Dropdown(description='start_year', options=(2016, 2017, 2018, 2019), value=2016), Output…"
      ]
     },
     "metadata": {},
     "output_type": "display_data"
    }
   ],
   "source": [
    "@interact(start_year=[2016, 2017, 2018, 2019])\n",
    "def view_season(start_year=2016):\n",
    "    # load engine\n",
    "    storage_engine = StorageEngine(\"./data/raw\")\n",
    "    # load list of all gamePk for selected season\n",
    "    gamePk_list = storage_engine.get_all_season_gamePk(start_year)\n",
    "            \n",
    "    @interact(game_idx=(0, len(gamePk_list)-1, 1))\n",
    "    def view_games(game_idx=0):\n",
    "        # load the game for the (season, gamePk) selected\n",
    "        game_json = storage_engine.get_game(start_year, gamePk_list[game_idx])\n",
    "        \n",
    "        # function to specify the data to display\n",
    "        def _print_metadata(game_json):\n",
    "            season = game_json[\"gameData\"][\"game\"][\"season\"]\n",
    "            gamePk = game_json[\"gamePk\"]\n",
    "            game_type = game_json[\"gameData\"][\"game\"][\"type\"]\n",
    "            start_time = game_json[\"gameData\"][\"datetime\"][\"dateTime\"]\n",
    "            venue = game_json[\"gameData\"][\"venue\"][\"name\"]\n",
    "            \n",
    "            home_tri = game_json[\"gameData\"][\"teams\"][\"home\"][\"triCode\"]\n",
    "            away_tri = game_json[\"gameData\"][\"teams\"][\"away\"][\"triCode\"]\n",
    "            \n",
    "            print(\"season:\\t\", season)\n",
    "            print(\"gamePk:\\t\", gamePk)\n",
    "            print(\"game_type:\\t\", game_type)\n",
    "            print(\"start_time:\\t\", start_time)\n",
    "            print(\"venue:\\t\", venue)\n",
    "            print(f\"{home_tri} (home) vs. {away_tri} (away)\")\n",
    "        \n",
    "        _print_metadata(game_json)\n",
    "            \n",
    "            \n",
    "    view_games()"
   ]
  },
  {
   "cell_type": "markdown",
   "metadata": {},
   "source": [
    "# Tidy data\n",
    "Convert JSON to pandas.DataFrame"
   ]
  },
  {
   "cell_type": "code",
   "execution_count": 1,
   "metadata": {},
   "outputs": [],
   "source": [
    "import pandas as pd\n",
    "\n",
    "from src.game_model import game_json_to_metadata_dict\n",
    "from src.plays_model import game_json_to_plays_list"
   ]
  },
  {
   "cell_type": "code",
   "execution_count": null,
   "metadata": {},
   "outputs": [],
   "source": [
    "#TODO\n",
    "# NOT FULLY IMPLEMENTED\n",
    "def get_season_metadata(start_year):\n",
    "    storage_engine = StorageEngine(\"./data/raw\")\n",
    "    gamePk_list = storage_engine.get_all_season_gamePk(start_year)\n",
    "\n",
    "    metadata_records = []\n",
    "\n",
    "    for gamePk in gamePk_list:\n",
    "        print(gamePk)\n",
    "        game_json = storage_engine.get_game(start_year, gamePk)\n",
    "        metadata_dict = game_json_to_metadata_dict(game_json)\n",
    "        metadata_records.append(metadata_dict)\n",
    "        \n",
    "    return pd.DataFrame.from_records(metadata_records)"
   ]
  },
  {
   "cell_type": "code",
   "execution_count": null,
   "metadata": {},
   "outputs": [],
   "source": [
    "def get_season_plays_df(start_year):\n",
    "    storage_engine = StorageEngine(\"./data/raw\")\n",
    "    gamePk_list = storage_engine.get_all_season_gamePk(start_year)\n",
    "\n",
    "    game_plays_df_list = []\n",
    "    for gamePk in gamePk_list:\n",
    "        game_json = storage_engine.get_game(start_year, gamePk)\n",
    "        game_plays_df = pd.DataFrame.from_records(game_json_to_plays_list(game_json))\n",
    "        game_plays_df_list.append(game_plays_df)\n",
    "    \n",
    "    season_plays_df = pd.concat(game_plays_df_list)\n",
    "        \n",
    "    return season_plays_df\n",
    "\n",
    "def preprocess_season_plays(start_year)\n",
    "    season_plays_df = get_season_plays_df(start_year)\n",
    "    season_plays_df.to_csv(f\"./data/preprocessed/season_plays_{start_year}.csv\", index=False)"
   ]
  },
  {
   "cell_type": "markdown",
   "metadata": {},
   "source": [
    "# Simple visualization"
   ]
  },
  {
   "cell_type": "code",
   "execution_count": 12,
   "metadata": {},
   "outputs": [],
   "source": [
    "import pandas as pd\n",
    "from ipywidgets import interact\n",
    "import plotly.express as px\n",
    "import plotly.graph_objects as go"
   ]
  },
  {
   "cell_type": "code",
   "execution_count": 94,
   "metadata": {},
   "outputs": [],
   "source": [
    "season_plays_df = pd.read_csv(\"./data/preprocessed/season_plays_20162017.csv\", index_col=False)\n",
    "season_plays_df = season_plays_df.drop(columns=\"Unnamed: 0\")\n",
    "season_plays_df.head(20)"
   ]
  },
  {
   "cell_type": "code",
   "execution_count": 23,
   "metadata": {},
   "outputs": [],
   "source": [
    "shots_freq = season_plays_df[\"shot_type\"].value_counts()\n",
    "shots_stats = season_plays_df.groupby([\"shot_type\", \"event_type_id\"]).size()\n",
    "shots_ratio = shots_stats[(slice(None), \"GOAL\")] / shots_freq"
   ]
  },
  {
   "cell_type": "code",
   "execution_count": 100,
   "metadata": {},
   "outputs": [
    {
     "data": {
      "application/vnd.plotly.v1+json": {
       "config": {
        "plotlyServerURL": "https://plot.ly"
       },
       "data": [
        {
         "alignmentgroup": "True",
         "hovertemplate": "x=%{x}<br>y=%{y}<br>text=%{text}<extra></extra>",
         "legendgroup": "",
         "marker": {
          "color": "#636efa",
          "pattern": {
           "shape": ""
          }
         },
         "name": "",
         "offsetgroup": "",
         "orientation": "v",
         "showlegend": false,
         "text": [
          0.11,
          0.2,
          0.06,
          0.09,
          0.18,
          0.08,
          0.09
         ],
         "textposition": "auto",
         "type": "bar",
         "x": [
          "Wrist Shot",
          "Slap Shot",
          "Snap Shot",
          "Backhand",
          "Tip-In",
          "Deflected",
          "Wrap-around"
         ],
         "xaxis": "x",
         "y": [
          44310,
          14409,
          13618,
          6920,
          4231,
          1069,
          886
         ],
         "yaxis": "y"
        }
       ],
       "layout": {
        "barmode": "group",
        "legend": {
         "tracegroupgap": 0
        },
        "template": {
         "data": {
          "bar": [
           {
            "error_x": {
             "color": "#2a3f5f"
            },
            "error_y": {
             "color": "#2a3f5f"
            },
            "marker": {
             "line": {
              "color": "#E5ECF6",
              "width": 0.5
             },
             "pattern": {
              "fillmode": "overlay",
              "size": 10,
              "solidity": 0.2
             }
            },
            "type": "bar"
           }
          ],
          "barpolar": [
           {
            "marker": {
             "line": {
              "color": "#E5ECF6",
              "width": 0.5
             },
             "pattern": {
              "fillmode": "overlay",
              "size": 10,
              "solidity": 0.2
             }
            },
            "type": "barpolar"
           }
          ],
          "carpet": [
           {
            "aaxis": {
             "endlinecolor": "#2a3f5f",
             "gridcolor": "white",
             "linecolor": "white",
             "minorgridcolor": "white",
             "startlinecolor": "#2a3f5f"
            },
            "baxis": {
             "endlinecolor": "#2a3f5f",
             "gridcolor": "white",
             "linecolor": "white",
             "minorgridcolor": "white",
             "startlinecolor": "#2a3f5f"
            },
            "type": "carpet"
           }
          ],
          "choropleth": [
           {
            "colorbar": {
             "outlinewidth": 0,
             "ticks": ""
            },
            "type": "choropleth"
           }
          ],
          "contour": [
           {
            "colorbar": {
             "outlinewidth": 0,
             "ticks": ""
            },
            "colorscale": [
             [
              0,
              "#0d0887"
             ],
             [
              0.1111111111111111,
              "#46039f"
             ],
             [
              0.2222222222222222,
              "#7201a8"
             ],
             [
              0.3333333333333333,
              "#9c179e"
             ],
             [
              0.4444444444444444,
              "#bd3786"
             ],
             [
              0.5555555555555556,
              "#d8576b"
             ],
             [
              0.6666666666666666,
              "#ed7953"
             ],
             [
              0.7777777777777778,
              "#fb9f3a"
             ],
             [
              0.8888888888888888,
              "#fdca26"
             ],
             [
              1,
              "#f0f921"
             ]
            ],
            "type": "contour"
           }
          ],
          "contourcarpet": [
           {
            "colorbar": {
             "outlinewidth": 0,
             "ticks": ""
            },
            "type": "contourcarpet"
           }
          ],
          "heatmap": [
           {
            "colorbar": {
             "outlinewidth": 0,
             "ticks": ""
            },
            "colorscale": [
             [
              0,
              "#0d0887"
             ],
             [
              0.1111111111111111,
              "#46039f"
             ],
             [
              0.2222222222222222,
              "#7201a8"
             ],
             [
              0.3333333333333333,
              "#9c179e"
             ],
             [
              0.4444444444444444,
              "#bd3786"
             ],
             [
              0.5555555555555556,
              "#d8576b"
             ],
             [
              0.6666666666666666,
              "#ed7953"
             ],
             [
              0.7777777777777778,
              "#fb9f3a"
             ],
             [
              0.8888888888888888,
              "#fdca26"
             ],
             [
              1,
              "#f0f921"
             ]
            ],
            "type": "heatmap"
           }
          ],
          "heatmapgl": [
           {
            "colorbar": {
             "outlinewidth": 0,
             "ticks": ""
            },
            "colorscale": [
             [
              0,
              "#0d0887"
             ],
             [
              0.1111111111111111,
              "#46039f"
             ],
             [
              0.2222222222222222,
              "#7201a8"
             ],
             [
              0.3333333333333333,
              "#9c179e"
             ],
             [
              0.4444444444444444,
              "#bd3786"
             ],
             [
              0.5555555555555556,
              "#d8576b"
             ],
             [
              0.6666666666666666,
              "#ed7953"
             ],
             [
              0.7777777777777778,
              "#fb9f3a"
             ],
             [
              0.8888888888888888,
              "#fdca26"
             ],
             [
              1,
              "#f0f921"
             ]
            ],
            "type": "heatmapgl"
           }
          ],
          "histogram": [
           {
            "marker": {
             "pattern": {
              "fillmode": "overlay",
              "size": 10,
              "solidity": 0.2
             }
            },
            "type": "histogram"
           }
          ],
          "histogram2d": [
           {
            "colorbar": {
             "outlinewidth": 0,
             "ticks": ""
            },
            "colorscale": [
             [
              0,
              "#0d0887"
             ],
             [
              0.1111111111111111,
              "#46039f"
             ],
             [
              0.2222222222222222,
              "#7201a8"
             ],
             [
              0.3333333333333333,
              "#9c179e"
             ],
             [
              0.4444444444444444,
              "#bd3786"
             ],
             [
              0.5555555555555556,
              "#d8576b"
             ],
             [
              0.6666666666666666,
              "#ed7953"
             ],
             [
              0.7777777777777778,
              "#fb9f3a"
             ],
             [
              0.8888888888888888,
              "#fdca26"
             ],
             [
              1,
              "#f0f921"
             ]
            ],
            "type": "histogram2d"
           }
          ],
          "histogram2dcontour": [
           {
            "colorbar": {
             "outlinewidth": 0,
             "ticks": ""
            },
            "colorscale": [
             [
              0,
              "#0d0887"
             ],
             [
              0.1111111111111111,
              "#46039f"
             ],
             [
              0.2222222222222222,
              "#7201a8"
             ],
             [
              0.3333333333333333,
              "#9c179e"
             ],
             [
              0.4444444444444444,
              "#bd3786"
             ],
             [
              0.5555555555555556,
              "#d8576b"
             ],
             [
              0.6666666666666666,
              "#ed7953"
             ],
             [
              0.7777777777777778,
              "#fb9f3a"
             ],
             [
              0.8888888888888888,
              "#fdca26"
             ],
             [
              1,
              "#f0f921"
             ]
            ],
            "type": "histogram2dcontour"
           }
          ],
          "mesh3d": [
           {
            "colorbar": {
             "outlinewidth": 0,
             "ticks": ""
            },
            "type": "mesh3d"
           }
          ],
          "parcoords": [
           {
            "line": {
             "colorbar": {
              "outlinewidth": 0,
              "ticks": ""
             }
            },
            "type": "parcoords"
           }
          ],
          "pie": [
           {
            "automargin": true,
            "type": "pie"
           }
          ],
          "scatter": [
           {
            "marker": {
             "colorbar": {
              "outlinewidth": 0,
              "ticks": ""
             }
            },
            "type": "scatter"
           }
          ],
          "scatter3d": [
           {
            "line": {
             "colorbar": {
              "outlinewidth": 0,
              "ticks": ""
             }
            },
            "marker": {
             "colorbar": {
              "outlinewidth": 0,
              "ticks": ""
             }
            },
            "type": "scatter3d"
           }
          ],
          "scattercarpet": [
           {
            "marker": {
             "colorbar": {
              "outlinewidth": 0,
              "ticks": ""
             }
            },
            "type": "scattercarpet"
           }
          ],
          "scattergeo": [
           {
            "marker": {
             "colorbar": {
              "outlinewidth": 0,
              "ticks": ""
             }
            },
            "type": "scattergeo"
           }
          ],
          "scattergl": [
           {
            "marker": {
             "colorbar": {
              "outlinewidth": 0,
              "ticks": ""
             }
            },
            "type": "scattergl"
           }
          ],
          "scattermapbox": [
           {
            "marker": {
             "colorbar": {
              "outlinewidth": 0,
              "ticks": ""
             }
            },
            "type": "scattermapbox"
           }
          ],
          "scatterpolar": [
           {
            "marker": {
             "colorbar": {
              "outlinewidth": 0,
              "ticks": ""
             }
            },
            "type": "scatterpolar"
           }
          ],
          "scatterpolargl": [
           {
            "marker": {
             "colorbar": {
              "outlinewidth": 0,
              "ticks": ""
             }
            },
            "type": "scatterpolargl"
           }
          ],
          "scatterternary": [
           {
            "marker": {
             "colorbar": {
              "outlinewidth": 0,
              "ticks": ""
             }
            },
            "type": "scatterternary"
           }
          ],
          "surface": [
           {
            "colorbar": {
             "outlinewidth": 0,
             "ticks": ""
            },
            "colorscale": [
             [
              0,
              "#0d0887"
             ],
             [
              0.1111111111111111,
              "#46039f"
             ],
             [
              0.2222222222222222,
              "#7201a8"
             ],
             [
              0.3333333333333333,
              "#9c179e"
             ],
             [
              0.4444444444444444,
              "#bd3786"
             ],
             [
              0.5555555555555556,
              "#d8576b"
             ],
             [
              0.6666666666666666,
              "#ed7953"
             ],
             [
              0.7777777777777778,
              "#fb9f3a"
             ],
             [
              0.8888888888888888,
              "#fdca26"
             ],
             [
              1,
              "#f0f921"
             ]
            ],
            "type": "surface"
           }
          ],
          "table": [
           {
            "cells": {
             "fill": {
              "color": "#EBF0F8"
             },
             "line": {
              "color": "white"
             }
            },
            "header": {
             "fill": {
              "color": "#C8D4E3"
             },
             "line": {
              "color": "white"
             }
            },
            "type": "table"
           }
          ]
         },
         "layout": {
          "annotationdefaults": {
           "arrowcolor": "#2a3f5f",
           "arrowhead": 0,
           "arrowwidth": 1
          },
          "autotypenumbers": "strict",
          "coloraxis": {
           "colorbar": {
            "outlinewidth": 0,
            "ticks": ""
           }
          },
          "colorscale": {
           "diverging": [
            [
             0,
             "#8e0152"
            ],
            [
             0.1,
             "#c51b7d"
            ],
            [
             0.2,
             "#de77ae"
            ],
            [
             0.3,
             "#f1b6da"
            ],
            [
             0.4,
             "#fde0ef"
            ],
            [
             0.5,
             "#f7f7f7"
            ],
            [
             0.6,
             "#e6f5d0"
            ],
            [
             0.7,
             "#b8e186"
            ],
            [
             0.8,
             "#7fbc41"
            ],
            [
             0.9,
             "#4d9221"
            ],
            [
             1,
             "#276419"
            ]
           ],
           "sequential": [
            [
             0,
             "#0d0887"
            ],
            [
             0.1111111111111111,
             "#46039f"
            ],
            [
             0.2222222222222222,
             "#7201a8"
            ],
            [
             0.3333333333333333,
             "#9c179e"
            ],
            [
             0.4444444444444444,
             "#bd3786"
            ],
            [
             0.5555555555555556,
             "#d8576b"
            ],
            [
             0.6666666666666666,
             "#ed7953"
            ],
            [
             0.7777777777777778,
             "#fb9f3a"
            ],
            [
             0.8888888888888888,
             "#fdca26"
            ],
            [
             1,
             "#f0f921"
            ]
           ],
           "sequentialminus": [
            [
             0,
             "#0d0887"
            ],
            [
             0.1111111111111111,
             "#46039f"
            ],
            [
             0.2222222222222222,
             "#7201a8"
            ],
            [
             0.3333333333333333,
             "#9c179e"
            ],
            [
             0.4444444444444444,
             "#bd3786"
            ],
            [
             0.5555555555555556,
             "#d8576b"
            ],
            [
             0.6666666666666666,
             "#ed7953"
            ],
            [
             0.7777777777777778,
             "#fb9f3a"
            ],
            [
             0.8888888888888888,
             "#fdca26"
            ],
            [
             1,
             "#f0f921"
            ]
           ]
          },
          "colorway": [
           "#636efa",
           "#EF553B",
           "#00cc96",
           "#ab63fa",
           "#FFA15A",
           "#19d3f3",
           "#FF6692",
           "#B6E880",
           "#FF97FF",
           "#FECB52"
          ],
          "font": {
           "color": "#2a3f5f"
          },
          "geo": {
           "bgcolor": "white",
           "lakecolor": "white",
           "landcolor": "#E5ECF6",
           "showlakes": true,
           "showland": true,
           "subunitcolor": "white"
          },
          "hoverlabel": {
           "align": "left"
          },
          "hovermode": "closest",
          "mapbox": {
           "style": "light"
          },
          "paper_bgcolor": "white",
          "plot_bgcolor": "#E5ECF6",
          "polar": {
           "angularaxis": {
            "gridcolor": "white",
            "linecolor": "white",
            "ticks": ""
           },
           "bgcolor": "#E5ECF6",
           "radialaxis": {
            "gridcolor": "white",
            "linecolor": "white",
            "ticks": ""
           }
          },
          "scene": {
           "xaxis": {
            "backgroundcolor": "#E5ECF6",
            "gridcolor": "white",
            "gridwidth": 2,
            "linecolor": "white",
            "showbackground": true,
            "ticks": "",
            "zerolinecolor": "white"
           },
           "yaxis": {
            "backgroundcolor": "#E5ECF6",
            "gridcolor": "white",
            "gridwidth": 2,
            "linecolor": "white",
            "showbackground": true,
            "ticks": "",
            "zerolinecolor": "white"
           },
           "zaxis": {
            "backgroundcolor": "#E5ECF6",
            "gridcolor": "white",
            "gridwidth": 2,
            "linecolor": "white",
            "showbackground": true,
            "ticks": "",
            "zerolinecolor": "white"
           }
          },
          "shapedefaults": {
           "line": {
            "color": "#2a3f5f"
           }
          },
          "ternary": {
           "aaxis": {
            "gridcolor": "white",
            "linecolor": "white",
            "ticks": ""
           },
           "baxis": {
            "gridcolor": "white",
            "linecolor": "white",
            "ticks": ""
           },
           "bgcolor": "#E5ECF6",
           "caxis": {
            "gridcolor": "white",
            "linecolor": "white",
            "ticks": ""
           }
          },
          "title": {
           "x": 0.05
          },
          "xaxis": {
           "automargin": true,
           "gridcolor": "white",
           "linecolor": "white",
           "ticks": "",
           "title": {
            "standoff": 15
           },
           "zerolinecolor": "white",
           "zerolinewidth": 2
          },
          "yaxis": {
           "automargin": true,
           "gridcolor": "white",
           "linecolor": "white",
           "ticks": "",
           "title": {
            "standoff": 15
           },
           "zerolinecolor": "white",
           "zerolinewidth": 2
          }
         }
        },
        "title": {
         "text": "Frequency of shot types across teams - Season 2016-2017"
        },
        "xaxis": {
         "anchor": "y",
         "domain": [
          0,
          1
         ],
         "title": {
          "text": "Shot type"
         }
        },
        "yaxis": {
         "anchor": "x",
         "domain": [
          0,
          1
         ],
         "title": {
          "text": "Number of event (log10)"
         }
        }
       }
      }
     },
     "metadata": {},
     "output_type": "display_data"
    }
   ],
   "source": [
    "fig = px.bar(\n",
    "    shots_stats,\n",
    "    x=shots_freq.index,\n",
    "    y=shots_freq,\n",
    "    text=shots_ratio.round(2),\n",
    "    title=\"Frequency of shot types across teams - Season 2016-2017\",\n",
    "    barmode=\"group\")\n",
    "\n",
    "fig.update_layout(\n",
    "    xaxis=dict(title=\"Shot type\"),\n",
    "    yaxis=dict(title=\"Number of event (log10)\"),\n",
    ")\n",
    "\n",
    "fig.show()"
   ]
  }
 ],
 "metadata": {
  "interpreter": {
   "hash": "ead5f43594022c7cd5f301318ae4950132a1480e3738270166fab8a4a3b2cf4b"
  },
  "kernelspec": {
   "display_name": "Python 3",
   "language": "python",
   "name": "python3"
  },
  "language_info": {
   "codemirror_mode": {
    "name": "ipython",
    "version": 3
   },
   "file_extension": ".py",
   "mimetype": "text/x-python",
   "name": "python",
   "nbconvert_exporter": "python",
   "pygments_lexer": "ipython3",
   "version": "3.9.2"
  }
 },
 "nbformat": 4,
 "nbformat_minor": 2
}
