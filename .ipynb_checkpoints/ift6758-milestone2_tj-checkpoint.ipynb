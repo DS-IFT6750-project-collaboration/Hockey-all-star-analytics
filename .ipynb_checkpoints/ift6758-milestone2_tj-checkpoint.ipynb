{
 "cells": [
  {
   "cell_type": "code",
   "execution_count": 1,
   "metadata": {},
   "outputs": [],
   "source": [
    "import pandas as pd\n",
    "import numpy as np\n",
    "import matplotlib.pyplot as plt\n",
    "\n",
    "from comet_ml import Experiment\n",
    "from ipywidgets import interact, IntSlider\n",
    "\n",
    "from src.data.dataset import split_dataset, tidy_plays_df\n",
    "from src.data.data_query import StorageEngine\n",
    "from src.data.plays_model import game_json_to_plays_list\n",
    "from src.features.features import basic_features, advanced_features, normalize_plays_coords\n",
    "#from src.models.xgboost import train_xgb"
   ]
  },
  {
   "cell_type": "code",
   "execution_count": null,
   "metadata": {},
   "outputs": [],
   "source": [
    "#tidied = tidy_plays_df([2015, 2016, 2017, 2018, 2019], augment=True)\n",
    "#tidied.to_csv(\"./data/processed/plays_2015-2020.csv\", index=False)"
   ]
  },
  {
   "cell_type": "code",
   "execution_count": 2,
   "metadata": {},
   "outputs": [],
   "source": [
    "season_plays_df = pd.read_csv(\"./data/processed/plays_2015-2020.csv\", index_col=False)"
   ]
  },
  {
   "cell_type": "code",
   "execution_count": 3,
   "metadata": {},
   "outputs": [
    {
     "data": {
      "text/html": [
       "<div>\n",
       "<style scoped>\n",
       "    .dataframe tbody tr th:only-of-type {\n",
       "        vertical-align: middle;\n",
       "    }\n",
       "\n",
       "    .dataframe tbody tr th {\n",
       "        vertical-align: top;\n",
       "    }\n",
       "\n",
       "    .dataframe thead th {\n",
       "        text-align: right;\n",
       "    }\n",
       "</style>\n",
       "<table border=\"1\" class=\"dataframe\">\n",
       "  <thead>\n",
       "    <tr style=\"text-align: right;\">\n",
       "      <th></th>\n",
       "      <th>seconds_elapsed</th>\n",
       "      <th>period_idx</th>\n",
       "      <th>x_coord</th>\n",
       "      <th>y_coord</th>\n",
       "      <th>x_coord_norm</th>\n",
       "      <th>y_coord_norm</th>\n",
       "      <th>dist_from_net</th>\n",
       "      <th>angle_from_net</th>\n",
       "      <th>Backhand</th>\n",
       "      <th>Deflected</th>\n",
       "      <th>...</th>\n",
       "      <th>SHOT</th>\n",
       "      <th>STOP</th>\n",
       "      <th>TAKEAWAY</th>\n",
       "      <th>previous_x_coord</th>\n",
       "      <th>previous_y_coord</th>\n",
       "      <th>seconds_from_previous</th>\n",
       "      <th>dist_from_previous</th>\n",
       "      <th>rebound</th>\n",
       "      <th>angle_change</th>\n",
       "      <th>speed</th>\n",
       "    </tr>\n",
       "  </thead>\n",
       "  <tbody>\n",
       "    <tr>\n",
       "      <th>0</th>\n",
       "      <td>33.0</td>\n",
       "      <td>1</td>\n",
       "      <td>-83.0</td>\n",
       "      <td>13.0</td>\n",
       "      <td>83.0</td>\n",
       "      <td>-13.0</td>\n",
       "      <td>14.317821</td>\n",
       "      <td>-65.224859</td>\n",
       "      <td>0</td>\n",
       "      <td>0</td>\n",
       "      <td>...</td>\n",
       "      <td>0</td>\n",
       "      <td>0</td>\n",
       "      <td>0</td>\n",
       "      <td>0.0</td>\n",
       "      <td>0.0</td>\n",
       "      <td>33.0</td>\n",
       "      <td>84.011904</td>\n",
       "      <td>0</td>\n",
       "      <td>0.000000</td>\n",
       "      <td>2.545815</td>\n",
       "    </tr>\n",
       "    <tr>\n",
       "      <th>1</th>\n",
       "      <td>96.0</td>\n",
       "      <td>1</td>\n",
       "      <td>-34.0</td>\n",
       "      <td>2.0</td>\n",
       "      <td>34.0</td>\n",
       "      <td>-2.0</td>\n",
       "      <td>55.036352</td>\n",
       "      <td>-2.082565</td>\n",
       "      <td>0</td>\n",
       "      <td>0</td>\n",
       "      <td>...</td>\n",
       "      <td>0</td>\n",
       "      <td>0</td>\n",
       "      <td>0</td>\n",
       "      <td>-69.0</td>\n",
       "      <td>-22.0</td>\n",
       "      <td>18.0</td>\n",
       "      <td>42.438190</td>\n",
       "      <td>0</td>\n",
       "      <td>0.000000</td>\n",
       "      <td>2.357677</td>\n",
       "    </tr>\n",
       "    <tr>\n",
       "      <th>2</th>\n",
       "      <td>174.0</td>\n",
       "      <td>1</td>\n",
       "      <td>-57.0</td>\n",
       "      <td>-29.0</td>\n",
       "      <td>57.0</td>\n",
       "      <td>29.0</td>\n",
       "      <td>43.185646</td>\n",
       "      <td>42.184443</td>\n",
       "      <td>0</td>\n",
       "      <td>0</td>\n",
       "      <td>...</td>\n",
       "      <td>0</td>\n",
       "      <td>0</td>\n",
       "      <td>0</td>\n",
       "      <td>-97.0</td>\n",
       "      <td>-5.0</td>\n",
       "      <td>1.0</td>\n",
       "      <td>46.647615</td>\n",
       "      <td>0</td>\n",
       "      <td>0.000000</td>\n",
       "      <td>46.647615</td>\n",
       "    </tr>\n",
       "    <tr>\n",
       "      <th>3</th>\n",
       "      <td>221.0</td>\n",
       "      <td>1</td>\n",
       "      <td>61.0</td>\n",
       "      <td>4.0</td>\n",
       "      <td>61.0</td>\n",
       "      <td>4.0</td>\n",
       "      <td>28.284271</td>\n",
       "      <td>8.130102</td>\n",
       "      <td>0</td>\n",
       "      <td>0</td>\n",
       "      <td>...</td>\n",
       "      <td>0</td>\n",
       "      <td>0</td>\n",
       "      <td>0</td>\n",
       "      <td>88.0</td>\n",
       "      <td>-39.0</td>\n",
       "      <td>14.0</td>\n",
       "      <td>50.774009</td>\n",
       "      <td>0</td>\n",
       "      <td>0.000000</td>\n",
       "      <td>3.626715</td>\n",
       "    </tr>\n",
       "    <tr>\n",
       "      <th>4</th>\n",
       "      <td>240.0</td>\n",
       "      <td>1</td>\n",
       "      <td>64.0</td>\n",
       "      <td>7.0</td>\n",
       "      <td>64.0</td>\n",
       "      <td>7.0</td>\n",
       "      <td>25.961510</td>\n",
       "      <td>15.642246</td>\n",
       "      <td>0</td>\n",
       "      <td>0</td>\n",
       "      <td>...</td>\n",
       "      <td>1</td>\n",
       "      <td>0</td>\n",
       "      <td>0</td>\n",
       "      <td>61.0</td>\n",
       "      <td>4.0</td>\n",
       "      <td>19.0</td>\n",
       "      <td>4.242641</td>\n",
       "      <td>1</td>\n",
       "      <td>7.512144</td>\n",
       "      <td>0.223297</td>\n",
       "    </tr>\n",
       "  </tbody>\n",
       "</table>\n",
       "<p>5 rows × 35 columns</p>\n",
       "</div>"
      ],
      "text/plain": [
       "   seconds_elapsed  period_idx  x_coord  y_coord  x_coord_norm  y_coord_norm  \\\n",
       "0             33.0           1    -83.0     13.0          83.0         -13.0   \n",
       "1             96.0           1    -34.0      2.0          34.0          -2.0   \n",
       "2            174.0           1    -57.0    -29.0          57.0          29.0   \n",
       "3            221.0           1     61.0      4.0          61.0           4.0   \n",
       "4            240.0           1     64.0      7.0          64.0           7.0   \n",
       "\n",
       "   dist_from_net  angle_from_net  Backhand  Deflected  ...  SHOT  STOP  \\\n",
       "0      14.317821      -65.224859         0          0  ...     0     0   \n",
       "1      55.036352       -2.082565         0          0  ...     0     0   \n",
       "2      43.185646       42.184443         0          0  ...     0     0   \n",
       "3      28.284271        8.130102         0          0  ...     0     0   \n",
       "4      25.961510       15.642246         0          0  ...     1     0   \n",
       "\n",
       "   TAKEAWAY  previous_x_coord  previous_y_coord  seconds_from_previous  \\\n",
       "0         0               0.0               0.0                   33.0   \n",
       "1         0             -69.0             -22.0                   18.0   \n",
       "2         0             -97.0              -5.0                    1.0   \n",
       "3         0              88.0             -39.0                   14.0   \n",
       "4         0              61.0               4.0                   19.0   \n",
       "\n",
       "   dist_from_previous  rebound  angle_change      speed  \n",
       "0           84.011904        0      0.000000   2.545815  \n",
       "1           42.438190        0      0.000000   2.357677  \n",
       "2           46.647615        0      0.000000  46.647615  \n",
       "3           50.774009        0      0.000000   3.626715  \n",
       "4            4.242641        1      7.512144   0.223297  \n",
       "\n",
       "[5 rows x 35 columns]"
      ]
     },
     "execution_count": 3,
     "metadata": {},
     "output_type": "execute_result"
    }
   ],
   "source": [
    "advanced_df = advanced_features(season_plays_df)\n",
    "advanced_df.head()"
   ]
  },
  {
   "cell_type": "code",
   "execution_count": 6,
   "metadata": {},
   "outputs": [],
   "source": [
    "wpg = season_plays_df.loc[season_plays_df.gamePk==2017021065].copy()"
   ]
  },
  {
   "cell_type": "code",
   "execution_count": 7,
   "metadata": {},
   "outputs": [],
   "source": [
    "wpg_features = advanced_features(wpg)"
   ]
  },
  {
   "cell_type": "code",
   "execution_count": 10,
   "metadata": {},
   "outputs": [
    {
     "name": "stderr",
     "output_type": "stream",
     "text": [
      "COMET WARNING: As you are running in a Jupyter environment, you will need to call `experiment.end()` when finished to ensure all metrics and code are logged before exiting.\n",
      "COMET INFO: Experiment is live on comet.ml https://www.comet.ml/zilto/hockey-all-star-analytics/9f3edb9e588a4b489acef509c1f6b30b\n",
      "\n"
     ]
    }
   ],
   "source": [
    "experiment = Experiment(project_name=\"hockey-all-star-analytics\")"
   ]
  },
  {
   "cell_type": "code",
   "execution_count": 11,
   "metadata": {},
   "outputs": [
    {
     "name": "stderr",
     "output_type": "stream",
     "text": [
      "Summarize dataset:  31%|███▏      | 11/35 [00:00<00:00, 27.24it/s, Describe variable:GIVEAWAY]C:\\Users\\TJ\\miniconda3\\envs\\nice_play\\lib\\site-packages\\numpy\\core\\_methods.py:230: RuntimeWarning: invalid value encountered in subtract\n",
      "  x = asanyarray(arr - arrmean)\n",
      "Summarize dataset: 100%|██████████| 240/240 [00:20<00:00, 11.52it/s, Completed]\n",
      "Generate report structure: 100%|██████████| 1/1 [00:06<00:00,  6.30s/it]\n",
      "Render HTML: 100%|██████████| 1/1 [00:02<00:00,  2.67s/it]\n",
      "COMET ERROR: dataframe conversion to 'csv' failed; ignored\n"
     ]
    },
    {
     "data": {
      "text/plain": [
       "{'profile': {'web': 'https://www.comet.ml/api/asset/download?assetId=20b07b259837414689e4450e744f8720&experimentKey=9f3edb9e588a4b489acef509c1f6b30b',\n",
       "  'api': 'https://www.comet.ml/api/rest/v2/experiment/asset/get-asset?assetId=20b07b259837414689e4450e744f8720&experimentKey=9f3edb9e588a4b489acef509c1f6b30b',\n",
       "  'assetId': '20b07b259837414689e4450e744f8720'},\n",
       " 'dataframe': None}"
      ]
     },
     "execution_count": 11,
     "metadata": {},
     "output_type": "execute_result"
    }
   ],
   "source": [
    "experiment.log_dataframe_profile(wpg_features, name=\"wpg_v_wsh_2017021065\", workspace=\"q4.5_df\", dataframe_format=\"csv\")"
   ]
  },
  {
   "cell_type": "code",
   "execution_count": 12,
   "metadata": {},
   "outputs": [
    {
     "name": "stderr",
     "output_type": "stream",
     "text": [
      "COMET INFO: ---------------------------\n",
      "COMET INFO: Comet.ml Experiment Summary\n",
      "COMET INFO: ---------------------------\n",
      "COMET INFO:   Data:\n",
      "COMET INFO:     display_summary_level : 1\n",
      "COMET INFO:     url                   : https://www.comet.ml/zilto/hockey-all-star-analytics/9f3edb9e588a4b489acef509c1f6b30b\n",
      "COMET INFO:   Uploads:\n",
      "COMET INFO:     dataframe-profile        : 1 (6.20 MB)\n",
      "COMET INFO:     environment details      : 1\n",
      "COMET INFO:     filename                 : 1\n",
      "COMET INFO:     git metadata             : 1\n",
      "COMET INFO:     git-patch (uncompressed) : 1 (41.19 KB)\n",
      "COMET INFO:     installed packages       : 1\n",
      "COMET INFO:     notebook                 : 1\n",
      "COMET INFO:     source_code              : 1\n",
      "COMET INFO: ---------------------------\n",
      "COMET INFO: Uploading metrics, params, and assets to Comet before program termination (may take several seconds)\n",
      "COMET INFO: The Python SDK has 3600 seconds to finish before aborting...\n",
      "COMET INFO: Waiting for completion of the file uploads (may take several seconds)\n",
      "COMET INFO: The Python SDK has 10800 seconds to finish before aborting...\n",
      "COMET INFO: Still uploading 2 file(s), remaining 8.74 KB/6.21 MB\n"
     ]
    }
   ],
   "source": [
    "experiment.end()"
   ]
  },
  {
   "cell_type": "code",
   "execution_count": null,
   "metadata": {},
   "outputs": [],
   "source": [
    "@interact(row=IntSlider(options=advanced_df.shape[0]), show_prev=[True, False], show_norm=[True, False])\n",
    "def view_features(row=0, show_prev=True, show_norm=True):\n",
    "    example = advanced_df.iloc[row, :].copy()\n",
    "    \n",
    "    plt.figure()\n",
    "    plt.xlim(-100, 100)\n",
    "    plt.ylim(-43, 43)\n",
    "    plt.scatter(100-11, 0, c=\"red\", label=\"goal\", marker=\"<\") # net\n",
    "    plt.scatter(-(100-11), 0, c=\"red\", marker=\">\") # net\n",
    "    plt.scatter(example.x_coord, example.y_coord, c=\"C0\", marker=\"+\", s=200, label=\"true_coords\")\n",
    "    if show_prev:\n",
    "        plt.scatter(example.previous_x_coord, example.previous_y_coord, c=\"C0\", marker=\"+\", s=50, label=\"previous_coords\")\n",
    "    \n",
    "    if show_norm & (example.x_coord != example.x_coord_norm):\n",
    "        plt.scatter(example.x_coord_norm, example.y_coord_norm, c=\"C1\", marker=\"+\", s=200, label=\"normalized_coords\")\n",
    "    plt.legend()\n",
    "    plt.show()\n",
    "    \n",
    "    # print(\"current_event: \", example.event_type)\n",
    "    # print(\"previous_event: \", example.previous_event_type)\n",
    "    print(\"\\nangle: \", example.angle_from_net)\n",
    "    print(\"prev_angle: \", example.prev_angle)\n",
    "    print(\"angle_diff: \", example.angle_from_net - example.prev_angle)\n",
    "    print(\"\\ndist: \", example.dist_from_previous)\n",
    "    print(\"seconds: \", example.seconds_from_previous)\n",
    "    print(\"speed: \", example.speed)"
   ]
  },
  {
   "cell_type": "code",
   "execution_count": null,
   "metadata": {},
   "outputs": [],
   "source": [
    "advanced_df"
   ]
  },
  {
   "cell_type": "markdown",
   "metadata": {},
   "source": [
    "# 5 - XGBoost "
   ]
  },
  {
   "cell_type": "code",
   "execution_count": null,
   "metadata": {},
   "outputs": [],
   "source": [
    "from xgboost import XGBClassifier"
   ]
  }
 ],
 "metadata": {
  "interpreter": {
   "hash": "ead5f43594022c7cd5f301318ae4950132a1480e3738270166fab8a4a3b2cf4b"
  },
  "kernelspec": {
   "display_name": "Python 3 (ipykernel)",
   "language": "python",
   "name": "python3"
  },
  "language_info": {
   "codemirror_mode": {
    "name": "ipython",
    "version": 3
   },
   "file_extension": ".py",
   "mimetype": "text/x-python",
   "name": "python",
   "nbconvert_exporter": "python",
   "pygments_lexer": "ipython3",
   "version": "3.8.2"
  }
 },
 "nbformat": 4,
 "nbformat_minor": 2
}
