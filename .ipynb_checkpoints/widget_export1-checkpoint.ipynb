{
 "cells": [
  {
   "cell_type": "code",
   "execution_count": 1,
   "metadata": {},
   "outputs": [],
   "source": [
    "import pandas as pd\n",
    "from ipywidgets import interact, SelectionSlider\n",
    "\n",
    "from src.data_query import StorageEngine"
   ]
  },
  {
   "cell_type": "code",
   "execution_count": 2,
   "metadata": {},
   "outputs": [
    {
     "data": {
      "application/vnd.jupyter.widget-view+json": {
       "model_id": "6a426408e25b440a9d70e63fffa11ee5",
       "version_major": 2,
       "version_minor": 0
      },
      "text/plain": [
       "interactive(children=(Dropdown(description='start_year', options=(2016, 2017, 2018, 2019, 2020), value=2016), …"
      ]
     },
     "metadata": {},
     "output_type": "display_data"
    }
   ],
   "source": [
    "@interact(start_year=[2016, 2017, 2018, 2019, 2020])\n",
    "def view_season(start_year=2016):\n",
    "    # load engine\n",
    "    storage_engine = StorageEngine(\"./data/raw\")\n",
    "    # load list of all gamePk for selected season\n",
    "    gamePk_list = storage_engine.get_all_season_gamePk(start_year)\n",
    "            \n",
    "    @interact(game_idx=(0, len(gamePk_list)-1, 1))\n",
    "    def view_games(game_idx=0):\n",
    "        # load the game for the (season, gamePk) selected\n",
    "        game_json = storage_engine.get_game(start_year, gamePk_list[game_idx])\n",
    "        \n",
    "        # function to specify the data to display\n",
    "        def _print_metadata(game_json):\n",
    "            season = game_json[\"gameData\"][\"game\"][\"season\"]\n",
    "            gamePk = game_json[\"gamePk\"]\n",
    "            game_type = game_json[\"gameData\"][\"game\"][\"type\"]\n",
    "            start_time = game_json[\"gameData\"][\"datetime\"][\"dateTime\"]\n",
    "            venue = game_json[\"gameData\"][\"venue\"][\"name\"]\n",
    "            \n",
    "            home_tri = game_json[\"gameData\"][\"teams\"][\"home\"][\"triCode\"]\n",
    "            away_tri = game_json[\"gameData\"][\"teams\"][\"away\"][\"triCode\"]\n",
    "            \n",
    "            print(\"season:\\t\", season)\n",
    "            print(\"gamePk:\\t\", gamePk)\n",
    "            print(\"game_type:\\t\", game_type)\n",
    "            print(\"start_time:\\t\", start_time)\n",
    "            print(\"venue:\\t\", venue)\n",
    "            print(f\"{home_tri} (home) vs. {away_tri} (away)\")\n",
    "        \n",
    "        _print_metadata(game_json)"
   ]
  },
  {
   "cell_type": "code",
   "execution_count": null,
   "metadata": {},
   "outputs": [],
   "source": []
  }
 ],
 "metadata": {
  "interpreter": {
   "hash": "ead5f43594022c7cd5f301318ae4950132a1480e3738270166fab8a4a3b2cf4b"
  },
  "kernelspec": {
   "display_name": "Python 3",
   "language": "python",
   "name": "python3"
  },
  "language_info": {
   "codemirror_mode": {
    "name": "ipython",
    "version": 3
   },
   "file_extension": ".py",
   "mimetype": "text/x-python",
   "name": "python",
   "nbconvert_exporter": "python",
   "pygments_lexer": "ipython3",
   "version": "3.9.1"
  },
  "widgets": {
   "application/vnd.jupyter.widget-state+json": {
    "state": {
     "004cab30303f471abf518aae568aefd7": {
      "model_module": "@jupyter-widgets/base",
      "model_module_version": "1.2.0",
      "model_name": "LayoutModel",
      "state": {}
     },
     "02927ad25a5348f1b8ee2bc3a6677909": {
      "model_module": "@jupyter-widgets/base",
      "model_module_version": "1.2.0",
      "model_name": "LayoutModel",
      "state": {}
     },
     "04c0120df29b4d8391bbaf3cbb7d413f": {
      "model_module": "@jupyter-widgets/controls",
      "model_module_version": "1.5.0",
      "model_name": "DropdownModel",
      "state": {
       "_options_labels": [
        "2016",
        "2017",
        "2018",
        "2019",
        "2020"
       ],
       "description": "start_year",
       "index": 0,
       "layout": "IPY_MODEL_a8de1417a6174a868a143eece1475cc9",
       "style": "IPY_MODEL_92c332ad06e14361b523143604f9fba0"
      }
     },
     "0cf08185150941e5b703f31335ef8c16": {
      "model_module": "@jupyter-widgets/base",
      "model_module_version": "1.2.0",
      "model_name": "LayoutModel",
      "state": {}
     },
     "1091da2fb7d94dae993a253a7e59427f": {
      "model_module": "@jupyter-widgets/controls",
      "model_module_version": "1.5.0",
      "model_name": "VBoxModel",
      "state": {
       "_dom_classes": [
        "widget-interact"
       ],
       "children": [
        "IPY_MODEL_b328c45eeb7a4ee1b733da99876c990c",
        "IPY_MODEL_d1bf045e8cc04b32b15279efaf830043"
       ],
       "layout": "IPY_MODEL_c957a9aa462b40d8a2f3211c6499d958"
      }
     },
     "11e49ee6e13c44d9b8efb6f481052332": {
      "model_module": "@jupyter-widgets/controls",
      "model_module_version": "1.5.0",
      "model_name": "SliderStyleModel",
      "state": {
       "description_width": ""
      }
     },
     "12035bd92a34445faf7d4dfabde0f823": {
      "model_module": "@jupyter-widgets/output",
      "model_module_version": "1.0.0",
      "model_name": "OutputModel",
      "state": {
       "layout": "IPY_MODEL_5080ad7994b54e9ba1e8f6e7d8e41a0e",
       "outputs": [
        {
         "name": "stdout",
         "output_type": "stream",
         "text": "season:\t 20182019\ngamePk:\t 2018020607\ngame_type:\t R\nstart_time:\t 2019-01-01T01:00:00Z\nvenue:\t Pepsi Center\nCOL (home) vs. LAK (away)\n"
        }
       ]
      }
     },
     "13c037f53523400f8a27da475c9e142a": {
      "model_module": "@jupyter-widgets/base",
      "model_module_version": "1.2.0",
      "model_name": "LayoutModel",
      "state": {}
     },
     "17099a17badb408ba2a7948f5b775b9b": {
      "model_module": "@jupyter-widgets/base",
      "model_module_version": "1.2.0",
      "model_name": "LayoutModel",
      "state": {}
     },
     "192e107e7ace4dfe875a8a64b0a8bcf0": {
      "model_module": "@jupyter-widgets/base",
      "model_module_version": "1.2.0",
      "model_name": "LayoutModel",
      "state": {}
     },
     "1e5c84e094e84afc8207092c66876c09": {
      "model_module": "@jupyter-widgets/base",
      "model_module_version": "1.2.0",
      "model_name": "LayoutModel",
      "state": {}
     },
     "24fca067c86242539eb2fa8844ede1b3": {
      "model_module": "@jupyter-widgets/controls",
      "model_module_version": "1.5.0",
      "model_name": "IntSliderModel",
      "state": {
       "description": "game_idx",
       "layout": "IPY_MODEL_4d448b02ae9e4e17ad72bc2428be27a5",
       "max": 1470,
       "style": "IPY_MODEL_41c6f44c9aff4e3cb0800fcc42ed999f",
       "value": 716
      }
     },
     "2548ac8b9ac8471ebe190c64d4030759": {
      "model_module": "@jupyter-widgets/base",
      "model_module_version": "1.2.0",
      "model_name": "LayoutModel",
      "state": {}
     },
     "2570ed6b1b954788b6eb55fb1f120332": {
      "model_module": "@jupyter-widgets/controls",
      "model_module_version": "1.5.0",
      "model_name": "DescriptionStyleModel",
      "state": {
       "description_width": ""
      }
     },
     "2b21fc9dc0a94ffcbc0e4d3bccd858cd": {
      "model_module": "@jupyter-widgets/output",
      "model_module_version": "1.0.0",
      "model_name": "OutputModel",
      "state": {
       "layout": "IPY_MODEL_0cf08185150941e5b703f31335ef8c16",
       "outputs": [
        {
         "name": "stdout",
         "output_type": "stream",
         "text": "season:\t 20162017\ngamePk:\t 2016010002\ngame_type:\t PR\nstart_time:\t 2016-09-25T17:00:00Z\nvenue:\t Scottrade Center\nSTL (home) vs. CBJ (away)\n"
        }
       ]
      }
     },
     "2da58fc5ae554218a11b327e7e2aada2": {
      "model_module": "@jupyter-widgets/controls",
      "model_module_version": "1.5.0",
      "model_name": "VBoxModel",
      "state": {
       "_dom_classes": [
        "widget-interact"
       ],
       "children": [
        "IPY_MODEL_655667a1f6d34d689b91d2be02807014",
        "IPY_MODEL_426370c5c51b485584f76532b8e4cb93"
       ],
       "layout": "IPY_MODEL_17099a17badb408ba2a7948f5b775b9b"
      }
     },
     "32aa058df39e43179a7ecfa1eaef8dea": {
      "model_module": "@jupyter-widgets/output",
      "model_module_version": "1.0.0",
      "model_name": "OutputModel",
      "state": {
       "layout": "IPY_MODEL_ce6ea77cd7724b3887bd5f690d9d5b02",
       "outputs": [
        {
         "data": {
          "application/vnd.jupyter.widget-view+json": {
           "model_id": "cc6b210f3a744806a5e376b0e668ec82",
           "version_major": 2,
           "version_minor": 0
          },
          "text/plain": "interactive(children=(IntSlider(value=0, description='game_idx', max=1424), Output()), _dom_classes=('widget-i…"
         },
         "metadata": {},
         "output_type": "display_data"
        },
        {
         "name": "stdout",
         "output_type": "stream",
         "text": "season:\t 20162017\ngamePk:\t 2016010002\ngame_type:\t PR\nstart_time:\t 2016-09-25T17:00:00Z\nvenue:\t Scottrade Center\nSTL (home) vs. CBJ (away)\n"
        }
       ]
      }
     },
     "34686725a9df4cbcbdc8afa3a814475e": {
      "model_module": "@jupyter-widgets/base",
      "model_module_version": "1.2.0",
      "model_name": "LayoutModel",
      "state": {}
     },
     "35c434535f514933afc2f8e1acf0dafc": {
      "model_module": "@jupyter-widgets/base",
      "model_module_version": "1.2.0",
      "model_name": "LayoutModel",
      "state": {}
     },
     "3ccdd8cd32df428ab3d680ad0f52e8b9": {
      "model_module": "@jupyter-widgets/base",
      "model_module_version": "1.2.0",
      "model_name": "LayoutModel",
      "state": {}
     },
     "3d703b3e5f0b42c1a2e667d62e0b2857": {
      "model_module": "@jupyter-widgets/base",
      "model_module_version": "1.2.0",
      "model_name": "LayoutModel",
      "state": {}
     },
     "3de1063523b44bcbaf47a02863d76e41": {
      "model_module": "@jupyter-widgets/controls",
      "model_module_version": "1.5.0",
      "model_name": "DescriptionStyleModel",
      "state": {
       "description_width": ""
      }
     },
     "3f7a03a692134ea99762c354a252e94f": {
      "model_module": "@jupyter-widgets/base",
      "model_module_version": "1.2.0",
      "model_name": "LayoutModel",
      "state": {}
     },
     "40316a8cd0004c6796e2cf9ada277d2b": {
      "model_module": "@jupyter-widgets/controls",
      "model_module_version": "1.5.0",
      "model_name": "IntSliderModel",
      "state": {
       "description": "game_idx",
       "layout": "IPY_MODEL_3d703b3e5f0b42c1a2e667d62e0b2857",
       "max": 1470,
       "style": "IPY_MODEL_a87d7b1288a4439aa89fdc151423d6c0",
       "value": 905
      }
     },
     "4141350de4224042bff5155b42134765": {
      "model_module": "@jupyter-widgets/base",
      "model_module_version": "1.2.0",
      "model_name": "LayoutModel",
      "state": {}
     },
     "41c6f44c9aff4e3cb0800fcc42ed999f": {
      "model_module": "@jupyter-widgets/controls",
      "model_module_version": "1.5.0",
      "model_name": "SliderStyleModel",
      "state": {
       "description_width": ""
      }
     },
     "424ffda67a9b4236a4ddf8cd8f30cbcf": {
      "model_module": "@jupyter-widgets/output",
      "model_module_version": "1.0.0",
      "model_name": "OutputModel",
      "state": {
       "layout": "IPY_MODEL_e57a9ebee4d54bc7a40fc0a2e48bf5cb",
       "outputs": [
        {
         "name": "stdout",
         "output_type": "stream",
         "text": "season:\t 20162017\ngamePk:\t 2016010002\ngame_type:\t PR\nstart_time:\t 2016-09-25T17:00:00Z\nvenue:\t Scottrade Center\nSTL (home) vs. CBJ (away)\n"
        }
       ]
      }
     },
     "426370c5c51b485584f76532b8e4cb93": {
      "model_module": "@jupyter-widgets/output",
      "model_module_version": "1.0.0",
      "model_name": "OutputModel",
      "state": {
       "layout": "IPY_MODEL_f77f9ec00b4d4cc797844774276f7168",
       "outputs": [
        {
         "data": {
          "application/vnd.jupyter.widget-view+json": {
           "model_id": "b0ea62709a094de8a8840472e837911a",
           "version_major": 2,
           "version_minor": 0
          },
          "text/plain": "interactive(children=(IntSlider(value=0, description='game_idx', max=1424), Output()), _dom_classes=('widget-i…"
         },
         "metadata": {},
         "output_type": "display_data"
        }
       ]
      }
     },
     "43ddf0c41a894fbbb0bebd4232bfca9a": {
      "model_module": "@jupyter-widgets/base",
      "model_module_version": "1.2.0",
      "model_name": "LayoutModel",
      "state": {}
     },
     "44f462ad358b42609e01de4b55c2a94f": {
      "model_module": "@jupyter-widgets/base",
      "model_module_version": "1.2.0",
      "model_name": "LayoutModel",
      "state": {}
     },
     "469935f913a54d2794143ceaba07f428": {
      "model_module": "@jupyter-widgets/controls",
      "model_module_version": "1.5.0",
      "model_name": "DropdownModel",
      "state": {
       "_options_labels": [
        "2016",
        "2017",
        "2018",
        "2019",
        "2020"
       ],
       "description": "start_year",
       "index": 2,
       "layout": "IPY_MODEL_3ccdd8cd32df428ab3d680ad0f52e8b9",
       "style": "IPY_MODEL_d14838dd888a45eb8aa76bbe22edc2b4"
      }
     },
     "49eab9596122445c9d72d3ce9eb1ed80": {
      "model_module": "@jupyter-widgets/controls",
      "model_module_version": "1.5.0",
      "model_name": "IntSliderModel",
      "state": {
       "description": "game_idx",
       "layout": "IPY_MODEL_ea7fafdff87d4cfe9a1b62f2621f559e",
       "max": 1424,
       "style": "IPY_MODEL_b4adaf3033e54ff38eb40010967b9240"
      }
     },
     "4acd95ed67aa40ffa475e9678341afd7": {
      "model_module": "@jupyter-widgets/controls",
      "model_module_version": "1.5.0",
      "model_name": "DropdownModel",
      "state": {
       "_options_labels": [
        "2016",
        "2017",
        "2018",
        "2019",
        "2020"
       ],
       "description": "start_year",
       "index": 0,
       "layout": "IPY_MODEL_dba5d20bf3fe4715938bae90e9660fc6",
       "style": "IPY_MODEL_c640a4b0e8314812bf1e00721830df0b"
      }
     },
     "4d448b02ae9e4e17ad72bc2428be27a5": {
      "model_module": "@jupyter-widgets/base",
      "model_module_version": "1.2.0",
      "model_name": "LayoutModel",
      "state": {}
     },
     "5080ad7994b54e9ba1e8f6e7d8e41a0e": {
      "model_module": "@jupyter-widgets/base",
      "model_module_version": "1.2.0",
      "model_name": "LayoutModel",
      "state": {}
     },
     "55c1f30ee716464bad0806196683530b": {
      "model_module": "@jupyter-widgets/controls",
      "model_module_version": "1.5.0",
      "model_name": "SliderStyleModel",
      "state": {
       "description_width": ""
      }
     },
     "5f8c0e9e40ee402d966b529836dac98c": {
      "model_module": "@jupyter-widgets/base",
      "model_module_version": "1.2.0",
      "model_name": "LayoutModel",
      "state": {}
     },
     "655667a1f6d34d689b91d2be02807014": {
      "model_module": "@jupyter-widgets/controls",
      "model_module_version": "1.5.0",
      "model_name": "DropdownModel",
      "state": {
       "_options_labels": [
        "2016",
        "2017",
        "2018",
        "2019",
        "2020"
       ],
       "description": "start_year",
       "index": 0,
       "layout": "IPY_MODEL_35c434535f514933afc2f8e1acf0dafc",
       "style": "IPY_MODEL_2570ed6b1b954788b6eb55fb1f120332"
      }
     },
     "67f863dd11de43b4a6d82492a95249ed": {
      "model_module": "@jupyter-widgets/controls",
      "model_module_version": "1.5.0",
      "model_name": "VBoxModel",
      "state": {
       "_dom_classes": [
        "widget-interact"
       ],
       "children": [
        "IPY_MODEL_49eab9596122445c9d72d3ce9eb1ed80",
        "IPY_MODEL_e9dc5700951041a38b18c3673e64fc5f"
       ],
       "layout": "IPY_MODEL_7c6ba2be4ae44892943e00f1f3177505"
      }
     },
     "6a32fbb75e0640cea210ddb723d7a95e": {
      "model_module": "@jupyter-widgets/base",
      "model_module_version": "1.2.0",
      "model_name": "LayoutModel",
      "state": {}
     },
     "6a426408e25b440a9d70e63fffa11ee5": {
      "model_module": "@jupyter-widgets/controls",
      "model_module_version": "1.5.0",
      "model_name": "VBoxModel",
      "state": {
       "_dom_classes": [
        "widget-interact"
       ],
       "children": [
        "IPY_MODEL_76625088475643df9ad6af440e8f1d5d",
        "IPY_MODEL_e64aff39463b416a95668968e0c0c358"
       ],
       "layout": "IPY_MODEL_02927ad25a5348f1b8ee2bc3a6677909"
      }
     },
     "6a86a65679b7430fb363597946114e36": {
      "model_module": "@jupyter-widgets/controls",
      "model_module_version": "1.5.0",
      "model_name": "VBoxModel",
      "state": {
       "_dom_classes": [
        "widget-interact"
       ],
       "children": [
        "IPY_MODEL_24fca067c86242539eb2fa8844ede1b3",
        "IPY_MODEL_12035bd92a34445faf7d4dfabde0f823"
       ],
       "layout": "IPY_MODEL_948b25feb6564965b15d7556512c4b30"
      }
     },
     "70a8205422a340b3a4199319a5b614a5": {
      "model_module": "@jupyter-widgets/controls",
      "model_module_version": "1.5.0",
      "model_name": "VBoxModel",
      "state": {
       "_dom_classes": [
        "widget-interact"
       ],
       "children": [
        "IPY_MODEL_dd9445ca2aff48dbb27cfe9b362e583b",
        "IPY_MODEL_ce1ad5d69a564344bfc0fa563849e549"
       ],
       "layout": "IPY_MODEL_2548ac8b9ac8471ebe190c64d4030759"
      }
     },
     "76625088475643df9ad6af440e8f1d5d": {
      "model_module": "@jupyter-widgets/controls",
      "model_module_version": "1.5.0",
      "model_name": "DropdownModel",
      "state": {
       "_options_labels": [
        "2016",
        "2017",
        "2018",
        "2019",
        "2020"
       ],
       "description": "start_year",
       "index": 2,
       "layout": "IPY_MODEL_d347580cd5a44b998d2193c632745272",
       "style": "IPY_MODEL_3de1063523b44bcbaf47a02863d76e41"
      }
     },
     "7c6ba2be4ae44892943e00f1f3177505": {
      "model_module": "@jupyter-widgets/base",
      "model_module_version": "1.2.0",
      "model_name": "LayoutModel",
      "state": {}
     },
     "8599284853c047a38e30d8e051cbdf2c": {
      "model_module": "@jupyter-widgets/base",
      "model_module_version": "1.2.0",
      "model_name": "LayoutModel",
      "state": {}
     },
     "8a71fd638ff04016bcc55d28cfa75a5f": {
      "model_module": "@jupyter-widgets/controls",
      "model_module_version": "1.5.0",
      "model_name": "VBoxModel",
      "state": {
       "_dom_classes": [
        "widget-interact"
       ],
       "children": [
        "IPY_MODEL_40316a8cd0004c6796e2cf9ada277d2b",
        "IPY_MODEL_9112998187bd4110b1607293374b71ad"
       ],
       "layout": "IPY_MODEL_1e5c84e094e84afc8207092c66876c09"
      }
     },
     "8c75068d32ef4ace863be1986578aff2": {
      "model_module": "@jupyter-widgets/controls",
      "model_module_version": "1.5.0",
      "model_name": "VBoxModel",
      "state": {
       "_dom_classes": [
        "widget-interact"
       ],
       "children": [
        "IPY_MODEL_c9ae2b168e7e47e5bc82d55f8cd87066",
        "IPY_MODEL_2b21fc9dc0a94ffcbc0e4d3bccd858cd"
       ],
       "layout": "IPY_MODEL_afd5f71f058e485790ada201105452d7"
      }
     },
     "8d6f0bebfe634d43baf882bf3e98689b": {
      "model_module": "@jupyter-widgets/base",
      "model_module_version": "1.2.0",
      "model_name": "LayoutModel",
      "state": {}
     },
     "8f23419d8e8e4bf1bb67e24c723490b7": {
      "model_module": "@jupyter-widgets/base",
      "model_module_version": "1.2.0",
      "model_name": "LayoutModel",
      "state": {}
     },
     "9112998187bd4110b1607293374b71ad": {
      "model_module": "@jupyter-widgets/output",
      "model_module_version": "1.0.0",
      "model_name": "OutputModel",
      "state": {
       "layout": "IPY_MODEL_4141350de4224042bff5155b42134765",
       "outputs": [
        {
         "name": "stdout",
         "output_type": "stream",
         "text": "season:\t 20182019\ngamePk:\t 2018020793\ngame_type:\t R\nstart_time:\t 2019-02-03T00:00:00Z\nvenue:\t BB&T Center\nFLA (home) vs. VGK (away)\n"
        }
       ]
      }
     },
     "9236be99f52145d5a61ed1d94adb83ba": {
      "model_module": "@jupyter-widgets/controls",
      "model_module_version": "1.5.0",
      "model_name": "VBoxModel",
      "state": {
       "_dom_classes": [
        "widget-interact"
       ],
       "children": [
        "IPY_MODEL_469935f913a54d2794143ceaba07f428",
        "IPY_MODEL_d3cfd9208e6846fc8f5b3068cf34d5bb"
       ],
       "layout": "IPY_MODEL_c3b909a349354dc9a51efe70fbf29405"
      }
     },
     "92c332ad06e14361b523143604f9fba0": {
      "model_module": "@jupyter-widgets/controls",
      "model_module_version": "1.5.0",
      "model_name": "DescriptionStyleModel",
      "state": {
       "description_width": ""
      }
     },
     "92ce437a880146ea91c138d33e7d366c": {
      "model_module": "@jupyter-widgets/base",
      "model_module_version": "1.2.0",
      "model_name": "LayoutModel",
      "state": {}
     },
     "943a3788fc43418a955e7779b04ba09b": {
      "model_module": "@jupyter-widgets/controls",
      "model_module_version": "1.5.0",
      "model_name": "SliderStyleModel",
      "state": {
       "description_width": ""
      }
     },
     "948b25feb6564965b15d7556512c4b30": {
      "model_module": "@jupyter-widgets/base",
      "model_module_version": "1.2.0",
      "model_name": "LayoutModel",
      "state": {}
     },
     "96910eca4b084c70a7b773865ac6c511": {
      "model_module": "@jupyter-widgets/controls",
      "model_module_version": "1.5.0",
      "model_name": "VBoxModel",
      "state": {
       "_dom_classes": [
        "widget-interact"
       ],
       "children": [
        "IPY_MODEL_4acd95ed67aa40ffa475e9678341afd7",
        "IPY_MODEL_ed77c934c5a64002ac6eab71ce57401f"
       ],
       "layout": "IPY_MODEL_8599284853c047a38e30d8e051cbdf2c"
      }
     },
     "9988181021cb4e929bc1e89334404f61": {
      "model_module": "@jupyter-widgets/controls",
      "model_module_version": "1.5.0",
      "model_name": "SliderStyleModel",
      "state": {
       "description_width": ""
      }
     },
     "99cfb15cb3da44ad957c8ffe1605d403": {
      "model_module": "@jupyter-widgets/base",
      "model_module_version": "1.2.0",
      "model_name": "LayoutModel",
      "state": {}
     },
     "9d597c633f5b4ef7a718a154046939e5": {
      "model_module": "@jupyter-widgets/base",
      "model_module_version": "1.2.0",
      "model_name": "LayoutModel",
      "state": {}
     },
     "a2dcdd3b263742e0977a63b41890baa6": {
      "model_module": "@jupyter-widgets/output",
      "model_module_version": "1.0.0",
      "model_name": "OutputModel",
      "state": {
       "layout": "IPY_MODEL_6a32fbb75e0640cea210ddb723d7a95e",
       "outputs": [
        {
         "name": "stdout",
         "output_type": "stream",
         "text": "season:\t 20162017\ngamePk:\t 2016020383\ngame_type:\t R\nstart_time:\t 2016-12-07T00:00:00Z\nvenue:\t Prudential Center\nNJD (home) vs. VAN (away)\n"
        }
       ]
      }
     },
     "a4ee8f2119ce48b5b6a342f46f32948d": {
      "model_module": "@jupyter-widgets/controls",
      "model_module_version": "1.5.0",
      "model_name": "DescriptionStyleModel",
      "state": {
       "description_width": ""
      }
     },
     "a87d7b1288a4439aa89fdc151423d6c0": {
      "model_module": "@jupyter-widgets/controls",
      "model_module_version": "1.5.0",
      "model_name": "SliderStyleModel",
      "state": {
       "description_width": ""
      }
     },
     "a8de1417a6174a868a143eece1475cc9": {
      "model_module": "@jupyter-widgets/base",
      "model_module_version": "1.2.0",
      "model_name": "LayoutModel",
      "state": {}
     },
     "a9e2179e50ec4493bc5a8534263ae9d8": {
      "model_module": "@jupyter-widgets/base",
      "model_module_version": "1.2.0",
      "model_name": "LayoutModel",
      "state": {}
     },
     "afd5f71f058e485790ada201105452d7": {
      "model_module": "@jupyter-widgets/base",
      "model_module_version": "1.2.0",
      "model_name": "LayoutModel",
      "state": {}
     },
     "b0ea62709a094de8a8840472e837911a": {
      "model_module": "@jupyter-widgets/controls",
      "model_module_version": "1.5.0",
      "model_name": "VBoxModel",
      "state": {
       "_dom_classes": [
        "widget-interact"
       ],
       "children": [
        "IPY_MODEL_be332f47a7b749d19ce3a3d7a334a858",
        "IPY_MODEL_424ffda67a9b4236a4ddf8cd8f30cbcf"
       ],
       "layout": "IPY_MODEL_13c037f53523400f8a27da475c9e142a"
      }
     },
     "b328c45eeb7a4ee1b733da99876c990c": {
      "model_module": "@jupyter-widgets/controls",
      "model_module_version": "1.5.0",
      "model_name": "DropdownModel",
      "state": {
       "_options_labels": [
        "2016",
        "2017",
        "2018",
        "2019",
        "2020"
       ],
       "description": "start_year",
       "index": 0,
       "layout": "IPY_MODEL_34686725a9df4cbcbdc8afa3a814475e",
       "style": "IPY_MODEL_a4ee8f2119ce48b5b6a342f46f32948d"
      }
     },
     "b4adaf3033e54ff38eb40010967b9240": {
      "model_module": "@jupyter-widgets/controls",
      "model_module_version": "1.5.0",
      "model_name": "SliderStyleModel",
      "state": {
       "description_width": ""
      }
     },
     "b542a285dc054691b29698c8cb656b7a": {
      "model_module": "@jupyter-widgets/base",
      "model_module_version": "1.2.0",
      "model_name": "LayoutModel",
      "state": {}
     },
     "b7ae1aae202b4787907046bf740d40b5": {
      "model_module": "@jupyter-widgets/output",
      "model_module_version": "1.0.0",
      "model_name": "OutputModel",
      "state": {
       "layout": "IPY_MODEL_b542a285dc054691b29698c8cb656b7a",
       "outputs": [
        {
         "name": "stdout",
         "output_type": "stream",
         "text": "season:\t 20162017\ngamePk:\t 2016010002\ngame_type:\t PR\nstart_time:\t 2016-09-25T17:00:00Z\nvenue:\t Scottrade Center\nSTL (home) vs. CBJ (away)\n"
        }
       ]
      }
     },
     "b954ebd9e7c849f59a6ae803d79af5a2": {
      "model_module": "@jupyter-widgets/controls",
      "model_module_version": "1.5.0",
      "model_name": "VBoxModel",
      "state": {
       "_dom_classes": [
        "widget-interact"
       ],
       "children": [
        "IPY_MODEL_04c0120df29b4d8391bbaf3cbb7d413f",
        "IPY_MODEL_32aa058df39e43179a7ecfa1eaef8dea"
       ],
       "layout": "IPY_MODEL_192e107e7ace4dfe875a8a64b0a8bcf0"
      }
     },
     "be332f47a7b749d19ce3a3d7a334a858": {
      "model_module": "@jupyter-widgets/controls",
      "model_module_version": "1.5.0",
      "model_name": "IntSliderModel",
      "state": {
       "description": "game_idx",
       "layout": "IPY_MODEL_8d6f0bebfe634d43baf882bf3e98689b",
       "max": 1424,
       "style": "IPY_MODEL_9988181021cb4e929bc1e89334404f61"
      }
     },
     "c3b909a349354dc9a51efe70fbf29405": {
      "model_module": "@jupyter-widgets/base",
      "model_module_version": "1.2.0",
      "model_name": "LayoutModel",
      "state": {}
     },
     "c510741a0db347aa894f68b3a6851006": {
      "model_module": "@jupyter-widgets/controls",
      "model_module_version": "1.5.0",
      "model_name": "IntSliderModel",
      "state": {
       "description": "game_idx",
       "layout": "IPY_MODEL_92ce437a880146ea91c138d33e7d366c",
       "max": 1424,
       "style": "IPY_MODEL_55c1f30ee716464bad0806196683530b"
      }
     },
     "c640a4b0e8314812bf1e00721830df0b": {
      "model_module": "@jupyter-widgets/controls",
      "model_module_version": "1.5.0",
      "model_name": "DescriptionStyleModel",
      "state": {
       "description_width": ""
      }
     },
     "c957a9aa462b40d8a2f3211c6499d958": {
      "model_module": "@jupyter-widgets/base",
      "model_module_version": "1.2.0",
      "model_name": "LayoutModel",
      "state": {}
     },
     "c9ae2b168e7e47e5bc82d55f8cd87066": {
      "model_module": "@jupyter-widgets/controls",
      "model_module_version": "1.5.0",
      "model_name": "IntSliderModel",
      "state": {
       "description": "game_idx",
       "layout": "IPY_MODEL_3f7a03a692134ea99762c354a252e94f",
       "max": 1424,
       "style": "IPY_MODEL_11e49ee6e13c44d9b8efb6f481052332"
      }
     },
     "ca53e9e2734e42c1b5e6f7e2266d830f": {
      "model_module": "@jupyter-widgets/base",
      "model_module_version": "1.2.0",
      "model_name": "LayoutModel",
      "state": {}
     },
     "cc6b210f3a744806a5e376b0e668ec82": {
      "model_module": "@jupyter-widgets/controls",
      "model_module_version": "1.5.0",
      "model_name": "VBoxModel",
      "state": {
       "_dom_classes": [
        "widget-interact"
       ],
       "children": [
        "IPY_MODEL_c510741a0db347aa894f68b3a6851006",
        "IPY_MODEL_b7ae1aae202b4787907046bf740d40b5"
       ],
       "layout": "IPY_MODEL_99cfb15cb3da44ad957c8ffe1605d403"
      }
     },
     "ce1ad5d69a564344bfc0fa563849e549": {
      "model_module": "@jupyter-widgets/output",
      "model_module_version": "1.0.0",
      "model_name": "OutputModel",
      "state": {
       "layout": "IPY_MODEL_44f462ad358b42609e01de4b55c2a94f",
       "outputs": [
        {
         "name": "stdout",
         "output_type": "stream",
         "text": "season:\t 20162017\ngamePk:\t 2016020567\ngame_type:\t R\nstart_time:\t 2017-01-04T00:00:00Z\nvenue:\t PNC Arena\nCAR (home) vs. NJD (away)\n"
        }
       ]
      }
     },
     "ce6ea77cd7724b3887bd5f690d9d5b02": {
      "model_module": "@jupyter-widgets/base",
      "model_module_version": "1.2.0",
      "model_name": "LayoutModel",
      "state": {}
     },
     "d14838dd888a45eb8aa76bbe22edc2b4": {
      "model_module": "@jupyter-widgets/controls",
      "model_module_version": "1.5.0",
      "model_name": "DescriptionStyleModel",
      "state": {
       "description_width": ""
      }
     },
     "d1bf045e8cc04b32b15279efaf830043": {
      "model_module": "@jupyter-widgets/output",
      "model_module_version": "1.0.0",
      "model_name": "OutputModel",
      "state": {
       "layout": "IPY_MODEL_9d597c633f5b4ef7a718a154046939e5",
       "outputs": [
        {
         "data": {
          "application/vnd.jupyter.widget-view+json": {
           "model_id": "8c75068d32ef4ace863be1986578aff2",
           "version_major": 2,
           "version_minor": 0
          },
          "text/plain": "interactive(children=(IntSlider(value=0, description='game_idx', max=1424), Output()), _dom_classes=('widget-i…"
         },
         "metadata": {},
         "output_type": "display_data"
        },
        {
         "name": "stdout",
         "output_type": "stream",
         "text": "season:\t 20162017\ngamePk:\t 2016010002\ngame_type:\t PR\nstart_time:\t 2016-09-25T17:00:00Z\nvenue:\t Scottrade Center\nSTL (home) vs. CBJ (away)\n"
        }
       ]
      }
     },
     "d347580cd5a44b998d2193c632745272": {
      "model_module": "@jupyter-widgets/base",
      "model_module_version": "1.2.0",
      "model_name": "LayoutModel",
      "state": {}
     },
     "d3cfd9208e6846fc8f5b3068cf34d5bb": {
      "model_module": "@jupyter-widgets/output",
      "model_module_version": "1.0.0",
      "model_name": "OutputModel",
      "state": {
       "layout": "IPY_MODEL_5f8c0e9e40ee402d966b529836dac98c",
       "outputs": [
        {
         "data": {
          "application/vnd.jupyter.widget-view+json": {
           "model_id": "6a86a65679b7430fb363597946114e36",
           "version_major": 2,
           "version_minor": 0
          },
          "text/plain": "interactive(children=(IntSlider(value=0, description='game_idx', max=1470), Output()), _dom_classes=('widget-i…"
         },
         "metadata": {},
         "output_type": "display_data"
        }
       ]
      }
     },
     "dba5d20bf3fe4715938bae90e9660fc6": {
      "model_module": "@jupyter-widgets/base",
      "model_module_version": "1.2.0",
      "model_name": "LayoutModel",
      "state": {}
     },
     "dd9445ca2aff48dbb27cfe9b362e583b": {
      "model_module": "@jupyter-widgets/controls",
      "model_module_version": "1.5.0",
      "model_name": "IntSliderModel",
      "state": {
       "description": "game_idx",
       "layout": "IPY_MODEL_8f23419d8e8e4bf1bb67e24c723490b7",
       "max": 1424,
       "style": "IPY_MODEL_943a3788fc43418a955e7779b04ba09b",
       "value": 670
      }
     },
     "e2473dceb37f451e8fa3cca30279e20f": {
      "model_module": "@jupyter-widgets/controls",
      "model_module_version": "1.5.0",
      "model_name": "IntSliderModel",
      "state": {
       "description": "game_idx",
       "layout": "IPY_MODEL_43ddf0c41a894fbbb0bebd4232bfca9a",
       "max": 1424,
       "style": "IPY_MODEL_ed7ac59e155e4e6fb2d10c7240820fbd",
       "value": 487
      }
     },
     "e57a9ebee4d54bc7a40fc0a2e48bf5cb": {
      "model_module": "@jupyter-widgets/base",
      "model_module_version": "1.2.0",
      "model_name": "LayoutModel",
      "state": {}
     },
     "e64aff39463b416a95668968e0c0c358": {
      "model_module": "@jupyter-widgets/output",
      "model_module_version": "1.0.0",
      "model_name": "OutputModel",
      "state": {
       "layout": "IPY_MODEL_004cab30303f471abf518aae568aefd7",
       "outputs": [
        {
         "data": {
          "application/vnd.jupyter.widget-view+json": {
           "model_id": "8a71fd638ff04016bcc55d28cfa75a5f",
           "version_major": 2,
           "version_minor": 0
          },
          "text/plain": "interactive(children=(IntSlider(value=0, description='game_idx', max=1470), Output()), _dom_classes=('widget-i…"
         },
         "metadata": {},
         "output_type": "display_data"
        }
       ]
      }
     },
     "e9dc5700951041a38b18c3673e64fc5f": {
      "model_module": "@jupyter-widgets/output",
      "model_module_version": "1.0.0",
      "model_name": "OutputModel",
      "state": {
       "layout": "IPY_MODEL_a9e2179e50ec4493bc5a8534263ae9d8"
      }
     },
     "ea7fafdff87d4cfe9a1b62f2621f559e": {
      "model_module": "@jupyter-widgets/base",
      "model_module_version": "1.2.0",
      "model_name": "LayoutModel",
      "state": {}
     },
     "ed77c934c5a64002ac6eab71ce57401f": {
      "model_module": "@jupyter-widgets/output",
      "model_module_version": "1.0.0",
      "model_name": "OutputModel",
      "state": {
       "layout": "IPY_MODEL_f93a5f9f384d47cc92ce54434797dc1a",
       "outputs": [
        {
         "data": {
          "application/vnd.jupyter.widget-view+json": {
           "model_id": "67f863dd11de43b4a6d82492a95249ed",
           "version_major": 2,
           "version_minor": 0
          },
          "text/plain": "interactive(children=(IntSlider(value=0, description='game_idx', max=1424), Output()), _dom_classes=('widget-i…"
         },
         "metadata": {},
         "output_type": "display_data"
        }
       ]
      }
     },
     "ed7ac59e155e4e6fb2d10c7240820fbd": {
      "model_module": "@jupyter-widgets/controls",
      "model_module_version": "1.5.0",
      "model_name": "SliderStyleModel",
      "state": {
       "description_width": ""
      }
     },
     "f16fd9e3d6764fd1a5d2d5be1aabe0a9": {
      "model_module": "@jupyter-widgets/controls",
      "model_module_version": "1.5.0",
      "model_name": "VBoxModel",
      "state": {
       "_dom_classes": [
        "widget-interact"
       ],
       "children": [
        "IPY_MODEL_e2473dceb37f451e8fa3cca30279e20f",
        "IPY_MODEL_a2dcdd3b263742e0977a63b41890baa6"
       ],
       "layout": "IPY_MODEL_ca53e9e2734e42c1b5e6f7e2266d830f"
      }
     },
     "f77f9ec00b4d4cc797844774276f7168": {
      "model_module": "@jupyter-widgets/base",
      "model_module_version": "1.2.0",
      "model_name": "LayoutModel",
      "state": {}
     },
     "f93a5f9f384d47cc92ce54434797dc1a": {
      "model_module": "@jupyter-widgets/base",
      "model_module_version": "1.2.0",
      "model_name": "LayoutModel",
      "state": {}
     }
    },
    "version_major": 2,
    "version_minor": 0
   }
  }
 },
 "nbformat": 4,
 "nbformat_minor": 2
}
