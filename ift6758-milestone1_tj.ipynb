{
 "cells": [
  {
   "cell_type": "markdown",
   "source": [
    "# Import libraries and constants"
   ],
   "metadata": {}
  },
  {
   "cell_type": "markdown",
   "source": [
    "# 1. Warmup"
   ],
   "metadata": {}
  },
  {
   "cell_type": "markdown",
   "source": [
    "### Download the .xlsx table from :\r\n",
    "http://www.nhl.com/stats/goalies?reportType=season&seasonFrom=20172018&seasonTo=20172018"
   ],
   "metadata": {}
  },
  {
   "cell_type": "code",
   "execution_count": null,
   "source": [
    "import numpy as np\r\n",
    "import pandas as pd\r\n",
    "import matplotlib.pyplot as plt\r\n",
    "\r\n",
    "# set matplotlib parameters\r\n",
    "plt.rcParams[\"figure.figsize\"] = (10, 6)\r\n",
    "plt.rcParams[\"font.size\"] = 12"
   ],
   "outputs": [],
   "metadata": {}
  },
  {
   "cell_type": "code",
   "execution_count": null,
   "source": [
    "# set path for Excel file\r\n",
    "GOALEES_PATH = \"./storage/nhl_goalees.xlsx\"\r\n",
    "# parameter \"thousands\" parses commas separating thousands in Excel\r\n",
    "goalees_df = pd.read_excel(GOALEES_PATH, thousands=\",\")\r\n",
    "goalees_df.head()"
   ],
   "outputs": [],
   "metadata": {}
  },
  {
   "cell_type": "code",
   "execution_count": null,
   "source": [
    "# Filter the original table to keep relevant column\r\n",
    "# use .copy() to avoid modifying \"goaless_df\"\r\n",
    "input_df = goalees_df[[\"Player\", \"GP\", \"GS\", \"Team\", \"SA\", \"Svs\", \"GA\", \"GAA\"]].copy()\r\n",
    "input_df.head()"
   ],
   "outputs": [],
   "metadata": {}
  },
  {
   "cell_type": "code",
   "execution_count": null,
   "source": [
    "# compute saves ratio by dividing n Saves (Svs) by n Shots against (SA)\r\n",
    "input_df[\"Svs_ratio\"] = input_df[\"Svs\"] / input_df[\"SA\"]"
   ],
   "outputs": [],
   "metadata": {}
  },
  {
   "cell_type": "code",
   "execution_count": null,
   "source": [
    "input_df = input_df.sort_values(\"Svs_ratio\", ascending=False)"
   ],
   "outputs": [],
   "metadata": {}
  },
  {
   "cell_type": "code",
   "execution_count": null,
   "source": [
    "# keep the first 20 rows (import to use \"iloc\", not \"loc\")\r\n",
    "top20 = input_df.iloc[:20, :]\r\n",
    "# rename the original index, reset the index, set the new index\r\n",
    "top20 = top20.rename_axis(\"idx\").reset_index().set_index(\"Player\")\r\n",
    "print(top20.shape)"
   ],
   "outputs": [],
   "metadata": {}
  },
  {
   "cell_type": "markdown",
   "source": [
    "## Plot top 20 goaltenders according to % shots saved"
   ],
   "metadata": {}
  },
  {
   "cell_type": "code",
   "execution_count": null,
   "source": [
    "#ylim manually sets the range of the bar plot\r\n",
    "top20[\"Svs_ratio\"].plot(kind=\"bar\", title=\"Top 20 goaltenders by % Shots saved\", ylabel=\"% Shots saved\", ylim=(0.91, 0.939))"
   ],
   "outputs": [],
   "metadata": {}
  },
  {
   "cell_type": "markdown",
   "source": [
    "## Supplementary analysis\r\n",
    "Do % Shots saved vary according to:\r\n",
    "- the number of game played?\r\n",
    "- the number of game started?\r\n",
    "- the % of game started?"
   ],
   "metadata": {}
  },
  {
   "cell_type": "code",
   "execution_count": null,
   "source": [
    "# create binary column for top 20 players based on % Svs\r\n",
    "input_df[\"is_top20\"] = 0\r\n",
    "input_df.loc[top20.idx, \"is_top20\"] = 1"
   ],
   "outputs": [],
   "metadata": {}
  },
  {
   "cell_type": "code",
   "execution_count": null,
   "source": [
    "# ratio of game started\r\n",
    "input_df[\"GS_ratio\"] = input_df[\"GS\"] / input_df[\"GP\"]"
   ],
   "outputs": [],
   "metadata": {}
  },
  {
   "cell_type": "code",
   "execution_count": null,
   "source": [
    "# reusable function to generate scatter plot\r\n",
    "def scatter_x_by_y(df, x_col, y_col=\"Svs_ratio\", conditional_col=None):\r\n",
    "    plt.figure()\r\n",
    "\r\n",
    "    # scatter plot using x_col and y_col\r\n",
    "    plt.scatter(df[x_col], df[y_col])\r\n",
    "    # if conditional_col is not None\r\n",
    "    if conditional_col:\r\n",
    "        # plot x_col and y_col where conditional_col==1 using color \"C1\"\r\n",
    "        plt.scatter(df.loc[df[conditional_col]==1, x_col], df.loc[df[conditional_col]==1, y_col], color=\"C1\")\r\n",
    "    \r\n",
    "    # set axis labels and title\r\n",
    "    plt.xlabel(x_col)\r\n",
    "    plt.ylabel(y_col)\r\n",
    "    plt.title(f\"{y_col} by {x_col}\")\r\n",
    "\r\n",
    "    plt.show()"
   ],
   "outputs": [],
   "metadata": {}
  },
  {
   "cell_type": "code",
   "execution_count": null,
   "source": [
    "scatter_x_by_y(input_df, \"GS\", conditional_col=\"is_top20\")\r\n",
    "scatter_x_by_y(input_df, \"GP\", conditional_col=\"is_top20\")\r\n",
    "scatter_x_by_y(input_df, \"GS_ratio\", conditional_col=\"is_top20\")\r\n",
    "scatter_x_by_y(input_df, \"GAA\", conditional_col=\"is_top20\")"
   ],
   "outputs": [],
   "metadata": {}
  },
  {
   "cell_type": "markdown",
   "source": [
    "# API Query\r\n",
    "https://gitlab.com/dword4/nhlapi/-/blob/master/stats-api.md"
   ],
   "metadata": {}
  },
  {
   "cell_type": "markdown",
   "source": [
    "### Game IDs\r\n",
    "First 4 digits give the season (ie. 2017 for the 2017-2018 season)\r\n",
    "\r\n",
    "Next 2 digits give the type of game\r\n",
    "- 01 = preseason\r\n",
    "- 02 = regular season\r\n",
    "- 03 = playoffs\r\n",
    "- 04 = all-star\r\n",
    "\r\n",
    "Final 4 digits give the specific game number.\r\n",
    "-  For regular season and preseason games, it ranges from 0001 to the number of games played. (1271 for seasons with 31 teams (2017 and onwards) and 1230 for seasons with 30 teams).\r\n",
    "-  For playoff games, the 2nd digit of the specific number gives the round of the playoffs, the 3rd digit specifies the matchup, and the 4th digit specifies the game (out of 7)."
   ],
   "metadata": {}
  },
  {
   "cell_type": "code",
   "execution_count": null,
   "source": [
    "import os\r\n",
    "import requests\r\n",
    "import json\r\n",
    "import time"
   ],
   "outputs": [],
   "metadata": {}
  },
  {
   "cell_type": "code",
   "execution_count": null,
   "source": [
    "# class to interact with the API\r\n",
    "class ApiEngine():\r\n",
    "    def __init__(self, storage_path):\r\n",
    "        self.storage_path = storage_path\r\n",
    "    \r\n",
    "    # pass start_year, return a string to select a season (i.e., 2017 -> 20172018)\r\n",
    "    def _start_year_to_season_string(self, start_year):\r\n",
    "        return str(start_year) + str(start_year+1)\r\n",
    "    \r\n",
    "    # save the API JSON response to file\r\n",
    "    def save_response(self, response, path, overwrite=False):\r\n",
    "        if overwrite:\r\n",
    "            with open(path, \"w\") as file:\r\n",
    "                # if overwrite is true, return to beginning of file and overwrite\r\n",
    "                file.seek(0)\r\n",
    "                file.truncate()\r\n",
    "                json.dump(response, file)\r\n",
    "            return\r\n",
    "        \r\n",
    "        with open(path, \"w\") as file:\r\n",
    "            json.dump(response, file)\r\n",
    "    \r\n",
    "    # query API endpoint\r\n",
    "    def query_api(self, endpoint, params=None):\r\n",
    "        # base url of the API\r\n",
    "        url = f\"https://statsapi.web.nhl.com/api/v1/{endpoint}\"\r\n",
    "        r = requests.get(url, params=params, timeout=3)\r\n",
    "        # check if the HTTP request is valid\r\n",
    "        try:\r\n",
    "            r.raise_for_status()\r\n",
    "        except requests.exceptions.RequestException as e:\r\n",
    "            print(f\"Could not reach API endpoint:\\n'{url}'\")\r\n",
    "        return r.json()\r\n",
    "    \r\n",
    "    # query API for the schedule of the year (to get valid gamePk)\r\n",
    "    def get_season_schedule(self, start_year):\r\n",
    "        season_string = self._start_year_to_season_string(start_year)\r\n",
    "        season_response = self.query_api(\"schedule\", params={\"season\": season_string})\r\n",
    "        save_path = f\"{self.storage_path}/schedule/schedule_{season_string}.json\"\r\n",
    "        self.save_response(season_response, save_path, overwrite=False)\r\n",
    "        return season_response\r\n",
    "        \r\n",
    "    # query API for a specific game\r\n",
    "    def get_game(self, gamePk):\r\n",
    "        game_response = self.query_api(f\"game/{gamePk}/feed/live\")\r\n",
    "        season = game_response[\"gameData\"][\"game\"][\"season\"]\r\n",
    "        save_path = f\"{self.storage_path}/games/{season}/game_{season}_{gamePk}.json\"\r\n",
    "        self.save_response(game_response, save_path, overwrite=False)\r\n",
    "    \r\n",
    "    # loop to query all games of a season\r\n",
    "    def get_all_season_games(self, start_year):\r\n",
    "        season_schedule = self.get_season_schedule(start_year)\r\n",
    "        \r\n",
    "        for date in season_schedule[\"dates\"]:\r\n",
    "            for game in date[\"games\"]:\r\n",
    "                self.get_game(game[\"gamePk\"])\r\n",
    "                time.sleep(3) # delay to avoid spamming requests"
   ],
   "outputs": [],
   "metadata": {}
  },
  {
   "cell_type": "code",
   "execution_count": null,
   "source": [
    "# class to interact with the stored JSON files\r\n",
    "class StorageEngine():\r\n",
    "    def __init__(self, storage_path):\r\n",
    "        self.storage_path = storage_path\r\n",
    "        \r\n",
    "    def _start_year_to_season_string(self, start_year):\r\n",
    "        return str(start_year) + str(start_year+1)\r\n",
    "    \r\n",
    "    # load season schedule JSON\r\n",
    "    def get_season_schedule(self, start_year):\r\n",
    "        season_string = self._start_year_to_season_string(start_year)\r\n",
    "        save_path = f\"{self.storage_path}/schedule/schedule_{season_string}.json\"\r\n",
    "        with open(save_path, \"r\") as file:\r\n",
    "            return json.load(file)\r\n",
    "    \r\n",
    "    # load game JSON\r\n",
    "    def get_game(self, start_year, gamePk):\r\n",
    "        season_string = self._start_year_to_season_string(start_year)\r\n",
    "        save_path = f\"{self.storage_path}/games/{season_string}/game_{season_string}_{gamePk}.json\"\r\n",
    "        with open(save_path, \"r\") as file:\r\n",
    "            return json.load(file)\r\n",
    "    \r\n",
    "    # get list of valid gamePk from season schedule\r\n",
    "    def get_all_season_gamePk(self, start_year):\r\n",
    "        season_schedule = self.get_season_schedule(start_year)\r\n",
    "\r\n",
    "        gamePk_list = []\r\n",
    "        for date in season_schedule[\"dates\"]:\r\n",
    "            for game in date[\"games\"]:\r\n",
    "                gamePk_list.append(game[\"gamePk\"])\r\n",
    "        return gamePk_list"
   ],
   "outputs": [],
   "metadata": {}
  },
  {
   "cell_type": "markdown",
   "source": [
    "# Visualizing JSON data"
   ],
   "metadata": {}
  },
  {
   "cell_type": "code",
   "execution_count": null,
   "source": [
    "import pandas as pd\r\n",
    "from ipywidgets import interact, SelectionSlider\r\n",
    "\r\n",
    "from src.data_query import StorageEngine"
   ],
   "outputs": [],
   "metadata": {}
  },
  {
   "cell_type": "code",
   "execution_count": null,
   "source": [
    "@interact(start_year=[2016, 2017, 2018, 2019])\r\n",
    "def view_season(start_year=2016):\r\n",
    "    # load engine\r\n",
    "    storage_engine = StorageEngine(\"./data/raw\")\r\n",
    "    # load list of all gamePk for selected season\r\n",
    "    gamePk_list = storage_engine.get_all_season_gamePk(start_year)\r\n",
    "            \r\n",
    "    @interact(game_idx=(0, len(gamePk_list)-1, 1))\r\n",
    "    def view_games(game_idx=0):\r\n",
    "        # load the game for the (season, gamePk) selected\r\n",
    "        game_json = storage_engine.get_game(start_year, gamePk_list[game_idx])\r\n",
    "        \r\n",
    "        # function to specify the data to display\r\n",
    "        def _print_metadata(game_json):\r\n",
    "            season = game_json[\"gameData\"][\"game\"][\"season\"]\r\n",
    "            gamePk = game_json[\"gamePk\"]\r\n",
    "            game_type = game_json[\"gameData\"][\"game\"][\"type\"]\r\n",
    "            start_time = game_json[\"gameData\"][\"datetime\"][\"dateTime\"]\r\n",
    "            venue = game_json[\"gameData\"][\"venue\"][\"name\"]\r\n",
    "            \r\n",
    "            home_tri = game_json[\"gameData\"][\"teams\"][\"home\"][\"triCode\"]\r\n",
    "            away_tri = game_json[\"gameData\"][\"teams\"][\"away\"][\"triCode\"]\r\n",
    "            \r\n",
    "            print(\"season:\\t\", season)\r\n",
    "            print(\"gamePk:\\t\", gamePk)\r\n",
    "            print(\"game_type:\\t\", game_type)\r\n",
    "            print(\"start_time:\\t\", start_time)\r\n",
    "            print(\"venue:\\t\", venue)\r\n",
    "            print(f\"{home_tri} (home) vs. {away_tri} (away)\")\r\n",
    "        \r\n",
    "        _print_metadata(game_json)    \r\n",
    "            \r\n",
    "    view_games()"
   ],
   "outputs": [],
   "metadata": {}
  },
  {
   "cell_type": "markdown",
   "source": [
    "# Tidy data\r\n",
    "Convert JSON to pandas.DataFrame"
   ],
   "metadata": {}
  },
  {
   "cell_type": "code",
   "execution_count": null,
   "source": [
    "import pandas as pd\r\n",
    "import matplotlib.pyplot as plt\r\n",
    "\r\n",
    "from src.game_model import game_json_to_metadata_dict\r\n",
    "from src.plays_model import game_json_to_plays_list"
   ],
   "outputs": [],
   "metadata": {}
  },
  {
   "cell_type": "code",
   "execution_count": null,
   "source": [
    "#TODO\r\n",
    "# NOT FULLY IMPLEMENTED\r\n",
    "def get_season_metadata(start_year):\r\n",
    "    storage_engine = StorageEngine(\"./data/raw\")\r\n",
    "    gamePk_list = storage_engine.get_all_season_gamePk(start_year)\r\n",
    "\r\n",
    "    metadata_records = []\r\n",
    "\r\n",
    "    for gamePk in gamePk_list:\r\n",
    "        print(gamePk)\r\n",
    "        game_json = storage_engine.get_game(start_year, gamePk)\r\n",
    "        metadata_dict = game_json_to_metadata_dict(game_json)\r\n",
    "        metadata_records.append(metadata_dict)\r\n",
    "        \r\n",
    "    return pd.DataFrame.from_records(metadata_records)"
   ],
   "outputs": [],
   "metadata": {}
  },
  {
   "cell_type": "code",
   "execution_count": null,
   "source": [
    "def get_season_plays_df(start_year):\r\n",
    "    storage_engine = StorageEngine(\"./data/raw\")\r\n",
    "    gamePk_list = storage_engine.get_all_season_gamePk(start_year)\r\n",
    "\r\n",
    "    game_plays_df_list = []\r\n",
    "    for gamePk in gamePk_list:\r\n",
    "        game_json = storage_engine.get_game(start_year, gamePk)\r\n",
    "        game_plays_df = pd.DataFrame.from_records(game_json_to_plays_list(game_json))\r\n",
    "        game_plays_df_list.append(game_plays_df)\r\n",
    "    \r\n",
    "    season_plays_df = pd.concat(game_plays_df_list)\r\n",
    "        \r\n",
    "    return season_plays_df\r\n",
    "\r\n",
    "def preprocess_season_plays(start_year):\r\n",
    "    season_plays_df = get_season_plays_df(start_year)\r\n",
    "    season_plays_df.to_csv(f\"./data/processed/season_plays_{start_year}.csv\", index=False)"
   ],
   "outputs": [],
   "metadata": {}
  },
  {
   "cell_type": "code",
   "execution_count": null,
   "source": [
    "preprocess_season_plays(2019)"
   ],
   "outputs": [],
   "metadata": {}
  },
  {
   "cell_type": "markdown",
   "source": [
    "# Simple visualization"
   ],
   "metadata": {}
  },
  {
   "cell_type": "code",
   "execution_count": 1,
   "source": [
    "import numpy as np\r\n",
    "import pandas as pd\r\n",
    "from ipywidgets import interact, SelectionSlider\r\n",
    "import plotly.express as px\r\n",
    "import plotly.graph_objects as go"
   ],
   "outputs": [],
   "metadata": {}
  },
  {
   "cell_type": "code",
   "execution_count": 2,
   "source": [
    "season_plays_df = pd.read_csv(\"./data/processed/normalized_season_plays_20192020.csv\", index_col=False)\r\n",
    "season_plays_df = season_plays_df.sort_values(by=\"gamePk\")\r\n",
    "#season_plays_df = season_plays_df.drop(columns=\"Unnamed: 0\")\r\n",
    "season_plays_df.shape"
   ],
   "outputs": [
    {
     "output_type": "execute_result",
     "data": {
      "text/plain": [
       "(83060, 23)"
      ]
     },
     "metadata": {},
     "execution_count": 2
    }
   ],
   "metadata": {}
  },
  {
   "cell_type": "markdown",
   "source": [
    "## Fig 5.1"
   ],
   "metadata": {}
  },
  {
   "cell_type": "code",
   "execution_count": null,
   "source": [
    "shots_freq = season_plays_df[\"shot_type\"].value_counts()\r\n",
    "shots_stats = season_plays_df.groupby([\"shot_type\", \"event_type_id\"]).size()\r\n",
    "shots_ratio = shots_stats[(slice(None), \"GOAL\")] / shots_freq"
   ],
   "outputs": [],
   "metadata": {}
  },
  {
   "cell_type": "code",
   "execution_count": null,
   "source": [
    "fig = px.bar(\r\n",
    "    shots_stats,\r\n",
    "    x=shots_stats[(slice(None), \"GOAL\")].index,\r\n",
    "    y=shots_stats.groupby(level=0).sum(),\r\n",
    "    text=shots_stats[(slice(None), \"GOAL\")],\r\n",
    "    title=\"Frequency of shot types across teams - Season 2016-2017\",\r\n",
    "    barmode=\"group\")\r\n",
    "\r\n",
    "fig.update_layout(\r\n",
    "    xaxis=dict(title=\"Shot type\"),\r\n",
    "    yaxis=dict(title=\"Frequency\"),\r\n",
    ")\r\n",
    "\r\n",
    "fig.show()"
   ],
   "outputs": [],
   "metadata": {}
  },
  {
   "cell_type": "markdown",
   "source": [
    "## Fig 5.2"
   ],
   "metadata": {}
  },
  {
   "cell_type": "code",
   "execution_count": null,
   "source": [
    "# the dimensions of the NHL ice rink are 200' long x 85' wide\r\n",
    "# x coordinates range between -98 and 98 (the sign indicate which team's side)\r\n",
    "# y coordinates range between -42 and 42\r\n",
    "# the goal is align with y=0, and 11' away from the rink\r\n",
    "# the x coordinates is the given by 100 - 11/100 * 98 = 100 - 10.78"
   ],
   "outputs": [],
   "metadata": {}
  },
  {
   "cell_type": "code",
   "execution_count": null,
   "source": [
    "def dist_from_goal(df):\r\n",
    "    return np.sqrt((11 - df[\"x_coord\"])**2 + df[\"y_coord\"]**2)"
   ],
   "outputs": [],
   "metadata": {}
  },
  {
   "cell_type": "markdown",
   "source": [
    "# 6 "
   ],
   "metadata": {}
  },
  {
   "cell_type": "code",
   "execution_count": null,
   "source": [
    "def normalize_plays_coords(plays_df):\r\n",
    "    def normalize_period_coords(plays_df):\r\n",
    "        #mask for even periods\r\n",
    "        #plays_df[[\"x_coord_norm\", \"y_coord_norm\"]] = plays_df[[\"x_coord\", \"y_coord\"]].copy()\r\n",
    "        mask = (plays_df[\"period_idx\"]%2==0)\r\n",
    "        plays_df.loc[mask, \"x_coord_norm\"] = -plays_df[\"x_coord\"]\r\n",
    "        plays_df.loc[mask, \"y_coord_norm\"] = -plays_df[\"y_coord\"]\r\n",
    "        return plays_df\r\n",
    "\r\n",
    "    def normalize_side_coords(plays_df):\r\n",
    "        negative_side_df = plays_df.groupby([\"gamePk\", \"team_initiative_id\"]).filter(lambda x: x[\"x_coord_norm\"].mean() < 0)\r\n",
    "        plays_df.loc[negative_side_df.index, \"x_coord_norm\"] = -negative_side_df[\"x_coord_norm\"]\r\n",
    "        plays_df.loc[negative_side_df.index, \"y_coord_norm\"] = -negative_side_df[\"y_coord_norm\"]\r\n",
    "        return plays_df\r\n",
    "    \r\n",
    "    plays_df[[\"x_coord_norm\", \"y_coord_norm\"]] = plays_df[[\"x_coord\", \"y_coord\"]].copy()\r\n",
    "    plays_df = normalize_period_coords(plays_df)\r\n",
    "    plays_df = normalize_side_coords(plays_df)\r\n",
    "    return plays_df"
   ],
   "outputs": [],
   "metadata": {}
  },
  {
   "cell_type": "code",
   "execution_count": 3,
   "source": [
    "def explore_shots(plays_df):\r\n",
    "    @interact(\r\n",
    "        gamePk=SelectionSlider(options=season_plays_df[\"gamePk\"].unique()),\r\n",
    "        period_idx=SelectionSlider(options=[1, 2, 3, 4, 5]),\r\n",
    "    )\r\n",
    "    def plot_shots_from_game_period(gamePk, period_idx):\r\n",
    "        game_df = plays_df.loc[plays_df[\"gamePk\"]==gamePk].copy()\r\n",
    "        game_df[\"team_initiative_id\"] = game_df[\"team_initiative_id\"].astype(\"category\")\r\n",
    "        \r\n",
    "        ax0 = game_df.loc[game_df[\"period_idx\"].isin([period_idx])].plot.scatter(x=\"x_coord\", y=\"y_coord\", c=\"team_initiative_id\", cmap=\"Set1\")\r\n",
    "        ax1 = game_df.loc[game_df[\"period_idx\"].isin([period_idx])].plot.scatter(x=\"x_coord_norm\", y=\"y_coord_norm\", c=\"team_initiative_id\", cmap=\"tab10\")\r\n",
    "        \r\n",
    "        ax0.set_xlim(-100, 100)\r\n",
    "        ax0.set_ylim(-44, 44)\r\n",
    "        ax1.set_xlim(-100, 100)\r\n",
    "        ax1.set_ylim(-44, 44)\r\n",
    "\r\n",
    "explore_shots(df)"
   ],
   "outputs": [
    {
     "output_type": "error",
     "ename": "NameError",
     "evalue": "name 'df' is not defined",
     "traceback": [
      "\u001b[1;31m---------------------------------------------------------------------------\u001b[0m",
      "\u001b[1;31mNameError\u001b[0m                                 Traceback (most recent call last)",
      "\u001b[1;32m~\\AppData\\Local\\Temp/ipykernel_19544/3265909515.py\u001b[0m in \u001b[0;36m<module>\u001b[1;34m\u001b[0m\n\u001b[0;32m     16\u001b[0m         \u001b[0max1\u001b[0m\u001b[1;33m.\u001b[0m\u001b[0mset_ylim\u001b[0m\u001b[1;33m(\u001b[0m\u001b[1;33m-\u001b[0m\u001b[1;36m44\u001b[0m\u001b[1;33m,\u001b[0m \u001b[1;36m44\u001b[0m\u001b[1;33m)\u001b[0m\u001b[1;33m\u001b[0m\u001b[1;33m\u001b[0m\u001b[0m\n\u001b[0;32m     17\u001b[0m \u001b[1;33m\u001b[0m\u001b[0m\n\u001b[1;32m---> 18\u001b[1;33m \u001b[0mexplore_shots\u001b[0m\u001b[1;33m(\u001b[0m\u001b[0mdf\u001b[0m\u001b[1;33m)\u001b[0m\u001b[1;33m\u001b[0m\u001b[1;33m\u001b[0m\u001b[0m\n\u001b[0m",
      "\u001b[1;31mNameError\u001b[0m: name 'df' is not defined"
     ]
    }
   ],
   "metadata": {}
  },
  {
   "cell_type": "code",
   "execution_count": 17,
   "source": [
    "def explore_shots_density(plays_df):\r\n",
    "    @interact(\r\n",
    "        gamePk=SelectionSlider(options=season_plays_df[\"gamePk\"].unique()),\r\n",
    "        team_idx=[0, 1]\r\n",
    "    )\r\n",
    "    def plot_shots_density_from_game_period(gamePk, team_idx):\r\n",
    "        game_df = plays_df.loc[plays_df[\"gamePk\"]==gamePk].copy()\r\n",
    "        team = game_df[\"team_initiative_id\"].unique()[team_idx]\r\n",
    "        game_df = game_df.loc[game_df[\"team_initiative_id\"]==team]\r\n",
    "        game_df[\"team_initiative_id\"] = game_df[\"team_initiative_id\"].astype(\"category\")\r\n",
    "        \r\n",
    "        fig = px.density_contour(\r\n",
    "            game_df,\r\n",
    "            x=\"x_coord_norm\",\r\n",
    "            y=\"y_coord_norm\",\r\n",
    "            range_x=[-100,100],\r\n",
    "            range_y=[-43,43],\r\n",
    "            nbinsx=20,\r\n",
    "            nbinsy=20\r\n",
    "            )\r\n",
    "        \r\n",
    "        fig.add_layout_image(\r\n",
    "            dict(\r\n",
    "                source=\"./references/full_rink_c.png\",\r\n",
    "                xref=\"x\",\r\n",
    "                yref=\"y\",\r\n",
    "                x=-100,\r\n",
    "                y=43,\r\n",
    "                sizex=200,\r\n",
    "                sizey=86,\r\n",
    "                sizing=\"stretch\",\r\n",
    "                opacity=1,\r\n",
    "                layer=\"below\",\r\n",
    "            )\r\n",
    "        )\r\n",
    "        fig.update_yaxes(scaleanchor=\"x\", scaleratio = 1)\r\n",
    "        fig.update_traces(\r\n",
    "            line=dict(color=\"#000000\", dash=\"dot\"),\r\n",
    "            contours_coloring=\"fill\",\r\n",
    "            colorscale=\"OrRd\",\r\n",
    "            showscale=True,\r\n",
    "            opacity=0.5)\r\n",
    "        #fig.update_layout(template=\"plotly_white\")\r\n",
    "        fig.show()\r\n",
    "\r\n",
    "    plot_shots_density_from_game_period(2019010002, 0)\r\n",
    "\r\n",
    "explore_shots_density(season_plays_df)"
   ],
   "outputs": [
    {
     "output_type": "display_data",
     "data": {
      "application/vnd.jupyter.widget-view+json": {
       "version_major": 2,
       "version_minor": 0,
       "model_id": "e274aca25d084f199a3da77c9f868a58"
      },
      "text/plain": [
       "interactive(children=(SelectionSlider(description='gamePk', options=(2019010001, 2019010002, 2019010003, 20190…"
      ]
     },
     "metadata": {}
    },
    {
     "output_type": "display_data",
     "data": {
      "application/vnd.plotly.v1+json": {
       "config": {
        "plotlyServerURL": "https://plot.ly"
       },
       "data": [
        {
         "colorscale": [
          [
           0,
           "rgb(255,247,236)"
          ],
          [
           0.125,
           "rgb(254,232,200)"
          ],
          [
           0.25,
           "rgb(253,212,158)"
          ],
          [
           0.375,
           "rgb(253,187,132)"
          ],
          [
           0.5,
           "rgb(252,141,89)"
          ],
          [
           0.625,
           "rgb(239,101,72)"
          ],
          [
           0.75,
           "rgb(215,48,31)"
          ],
          [
           0.875,
           "rgb(179,0,0)"
          ],
          [
           1,
           "rgb(127,0,0)"
          ]
         ],
         "contours": {
          "coloring": "fill"
         },
         "hovertemplate": "x_coord_norm=%{x}<br>y_coord_norm=%{y}<br>count=%{z}<extra></extra>",
         "legendgroup": "",
         "line": {
          "color": "#000000",
          "dash": "dot"
         },
         "name": "",
         "nbinsx": 20,
         "nbinsy": 20,
         "opacity": 0.5,
         "showlegend": false,
         "showscale": true,
         "type": "histogram2dcontour",
         "x": [
          33,
          47,
          35,
          76,
          70,
          67,
          72,
          10,
          42,
          69,
          83,
          82,
          39,
          50,
          84,
          74,
          42,
          77,
          84,
          72,
          81,
          58,
          85
         ],
         "xaxis": "x",
         "xbingroup": "x",
         "y": [
          -7,
          22,
          26,
          -2,
          0,
          0,
          34,
          -1,
          -22,
          -32,
          10,
          8,
          22,
          11,
          9,
          16,
          -35,
          -21,
          11,
          0,
          9,
          -34,
          27
         ],
         "yaxis": "y",
         "ybingroup": "y"
        }
       ],
       "layout": {
        "images": [
         {
          "layer": "below",
          "opacity": 1,
          "sizex": 200,
          "sizey": 86,
          "sizing": "stretch",
          "source": "./references/full_rink_c.png",
          "x": -100,
          "xref": "x",
          "y": 43,
          "yref": "y"
         }
        ],
        "legend": {
         "tracegroupgap": 0
        },
        "margin": {
         "t": 60
        },
        "template": {
         "data": {
          "bar": [
           {
            "error_x": {
             "color": "#2a3f5f"
            },
            "error_y": {
             "color": "#2a3f5f"
            },
            "marker": {
             "line": {
              "color": "#E5ECF6",
              "width": 0.5
             },
             "pattern": {
              "fillmode": "overlay",
              "size": 10,
              "solidity": 0.2
             }
            },
            "type": "bar"
           }
          ],
          "barpolar": [
           {
            "marker": {
             "line": {
              "color": "#E5ECF6",
              "width": 0.5
             },
             "pattern": {
              "fillmode": "overlay",
              "size": 10,
              "solidity": 0.2
             }
            },
            "type": "barpolar"
           }
          ],
          "carpet": [
           {
            "aaxis": {
             "endlinecolor": "#2a3f5f",
             "gridcolor": "white",
             "linecolor": "white",
             "minorgridcolor": "white",
             "startlinecolor": "#2a3f5f"
            },
            "baxis": {
             "endlinecolor": "#2a3f5f",
             "gridcolor": "white",
             "linecolor": "white",
             "minorgridcolor": "white",
             "startlinecolor": "#2a3f5f"
            },
            "type": "carpet"
           }
          ],
          "choropleth": [
           {
            "colorbar": {
             "outlinewidth": 0,
             "ticks": ""
            },
            "type": "choropleth"
           }
          ],
          "contour": [
           {
            "colorbar": {
             "outlinewidth": 0,
             "ticks": ""
            },
            "colorscale": [
             [
              0,
              "#0d0887"
             ],
             [
              0.1111111111111111,
              "#46039f"
             ],
             [
              0.2222222222222222,
              "#7201a8"
             ],
             [
              0.3333333333333333,
              "#9c179e"
             ],
             [
              0.4444444444444444,
              "#bd3786"
             ],
             [
              0.5555555555555556,
              "#d8576b"
             ],
             [
              0.6666666666666666,
              "#ed7953"
             ],
             [
              0.7777777777777778,
              "#fb9f3a"
             ],
             [
              0.8888888888888888,
              "#fdca26"
             ],
             [
              1,
              "#f0f921"
             ]
            ],
            "type": "contour"
           }
          ],
          "contourcarpet": [
           {
            "colorbar": {
             "outlinewidth": 0,
             "ticks": ""
            },
            "type": "contourcarpet"
           }
          ],
          "heatmap": [
           {
            "colorbar": {
             "outlinewidth": 0,
             "ticks": ""
            },
            "colorscale": [
             [
              0,
              "#0d0887"
             ],
             [
              0.1111111111111111,
              "#46039f"
             ],
             [
              0.2222222222222222,
              "#7201a8"
             ],
             [
              0.3333333333333333,
              "#9c179e"
             ],
             [
              0.4444444444444444,
              "#bd3786"
             ],
             [
              0.5555555555555556,
              "#d8576b"
             ],
             [
              0.6666666666666666,
              "#ed7953"
             ],
             [
              0.7777777777777778,
              "#fb9f3a"
             ],
             [
              0.8888888888888888,
              "#fdca26"
             ],
             [
              1,
              "#f0f921"
             ]
            ],
            "type": "heatmap"
           }
          ],
          "heatmapgl": [
           {
            "colorbar": {
             "outlinewidth": 0,
             "ticks": ""
            },
            "colorscale": [
             [
              0,
              "#0d0887"
             ],
             [
              0.1111111111111111,
              "#46039f"
             ],
             [
              0.2222222222222222,
              "#7201a8"
             ],
             [
              0.3333333333333333,
              "#9c179e"
             ],
             [
              0.4444444444444444,
              "#bd3786"
             ],
             [
              0.5555555555555556,
              "#d8576b"
             ],
             [
              0.6666666666666666,
              "#ed7953"
             ],
             [
              0.7777777777777778,
              "#fb9f3a"
             ],
             [
              0.8888888888888888,
              "#fdca26"
             ],
             [
              1,
              "#f0f921"
             ]
            ],
            "type": "heatmapgl"
           }
          ],
          "histogram": [
           {
            "marker": {
             "pattern": {
              "fillmode": "overlay",
              "size": 10,
              "solidity": 0.2
             }
            },
            "type": "histogram"
           }
          ],
          "histogram2d": [
           {
            "colorbar": {
             "outlinewidth": 0,
             "ticks": ""
            },
            "colorscale": [
             [
              0,
              "#0d0887"
             ],
             [
              0.1111111111111111,
              "#46039f"
             ],
             [
              0.2222222222222222,
              "#7201a8"
             ],
             [
              0.3333333333333333,
              "#9c179e"
             ],
             [
              0.4444444444444444,
              "#bd3786"
             ],
             [
              0.5555555555555556,
              "#d8576b"
             ],
             [
              0.6666666666666666,
              "#ed7953"
             ],
             [
              0.7777777777777778,
              "#fb9f3a"
             ],
             [
              0.8888888888888888,
              "#fdca26"
             ],
             [
              1,
              "#f0f921"
             ]
            ],
            "type": "histogram2d"
           }
          ],
          "histogram2dcontour": [
           {
            "colorbar": {
             "outlinewidth": 0,
             "ticks": ""
            },
            "colorscale": [
             [
              0,
              "#0d0887"
             ],
             [
              0.1111111111111111,
              "#46039f"
             ],
             [
              0.2222222222222222,
              "#7201a8"
             ],
             [
              0.3333333333333333,
              "#9c179e"
             ],
             [
              0.4444444444444444,
              "#bd3786"
             ],
             [
              0.5555555555555556,
              "#d8576b"
             ],
             [
              0.6666666666666666,
              "#ed7953"
             ],
             [
              0.7777777777777778,
              "#fb9f3a"
             ],
             [
              0.8888888888888888,
              "#fdca26"
             ],
             [
              1,
              "#f0f921"
             ]
            ],
            "type": "histogram2dcontour"
           }
          ],
          "mesh3d": [
           {
            "colorbar": {
             "outlinewidth": 0,
             "ticks": ""
            },
            "type": "mesh3d"
           }
          ],
          "parcoords": [
           {
            "line": {
             "colorbar": {
              "outlinewidth": 0,
              "ticks": ""
             }
            },
            "type": "parcoords"
           }
          ],
          "pie": [
           {
            "automargin": true,
            "type": "pie"
           }
          ],
          "scatter": [
           {
            "marker": {
             "colorbar": {
              "outlinewidth": 0,
              "ticks": ""
             }
            },
            "type": "scatter"
           }
          ],
          "scatter3d": [
           {
            "line": {
             "colorbar": {
              "outlinewidth": 0,
              "ticks": ""
             }
            },
            "marker": {
             "colorbar": {
              "outlinewidth": 0,
              "ticks": ""
             }
            },
            "type": "scatter3d"
           }
          ],
          "scattercarpet": [
           {
            "marker": {
             "colorbar": {
              "outlinewidth": 0,
              "ticks": ""
             }
            },
            "type": "scattercarpet"
           }
          ],
          "scattergeo": [
           {
            "marker": {
             "colorbar": {
              "outlinewidth": 0,
              "ticks": ""
             }
            },
            "type": "scattergeo"
           }
          ],
          "scattergl": [
           {
            "marker": {
             "colorbar": {
              "outlinewidth": 0,
              "ticks": ""
             }
            },
            "type": "scattergl"
           }
          ],
          "scattermapbox": [
           {
            "marker": {
             "colorbar": {
              "outlinewidth": 0,
              "ticks": ""
             }
            },
            "type": "scattermapbox"
           }
          ],
          "scatterpolar": [
           {
            "marker": {
             "colorbar": {
              "outlinewidth": 0,
              "ticks": ""
             }
            },
            "type": "scatterpolar"
           }
          ],
          "scatterpolargl": [
           {
            "marker": {
             "colorbar": {
              "outlinewidth": 0,
              "ticks": ""
             }
            },
            "type": "scatterpolargl"
           }
          ],
          "scatterternary": [
           {
            "marker": {
             "colorbar": {
              "outlinewidth": 0,
              "ticks": ""
             }
            },
            "type": "scatterternary"
           }
          ],
          "surface": [
           {
            "colorbar": {
             "outlinewidth": 0,
             "ticks": ""
            },
            "colorscale": [
             [
              0,
              "#0d0887"
             ],
             [
              0.1111111111111111,
              "#46039f"
             ],
             [
              0.2222222222222222,
              "#7201a8"
             ],
             [
              0.3333333333333333,
              "#9c179e"
             ],
             [
              0.4444444444444444,
              "#bd3786"
             ],
             [
              0.5555555555555556,
              "#d8576b"
             ],
             [
              0.6666666666666666,
              "#ed7953"
             ],
             [
              0.7777777777777778,
              "#fb9f3a"
             ],
             [
              0.8888888888888888,
              "#fdca26"
             ],
             [
              1,
              "#f0f921"
             ]
            ],
            "type": "surface"
           }
          ],
          "table": [
           {
            "cells": {
             "fill": {
              "color": "#EBF0F8"
             },
             "line": {
              "color": "white"
             }
            },
            "header": {
             "fill": {
              "color": "#C8D4E3"
             },
             "line": {
              "color": "white"
             }
            },
            "type": "table"
           }
          ]
         },
         "layout": {
          "annotationdefaults": {
           "arrowcolor": "#2a3f5f",
           "arrowhead": 0,
           "arrowwidth": 1
          },
          "autotypenumbers": "strict",
          "coloraxis": {
           "colorbar": {
            "outlinewidth": 0,
            "ticks": ""
           }
          },
          "colorscale": {
           "diverging": [
            [
             0,
             "#8e0152"
            ],
            [
             0.1,
             "#c51b7d"
            ],
            [
             0.2,
             "#de77ae"
            ],
            [
             0.3,
             "#f1b6da"
            ],
            [
             0.4,
             "#fde0ef"
            ],
            [
             0.5,
             "#f7f7f7"
            ],
            [
             0.6,
             "#e6f5d0"
            ],
            [
             0.7,
             "#b8e186"
            ],
            [
             0.8,
             "#7fbc41"
            ],
            [
             0.9,
             "#4d9221"
            ],
            [
             1,
             "#276419"
            ]
           ],
           "sequential": [
            [
             0,
             "#0d0887"
            ],
            [
             0.1111111111111111,
             "#46039f"
            ],
            [
             0.2222222222222222,
             "#7201a8"
            ],
            [
             0.3333333333333333,
             "#9c179e"
            ],
            [
             0.4444444444444444,
             "#bd3786"
            ],
            [
             0.5555555555555556,
             "#d8576b"
            ],
            [
             0.6666666666666666,
             "#ed7953"
            ],
            [
             0.7777777777777778,
             "#fb9f3a"
            ],
            [
             0.8888888888888888,
             "#fdca26"
            ],
            [
             1,
             "#f0f921"
            ]
           ],
           "sequentialminus": [
            [
             0,
             "#0d0887"
            ],
            [
             0.1111111111111111,
             "#46039f"
            ],
            [
             0.2222222222222222,
             "#7201a8"
            ],
            [
             0.3333333333333333,
             "#9c179e"
            ],
            [
             0.4444444444444444,
             "#bd3786"
            ],
            [
             0.5555555555555556,
             "#d8576b"
            ],
            [
             0.6666666666666666,
             "#ed7953"
            ],
            [
             0.7777777777777778,
             "#fb9f3a"
            ],
            [
             0.8888888888888888,
             "#fdca26"
            ],
            [
             1,
             "#f0f921"
            ]
           ]
          },
          "colorway": [
           "#636efa",
           "#EF553B",
           "#00cc96",
           "#ab63fa",
           "#FFA15A",
           "#19d3f3",
           "#FF6692",
           "#B6E880",
           "#FF97FF",
           "#FECB52"
          ],
          "font": {
           "color": "#2a3f5f"
          },
          "geo": {
           "bgcolor": "white",
           "lakecolor": "white",
           "landcolor": "#E5ECF6",
           "showlakes": true,
           "showland": true,
           "subunitcolor": "white"
          },
          "hoverlabel": {
           "align": "left"
          },
          "hovermode": "closest",
          "mapbox": {
           "style": "light"
          },
          "paper_bgcolor": "white",
          "plot_bgcolor": "#E5ECF6",
          "polar": {
           "angularaxis": {
            "gridcolor": "white",
            "linecolor": "white",
            "ticks": ""
           },
           "bgcolor": "#E5ECF6",
           "radialaxis": {
            "gridcolor": "white",
            "linecolor": "white",
            "ticks": ""
           }
          },
          "scene": {
           "xaxis": {
            "backgroundcolor": "#E5ECF6",
            "gridcolor": "white",
            "gridwidth": 2,
            "linecolor": "white",
            "showbackground": true,
            "ticks": "",
            "zerolinecolor": "white"
           },
           "yaxis": {
            "backgroundcolor": "#E5ECF6",
            "gridcolor": "white",
            "gridwidth": 2,
            "linecolor": "white",
            "showbackground": true,
            "ticks": "",
            "zerolinecolor": "white"
           },
           "zaxis": {
            "backgroundcolor": "#E5ECF6",
            "gridcolor": "white",
            "gridwidth": 2,
            "linecolor": "white",
            "showbackground": true,
            "ticks": "",
            "zerolinecolor": "white"
           }
          },
          "shapedefaults": {
           "line": {
            "color": "#2a3f5f"
           }
          },
          "ternary": {
           "aaxis": {
            "gridcolor": "white",
            "linecolor": "white",
            "ticks": ""
           },
           "baxis": {
            "gridcolor": "white",
            "linecolor": "white",
            "ticks": ""
           },
           "bgcolor": "#E5ECF6",
           "caxis": {
            "gridcolor": "white",
            "linecolor": "white",
            "ticks": ""
           }
          },
          "title": {
           "x": 0.05
          },
          "xaxis": {
           "automargin": true,
           "gridcolor": "white",
           "linecolor": "white",
           "ticks": "",
           "title": {
            "standoff": 15
           },
           "zerolinecolor": "white",
           "zerolinewidth": 2
          },
          "yaxis": {
           "automargin": true,
           "gridcolor": "white",
           "linecolor": "white",
           "ticks": "",
           "title": {
            "standoff": 15
           },
           "zerolinecolor": "white",
           "zerolinewidth": 2
          }
         }
        },
        "xaxis": {
         "anchor": "y",
         "domain": [
          0,
          1
         ],
         "range": [
          -100,
          100
         ],
         "title": {
          "text": "x_coord_norm"
         }
        },
        "yaxis": {
         "anchor": "x",
         "domain": [
          0,
          1
         ],
         "range": [
          -43,
          43
         ],
         "scaleanchor": "x",
         "scaleratio": 1,
         "title": {
          "text": "y_coord_norm"
         }
        }
       }
      }
     },
     "metadata": {}
    }
   ],
   "metadata": {}
  }
 ],
 "metadata": {
  "orig_nbformat": 4,
  "language_info": {
   "name": "python",
   "version": "3.8.11",
   "mimetype": "text/x-python",
   "codemirror_mode": {
    "name": "ipython",
    "version": 3
   },
   "pygments_lexer": "ipython3",
   "nbconvert_exporter": "python",
   "file_extension": ".py"
  },
  "kernelspec": {
   "name": "python3",
   "display_name": "Python 3.8.11 64-bit ('nice_play': conda)"
  },
  "interpreter": {
   "hash": "ead5f43594022c7cd5f301318ae4950132a1480e3738270166fab8a4a3b2cf4b"
  }
 },
 "nbformat": 4,
 "nbformat_minor": 2
}