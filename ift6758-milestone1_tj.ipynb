{
 "cells": [
  {
   "cell_type": "markdown",
   "source": [
    "# Import libraries and constants"
   ],
   "metadata": {}
  },
  {
   "cell_type": "markdown",
   "source": [
    "# 1. Warmup"
   ],
   "metadata": {}
  },
  {
   "cell_type": "markdown",
   "source": [
    "### Download the .xlsx table from :\r\n",
    "http://www.nhl.com/stats/goalies?reportType=season&seasonFrom=20172018&seasonTo=20172018"
   ],
   "metadata": {}
  },
  {
   "cell_type": "code",
   "execution_count": null,
   "source": [
    "import numpy as np\r\n",
    "import pandas as pd\r\n",
    "import matplotlib.pyplot as plt\r\n",
    "\r\n",
    "# set matplotlib parameters\r\n",
    "plt.rcParams[\"figure.figsize\"] = (10, 6)\r\n",
    "plt.rcParams[\"font.size\"] = 12"
   ],
   "outputs": [],
   "metadata": {}
  },
  {
   "cell_type": "code",
   "execution_count": null,
   "source": [
    "# set path for Excel file\r\n",
    "GOALEES_PATH = \"./storage/nhl_goalees.xlsx\"\r\n",
    "# parameter \"thousands\" parses commas separating thousands in Excel\r\n",
    "goalees_df = pd.read_excel(GOALEES_PATH, thousands=\",\")\r\n",
    "goalees_df.head()"
   ],
   "outputs": [],
   "metadata": {}
  },
  {
   "cell_type": "code",
   "execution_count": null,
   "source": [
    "# Filter the original table to keep relevant column\r\n",
    "# use .copy() to avoid modifying \"goaless_df\"\r\n",
    "input_df = goalees_df[[\"Player\", \"GP\", \"GS\", \"Team\", \"SA\", \"Svs\", \"GA\", \"GAA\"]].copy()\r\n",
    "input_df.head()"
   ],
   "outputs": [],
   "metadata": {}
  },
  {
   "cell_type": "code",
   "execution_count": null,
   "source": [
    "# compute saves ratio by dividing n Saves (Svs) by n Shots against (SA)\r\n",
    "input_df[\"Svs_ratio\"] = input_df[\"Svs\"] / input_df[\"SA\"]"
   ],
   "outputs": [],
   "metadata": {}
  },
  {
   "cell_type": "code",
   "execution_count": null,
   "source": [
    "input_df = input_df.sort_values(\"Svs_ratio\", ascending=False)"
   ],
   "outputs": [],
   "metadata": {}
  },
  {
   "cell_type": "code",
   "execution_count": null,
   "source": [
    "# keep the first 20 rows (import to use \"iloc\", not \"loc\")\r\n",
    "top20 = input_df.iloc[:20, :]\r\n",
    "# rename the original index, reset the index, set the new index\r\n",
    "top20 = top20.rename_axis(\"idx\").reset_index().set_index(\"Player\")\r\n",
    "print(top20.shape)"
   ],
   "outputs": [],
   "metadata": {}
  },
  {
   "cell_type": "markdown",
   "source": [
    "## Plot top 20 goaltenders according to % shots saved"
   ],
   "metadata": {}
  },
  {
   "cell_type": "code",
   "execution_count": null,
   "source": [
    "#ylim manually sets the range of the bar plot\r\n",
    "top20[\"Svs_ratio\"].plot(kind=\"bar\", title=\"Top 20 goaltenders by % Shots saved\", ylabel=\"% Shots saved\", ylim=(0.91, 0.939))"
   ],
   "outputs": [],
   "metadata": {}
  },
  {
   "cell_type": "markdown",
   "source": [
    "## Supplementary analysis\r\n",
    "Do % Shots saved vary according to:\r\n",
    "- the number of game played?\r\n",
    "- the number of game started?\r\n",
    "- the % of game started?"
   ],
   "metadata": {}
  },
  {
   "cell_type": "code",
   "execution_count": null,
   "source": [
    "# create binary column for top 20 players based on % Svs\r\n",
    "input_df[\"is_top20\"] = 0\r\n",
    "input_df.loc[top20.idx, \"is_top20\"] = 1"
   ],
   "outputs": [],
   "metadata": {}
  },
  {
   "cell_type": "code",
   "execution_count": null,
   "source": [
    "# ratio of game started\r\n",
    "input_df[\"GS_ratio\"] = input_df[\"GS\"] / input_df[\"GP\"]"
   ],
   "outputs": [],
   "metadata": {}
  },
  {
   "cell_type": "code",
   "execution_count": null,
   "source": [
    "# reusable function to generate scatter plot\r\n",
    "def scatter_x_by_y(df, x_col, y_col=\"Svs_ratio\", conditional_col=None):\r\n",
    "    plt.figure()\r\n",
    "\r\n",
    "    # scatter plot using x_col and y_col\r\n",
    "    plt.scatter(df[x_col], df[y_col])\r\n",
    "    # if conditional_col is not None\r\n",
    "    if conditional_col:\r\n",
    "        # plot x_col and y_col where conditional_col==1 using color \"C1\"\r\n",
    "        plt.scatter(df.loc[df[conditional_col]==1, x_col], df.loc[df[conditional_col]==1, y_col], color=\"C1\")\r\n",
    "    \r\n",
    "    # set axis labels and title\r\n",
    "    plt.xlabel(x_col)\r\n",
    "    plt.ylabel(y_col)\r\n",
    "    plt.title(f\"{y_col} by {x_col}\")\r\n",
    "\r\n",
    "    plt.show()"
   ],
   "outputs": [],
   "metadata": {}
  },
  {
   "cell_type": "code",
   "execution_count": null,
   "source": [
    "scatter_x_by_y(input_df, \"GS\", conditional_col=\"is_top20\")\r\n",
    "scatter_x_by_y(input_df, \"GP\", conditional_col=\"is_top20\")\r\n",
    "scatter_x_by_y(input_df, \"GS_ratio\", conditional_col=\"is_top20\")\r\n",
    "scatter_x_by_y(input_df, \"GAA\", conditional_col=\"is_top20\")"
   ],
   "outputs": [],
   "metadata": {}
  },
  {
   "cell_type": "markdown",
   "source": [
    "# API Query\r\n",
    "https://gitlab.com/dword4/nhlapi/-/blob/master/stats-api.md"
   ],
   "metadata": {}
  },
  {
   "cell_type": "markdown",
   "source": [
    "### Game IDs\r\n",
    "First 4 digits give the season (ie. 2017 for the 2017-2018 season)\r\n",
    "\r\n",
    "Next 2 digits give the type of game\r\n",
    "- 01 = preseason\r\n",
    "- 02 = regular season\r\n",
    "- 03 = playoffs\r\n",
    "- 04 = all-star\r\n",
    "\r\n",
    "Final 4 digits give the specific game number.\r\n",
    "-  For regular season and preseason games, it ranges from 0001 to the number of games played. (1271 for seasons with 31 teams (2017 and onwards) and 1230 for seasons with 30 teams).\r\n",
    "-  For playoff games, the 2nd digit of the specific number gives the round of the playoffs, the 3rd digit specifies the matchup, and the 4th digit specifies the game (out of 7)."
   ],
   "metadata": {}
  },
  {
   "cell_type": "code",
   "execution_count": 1,
   "source": [
    "import os\r\n",
    "import requests\r\n",
    "import json\r\n",
    "import time"
   ],
   "outputs": [],
   "metadata": {}
  },
  {
   "cell_type": "code",
   "execution_count": null,
   "source": [
    "# class to interact with the API\r\n",
    "class ApiEngine():\r\n",
    "    def __init__(self, storage_path):\r\n",
    "        self.storage_path = storage_path\r\n",
    "    \r\n",
    "    # pass start_year, return a string to select a season (i.e., 2017 -> 20172018)\r\n",
    "    def _start_year_to_season_string(self, start_year):\r\n",
    "        return str(start_year) + str(start_year+1)\r\n",
    "    \r\n",
    "    # save the API JSON response to file\r\n",
    "    def save_response(self, response, path, overwrite=False):\r\n",
    "        if overwrite:\r\n",
    "            with open(path, \"w\") as file:\r\n",
    "                # if overwrite is true, return to beginning of file and overwrite\r\n",
    "                file.seek(0)\r\n",
    "                file.truncate()\r\n",
    "                json.dump(response, file)\r\n",
    "            return\r\n",
    "        \r\n",
    "        with open(path, \"w\") as file:\r\n",
    "            json.dump(response, file)\r\n",
    "    \r\n",
    "    # query API endpoint\r\n",
    "    def query_api(self, endpoint, params=None):\r\n",
    "        # base url of the API\r\n",
    "        url = f\"https://statsapi.web.nhl.com/api/v1/{endpoint}\"\r\n",
    "        r = requests.get(url, params=params, timeout=3)\r\n",
    "        # check if the HTTP request is valid\r\n",
    "        try:\r\n",
    "            r.raise_for_status()\r\n",
    "        except requests.exceptions.RequestException as e:\r\n",
    "            print(f\"Could not reach API endpoint:\\n'{url}'\")\r\n",
    "        return r.json()\r\n",
    "    \r\n",
    "    # query API for the schedule of the year (to get valid gamePk)\r\n",
    "    def get_season_schedule(self, start_year):\r\n",
    "        season_string = self._start_year_to_season_string(start_year)\r\n",
    "        season_response = self.query_api(\"schedule\", params={\"season\": season_string})\r\n",
    "        save_path = f\"{self.storage_path}/schedule/schedule_{season_string}.json\"\r\n",
    "        self.save_response(season_response, save_path, overwrite=False)\r\n",
    "        \r\n",
    "    # query API for a specific game\r\n",
    "    def get_game(self, gamePk):\r\n",
    "        game_response = self.query_api(f\"game/{gamePk}/feed/live\")\r\n",
    "        season = game_response[\"gameData\"][\"game\"][\"season\"]\r\n",
    "        save_path = f\"{self.storage_path}/games/{season}/game_{season}_{gamePk}.json\"\r\n",
    "        self.save_response(game_response, save_path, overwrite=False)\r\n",
    "    \r\n",
    "    # loop to query all games of a season\r\n",
    "    def get_all_season_games(self, start_year):\r\n",
    "        season_schedule = self.get_season_schedule(start_year)\r\n",
    "        \r\n",
    "        for date in season_schedule[\"dates\"]:\r\n",
    "            for game in date[\"games\"]:\r\n",
    "                self.get_game(game[\"gamePk\"])\r\n",
    "                time.sleep(3) # delay to avoid spamming requests"
   ],
   "outputs": [],
   "metadata": {}
  },
  {
   "cell_type": "code",
   "execution_count": 2,
   "source": [
    "# class to interact with the stored JSON files\r\n",
    "class StorageEngine():\r\n",
    "    def __init__(self, storage_path):\r\n",
    "        self.storage_path = storage_path\r\n",
    "        \r\n",
    "    def _start_year_to_season_string(self, start_year):\r\n",
    "        return str(start_year) + str(start_year+1)\r\n",
    "    \r\n",
    "    # load season schedule JSON\r\n",
    "    def get_season_schedule(self, start_year):\r\n",
    "        season_string = self._start_year_to_season_string(start_year)\r\n",
    "        save_path = f\"{self.storage_path}/schedule/schedule_{season_string}.json\"\r\n",
    "        with open(save_path, \"r\") as file:\r\n",
    "            return json.load(file)\r\n",
    "    \r\n",
    "    # load game JSON\r\n",
    "    def get_game(self, start_year, gamePk):\r\n",
    "        season_string = self._start_year_to_season_string(start_year)\r\n",
    "        save_path = f\"{self.storage_path}/games/{season_string}/game_{season_string}_{gamePk}.json\"\r\n",
    "        with open(save_path, \"r\") as file:\r\n",
    "            return json.load(file)\r\n",
    "    \r\n",
    "    # get list of valid gamePk from season schedule\r\n",
    "    def get_all_season_gamePk(self, start_year):\r\n",
    "        season_schedule = self.get_season_schedule(start_year)\r\n",
    "\r\n",
    "        gamePk_list = []\r\n",
    "        for date in season_schedule[\"dates\"]:\r\n",
    "            for game in date[\"games\"]:\r\n",
    "                gamePk_list.append(game[\"gamePk\"])\r\n",
    "        return gamePk_list"
   ],
   "outputs": [],
   "metadata": {}
  },
  {
   "cell_type": "markdown",
   "source": [
    "# Visualizing JSON data"
   ],
   "metadata": {}
  },
  {
   "cell_type": "code",
   "execution_count": 38,
   "source": [
    "import pandas as pd\r\n",
    "from ipywidgets import interact, SelectionSlider"
   ],
   "outputs": [],
   "metadata": {}
  },
  {
   "cell_type": "code",
   "execution_count": 23,
   "source": [
    "@interact(start_year=[2016, 2017, 2018, 2019])\r\n",
    "def view_season(start_year=2016):\r\n",
    "    # load engine\r\n",
    "    storage_engine = StorageEngine(\"./data/raw\")\r\n",
    "    # load list of all gamePk for selected season\r\n",
    "    gamePk_list = storage_engine.get_all_season_gamePk(start_year)\r\n",
    "            \r\n",
    "    @interact(game_idx=(0, len(gamePk_list)-1, 1))\r\n",
    "    def view_games(game_idx=0):\r\n",
    "        # load the game for the (season, gamePk) selected\r\n",
    "        game_json = storage_engine.get_game(start_year, gamePk_list[game_idx])\r\n",
    "        \r\n",
    "        # function to specify the data to display\r\n",
    "        def _print_metadata(game_json):\r\n",
    "            season = game_json[\"gameData\"][\"game\"][\"season\"]\r\n",
    "            gamePk = game_json[\"gamePk\"]\r\n",
    "            game_type = game_json[\"gameData\"][\"game\"][\"type\"]\r\n",
    "            start_time = game_json[\"gameData\"][\"datetime\"][\"dateTime\"]\r\n",
    "            venue = game_json[\"gameData\"][\"venue\"][\"name\"]\r\n",
    "            \r\n",
    "            home_tri = game_json[\"gameData\"][\"teams\"][\"home\"][\"triCode\"]\r\n",
    "            away_tri = game_json[\"gameData\"][\"teams\"][\"away\"][\"triCode\"]\r\n",
    "            \r\n",
    "            print(\"season:\\t\", season)\r\n",
    "            print(\"gamePk:\\t\", gamePk)\r\n",
    "            print(\"game_type:\\t\", game_type)\r\n",
    "            print(\"start_time:\\t\", start_time)\r\n",
    "            print(\"venue:\\t\", venue)\r\n",
    "            print(f\"{home_tri} (home) vs. {away_tri} (away)\")\r\n",
    "        \r\n",
    "        _print_metadata(game_json)    \r\n",
    "            \r\n",
    "    view_games()"
   ],
   "outputs": [
    {
     "output_type": "display_data",
     "data": {
      "application/vnd.jupyter.widget-view+json": {
       "version_major": 2,
       "version_minor": 0,
       "model_id": "85650727f44745d9a1fba89d2c3fae2a"
      },
      "text/plain": [
       "interactive(children=(Dropdown(description='start_year', options=(2016, 2017, 2018, 2019), value=2016), Output…"
      ]
     },
     "metadata": {}
    },
    {
     "output_type": "stream",
     "name": "stdout",
     "text": [
      "season:\t 20162017\n",
      "gamePk:\t 2016010002\n",
      "game_type:\t PR\n",
      "start_time:\t 2016-09-25T17:00:00Z\n",
      "venue:\t Scottrade Center\n",
      "STL (home) vs. CBJ (away)\n"
     ]
    }
   ],
   "metadata": {}
  },
  {
   "cell_type": "markdown",
   "source": [
    "# Tidy data\r\n",
    "Convert JSON to pandas.DataFrame"
   ],
   "metadata": {}
  },
  {
   "cell_type": "code",
   "execution_count": 49,
   "source": [
    "import pandas as pd\r\n",
    "import matplotlib.pyplot as plt\r\n",
    "\r\n",
    "from src.game_model import game_json_to_metadata_dict\r\n",
    "from src.plays_model import game_json_to_plays_list"
   ],
   "outputs": [],
   "metadata": {}
  },
  {
   "cell_type": "code",
   "execution_count": null,
   "source": [
    "#TODO\r\n",
    "# NOT FULLY IMPLEMENTED\r\n",
    "def get_season_metadata(start_year):\r\n",
    "    storage_engine = StorageEngine(\"./data/raw\")\r\n",
    "    gamePk_list = storage_engine.get_all_season_gamePk(start_year)\r\n",
    "\r\n",
    "    metadata_records = []\r\n",
    "\r\n",
    "    for gamePk in gamePk_list:\r\n",
    "        print(gamePk)\r\n",
    "        game_json = storage_engine.get_game(start_year, gamePk)\r\n",
    "        metadata_dict = game_json_to_metadata_dict(game_json)\r\n",
    "        metadata_records.append(metadata_dict)\r\n",
    "        \r\n",
    "    return pd.DataFrame.from_records(metadata_records)"
   ],
   "outputs": [],
   "metadata": {}
  },
  {
   "cell_type": "code",
   "execution_count": 4,
   "source": [
    "def get_season_plays_df(start_year):\r\n",
    "    storage_engine = StorageEngine(\"./data/raw\")\r\n",
    "    gamePk_list = storage_engine.get_all_season_gamePk(start_year)\r\n",
    "\r\n",
    "    game_plays_df_list = []\r\n",
    "    for gamePk in gamePk_list:\r\n",
    "        game_json = storage_engine.get_game(start_year, gamePk)\r\n",
    "        game_plays_df = pd.DataFrame.from_records(game_json_to_plays_list(game_json))\r\n",
    "        game_plays_df_list.append(game_plays_df)\r\n",
    "    \r\n",
    "    season_plays_df = pd.concat(game_plays_df_list)\r\n",
    "        \r\n",
    "    return season_plays_df\r\n",
    "\r\n",
    "def preprocess_season_plays(start_year):\r\n",
    "    season_plays_df = get_season_plays_df(start_year)\r\n",
    "    season_plays_df.to_csv(f\"./data/processed/season_plays_{start_year}.csv\", index=False)"
   ],
   "outputs": [],
   "metadata": {}
  },
  {
   "cell_type": "code",
   "execution_count": 5,
   "source": [
    "preprocess_season_plays(2016)"
   ],
   "outputs": [],
   "metadata": {}
  },
  {
   "cell_type": "markdown",
   "source": [
    "# Simple visualization"
   ],
   "metadata": {}
  },
  {
   "cell_type": "code",
   "execution_count": 6,
   "source": [
    "import pandas as pd\r\n",
    "from ipywidgets import interact\r\n",
    "import plotly.express as px\r\n",
    "import plotly.graph_objects as go"
   ],
   "outputs": [],
   "metadata": {}
  },
  {
   "cell_type": "code",
   "execution_count": 7,
   "source": [
    "season_plays_df = pd.read_csv(\"./data/processed/season_plays_20162017.csv\", index_col=False)\r\n",
    "#season_plays_df = season_plays_df.drop(columns=\"Unnamed: 0\")\r\n",
    "season_plays_df.head()"
   ],
   "outputs": [
    {
     "output_type": "execute_result",
     "data": {
      "text/html": [
       "<div>\n",
       "<style scoped>\n",
       "    .dataframe tbody tr th:only-of-type {\n",
       "        vertical-align: middle;\n",
       "    }\n",
       "\n",
       "    .dataframe tbody tr th {\n",
       "        vertical-align: top;\n",
       "    }\n",
       "\n",
       "    .dataframe thead th {\n",
       "        text-align: right;\n",
       "    }\n",
       "</style>\n",
       "<table border=\"1\" class=\"dataframe\">\n",
       "  <thead>\n",
       "    <tr style=\"text-align: right;\">\n",
       "      <th></th>\n",
       "      <th>event_idx</th>\n",
       "      <th>event_type_id</th>\n",
       "      <th>period_idx</th>\n",
       "      <th>period_type</th>\n",
       "      <th>game_time</th>\n",
       "      <th>shot_type</th>\n",
       "      <th>team_initiative_id</th>\n",
       "      <th>team_initiative_name</th>\n",
       "      <th>x_coord</th>\n",
       "      <th>y_coord</th>\n",
       "      <th>...</th>\n",
       "      <th>goalie_name</th>\n",
       "      <th>strength</th>\n",
       "      <th>empty_net_bool</th>\n",
       "      <th>gamePk</th>\n",
       "      <th>game_season</th>\n",
       "      <th>game_type</th>\n",
       "      <th>game_start_time</th>\n",
       "      <th>venue</th>\n",
       "      <th>home_team</th>\n",
       "      <th>away_team</th>\n",
       "    </tr>\n",
       "  </thead>\n",
       "  <tbody>\n",
       "    <tr>\n",
       "      <th>0</th>\n",
       "      <td>53</td>\n",
       "      <td>SHOT</td>\n",
       "      <td>1</td>\n",
       "      <td>REGULAR</td>\n",
       "      <td>2016-09-25T17:09:01Z</td>\n",
       "      <td>Wrist Shot</td>\n",
       "      <td>CBJ</td>\n",
       "      <td>Columbus Blue Jackets</td>\n",
       "      <td>40.0</td>\n",
       "      <td>-25.0</td>\n",
       "      <td>...</td>\n",
       "      <td>Jake Allen</td>\n",
       "      <td>NaN</td>\n",
       "      <td>NaN</td>\n",
       "      <td>2016010002</td>\n",
       "      <td>20162017</td>\n",
       "      <td>PR</td>\n",
       "      <td>2016-09-25T17:00:00Z</td>\n",
       "      <td>Scottrade Center</td>\n",
       "      <td>STL</td>\n",
       "      <td>CBJ</td>\n",
       "    </tr>\n",
       "    <tr>\n",
       "      <th>1</th>\n",
       "      <td>58</td>\n",
       "      <td>SHOT</td>\n",
       "      <td>1</td>\n",
       "      <td>REGULAR</td>\n",
       "      <td>2016-09-25T17:13:53Z</td>\n",
       "      <td>Backhand</td>\n",
       "      <td>CBJ</td>\n",
       "      <td>Columbus Blue Jackets</td>\n",
       "      <td>82.0</td>\n",
       "      <td>5.0</td>\n",
       "      <td>...</td>\n",
       "      <td>Jake Allen</td>\n",
       "      <td>NaN</td>\n",
       "      <td>NaN</td>\n",
       "      <td>2016010002</td>\n",
       "      <td>20162017</td>\n",
       "      <td>PR</td>\n",
       "      <td>2016-09-25T17:00:00Z</td>\n",
       "      <td>Scottrade Center</td>\n",
       "      <td>STL</td>\n",
       "      <td>CBJ</td>\n",
       "    </tr>\n",
       "    <tr>\n",
       "      <th>2</th>\n",
       "      <td>62</td>\n",
       "      <td>SHOT</td>\n",
       "      <td>1</td>\n",
       "      <td>REGULAR</td>\n",
       "      <td>2016-09-25T17:15:16Z</td>\n",
       "      <td>Wrist Shot</td>\n",
       "      <td>STL</td>\n",
       "      <td>St. Louis Blues</td>\n",
       "      <td>-65.0</td>\n",
       "      <td>-14.0</td>\n",
       "      <td>...</td>\n",
       "      <td>Joonas Korpisalo</td>\n",
       "      <td>NaN</td>\n",
       "      <td>NaN</td>\n",
       "      <td>2016010002</td>\n",
       "      <td>20162017</td>\n",
       "      <td>PR</td>\n",
       "      <td>2016-09-25T17:00:00Z</td>\n",
       "      <td>Scottrade Center</td>\n",
       "      <td>STL</td>\n",
       "      <td>CBJ</td>\n",
       "    </tr>\n",
       "    <tr>\n",
       "      <th>3</th>\n",
       "      <td>63</td>\n",
       "      <td>SHOT</td>\n",
       "      <td>1</td>\n",
       "      <td>REGULAR</td>\n",
       "      <td>2016-09-25T17:15:30Z</td>\n",
       "      <td>Wrist Shot</td>\n",
       "      <td>CBJ</td>\n",
       "      <td>Columbus Blue Jackets</td>\n",
       "      <td>8.0</td>\n",
       "      <td>25.0</td>\n",
       "      <td>...</td>\n",
       "      <td>Jake Allen</td>\n",
       "      <td>NaN</td>\n",
       "      <td>NaN</td>\n",
       "      <td>2016010002</td>\n",
       "      <td>20162017</td>\n",
       "      <td>PR</td>\n",
       "      <td>2016-09-25T17:00:00Z</td>\n",
       "      <td>Scottrade Center</td>\n",
       "      <td>STL</td>\n",
       "      <td>CBJ</td>\n",
       "    </tr>\n",
       "    <tr>\n",
       "      <th>4</th>\n",
       "      <td>67</td>\n",
       "      <td>SHOT</td>\n",
       "      <td>1</td>\n",
       "      <td>REGULAR</td>\n",
       "      <td>2016-09-25T17:17:55Z</td>\n",
       "      <td>Wrist Shot</td>\n",
       "      <td>CBJ</td>\n",
       "      <td>Columbus Blue Jackets</td>\n",
       "      <td>63.0</td>\n",
       "      <td>19.0</td>\n",
       "      <td>...</td>\n",
       "      <td>Jake Allen</td>\n",
       "      <td>NaN</td>\n",
       "      <td>NaN</td>\n",
       "      <td>2016010002</td>\n",
       "      <td>20162017</td>\n",
       "      <td>PR</td>\n",
       "      <td>2016-09-25T17:00:00Z</td>\n",
       "      <td>Scottrade Center</td>\n",
       "      <td>STL</td>\n",
       "      <td>CBJ</td>\n",
       "    </tr>\n",
       "  </tbody>\n",
       "</table>\n",
       "<p>5 rows × 23 columns</p>\n",
       "</div>"
      ],
      "text/plain": [
       "   event_idx event_type_id  period_idx period_type             game_time  \\\n",
       "0         53          SHOT           1     REGULAR  2016-09-25T17:09:01Z   \n",
       "1         58          SHOT           1     REGULAR  2016-09-25T17:13:53Z   \n",
       "2         62          SHOT           1     REGULAR  2016-09-25T17:15:16Z   \n",
       "3         63          SHOT           1     REGULAR  2016-09-25T17:15:30Z   \n",
       "4         67          SHOT           1     REGULAR  2016-09-25T17:17:55Z   \n",
       "\n",
       "    shot_type team_initiative_id   team_initiative_name  x_coord  y_coord  \\\n",
       "0  Wrist Shot                CBJ  Columbus Blue Jackets     40.0    -25.0   \n",
       "1    Backhand                CBJ  Columbus Blue Jackets     82.0      5.0   \n",
       "2  Wrist Shot                STL        St. Louis Blues    -65.0    -14.0   \n",
       "3  Wrist Shot                CBJ  Columbus Blue Jackets      8.0     25.0   \n",
       "4  Wrist Shot                CBJ  Columbus Blue Jackets     63.0     19.0   \n",
       "\n",
       "   ...       goalie_name strength  empty_net_bool      gamePk game_season  \\\n",
       "0  ...        Jake Allen      NaN             NaN  2016010002    20162017   \n",
       "1  ...        Jake Allen      NaN             NaN  2016010002    20162017   \n",
       "2  ...  Joonas Korpisalo      NaN             NaN  2016010002    20162017   \n",
       "3  ...        Jake Allen      NaN             NaN  2016010002    20162017   \n",
       "4  ...        Jake Allen      NaN             NaN  2016010002    20162017   \n",
       "\n",
       "  game_type       game_start_time             venue home_team away_team  \n",
       "0        PR  2016-09-25T17:00:00Z  Scottrade Center       STL       CBJ  \n",
       "1        PR  2016-09-25T17:00:00Z  Scottrade Center       STL       CBJ  \n",
       "2        PR  2016-09-25T17:00:00Z  Scottrade Center       STL       CBJ  \n",
       "3        PR  2016-09-25T17:00:00Z  Scottrade Center       STL       CBJ  \n",
       "4        PR  2016-09-25T17:00:00Z  Scottrade Center       STL       CBJ  \n",
       "\n",
       "[5 rows x 23 columns]"
      ]
     },
     "metadata": {},
     "execution_count": 7
    }
   ],
   "metadata": {}
  },
  {
   "cell_type": "markdown",
   "source": [
    "## Fig 5.1"
   ],
   "metadata": {}
  },
  {
   "cell_type": "code",
   "execution_count": null,
   "source": [
    "shots_freq = season_plays_df[\"shot_type\"].value_counts()\r\n",
    "shots_stats = season_plays_df.groupby([\"shot_type\", \"event_type_id\"]).size()\r\n",
    "shots_ratio = shots_stats[(slice(None), \"GOAL\")] / shots_freq"
   ],
   "outputs": [],
   "metadata": {}
  },
  {
   "cell_type": "code",
   "execution_count": null,
   "source": [
    "fig = px.bar(\r\n",
    "    shots_stats,\r\n",
    "    x=shots_freq.index,\r\n",
    "    y=shots_freq,\r\n",
    "    text=shots_ratio.round(2),\r\n",
    "    title=\"Frequency of shot types across teams - Season 2016-2017\",\r\n",
    "    barmode=\"group\")\r\n",
    "\r\n",
    "fig.update_layout(\r\n",
    "    xaxis=dict(title=\"Shot type\"),\r\n",
    "    yaxis=dict(title=\"Frequency\"),\r\n",
    ")\r\n",
    "\r\n",
    "fig.show()"
   ],
   "outputs": [],
   "metadata": {}
  },
  {
   "cell_type": "markdown",
   "source": [
    "## Fig 5.2"
   ],
   "metadata": {}
  },
  {
   "cell_type": "code",
   "execution_count": 8,
   "source": [
    "# the dimensions of the NHL ice rink are 200' long x 85' wide\r\n",
    "# x coordinates range between -98 and 98 (the sign indicate which team's side)\r\n",
    "# y coordinates range between -42 and 42\r\n",
    "# the goal is align with y=0, and 11' away from the rink\r\n",
    "# the x coordinates is the given by 11/100 * 98 = 10.78\r\n",
    "season_plays_df.head()"
   ],
   "outputs": [
    {
     "output_type": "execute_result",
     "data": {
      "text/html": [
       "<div>\n",
       "<style scoped>\n",
       "    .dataframe tbody tr th:only-of-type {\n",
       "        vertical-align: middle;\n",
       "    }\n",
       "\n",
       "    .dataframe tbody tr th {\n",
       "        vertical-align: top;\n",
       "    }\n",
       "\n",
       "    .dataframe thead th {\n",
       "        text-align: right;\n",
       "    }\n",
       "</style>\n",
       "<table border=\"1\" class=\"dataframe\">\n",
       "  <thead>\n",
       "    <tr style=\"text-align: right;\">\n",
       "      <th></th>\n",
       "      <th>event_idx</th>\n",
       "      <th>event_type_id</th>\n",
       "      <th>period_idx</th>\n",
       "      <th>period_type</th>\n",
       "      <th>game_time</th>\n",
       "      <th>shot_type</th>\n",
       "      <th>team_initiative_id</th>\n",
       "      <th>team_initiative_name</th>\n",
       "      <th>x_coord</th>\n",
       "      <th>y_coord</th>\n",
       "      <th>...</th>\n",
       "      <th>goalie_name</th>\n",
       "      <th>strength</th>\n",
       "      <th>empty_net_bool</th>\n",
       "      <th>gamePk</th>\n",
       "      <th>game_season</th>\n",
       "      <th>game_type</th>\n",
       "      <th>game_start_time</th>\n",
       "      <th>venue</th>\n",
       "      <th>home_team</th>\n",
       "      <th>away_team</th>\n",
       "    </tr>\n",
       "  </thead>\n",
       "  <tbody>\n",
       "    <tr>\n",
       "      <th>0</th>\n",
       "      <td>53</td>\n",
       "      <td>SHOT</td>\n",
       "      <td>1</td>\n",
       "      <td>REGULAR</td>\n",
       "      <td>2016-09-25T17:09:01Z</td>\n",
       "      <td>Wrist Shot</td>\n",
       "      <td>CBJ</td>\n",
       "      <td>Columbus Blue Jackets</td>\n",
       "      <td>40.0</td>\n",
       "      <td>-25.0</td>\n",
       "      <td>...</td>\n",
       "      <td>Jake Allen</td>\n",
       "      <td>NaN</td>\n",
       "      <td>NaN</td>\n",
       "      <td>2016010002</td>\n",
       "      <td>20162017</td>\n",
       "      <td>PR</td>\n",
       "      <td>2016-09-25T17:00:00Z</td>\n",
       "      <td>Scottrade Center</td>\n",
       "      <td>STL</td>\n",
       "      <td>CBJ</td>\n",
       "    </tr>\n",
       "    <tr>\n",
       "      <th>1</th>\n",
       "      <td>58</td>\n",
       "      <td>SHOT</td>\n",
       "      <td>1</td>\n",
       "      <td>REGULAR</td>\n",
       "      <td>2016-09-25T17:13:53Z</td>\n",
       "      <td>Backhand</td>\n",
       "      <td>CBJ</td>\n",
       "      <td>Columbus Blue Jackets</td>\n",
       "      <td>82.0</td>\n",
       "      <td>5.0</td>\n",
       "      <td>...</td>\n",
       "      <td>Jake Allen</td>\n",
       "      <td>NaN</td>\n",
       "      <td>NaN</td>\n",
       "      <td>2016010002</td>\n",
       "      <td>20162017</td>\n",
       "      <td>PR</td>\n",
       "      <td>2016-09-25T17:00:00Z</td>\n",
       "      <td>Scottrade Center</td>\n",
       "      <td>STL</td>\n",
       "      <td>CBJ</td>\n",
       "    </tr>\n",
       "    <tr>\n",
       "      <th>2</th>\n",
       "      <td>62</td>\n",
       "      <td>SHOT</td>\n",
       "      <td>1</td>\n",
       "      <td>REGULAR</td>\n",
       "      <td>2016-09-25T17:15:16Z</td>\n",
       "      <td>Wrist Shot</td>\n",
       "      <td>STL</td>\n",
       "      <td>St. Louis Blues</td>\n",
       "      <td>-65.0</td>\n",
       "      <td>-14.0</td>\n",
       "      <td>...</td>\n",
       "      <td>Joonas Korpisalo</td>\n",
       "      <td>NaN</td>\n",
       "      <td>NaN</td>\n",
       "      <td>2016010002</td>\n",
       "      <td>20162017</td>\n",
       "      <td>PR</td>\n",
       "      <td>2016-09-25T17:00:00Z</td>\n",
       "      <td>Scottrade Center</td>\n",
       "      <td>STL</td>\n",
       "      <td>CBJ</td>\n",
       "    </tr>\n",
       "    <tr>\n",
       "      <th>3</th>\n",
       "      <td>63</td>\n",
       "      <td>SHOT</td>\n",
       "      <td>1</td>\n",
       "      <td>REGULAR</td>\n",
       "      <td>2016-09-25T17:15:30Z</td>\n",
       "      <td>Wrist Shot</td>\n",
       "      <td>CBJ</td>\n",
       "      <td>Columbus Blue Jackets</td>\n",
       "      <td>8.0</td>\n",
       "      <td>25.0</td>\n",
       "      <td>...</td>\n",
       "      <td>Jake Allen</td>\n",
       "      <td>NaN</td>\n",
       "      <td>NaN</td>\n",
       "      <td>2016010002</td>\n",
       "      <td>20162017</td>\n",
       "      <td>PR</td>\n",
       "      <td>2016-09-25T17:00:00Z</td>\n",
       "      <td>Scottrade Center</td>\n",
       "      <td>STL</td>\n",
       "      <td>CBJ</td>\n",
       "    </tr>\n",
       "    <tr>\n",
       "      <th>4</th>\n",
       "      <td>67</td>\n",
       "      <td>SHOT</td>\n",
       "      <td>1</td>\n",
       "      <td>REGULAR</td>\n",
       "      <td>2016-09-25T17:17:55Z</td>\n",
       "      <td>Wrist Shot</td>\n",
       "      <td>CBJ</td>\n",
       "      <td>Columbus Blue Jackets</td>\n",
       "      <td>63.0</td>\n",
       "      <td>19.0</td>\n",
       "      <td>...</td>\n",
       "      <td>Jake Allen</td>\n",
       "      <td>NaN</td>\n",
       "      <td>NaN</td>\n",
       "      <td>2016010002</td>\n",
       "      <td>20162017</td>\n",
       "      <td>PR</td>\n",
       "      <td>2016-09-25T17:00:00Z</td>\n",
       "      <td>Scottrade Center</td>\n",
       "      <td>STL</td>\n",
       "      <td>CBJ</td>\n",
       "    </tr>\n",
       "  </tbody>\n",
       "</table>\n",
       "<p>5 rows × 23 columns</p>\n",
       "</div>"
      ],
      "text/plain": [
       "   event_idx event_type_id  period_idx period_type             game_time  \\\n",
       "0         53          SHOT           1     REGULAR  2016-09-25T17:09:01Z   \n",
       "1         58          SHOT           1     REGULAR  2016-09-25T17:13:53Z   \n",
       "2         62          SHOT           1     REGULAR  2016-09-25T17:15:16Z   \n",
       "3         63          SHOT           1     REGULAR  2016-09-25T17:15:30Z   \n",
       "4         67          SHOT           1     REGULAR  2016-09-25T17:17:55Z   \n",
       "\n",
       "    shot_type team_initiative_id   team_initiative_name  x_coord  y_coord  \\\n",
       "0  Wrist Shot                CBJ  Columbus Blue Jackets     40.0    -25.0   \n",
       "1    Backhand                CBJ  Columbus Blue Jackets     82.0      5.0   \n",
       "2  Wrist Shot                STL        St. Louis Blues    -65.0    -14.0   \n",
       "3  Wrist Shot                CBJ  Columbus Blue Jackets      8.0     25.0   \n",
       "4  Wrist Shot                CBJ  Columbus Blue Jackets     63.0     19.0   \n",
       "\n",
       "   ...       goalie_name strength  empty_net_bool      gamePk game_season  \\\n",
       "0  ...        Jake Allen      NaN             NaN  2016010002    20162017   \n",
       "1  ...        Jake Allen      NaN             NaN  2016010002    20162017   \n",
       "2  ...  Joonas Korpisalo      NaN             NaN  2016010002    20162017   \n",
       "3  ...        Jake Allen      NaN             NaN  2016010002    20162017   \n",
       "4  ...        Jake Allen      NaN             NaN  2016010002    20162017   \n",
       "\n",
       "  game_type       game_start_time             venue home_team away_team  \n",
       "0        PR  2016-09-25T17:00:00Z  Scottrade Center       STL       CBJ  \n",
       "1        PR  2016-09-25T17:00:00Z  Scottrade Center       STL       CBJ  \n",
       "2        PR  2016-09-25T17:00:00Z  Scottrade Center       STL       CBJ  \n",
       "3        PR  2016-09-25T17:00:00Z  Scottrade Center       STL       CBJ  \n",
       "4        PR  2016-09-25T17:00:00Z  Scottrade Center       STL       CBJ  \n",
       "\n",
       "[5 rows x 23 columns]"
      ]
     },
     "metadata": {},
     "execution_count": 8
    }
   ],
   "metadata": {}
  },
  {
   "cell_type": "code",
   "execution_count": 9,
   "source": [
    "def dist_from_goal(df):\r\n",
    "    return np.sqrt((10.78 - df[\"x_coord\"])**2 + df[\"y_coord\"]**2)"
   ],
   "outputs": [],
   "metadata": {}
  },
  {
   "cell_type": "code",
   "execution_count": null,
   "source": [
    "season_plays_df[\"dist_from_goal\"] = dist_from_goal(season_plays_df)"
   ],
   "outputs": [],
   "metadata": {}
  },
  {
   "cell_type": "code",
   "execution_count": 51,
   "source": [
    "def explore_shots(plays_df):\r\n",
    "    @interact(\r\n",
    "        gamePk=SelectionSlider(options=season_plays_df[\"gamePk\"].unique()),\r\n",
    "        period_idx=SelectionSlider(options=[1, 2, 3, 4, 5]),\r\n",
    "        team=[\"home\", \"away\"]\r\n",
    "    )\r\n",
    "    def plot_shots_from_game_period(gamePk, period_idx, team=\"home\"):\r\n",
    "        game_df = plays_df.loc[plays_df[\"gamePk\"]==gamePk]\r\n",
    "        team_df = game_df.loc[game_df[\"team_initiative_id\"]==game_df[f\"{team}_team\"]]\r\n",
    "        \r\n",
    "        ax = team_df.loc[team_df[\"period_idx\"].isin([period_idx])].plot(kind=\"scatter\", x=\"x_coord\", y=\"y_coord\")\r\n",
    "        ax.set_xlim(-100, 100)\r\n",
    "        ax.set_ylim(-44, 44)\r\n",
    "        \r\n",
    "explore_shots(season_plays_df)"
   ],
   "outputs": [
    {
     "output_type": "display_data",
     "data": {
      "application/vnd.jupyter.widget-view+json": {
       "version_major": 2,
       "version_minor": 0,
       "model_id": "f6ffbd8b7cb741f8968704311ef57202"
      },
      "text/plain": [
       "interactive(children=(SelectionSlider(description='gamePk', options=(2016010002, 2016010001, 2016010004, 20160…"
      ]
     },
     "metadata": {}
    }
   ],
   "metadata": {}
  },
  {
   "cell_type": "markdown",
   "source": [
    "## Fig 6"
   ],
   "metadata": {}
  }
 ],
 "metadata": {
  "orig_nbformat": 4,
  "language_info": {
   "name": "python",
   "version": "3.8.11",
   "mimetype": "text/x-python",
   "codemirror_mode": {
    "name": "ipython",
    "version": 3
   },
   "pygments_lexer": "ipython3",
   "nbconvert_exporter": "python",
   "file_extension": ".py"
  },
  "kernelspec": {
   "name": "python3",
   "display_name": "Python 3.8.11 64-bit ('nice_play': conda)"
  },
  "interpreter": {
   "hash": "ead5f43594022c7cd5f301318ae4950132a1480e3738270166fab8a4a3b2cf4b"
  }
 },
 "nbformat": 4,
 "nbformat_minor": 2
}