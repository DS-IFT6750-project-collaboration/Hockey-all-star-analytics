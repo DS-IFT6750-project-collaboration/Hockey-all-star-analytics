{
 "cells": [
  {
   "cell_type": "markdown",
   "metadata": {},
   "source": [
    "# 1. Warmup"
   ]
  },
  {
   "cell_type": "markdown",
   "metadata": {},
   "source": [
    "### Download the .xlsx table from :\n",
    "http://www.nhl.com/stats/goalies?reportType=season&seasonFrom=20172018&seasonTo=20172018"
   ]
  },
  {
   "cell_type": "code",
   "execution_count": null,
   "metadata": {},
   "outputs": [],
   "source": [
    "import numpy as np\n",
    "import pandas as pd\n",
    "import matplotlib.pyplot as plt\n",
    "\n",
    "# set matplotlib parameters\n",
    "plt.rcParams[\"figure.figsize\"] = (10, 6)\n",
    "plt.rcParams[\"font.size\"] = 12"
   ]
  },
  {
   "cell_type": "code",
   "execution_count": null,
   "metadata": {},
   "outputs": [],
   "source": [
    "# set path for Excel file\n",
    "GOALEES_PATH = \"./storage/nhl_goalees.xlsx\"\n",
    "# parameter \"thousands\" parses commas separating thousands in Excel\n",
    "goalees_df = pd.read_excel(GOALEES_PATH, thousands=\",\")\n",
    "goalees_df.head()"
   ]
  },
  {
   "cell_type": "code",
   "execution_count": null,
   "metadata": {},
   "outputs": [],
   "source": [
    "# Filter the original table to keep relevant column\n",
    "# use .copy() to avoid modifying \"goaless_df\"\n",
    "input_df = goalees_df[[\"Player\", \"GP\", \"GS\", \"Team\", \"SA\", \"Svs\", \"GA\", \"GAA\"]].copy()\n",
    "input_df.head()"
   ]
  },
  {
   "cell_type": "code",
   "execution_count": null,
   "metadata": {},
   "outputs": [],
   "source": [
    "# compute saves ratio by dividing n Saves (Svs) by n Shots against (SA)\n",
    "input_df[\"Svs_ratio\"] = input_df[\"Svs\"] / input_df[\"SA\"]"
   ]
  },
  {
   "cell_type": "code",
   "execution_count": null,
   "metadata": {},
   "outputs": [],
   "source": [
    "input_df = input_df.sort_values(\"Svs_ratio\", ascending=False)"
   ]
  },
  {
   "cell_type": "code",
   "execution_count": null,
   "metadata": {},
   "outputs": [],
   "source": [
    "# keep the first 20 rows (import to use \"iloc\", not \"loc\")\n",
    "top20 = input_df.iloc[:20, :]\n",
    "# rename the original index, reset the index, set the new index\n",
    "top20 = top20.rename_axis(\"idx\").reset_index().set_index(\"Player\")\n",
    "print(top20.shape)"
   ]
  },
  {
   "cell_type": "markdown",
   "metadata": {},
   "source": [
    "## Plot top 20 goaltenders according to % shots saved"
   ]
  },
  {
   "cell_type": "code",
   "execution_count": null,
   "metadata": {},
   "outputs": [],
   "source": [
    "#ylim manually sets the range of the bar plot\n",
    "top20[\"Svs_ratio\"].plot(kind=\"bar\", title=\"Top 20 goaltenders by % Shots saved\", ylabel=\"% Shots saved\", ylim=(0.91, 0.939))"
   ]
  },
  {
   "cell_type": "markdown",
   "metadata": {},
   "source": [
    "## Supplementary analysis\n",
    "Do % Shots saved vary according to:\n",
    "- the number of game played?\n",
    "- the number of game started?\n",
    "- the % of game started?"
   ]
  },
  {
   "cell_type": "code",
   "execution_count": null,
   "metadata": {},
   "outputs": [],
   "source": [
    "# create binary column for top 20 players based on % Svs\n",
    "input_df[\"is_top20\"] = 0\n",
    "input_df.loc[top20.idx, \"is_top20\"] = 1"
   ]
  },
  {
   "cell_type": "code",
   "execution_count": null,
   "metadata": {},
   "outputs": [],
   "source": [
    "# ratio of game started\n",
    "input_df[\"GS_ratio\"] = input_df[\"GS\"] / input_df[\"GP\"]"
   ]
  },
  {
   "cell_type": "code",
   "execution_count": null,
   "metadata": {},
   "outputs": [],
   "source": [
    "# reusable function to generate scatter plot\n",
    "def scatter_x_by_y(df, x_col, y_col=\"Svs_ratio\", conditional_col=None):\n",
    "    plt.figure()\n",
    "\n",
    "    # scatter plot using x_col and y_col\n",
    "    plt.scatter(df[x_col], df[y_col])\n",
    "    # if conditional_col is not None\n",
    "    if conditional_col:\n",
    "        # plot x_col and y_col where conditional_col==1 using color \"C1\"\n",
    "        plt.scatter(df.loc[df[conditional_col]==1, x_col], df.loc[df[conditional_col]==1, y_col], color=\"C1\")\n",
    "    \n",
    "    # set axis labels and title\n",
    "    plt.xlabel(x_col)\n",
    "    plt.ylabel(y_col)\n",
    "    plt.title(f\"{y_col} by {x_col}\")\n",
    "\n",
    "    plt.show()"
   ]
  },
  {
   "cell_type": "code",
   "execution_count": null,
   "metadata": {},
   "outputs": [],
   "source": [
    "scatter_x_by_y(input_df, \"GS\", conditional_col=\"is_top20\")\n",
    "scatter_x_by_y(input_df, \"GP\", conditional_col=\"is_top20\")\n",
    "scatter_x_by_y(input_df, \"GS_ratio\", conditional_col=\"is_top20\")\n",
    "scatter_x_by_y(input_df, \"GAA\", conditional_col=\"is_top20\")"
   ]
  },
  {
   "cell_type": "markdown",
   "metadata": {},
   "source": [
    "# API Query\n",
    "https://gitlab.com/dword4/nhlapi/-/blob/master/stats-api.md"
   ]
  },
  {
   "cell_type": "markdown",
   "metadata": {},
   "source": [
    "### Game IDs\n",
    "First 4 digits give the season (ie. 2017 for the 2017-2018 season)\n",
    "\n",
    "Next 2 digits give the type of game\n",
    "- 01 = preseason\n",
    "- 02 = regular season\n",
    "- 03 = playoffs\n",
    "- 04 = all-star\n",
    "\n",
    "Final 4 digits give the specific game number.\n",
    "-  For regular season and preseason games, it ranges from 0001 to the number of games played. (1271 for seasons with 31 teams (2017 and onwards) and 1230 for seasons with 30 teams).\n",
    "-  For playoff games, the 2nd digit of the specific number gives the round of the playoffs, the 3rd digit specifies the matchup, and the 4th digit specifies the game (out of 7)."
   ]
  },
  {
   "cell_type": "code",
   "execution_count": null,
   "metadata": {},
   "outputs": [],
   "source": [
    "import os\n",
    "import requests\n",
    "import json\n",
    "import time"
   ]
  },
  {
   "cell_type": "code",
   "execution_count": null,
   "metadata": {},
   "outputs": [],
   "source": [
    "# class to interact with the API\n",
    "class ApiEngine():\n",
    "    def __init__(self, storage_path):\n",
    "        self.storage_path = storage_path\n",
    "    \n",
    "    # pass start_year, return a string to select a season (i.e., 2017 -> 20172018)\n",
    "    def _start_year_to_season_string(self, start_year):\n",
    "        return str(start_year) + str(start_year+1)\n",
    "    \n",
    "    # save the API JSON response to file\n",
    "    def save_response(self, response, path, overwrite=False):\n",
    "        if overwrite:\n",
    "            with open(path, \"w\") as file:\n",
    "                # if overwrite is true, return to beginning of file and overwrite\n",
    "                file.seek(0)\n",
    "                file.truncate()\n",
    "                json.dump(response, file)\n",
    "            return\n",
    "        \n",
    "        with open(path, \"w\") as file:\n",
    "            json.dump(response, file)\n",
    "    \n",
    "    # query API endpoint\n",
    "    def query_api(self, endpoint, params=None):\n",
    "        # base url of the API\n",
    "        url = f\"https://statsapi.web.nhl.com/api/v1/{endpoint}\"\n",
    "        r = requests.get(url, params=params, timeout=3)\n",
    "        # check if the HTTP request is valid\n",
    "        try:\n",
    "            r.raise_for_status()\n",
    "        except requests.exceptions.RequestException as e:\n",
    "            print(f\"Could not reach API endpoint:\\n'{url}'\")\n",
    "        return r.json()\n",
    "    \n",
    "    # query API for the schedule of the year (to get valid gamePk)\n",
    "    def get_season_schedule(self, start_year):\n",
    "        season_string = self._start_year_to_season_string(start_year)\n",
    "        season_response = self.query_api(\"schedule\", params={\"season\": season_string})\n",
    "        save_path = f\"{self.storage_path}/schedule/schedule_{season_string}.json\"\n",
    "        self.save_response(season_response, save_path, overwrite=False)\n",
    "        return season_response\n",
    "        \n",
    "    # query API for a specific game\n",
    "    def get_game(self, gamePk):\n",
    "        game_response = self.query_api(f\"game/{gamePk}/feed/live\")\n",
    "        season = game_response[\"gameData\"][\"game\"][\"season\"]\n",
    "        save_path = f\"{self.storage_path}/games/{season}/game_{season}_{gamePk}.json\"\n",
    "        self.save_response(game_response, save_path, overwrite=False)\n",
    "    \n",
    "    # loop to query all games of a season\n",
    "    def get_all_season_games(self, start_year):\n",
    "        season_schedule = self.get_season_schedule(start_year)\n",
    "        \n",
    "        for date in season_schedule[\"dates\"]:\n",
    "            for game in date[\"games\"]:\n",
    "                self.get_game(game[\"gamePk\"])\n",
    "                time.sleep(3) # delay to avoid spamming requests"
   ]
  },
  {
   "cell_type": "code",
   "execution_count": null,
   "metadata": {},
   "outputs": [],
   "source": [
    "# class to interact with the stored JSON files\n",
    "class StorageEngine():\n",
    "    def __init__(self, storage_path):\n",
    "        self.storage_path = storage_path\n",
    "        \n",
    "    def _start_year_to_season_string(self, start_year):\n",
    "        return str(start_year) + str(start_year+1)\n",
    "    \n",
    "    # load season schedule JSON\n",
    "    def get_season_schedule(self, start_year):\n",
    "        season_string = self._start_year_to_season_string(start_year)\n",
    "        save_path = f\"{self.storage_path}/schedule/schedule_{season_string}.json\"\n",
    "        with open(save_path, \"r\") as file:\n",
    "            return json.load(file)\n",
    "    \n",
    "    # load game JSON\n",
    "    def get_game(self, start_year, gamePk):\n",
    "        season_string = self._start_year_to_season_string(start_year)\n",
    "        save_path = f\"{self.storage_path}/games/{season_string}/game_{season_string}_{gamePk}.json\"\n",
    "        with open(save_path, \"r\") as file:\n",
    "            return json.load(file)\n",
    "    \n",
    "    # get list of valid gamePk from season schedule\n",
    "    def get_all_season_gamePk(self, start_year):\n",
    "        season_schedule = self.get_season_schedule(start_year)\n",
    "\n",
    "        gamePk_list = []\n",
    "        for date in season_schedule[\"dates\"]:\n",
    "            for game in date[\"games\"]:\n",
    "                gamePk_list.append(game[\"gamePk\"])\n",
    "        return gamePk_list"
   ]
  },
  {
   "cell_type": "markdown",
   "metadata": {},
   "source": [
    "# Visualizing JSON data"
   ]
  },
  {
   "cell_type": "code",
   "execution_count": null,
   "metadata": {},
   "outputs": [],
   "source": [
    "import pandas as pd\n",
    "import json\n",
    "from ipywidgets import interact, SelectionSlider\n",
    "\n",
    "from src.data_query import StorageEngine"
   ]
  },
  {
   "cell_type": "code",
   "execution_count": null,
   "metadata": {},
   "outputs": [],
   "source": [
    "@interact(start_year=[2016, 2017, 2018, 2019, 2020])\n",
    "def view_season(start_year=2016):\n",
    "    # load engine\n",
    "    storage_engine = StorageEngine(\"./data/raw\")\n",
    "    # load list of all gamePk for selected season\n",
    "    gamePk_list = storage_engine.get_all_season_gamePk(start_year)\n",
    "            \n",
    "    @interact(game_idx=(0, len(gamePk_list)-1, 1))\n",
    "    def view_games(game_idx=0):\n",
    "        # load the game for the (season, gamePk) selected\n",
    "        game_json = storage_engine.get_game(start_year, gamePk_list[game_idx])\n",
    "        \n",
    "        # function to specify the data to display\n",
    "        def _print_metadata(game_json):\n",
    "            season = game_json[\"gameData\"][\"game\"][\"season\"]\n",
    "            gamePk = game_json[\"gamePk\"]\n",
    "            game_type = game_json[\"gameData\"][\"game\"][\"type\"]\n",
    "            start_time = game_json[\"gameData\"][\"datetime\"][\"dateTime\"]\n",
    "            venue = game_json[\"gameData\"][\"venue\"][\"name\"]\n",
    "            \n",
    "            home_tri = game_json[\"gameData\"][\"teams\"][\"home\"][\"triCode\"]\n",
    "            away_tri = game_json[\"gameData\"][\"teams\"][\"away\"][\"triCode\"]\n",
    "            \n",
    "            print(\"season:\\t\", season)\n",
    "            print(\"gamePk:\\t\", gamePk)\n",
    "            print(\"game_type:\\t\", game_type)\n",
    "            print(\"start_time:\\t\", start_time)\n",
    "            print(\"venue:\\t\", venue)\n",
    "            print(f\"{home_tri} (home) vs. {away_tri} (away)\")\n",
    "        \n",
    "        _print_metadata(game_json)    \n",
    "            \n",
    "    view_games()"
   ]
  },
  {
   "cell_type": "markdown",
   "metadata": {},
   "source": [
    "# Tidy data\n",
    "Convert JSON to pandas.DataFrame"
   ]
  },
  {
   "cell_type": "code",
   "execution_count": null,
   "metadata": {},
   "outputs": [],
   "source": [
    "import pandas as pd\n",
    "import matplotlib.pyplot as plt\n",
    "\n",
    "from src.plays_model import game_json_to_plays_list"
   ]
  },
  {
   "cell_type": "code",
   "execution_count": null,
   "metadata": {},
   "outputs": [],
   "source": [
    "# TODO\n",
    "# NOT FULLY IMPLEMENTED\n",
    "# def get_season_metadata(start_year):\n",
    "#     storage_engine = StorageEngine(\"./data/raw\")\n",
    "#     gamePk_list = storage_engine.get_all_season_gamePk(start_year)\n",
    "# \n",
    "#     metadata_records = []\n",
    "# \n",
    "#     for gamePk in gamePk_list:\n",
    "#         print(gamePk)\n",
    "#         game_json = storage_engine.get_game(start_year, gamePk)\n",
    "#         metadata_dict = game_json_to_metadata_dict(game_json)\n",
    "#         metadata_records.append(metadata_dict)\n",
    "#         \n",
    "#     return pd.DataFrame.from_records(metadata_records)"
   ]
  },
  {
   "cell_type": "code",
   "execution_count": null,
   "metadata": {},
   "outputs": [],
   "source": [
    "def get_season_plays_df(start_year):\n",
    "    storage_engine = StorageEngine(\"./data/raw\")\n",
    "    gamePk_list = storage_engine.get_all_season_gamePk(start_year)\n",
    "\n",
    "    game_plays_df_list = []\n",
    "    for gamePk in gamePk_list:\n",
    "        game_json = storage_engine.get_game(start_year, gamePk)\n",
    "        game_plays_df = pd.DataFrame.from_records(game_json_to_plays_list(game_json))\n",
    "        game_plays_df_list.append(game_plays_df)\n",
    "    \n",
    "    season_plays_df = pd.concat(game_plays_df_list)\n",
    "        \n",
    "    return season_plays_df\n",
    "\n",
    "def preprocess_season_plays(start_year):\n",
    "    season_plays_df = get_season_plays_df(start_year)\n",
    "    season_plays_df.to_csv(f\"./data/processed/season_plays_{start_year}.csv\", index=False)"
   ]
  },
  {
   "cell_type": "code",
   "execution_count": null,
   "metadata": {},
   "outputs": [],
   "source": [
    "def normalize_plays_coords(plays_df):\n",
    "    def normalize_period_coords(plays_df):\n",
    "        #mask for even periods\n",
    "        #plays_df[[\"x_coord_norm\", \"y_coord_norm\"]] = plays_df[[\"x_coord\", \"y_coord\"]].copy()\n",
    "        mask = (plays_df[\"period_idx\"]%2==0)\n",
    "        plays_df.loc[mask, \"x_coord_norm\"] = -plays_df[\"x_coord\"]\n",
    "        plays_df.loc[mask, \"y_coord_norm\"] = -plays_df[\"y_coord\"]\n",
    "        return plays_df\n",
    "\n",
    "    def normalize_side_coords(plays_df):\n",
    "        negative_side_df = plays_df.groupby([\"gamePk\", \"team_initiative_id\"]).filter(lambda x: x[\"x_coord_norm\"].mean() < 0)\n",
    "        plays_df.loc[negative_side_df.index, \"x_coord_norm\"] = -negative_side_df[\"x_coord_norm\"]\n",
    "        plays_df.loc[negative_side_df.index, \"y_coord_norm\"] = -negative_side_df[\"y_coord_norm\"]\n",
    "        return plays_df\n",
    "    \n",
    "    plays_df[[\"x_coord_norm\", \"y_coord_norm\"]] = plays_df[[\"x_coord\", \"y_coord\"]].copy()\n",
    "    plays_df = normalize_period_coords(plays_df)\n",
    "    plays_df = normalize_side_coords(plays_df)\n",
    "    return plays_df"
   ]
  },
  {
   "cell_type": "code",
   "execution_count": null,
   "metadata": {},
   "outputs": [],
   "source": [
    "def explore_shots(plays_df):\n",
    "    @interact(\n",
    "        gamePk=SelectionSlider(options=season_plays_df[\"gamePk\"].unique()),\n",
    "        period_idx=SelectionSlider(options=[1, 2, 3, 4, 5]),\n",
    "    )\n",
    "    def plot_shots_from_game_period(gamePk, period_idx):\n",
    "        game_df = plays_df.loc[plays_df[\"gamePk\"]==gamePk].copy()\n",
    "        game_df[\"team_initiative_id\"] = game_df[\"team_initiative_id\"].astype(\"category\")\n",
    "        \n",
    "        ax0 = game_df.loc[game_df[\"period_idx\"].isin([period_idx])].plot.scatter(x=\"x_coord\", y=\"y_coord\", c=\"team_initiative_id\", cmap=\"Set1\")\n",
    "        ax1 = game_df.loc[game_df[\"period_idx\"].isin([period_idx])].plot.scatter(x=\"x_coord_norm\", y=\"y_coord_norm\", c=\"team_initiative_id\", cmap=\"Set1\")\n",
    "        \n",
    "        ax0.set_xlim(-100, 100)\n",
    "        ax0.set_ylim(-44, 44)\n",
    "        ax1.set_xlim(-100, 100)\n",
    "        ax1.set_ylim(-44, 44)"
   ]
  },
  {
   "cell_type": "markdown",
   "metadata": {},
   "source": [
    "# Simple visualization"
   ]
  },
  {
   "cell_type": "code",
   "execution_count": null,
   "metadata": {},
   "outputs": [],
   "source": [
    "import numpy as np\n",
    "import pandas as pd\n",
    "from ipywidgets import interact, SelectionSlider\n",
    "\n",
    "import plotly.express as px"
   ]
  },
  {
   "cell_type": "code",
   "execution_count": null,
   "metadata": {},
   "outputs": [],
   "source": [
    "season_plays_df = pd.read_csv(\"./data/processed/season_plays_2016.csv\", index_col=False)\n",
    "season_plays_df.shape"
   ]
  },
  {
   "cell_type": "markdown",
   "metadata": {},
   "source": [
    "## Fig 5.1"
   ]
  },
  {
   "cell_type": "code",
   "execution_count": null,
   "metadata": {},
   "outputs": [],
   "source": [
    "shots_freq = season_plays_df[\"shot_type\"].value_counts()\n",
    "shots_stats = season_plays_df.groupby([\"shot_type\", \"event_type_id\"]).size()\n",
    "shots_ratio = shots_stats[(slice(None), \"GOAL\")] / shots_freq"
   ]
  },
  {
   "cell_type": "code",
   "execution_count": null,
   "metadata": {},
   "outputs": [],
   "source": [
    "fig = px.bar(\n",
    "    shots_stats,\n",
    "    x=shots_stats[(slice(None), \"GOAL\")].index,\n",
    "    y=shots_stats.groupby(level=0).sum(),\n",
    "    text=shots_stats[(slice(None), \"GOAL\")],\n",
    "    title=\"Frequency of shot types across teams - Season 2016-2017\",\n",
    "    barmode=\"group\")\n",
    "\n",
    "fig.update_layout(\n",
    "    xaxis=dict(title=\"Shot type\"),\n",
    "    yaxis=dict(title=\"Frequency\"),\n",
    ")\n",
    "\n",
    "fig.show()"
   ]
  },
  {
   "cell_type": "markdown",
   "metadata": {},
   "source": [
    "## Fig 5.2"
   ]
  },
  {
   "cell_type": "code",
   "execution_count": null,
   "metadata": {},
   "outputs": [],
   "source": [
    "# the dimensions of the NHL ice rink are 200' long x 85' wide\n",
    "# x coordinates range between -98 and 98 (the sign indicate which team's side)\n",
    "# y coordinates range between -42 and 42\n",
    "# the goal is align with y=0, and 11' away from the rink\n",
    "# the x coordinates is the given by 100 - 11/100 * 98 = 100 - 10.78"
   ]
  },
  {
   "cell_type": "markdown",
   "metadata": {},
   "source": [
    "# Q6 "
   ]
  },
  {
   "cell_type": "code",
   "execution_count": 1,
   "metadata": {},
   "outputs": [],
   "source": [
    "import numpy as np\n",
    "import pandas as pd\n",
    "import scipy.stats as stats\n",
    "from scipy.ndimage.filters import gaussian_filter\n",
    "import matplotlib.pyplot as plt\n",
    "\n",
    "from ipywidgets import interact, SelectionSlider\n",
    "\n",
    "import plotly.express as px\n",
    "import plotly.graph_objects as go"
   ]
  },
  {
   "cell_type": "code",
   "execution_count": 16,
   "metadata": {},
   "outputs": [
    {
     "data": {
      "text/html": [
       "<div>\n",
       "<style scoped>\n",
       "    .dataframe tbody tr th:only-of-type {\n",
       "        vertical-align: middle;\n",
       "    }\n",
       "\n",
       "    .dataframe tbody tr th {\n",
       "        vertical-align: top;\n",
       "    }\n",
       "\n",
       "    .dataframe thead th {\n",
       "        text-align: right;\n",
       "    }\n",
       "</style>\n",
       "<table border=\"1\" class=\"dataframe\">\n",
       "  <thead>\n",
       "    <tr style=\"text-align: right;\">\n",
       "      <th></th>\n",
       "      <th>event_idx</th>\n",
       "      <th>event_type_id</th>\n",
       "      <th>period_idx</th>\n",
       "      <th>period_type</th>\n",
       "      <th>game_time</th>\n",
       "      <th>shot_type</th>\n",
       "      <th>team_initiative_id</th>\n",
       "      <th>team_initiative_name</th>\n",
       "      <th>x_coord</th>\n",
       "      <th>y_coord</th>\n",
       "      <th>...</th>\n",
       "      <th>goalie_id</th>\n",
       "      <th>goalie_name</th>\n",
       "      <th>strength</th>\n",
       "      <th>empty_net_bool</th>\n",
       "      <th>gamePk</th>\n",
       "      <th>game_season</th>\n",
       "      <th>game_type</th>\n",
       "      <th>game_start_time</th>\n",
       "      <th>x_coord_norm</th>\n",
       "      <th>y_coord_norm</th>\n",
       "    </tr>\n",
       "  </thead>\n",
       "  <tbody>\n",
       "    <tr>\n",
       "      <th>0</th>\n",
       "      <td>271</td>\n",
       "      <td>SHOT</td>\n",
       "      <td>2</td>\n",
       "      <td>REGULAR</td>\n",
       "      <td>2016-09-26T00:01:58Z</td>\n",
       "      <td>Wrist Shot</td>\n",
       "      <td>STL</td>\n",
       "      <td>St. Louis Blues</td>\n",
       "      <td>-77.0</td>\n",
       "      <td>-11.0</td>\n",
       "      <td>...</td>\n",
       "      <td>8476341.0</td>\n",
       "      <td>Anton Forsberg</td>\n",
       "      <td>NaN</td>\n",
       "      <td>NaN</td>\n",
       "      <td>2016010001</td>\n",
       "      <td>20162017</td>\n",
       "      <td>PR</td>\n",
       "      <td>2016-09-25T23:00:00Z</td>\n",
       "      <td>77.0</td>\n",
       "      <td>11.0</td>\n",
       "    </tr>\n",
       "    <tr>\n",
       "      <th>1</th>\n",
       "      <td>273</td>\n",
       "      <td>SHOT</td>\n",
       "      <td>2</td>\n",
       "      <td>REGULAR</td>\n",
       "      <td>2016-09-26T00:02:25Z</td>\n",
       "      <td>Wrist Shot</td>\n",
       "      <td>STL</td>\n",
       "      <td>St. Louis Blues</td>\n",
       "      <td>-76.0</td>\n",
       "      <td>-10.0</td>\n",
       "      <td>...</td>\n",
       "      <td>8476341.0</td>\n",
       "      <td>Anton Forsberg</td>\n",
       "      <td>NaN</td>\n",
       "      <td>NaN</td>\n",
       "      <td>2016010001</td>\n",
       "      <td>20162017</td>\n",
       "      <td>PR</td>\n",
       "      <td>2016-09-25T23:00:00Z</td>\n",
       "      <td>76.0</td>\n",
       "      <td>10.0</td>\n",
       "    </tr>\n",
       "    <tr>\n",
       "      <th>2</th>\n",
       "      <td>269</td>\n",
       "      <td>SHOT</td>\n",
       "      <td>2</td>\n",
       "      <td>REGULAR</td>\n",
       "      <td>2016-09-25T23:58:58Z</td>\n",
       "      <td>Wrist Shot</td>\n",
       "      <td>STL</td>\n",
       "      <td>St. Louis Blues</td>\n",
       "      <td>-57.0</td>\n",
       "      <td>-26.0</td>\n",
       "      <td>...</td>\n",
       "      <td>8476341.0</td>\n",
       "      <td>Anton Forsberg</td>\n",
       "      <td>NaN</td>\n",
       "      <td>NaN</td>\n",
       "      <td>2016010001</td>\n",
       "      <td>20162017</td>\n",
       "      <td>PR</td>\n",
       "      <td>2016-09-25T23:00:00Z</td>\n",
       "      <td>57.0</td>\n",
       "      <td>26.0</td>\n",
       "    </tr>\n",
       "    <tr>\n",
       "      <th>3</th>\n",
       "      <td>267</td>\n",
       "      <td>SHOT</td>\n",
       "      <td>2</td>\n",
       "      <td>REGULAR</td>\n",
       "      <td>2016-09-25T23:58:14Z</td>\n",
       "      <td>Wrist Shot</td>\n",
       "      <td>STL</td>\n",
       "      <td>St. Louis Blues</td>\n",
       "      <td>-64.0</td>\n",
       "      <td>-4.0</td>\n",
       "      <td>...</td>\n",
       "      <td>8476341.0</td>\n",
       "      <td>Anton Forsberg</td>\n",
       "      <td>NaN</td>\n",
       "      <td>NaN</td>\n",
       "      <td>2016010001</td>\n",
       "      <td>20162017</td>\n",
       "      <td>PR</td>\n",
       "      <td>2016-09-25T23:00:00Z</td>\n",
       "      <td>64.0</td>\n",
       "      <td>4.0</td>\n",
       "    </tr>\n",
       "    <tr>\n",
       "      <th>4</th>\n",
       "      <td>264</td>\n",
       "      <td>SHOT</td>\n",
       "      <td>1</td>\n",
       "      <td>REGULAR</td>\n",
       "      <td>2016-09-25T23:39:18Z</td>\n",
       "      <td>Wrist Shot</td>\n",
       "      <td>STL</td>\n",
       "      <td>St. Louis Blues</td>\n",
       "      <td>43.0</td>\n",
       "      <td>-24.0</td>\n",
       "      <td>...</td>\n",
       "      <td>8476341.0</td>\n",
       "      <td>Anton Forsberg</td>\n",
       "      <td>NaN</td>\n",
       "      <td>NaN</td>\n",
       "      <td>2016010001</td>\n",
       "      <td>20162017</td>\n",
       "      <td>PR</td>\n",
       "      <td>2016-09-25T23:00:00Z</td>\n",
       "      <td>43.0</td>\n",
       "      <td>-24.0</td>\n",
       "    </tr>\n",
       "  </tbody>\n",
       "</table>\n",
       "<p>5 rows × 22 columns</p>\n",
       "</div>"
      ],
      "text/plain": [
       "   event_idx event_type_id  period_idx period_type             game_time  \\\n",
       "0        271          SHOT           2     REGULAR  2016-09-26T00:01:58Z   \n",
       "1        273          SHOT           2     REGULAR  2016-09-26T00:02:25Z   \n",
       "2        269          SHOT           2     REGULAR  2016-09-25T23:58:58Z   \n",
       "3        267          SHOT           2     REGULAR  2016-09-25T23:58:14Z   \n",
       "4        264          SHOT           1     REGULAR  2016-09-25T23:39:18Z   \n",
       "\n",
       "    shot_type team_initiative_id team_initiative_name  x_coord  y_coord  ...  \\\n",
       "0  Wrist Shot                STL      St. Louis Blues    -77.0    -11.0  ...   \n",
       "1  Wrist Shot                STL      St. Louis Blues    -76.0    -10.0  ...   \n",
       "2  Wrist Shot                STL      St. Louis Blues    -57.0    -26.0  ...   \n",
       "3  Wrist Shot                STL      St. Louis Blues    -64.0     -4.0  ...   \n",
       "4  Wrist Shot                STL      St. Louis Blues     43.0    -24.0  ...   \n",
       "\n",
       "   goalie_id     goalie_name  strength empty_net_bool      gamePk game_season  \\\n",
       "0  8476341.0  Anton Forsberg       NaN            NaN  2016010001    20162017   \n",
       "1  8476341.0  Anton Forsberg       NaN            NaN  2016010001    20162017   \n",
       "2  8476341.0  Anton Forsberg       NaN            NaN  2016010001    20162017   \n",
       "3  8476341.0  Anton Forsberg       NaN            NaN  2016010001    20162017   \n",
       "4  8476341.0  Anton Forsberg       NaN            NaN  2016010001    20162017   \n",
       "\n",
       "   game_type       game_start_time x_coord_norm y_coord_norm  \n",
       "0         PR  2016-09-25T23:00:00Z         77.0         11.0  \n",
       "1         PR  2016-09-25T23:00:00Z         76.0         10.0  \n",
       "2         PR  2016-09-25T23:00:00Z         57.0         26.0  \n",
       "3         PR  2016-09-25T23:00:00Z         64.0          4.0  \n",
       "4         PR  2016-09-25T23:00:00Z         43.0        -24.0  \n",
       "\n",
       "[5 rows x 22 columns]"
      ]
     },
     "execution_count": 16,
     "metadata": {},
     "output_type": "execute_result"
    }
   ],
   "source": [
    "season_plays_df = pd.read_csv(\"./data/processed/normalized_season_plays_2016-2021.csv\", index_col=False)\n",
    "season_plays_df = season_plays_df.drop(columns=[\"Unnamed: 0\", \"Unnamed: 0.1\"])\n",
    "season_plays_df = season_plays_df.loc[(np.isfinite(season_plays_df[\"y_coord_norm\"])) & (np.isfinite(season_plays_df[\"x_coord_norm\"]))]\n",
    "season_plays_df.head()"
   ]
  },
  {
   "cell_type": "code",
   "execution_count": 18,
   "metadata": {},
   "outputs": [],
   "source": [
    "season_plays_df.head(20).to_html(\"./reports/df_table.html\", show_dimensions=True)"
   ]
  },
  {
   "cell_type": "code",
   "execution_count": 12,
   "metadata": {},
   "outputs": [],
   "source": [
    "def kernel_density_coords(plays_df):\n",
    "    # code inspired by https://stackoverflow.com/questions/30145957/plotting-2d-kernel-density-estimation-with-python\n",
    "    x = plays_df[\"x_coord_norm\"].values\n",
    "    y = plays_df[\"y_coord_norm\"].values\n",
    "    xmin, xmax = 0, 100\n",
    "    ymin, ymax = -43, 43\n",
    "    \n",
    "    xx, yy = np.mgrid[xmin:xmax:100j, ymin:ymax:86j]\n",
    "    positions = np.vstack([xx.ravel(), yy.ravel()])\n",
    "    values = np.vstack([x, y])\n",
    "    #kernel = stats.gaussian_kde(values, bw_method=0.3)\n",
    "    #f = np.reshape(kernel(positions).T, xx.shape)\n",
    "    f = gaussian_filter(values, 0.3)\n",
    "    \n",
    "    return f"
   ]
  },
  {
   "cell_type": "code",
   "execution_count": 10,
   "metadata": {},
   "outputs": [],
   "source": [
    "def total_time(plays_df, team=False):\n",
    "    if team:\n",
    "        plays_df = plays_df.loc[plays_df[\"team_initiative_id\"]==team]\n",
    "    \n",
    "    period_count = plays_df.groupby(\"gamePk\")[\"period_idx\"].nunique().sum()\n",
    "    total_time = period_count * 20\n",
    "    \n",
    "    if team==False:\n",
    "        total_time *= 2\n",
    "    \n",
    "    print(total_time)\n",
    "    return total_time"
   ]
  },
  {
   "cell_type": "code",
   "execution_count": 13,
   "metadata": {},
   "outputs": [],
   "source": [
    "season_map = kernel_density_coords(season_plays_df)"
   ]
  },
  {
   "cell_type": "code",
   "execution_count": null,
   "metadata": {},
   "outputs": [],
   "source": [
    "team = \"STL\"\n",
    "team_df = season_plays_df.loc[season_plays_df[\"team_initiative_id\"]==team]"
   ]
  },
  {
   "cell_type": "code",
   "execution_count": null,
   "metadata": {},
   "outputs": [],
   "source": [
    "team_map = kernel_density_coords(team_df)"
   ]
  },
  {
   "cell_type": "code",
   "execution_count": 5,
   "metadata": {},
   "outputs": [],
   "source": [
    "def plot_density_contours(map):\n",
    "    fig = plt.figure()\n",
    "    ax = fig.gca()\n",
    "    \n",
    "    xmin, xmax = 0, 100\n",
    "    ymin, ymax = -43, 43\n",
    "    xx, yy = np.mgrid[xmin:xmax:100j, ymin:ymax:86j]\n",
    "    \n",
    "    ax.set_xlim(xmin, xmax)\n",
    "    ax.set_ylim(ymin, ymax)\n",
    "    # Contourf plot\n",
    "    cfset = ax.contourf(xx, yy, map, cmap='RdBu_r')\n",
    "    ## Or kernel density estimate plot instead of the contourf plot\n",
    "    #ax.imshow((np.rot90(map)), cmap='RdBu', extent=[xmin, xmax, ymin, ymax])\n",
    "    # Contour plot\n",
    "    cset = ax.contour(xx, yy, map, colors='k')\n",
    "\n",
    "    plt.show()"
   ]
  },
  {
   "cell_type": "code",
   "execution_count": 14,
   "metadata": {},
   "outputs": [
    {
     "ename": "TypeError",
     "evalue": "Shapes of x (100, 86) and z (2, 410490) do not match",
     "output_type": "error",
     "traceback": [
      "\u001b[1;31m---------------------------------------------------------------------------\u001b[0m",
      "\u001b[1;31mTypeError\u001b[0m                                 Traceback (most recent call last)",
      "\u001b[1;32m~\\AppData\\Local\\Temp/ipykernel_13544/3096822176.py\u001b[0m in \u001b[0;36m<module>\u001b[1;34m\u001b[0m\n\u001b[1;32m----> 1\u001b[1;33m \u001b[0mplot_density_contours\u001b[0m\u001b[1;33m(\u001b[0m\u001b[0mseason_map\u001b[0m\u001b[1;33m)\u001b[0m\u001b[1;33m\u001b[0m\u001b[1;33m\u001b[0m\u001b[0m\n\u001b[0m",
      "\u001b[1;32m~\\AppData\\Local\\Temp/ipykernel_13544/205520919.py\u001b[0m in \u001b[0;36mplot_density_contours\u001b[1;34m(map)\u001b[0m\n\u001b[0;32m     10\u001b[0m     \u001b[0max\u001b[0m\u001b[1;33m.\u001b[0m\u001b[0mset_ylim\u001b[0m\u001b[1;33m(\u001b[0m\u001b[0mymin\u001b[0m\u001b[1;33m,\u001b[0m \u001b[0mymax\u001b[0m\u001b[1;33m)\u001b[0m\u001b[1;33m\u001b[0m\u001b[1;33m\u001b[0m\u001b[0m\n\u001b[0;32m     11\u001b[0m     \u001b[1;31m# Contourf plot\u001b[0m\u001b[1;33m\u001b[0m\u001b[1;33m\u001b[0m\u001b[1;33m\u001b[0m\u001b[0m\n\u001b[1;32m---> 12\u001b[1;33m     \u001b[0mcfset\u001b[0m \u001b[1;33m=\u001b[0m \u001b[0max\u001b[0m\u001b[1;33m.\u001b[0m\u001b[0mcontourf\u001b[0m\u001b[1;33m(\u001b[0m\u001b[0mxx\u001b[0m\u001b[1;33m,\u001b[0m \u001b[0myy\u001b[0m\u001b[1;33m,\u001b[0m \u001b[0mmap\u001b[0m\u001b[1;33m,\u001b[0m \u001b[0mcmap\u001b[0m\u001b[1;33m=\u001b[0m\u001b[1;34m'RdBu_r'\u001b[0m\u001b[1;33m)\u001b[0m\u001b[1;33m\u001b[0m\u001b[1;33m\u001b[0m\u001b[0m\n\u001b[0m\u001b[0;32m     13\u001b[0m     \u001b[1;31m## Or kernel density estimate plot instead of the contourf plot\u001b[0m\u001b[1;33m\u001b[0m\u001b[1;33m\u001b[0m\u001b[1;33m\u001b[0m\u001b[0m\n\u001b[0;32m     14\u001b[0m     \u001b[1;31m#ax.imshow((np.rot90(map)), cmap='RdBu', extent=[xmin, xmax, ymin, ymax])\u001b[0m\u001b[1;33m\u001b[0m\u001b[1;33m\u001b[0m\u001b[1;33m\u001b[0m\u001b[0m\n",
      "\u001b[1;32m~\\miniconda3\\envs\\nice_play\\lib\\site-packages\\matplotlib\\__init__.py\u001b[0m in \u001b[0;36minner\u001b[1;34m(ax, data, *args, **kwargs)\u001b[0m\n\u001b[0;32m   1359\u001b[0m     \u001b[1;32mdef\u001b[0m \u001b[0minner\u001b[0m\u001b[1;33m(\u001b[0m\u001b[0max\u001b[0m\u001b[1;33m,\u001b[0m \u001b[1;33m*\u001b[0m\u001b[0margs\u001b[0m\u001b[1;33m,\u001b[0m \u001b[0mdata\u001b[0m\u001b[1;33m=\u001b[0m\u001b[1;32mNone\u001b[0m\u001b[1;33m,\u001b[0m \u001b[1;33m**\u001b[0m\u001b[0mkwargs\u001b[0m\u001b[1;33m)\u001b[0m\u001b[1;33m:\u001b[0m\u001b[1;33m\u001b[0m\u001b[1;33m\u001b[0m\u001b[0m\n\u001b[0;32m   1360\u001b[0m         \u001b[1;32mif\u001b[0m \u001b[0mdata\u001b[0m \u001b[1;32mis\u001b[0m \u001b[1;32mNone\u001b[0m\u001b[1;33m:\u001b[0m\u001b[1;33m\u001b[0m\u001b[1;33m\u001b[0m\u001b[0m\n\u001b[1;32m-> 1361\u001b[1;33m             \u001b[1;32mreturn\u001b[0m \u001b[0mfunc\u001b[0m\u001b[1;33m(\u001b[0m\u001b[0max\u001b[0m\u001b[1;33m,\u001b[0m \u001b[1;33m*\u001b[0m\u001b[0mmap\u001b[0m\u001b[1;33m(\u001b[0m\u001b[0msanitize_sequence\u001b[0m\u001b[1;33m,\u001b[0m \u001b[0margs\u001b[0m\u001b[1;33m)\u001b[0m\u001b[1;33m,\u001b[0m \u001b[1;33m**\u001b[0m\u001b[0mkwargs\u001b[0m\u001b[1;33m)\u001b[0m\u001b[1;33m\u001b[0m\u001b[1;33m\u001b[0m\u001b[0m\n\u001b[0m\u001b[0;32m   1362\u001b[0m \u001b[1;33m\u001b[0m\u001b[0m\n\u001b[0;32m   1363\u001b[0m         \u001b[0mbound\u001b[0m \u001b[1;33m=\u001b[0m \u001b[0mnew_sig\u001b[0m\u001b[1;33m.\u001b[0m\u001b[0mbind\u001b[0m\u001b[1;33m(\u001b[0m\u001b[0max\u001b[0m\u001b[1;33m,\u001b[0m \u001b[1;33m*\u001b[0m\u001b[0margs\u001b[0m\u001b[1;33m,\u001b[0m \u001b[1;33m**\u001b[0m\u001b[0mkwargs\u001b[0m\u001b[1;33m)\u001b[0m\u001b[1;33m\u001b[0m\u001b[1;33m\u001b[0m\u001b[0m\n",
      "\u001b[1;32m~\\miniconda3\\envs\\nice_play\\lib\\site-packages\\matplotlib\\axes\\_axes.py\u001b[0m in \u001b[0;36mcontourf\u001b[1;34m(self, *args, **kwargs)\u001b[0m\n\u001b[0;32m   6432\u001b[0m     \u001b[1;32mdef\u001b[0m \u001b[0mcontourf\u001b[0m\u001b[1;33m(\u001b[0m\u001b[0mself\u001b[0m\u001b[1;33m,\u001b[0m \u001b[1;33m*\u001b[0m\u001b[0margs\u001b[0m\u001b[1;33m,\u001b[0m \u001b[1;33m**\u001b[0m\u001b[0mkwargs\u001b[0m\u001b[1;33m)\u001b[0m\u001b[1;33m:\u001b[0m\u001b[1;33m\u001b[0m\u001b[1;33m\u001b[0m\u001b[0m\n\u001b[0;32m   6433\u001b[0m         \u001b[0mkwargs\u001b[0m\u001b[1;33m[\u001b[0m\u001b[1;34m'filled'\u001b[0m\u001b[1;33m]\u001b[0m \u001b[1;33m=\u001b[0m \u001b[1;32mTrue\u001b[0m\u001b[1;33m\u001b[0m\u001b[1;33m\u001b[0m\u001b[0m\n\u001b[1;32m-> 6434\u001b[1;33m         \u001b[0mcontours\u001b[0m \u001b[1;33m=\u001b[0m \u001b[0mmcontour\u001b[0m\u001b[1;33m.\u001b[0m\u001b[0mQuadContourSet\u001b[0m\u001b[1;33m(\u001b[0m\u001b[0mself\u001b[0m\u001b[1;33m,\u001b[0m \u001b[1;33m*\u001b[0m\u001b[0margs\u001b[0m\u001b[1;33m,\u001b[0m \u001b[1;33m**\u001b[0m\u001b[0mkwargs\u001b[0m\u001b[1;33m)\u001b[0m\u001b[1;33m\u001b[0m\u001b[1;33m\u001b[0m\u001b[0m\n\u001b[0m\u001b[0;32m   6435\u001b[0m         \u001b[0mself\u001b[0m\u001b[1;33m.\u001b[0m\u001b[0m_request_autoscale_view\u001b[0m\u001b[1;33m(\u001b[0m\u001b[1;33m)\u001b[0m\u001b[1;33m\u001b[0m\u001b[1;33m\u001b[0m\u001b[0m\n\u001b[0;32m   6436\u001b[0m         \u001b[1;32mreturn\u001b[0m \u001b[0mcontours\u001b[0m\u001b[1;33m\u001b[0m\u001b[1;33m\u001b[0m\u001b[0m\n",
      "\u001b[1;32m~\\miniconda3\\envs\\nice_play\\lib\\site-packages\\matplotlib\\contour.py\u001b[0m in \u001b[0;36m__init__\u001b[1;34m(self, ax, levels, filled, linewidths, linestyles, hatches, alpha, origin, extent, cmap, colors, norm, vmin, vmax, extend, antialiased, nchunk, locator, transform, *args, **kwargs)\u001b[0m\n\u001b[0;32m    775\u001b[0m         \u001b[0mself\u001b[0m\u001b[1;33m.\u001b[0m\u001b[0m_transform\u001b[0m \u001b[1;33m=\u001b[0m \u001b[0mtransform\u001b[0m\u001b[1;33m\u001b[0m\u001b[1;33m\u001b[0m\u001b[0m\n\u001b[0;32m    776\u001b[0m \u001b[1;33m\u001b[0m\u001b[0m\n\u001b[1;32m--> 777\u001b[1;33m         \u001b[0mkwargs\u001b[0m \u001b[1;33m=\u001b[0m \u001b[0mself\u001b[0m\u001b[1;33m.\u001b[0m\u001b[0m_process_args\u001b[0m\u001b[1;33m(\u001b[0m\u001b[1;33m*\u001b[0m\u001b[0margs\u001b[0m\u001b[1;33m,\u001b[0m \u001b[1;33m**\u001b[0m\u001b[0mkwargs\u001b[0m\u001b[1;33m)\u001b[0m\u001b[1;33m\u001b[0m\u001b[1;33m\u001b[0m\u001b[0m\n\u001b[0m\u001b[0;32m    778\u001b[0m         \u001b[0mself\u001b[0m\u001b[1;33m.\u001b[0m\u001b[0m_process_levels\u001b[0m\u001b[1;33m(\u001b[0m\u001b[1;33m)\u001b[0m\u001b[1;33m\u001b[0m\u001b[1;33m\u001b[0m\u001b[0m\n\u001b[0;32m    779\u001b[0m \u001b[1;33m\u001b[0m\u001b[0m\n",
      "\u001b[1;32m~\\miniconda3\\envs\\nice_play\\lib\\site-packages\\matplotlib\\contour.py\u001b[0m in \u001b[0;36m_process_args\u001b[1;34m(self, corner_mask, *args, **kwargs)\u001b[0m\n\u001b[0;32m   1364\u001b[0m             \u001b[0mself\u001b[0m\u001b[1;33m.\u001b[0m\u001b[0m_corner_mask\u001b[0m \u001b[1;33m=\u001b[0m \u001b[0mcorner_mask\u001b[0m\u001b[1;33m\u001b[0m\u001b[1;33m\u001b[0m\u001b[0m\n\u001b[0;32m   1365\u001b[0m \u001b[1;33m\u001b[0m\u001b[0m\n\u001b[1;32m-> 1366\u001b[1;33m             \u001b[0mx\u001b[0m\u001b[1;33m,\u001b[0m \u001b[0my\u001b[0m\u001b[1;33m,\u001b[0m \u001b[0mz\u001b[0m \u001b[1;33m=\u001b[0m \u001b[0mself\u001b[0m\u001b[1;33m.\u001b[0m\u001b[0m_contour_args\u001b[0m\u001b[1;33m(\u001b[0m\u001b[0margs\u001b[0m\u001b[1;33m,\u001b[0m \u001b[0mkwargs\u001b[0m\u001b[1;33m)\u001b[0m\u001b[1;33m\u001b[0m\u001b[1;33m\u001b[0m\u001b[0m\n\u001b[0m\u001b[0;32m   1367\u001b[0m \u001b[1;33m\u001b[0m\u001b[0m\n\u001b[0;32m   1368\u001b[0m             \u001b[0m_mask\u001b[0m \u001b[1;33m=\u001b[0m \u001b[0mma\u001b[0m\u001b[1;33m.\u001b[0m\u001b[0mgetmask\u001b[0m\u001b[1;33m(\u001b[0m\u001b[0mz\u001b[0m\u001b[1;33m)\u001b[0m\u001b[1;33m\u001b[0m\u001b[1;33m\u001b[0m\u001b[0m\n",
      "\u001b[1;32m~\\miniconda3\\envs\\nice_play\\lib\\site-packages\\matplotlib\\contour.py\u001b[0m in \u001b[0;36m_contour_args\u001b[1;34m(self, args, kwargs)\u001b[0m\n\u001b[0;32m   1422\u001b[0m             \u001b[0margs\u001b[0m \u001b[1;33m=\u001b[0m \u001b[0margs\u001b[0m\u001b[1;33m[\u001b[0m\u001b[1;36m1\u001b[0m\u001b[1;33m:\u001b[0m\u001b[1;33m]\u001b[0m\u001b[1;33m\u001b[0m\u001b[1;33m\u001b[0m\u001b[0m\n\u001b[0;32m   1423\u001b[0m         \u001b[1;32melif\u001b[0m \u001b[0mNargs\u001b[0m \u001b[1;33m<=\u001b[0m \u001b[1;36m4\u001b[0m\u001b[1;33m:\u001b[0m\u001b[1;33m\u001b[0m\u001b[1;33m\u001b[0m\u001b[0m\n\u001b[1;32m-> 1424\u001b[1;33m             \u001b[0mx\u001b[0m\u001b[1;33m,\u001b[0m \u001b[0my\u001b[0m\u001b[1;33m,\u001b[0m \u001b[0mz\u001b[0m \u001b[1;33m=\u001b[0m \u001b[0mself\u001b[0m\u001b[1;33m.\u001b[0m\u001b[0m_check_xyz\u001b[0m\u001b[1;33m(\u001b[0m\u001b[0margs\u001b[0m\u001b[1;33m[\u001b[0m\u001b[1;33m:\u001b[0m\u001b[1;36m3\u001b[0m\u001b[1;33m]\u001b[0m\u001b[1;33m,\u001b[0m \u001b[0mkwargs\u001b[0m\u001b[1;33m)\u001b[0m\u001b[1;33m\u001b[0m\u001b[1;33m\u001b[0m\u001b[0m\n\u001b[0m\u001b[0;32m   1425\u001b[0m             \u001b[0margs\u001b[0m \u001b[1;33m=\u001b[0m \u001b[0margs\u001b[0m\u001b[1;33m[\u001b[0m\u001b[1;36m3\u001b[0m\u001b[1;33m:\u001b[0m\u001b[1;33m]\u001b[0m\u001b[1;33m\u001b[0m\u001b[1;33m\u001b[0m\u001b[0m\n\u001b[0;32m   1426\u001b[0m         \u001b[1;32melse\u001b[0m\u001b[1;33m:\u001b[0m\u001b[1;33m\u001b[0m\u001b[1;33m\u001b[0m\u001b[0m\n",
      "\u001b[1;32m~\\miniconda3\\envs\\nice_play\\lib\\site-packages\\matplotlib\\contour.py\u001b[0m in \u001b[0;36m_check_xyz\u001b[1;34m(self, args, kwargs)\u001b[0m\n\u001b[0;32m   1471\u001b[0m         \u001b[1;32melif\u001b[0m \u001b[0mx\u001b[0m\u001b[1;33m.\u001b[0m\u001b[0mndim\u001b[0m \u001b[1;33m==\u001b[0m \u001b[1;36m2\u001b[0m\u001b[1;33m:\u001b[0m\u001b[1;33m\u001b[0m\u001b[1;33m\u001b[0m\u001b[0m\n\u001b[0;32m   1472\u001b[0m             \u001b[1;32mif\u001b[0m \u001b[0mx\u001b[0m\u001b[1;33m.\u001b[0m\u001b[0mshape\u001b[0m \u001b[1;33m!=\u001b[0m \u001b[0mz\u001b[0m\u001b[1;33m.\u001b[0m\u001b[0mshape\u001b[0m\u001b[1;33m:\u001b[0m\u001b[1;33m\u001b[0m\u001b[1;33m\u001b[0m\u001b[0m\n\u001b[1;32m-> 1473\u001b[1;33m                 raise TypeError(\n\u001b[0m\u001b[0;32m   1474\u001b[0m                     f\"Shapes of x {x.shape} and z {z.shape} do not match\")\n\u001b[0;32m   1475\u001b[0m             \u001b[1;32mif\u001b[0m \u001b[0my\u001b[0m\u001b[1;33m.\u001b[0m\u001b[0mshape\u001b[0m \u001b[1;33m!=\u001b[0m \u001b[0mz\u001b[0m\u001b[1;33m.\u001b[0m\u001b[0mshape\u001b[0m\u001b[1;33m:\u001b[0m\u001b[1;33m\u001b[0m\u001b[1;33m\u001b[0m\u001b[0m\n",
      "\u001b[1;31mTypeError\u001b[0m: Shapes of x (100, 86) and z (2, 410490) do not match"
     ]
    },
    {
     "data": {
      "image/png": "[encoded data removed]",
      "text/plain": [
       "<Figure size 432x288 with 1 Axes>"
      ]
     },
     "metadata": {
      "needs_background": "light"
     },
     "output_type": "display_data"
    }
   ],
   "source": [
    "plot_density_contours(season_map)"
   ]
  },
  {
   "cell_type": "code",
   "execution_count": null,
   "metadata": {},
   "outputs": [],
   "source": [
    "#fig = go.Figure(data =\n",
    "    #go.Contour(z=np.rot90(season_map - team_map))\n",
    "#    go.Scatter(x=season_plays_df[\"x_coord_norm\"], y=season_plays_df[\"y_coord_norm\"])\n",
    "#    )\n",
    "fig = px.scatter(x=season_plays_df[\"x_coord_norm\"], y=season_plays_df[\"y_coord_norm\"], marginal_x=\"histogram\", marginal_y=\"histogram\")\n",
    "\n",
    "#fig.update_traces(\n",
    "#        line=dict(color=\"#000000\", dash=\"dot\"),\n",
    "#        contours_coloring=\"fill\",\n",
    "#        colorscale=\"OrRd\",\n",
    "#        showscale=True,\n",
    "#        opacity=1\n",
    "#    )\n",
    "\n",
    "fig.show()"
   ]
  },
  {
   "cell_type": "code",
   "execution_count": null,
   "metadata": {},
   "outputs": [],
   "source": [
    "fig = px.scatter(x=team_df[\"x_coord_norm\"], y=team_df[\"y_coord_norm\"], marginal_x=\"histogram\", marginal_y=\"histogram\")\n",
    "fig.show()"
   ]
  },
  {
   "cell_type": "code",
   "execution_count": null,
   "metadata": {},
   "outputs": [],
   "source": [
    "def plot_shots_density_from_team(plays_df):\n",
    "    #plays_df = plays_df.loc[plays_df[\"team_initiative_id\"]==team]\n",
    "    \n",
    "    fig = px.density_contour(\n",
    "        plays_df,\n",
    "        x=\"x_coord_norm\",\n",
    "        y=\"y_coord_norm\",\n",
    "        range_x=[0,100],\n",
    "        range_y=[-43,43],\n",
    "        nbinsx=50,\n",
    "        nbinsy=43\n",
    "        )\n",
    "    \n",
    "    fig.add_layout_image(\n",
    "        dict(\n",
    "            source=\"./references/full_rink_c.png\",\n",
    "            xref=\"x\",\n",
    "            yref=\"y\",\n",
    "            x=-100,\n",
    "            y=43,\n",
    "            sizex=200,\n",
    "            sizey=86,\n",
    "            sizing=\"stretch\",\n",
    "            opacity=1,\n",
    "            layer=\"below\",\n",
    "        )\n",
    "    )\n",
    "    fig.update_yaxes(scaleanchor=\"x\", scaleratio = 1)\n",
    "    fig.update_traces(\n",
    "        line=dict(color=\"#000000\", dash=\"dot\"),\n",
    "        contours_coloring=\"fill\",\n",
    "        colorscale=\"OrRd\",\n",
    "        showscale=True,\n",
    "        opacity=0.5)\n",
    "    #fig.update_layout(template=\"plotly_white\")\n",
    "    fig.show()"
   ]
  },
  {
   "cell_type": "code",
   "execution_count": null,
   "metadata": {},
   "outputs": [],
   "source": [
    "plot_shots_density_from_team(season_plays_df[season_plays_df[\"team_initiative_id\"]==\"COL\"])"
   ]
  },
  {
   "cell_type": "code",
   "execution_count": null,
   "metadata": {},
   "outputs": [],
   "source": [
    "def league_avg(dff):\n",
    "    sum = np.empty(shape=(86, 100))\n",
    "    for i in range(0,100): # absolute x\n",
    "        for j,k in enumerate(zip(range(43, -43, -1), range(0,86))): #k[1]: sum_index, k[0]: rink index\n",
    "            sum[k[1]][i] = dff[(np.absolute(dff['x_coord'])<=i+1) & (np.absolute(dff['x_coord'])>i) & (dff['y_coord']<k[0]) & (dff['y_coord']>=k[0]-1) ]['event_type_id'].count()\n",
    "    league_average = sum/31\n",
    "    return league_average\n",
    "\n",
    "def league_team(dff, team_id, league_average):\n",
    "    sum_team = np.empty(shape=(86, 100))\n",
    "    for i in range(0,100): # absolute x\n",
    "        for j,k in enumerate(zip(range(43, -43, -1), range(0,86))): #k[1]: sum_index, k[0]: rink index\n",
    "            sum_team[k[1]][i] = dff[(np.absolute(dff['x_coord'])<=i+1) & (np.absolute(dff['x_coord'])>i) & (dff['y_coord']<k[0]) & (dff['y_coord']>=k[0]-1) & (dff['team_initiative_id']==team_id)]['event_type_id'].count()/31\n",
    "    return (league_average-sum_team)"
   ]
  },
  {
   "cell_type": "code",
   "execution_count": null,
   "metadata": {},
   "outputs": [],
   "source": [
    "team = league_team(season_plays_df, 'PHI', league_avg(season_plays_df))#for season 16-17"
   ]
  },
  {
   "cell_type": "code",
   "execution_count": null,
   "metadata": {},
   "outputs": [],
   "source": [
    "sigma = 0.9\n",
    "data = gaussian_filter(team, sigma)"
   ]
  },
  {
   "cell_type": "code",
   "execution_count": null,
   "metadata": {},
   "outputs": [],
   "source": [
    "plt.rcParams[\"figure.figsize\"] = (20,10)\n",
    "plt.contourf(data, alpha=0.7, extent=[0, 100, -43, 43])\n",
    "plt.colorbar()\n",
    "plt.show()"
   ]
  },
  {
   "cell_type": "code",
   "execution_count": null,
   "metadata": {},
   "outputs": [],
   "source": [
    "plt.rcParams[\"figure.figsize\"] = (20,10)\n",
    "\n",
    "def plotit(season, team_name):\n",
    "    dff = season_plays_df.loc[season_plays_df['game_season']==season].copy()\n",
    "    team = league_team(dff, team_name, league_avg(dff))\n",
    "    sigma = 0.9\n",
    "    data = gaussian_filter(team, sigma)\n",
    "\n",
    "    plt.contourf(data, alpha=0.8, extent=[0, 100, -43, 43])\n",
    "    plt.colorbar()\n",
    "\n",
    "    plt.show()"
   ]
  },
  {
   "cell_type": "code",
   "execution_count": null,
   "metadata": {},
   "outputs": [],
   "source": [
    "plotit(20162017, \"WAS\")"
   ]
  }
 ],
 "metadata": {
  "interpreter": {
   "hash": "ead5f43594022c7cd5f301318ae4950132a1480e3738270166fab8a4a3b2cf4b"
  },
  "kernelspec": {
   "display_name": "Python 3.8.11 64-bit ('nice_play': conda)",
   "name": "python3"
  },
  "language_info": {
   "codemirror_mode": {
    "name": "ipython",
    "version": 3
   },
   "file_extension": ".py",
   "mimetype": "text/x-python",
   "name": "python",
   "nbconvert_exporter": "python",
   "pygments_lexer": "ipython3",
   "version": "3.8.11"
  },
  "orig_nbformat": 4
 },
 "nbformat": 4,
 "nbformat_minor": 2
}
