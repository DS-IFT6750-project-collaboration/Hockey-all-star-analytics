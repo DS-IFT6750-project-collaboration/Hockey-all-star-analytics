{
 "cells": [
  {
   "cell_type": "code",
   "execution_count": 1,
   "id": "0d48d227",
   "metadata": {},
   "outputs": [],
   "source": [
    "import pandas as pd\n",
    "import numpy as np\n",
    "import matplotlib.pyplot as plt\n",
    "import seaborn as sns\n",
    "from comet_ml import Experiment\n",
    "from ipywidgets import interact, IntSlider\n",
    "\n",
    "from src.data.dataset import split_dataset, tidy_plays_df\n",
    "from src.data.data_query import StorageEngine\n",
    "from src.data.plays_model import game_json_to_plays_list\n",
    "from src.features.features import basic_features, advanced_features, normalize_plays_coords\n",
    "#from src.models.xgboost import train_xgb"
   ]
  },
  {
   "cell_type": "code",
   "execution_count": 2,
   "id": "209b6e4d",
   "metadata": {},
   "outputs": [],
   "source": [
    "from sklearn.feature_selection import SelectKBest\n",
    "from sklearn.feature_selection import chi2\n",
    "from sklearn.model_selection import train_test_split\n",
    "from sklearn.metrics import classification_report\n",
    "from sklearn.ensemble import RandomForestClassifier\n",
    "from sklearn.feature_selection import RFE\n",
    "from sklearn.linear_model import LogisticRegression"
   ]
  },
  {
   "cell_type": "code",
   "execution_count": 135,
   "id": "3d7c4022",
   "metadata": {},
   "outputs": [],
   "source": [
    "from sklearn import metrics\n",
    "from lightgbm import LGBMClassifier\n",
    "from sklearn.model_selection import RandomizedSearchCV\n",
    "import pickle"
   ]
  },
  {
   "cell_type": "code",
   "execution_count": 4,
   "id": "9376de88",
   "metadata": {},
   "outputs": [
    {
     "data": {
      "text/html": [
       "<div>\n",
       "<style scoped>\n",
       "    .dataframe tbody tr th:only-of-type {\n",
       "        vertical-align: middle;\n",
       "    }\n",
       "\n",
       "    .dataframe tbody tr th {\n",
       "        vertical-align: top;\n",
       "    }\n",
       "\n",
       "    .dataframe thead th {\n",
       "        text-align: right;\n",
       "    }\n",
       "</style>\n",
       "<table border=\"1\" class=\"dataframe\">\n",
       "  <thead>\n",
       "    <tr style=\"text-align: right;\">\n",
       "      <th></th>\n",
       "      <th>seconds_elapsed</th>\n",
       "      <th>period_idx</th>\n",
       "      <th>x_coord</th>\n",
       "      <th>y_coord</th>\n",
       "      <th>x_coord_norm</th>\n",
       "      <th>y_coord_norm</th>\n",
       "      <th>dist_from_net</th>\n",
       "      <th>angle_from_net</th>\n",
       "      <th>Backhand</th>\n",
       "      <th>Deflected</th>\n",
       "      <th>...</th>\n",
       "      <th>SHOT</th>\n",
       "      <th>STOP</th>\n",
       "      <th>TAKEAWAY</th>\n",
       "      <th>previous_x_coord</th>\n",
       "      <th>previous_y_coord</th>\n",
       "      <th>seconds_from_previous</th>\n",
       "      <th>dist_from_previous</th>\n",
       "      <th>rebound</th>\n",
       "      <th>angle_change</th>\n",
       "      <th>speed</th>\n",
       "    </tr>\n",
       "  </thead>\n",
       "  <tbody>\n",
       "    <tr>\n",
       "      <th>0</th>\n",
       "      <td>33.0</td>\n",
       "      <td>1</td>\n",
       "      <td>-83.0</td>\n",
       "      <td>13.0</td>\n",
       "      <td>83.0</td>\n",
       "      <td>-13.0</td>\n",
       "      <td>14.317821</td>\n",
       "      <td>-65.224859</td>\n",
       "      <td>0</td>\n",
       "      <td>0</td>\n",
       "      <td>...</td>\n",
       "      <td>0</td>\n",
       "      <td>0</td>\n",
       "      <td>0</td>\n",
       "      <td>0.0</td>\n",
       "      <td>0.0</td>\n",
       "      <td>33.0</td>\n",
       "      <td>84.011904</td>\n",
       "      <td>0</td>\n",
       "      <td>0.000000</td>\n",
       "      <td>2.545815</td>\n",
       "    </tr>\n",
       "    <tr>\n",
       "      <th>1</th>\n",
       "      <td>96.0</td>\n",
       "      <td>1</td>\n",
       "      <td>-34.0</td>\n",
       "      <td>2.0</td>\n",
       "      <td>34.0</td>\n",
       "      <td>-2.0</td>\n",
       "      <td>55.036352</td>\n",
       "      <td>-2.082565</td>\n",
       "      <td>0</td>\n",
       "      <td>0</td>\n",
       "      <td>...</td>\n",
       "      <td>0</td>\n",
       "      <td>0</td>\n",
       "      <td>0</td>\n",
       "      <td>-69.0</td>\n",
       "      <td>-22.0</td>\n",
       "      <td>18.0</td>\n",
       "      <td>42.438190</td>\n",
       "      <td>0</td>\n",
       "      <td>0.000000</td>\n",
       "      <td>2.357677</td>\n",
       "    </tr>\n",
       "    <tr>\n",
       "      <th>2</th>\n",
       "      <td>174.0</td>\n",
       "      <td>1</td>\n",
       "      <td>-57.0</td>\n",
       "      <td>-29.0</td>\n",
       "      <td>57.0</td>\n",
       "      <td>29.0</td>\n",
       "      <td>43.185646</td>\n",
       "      <td>42.184443</td>\n",
       "      <td>0</td>\n",
       "      <td>0</td>\n",
       "      <td>...</td>\n",
       "      <td>0</td>\n",
       "      <td>0</td>\n",
       "      <td>0</td>\n",
       "      <td>-97.0</td>\n",
       "      <td>-5.0</td>\n",
       "      <td>1.0</td>\n",
       "      <td>46.647615</td>\n",
       "      <td>0</td>\n",
       "      <td>0.000000</td>\n",
       "      <td>46.647615</td>\n",
       "    </tr>\n",
       "    <tr>\n",
       "      <th>3</th>\n",
       "      <td>221.0</td>\n",
       "      <td>1</td>\n",
       "      <td>61.0</td>\n",
       "      <td>4.0</td>\n",
       "      <td>61.0</td>\n",
       "      <td>4.0</td>\n",
       "      <td>28.284271</td>\n",
       "      <td>8.130102</td>\n",
       "      <td>0</td>\n",
       "      <td>0</td>\n",
       "      <td>...</td>\n",
       "      <td>0</td>\n",
       "      <td>0</td>\n",
       "      <td>0</td>\n",
       "      <td>88.0</td>\n",
       "      <td>-39.0</td>\n",
       "      <td>14.0</td>\n",
       "      <td>50.774009</td>\n",
       "      <td>0</td>\n",
       "      <td>0.000000</td>\n",
       "      <td>3.626715</td>\n",
       "    </tr>\n",
       "    <tr>\n",
       "      <th>4</th>\n",
       "      <td>240.0</td>\n",
       "      <td>1</td>\n",
       "      <td>64.0</td>\n",
       "      <td>7.0</td>\n",
       "      <td>64.0</td>\n",
       "      <td>7.0</td>\n",
       "      <td>25.961510</td>\n",
       "      <td>15.642246</td>\n",
       "      <td>0</td>\n",
       "      <td>0</td>\n",
       "      <td>...</td>\n",
       "      <td>1</td>\n",
       "      <td>0</td>\n",
       "      <td>0</td>\n",
       "      <td>61.0</td>\n",
       "      <td>4.0</td>\n",
       "      <td>19.0</td>\n",
       "      <td>4.242641</td>\n",
       "      <td>1</td>\n",
       "      <td>7.512144</td>\n",
       "      <td>0.223297</td>\n",
       "    </tr>\n",
       "  </tbody>\n",
       "</table>\n",
       "<p>5 rows × 35 columns</p>\n",
       "</div>"
      ],
      "text/plain": [
       "   seconds_elapsed  period_idx  x_coord  y_coord  x_coord_norm  y_coord_norm  \\\n",
       "0             33.0           1    -83.0     13.0          83.0         -13.0   \n",
       "1             96.0           1    -34.0      2.0          34.0          -2.0   \n",
       "2            174.0           1    -57.0    -29.0          57.0          29.0   \n",
       "3            221.0           1     61.0      4.0          61.0           4.0   \n",
       "4            240.0           1     64.0      7.0          64.0           7.0   \n",
       "\n",
       "   dist_from_net  angle_from_net  Backhand  Deflected  ...  SHOT  STOP  \\\n",
       "0      14.317821      -65.224859         0          0  ...     0     0   \n",
       "1      55.036352       -2.082565         0          0  ...     0     0   \n",
       "2      43.185646       42.184443         0          0  ...     0     0   \n",
       "3      28.284271        8.130102         0          0  ...     0     0   \n",
       "4      25.961510       15.642246         0          0  ...     1     0   \n",
       "\n",
       "   TAKEAWAY  previous_x_coord  previous_y_coord  seconds_from_previous  \\\n",
       "0         0               0.0               0.0                   33.0   \n",
       "1         0             -69.0             -22.0                   18.0   \n",
       "2         0             -97.0              -5.0                    1.0   \n",
       "3         0              88.0             -39.0                   14.0   \n",
       "4         0              61.0               4.0                   19.0   \n",
       "\n",
       "   dist_from_previous  rebound  angle_change      speed  \n",
       "0           84.011904        0      0.000000   2.545815  \n",
       "1           42.438190        0      0.000000   2.357677  \n",
       "2           46.647615        0      0.000000  46.647615  \n",
       "3           50.774009        0      0.000000   3.626715  \n",
       "4            4.242641        1      7.512144   0.223297  \n",
       "\n",
       "[5 rows x 35 columns]"
      ]
     },
     "execution_count": 4,
     "metadata": {},
     "output_type": "execute_result"
    }
   ],
   "source": [
    "df = pd.read_csv(\"./data/processed/plays_2015-2020.csv\", index_col=False)\n",
    "advanced_df = advanced_features(df)\n",
    "advanced_df.head()"
   ]
  },
  {
   "cell_type": "code",
   "execution_count": 145,
   "id": "15eb6e76",
   "metadata": {},
   "outputs": [
    {
     "data": {
      "text/plain": [
       "Index(['event_idx', 'event_type_id', 'period_idx', 'period_type', 'game_time',\n",
       "       'period_time', 'shot_type', 'team_initiative_id',\n",
       "       'team_initiative_name', 'x_coord', 'y_coord', 'shooter_id',\n",
       "       'shooter_name', 'goalie_id', 'goalie_name', 'strength',\n",
       "       'empty_net_bool', 'previous_event_idx', 'previous_event_period',\n",
       "       'previous_event_period_time', 'previous_event_time',\n",
       "       'previous_event_type', 'previous_event_x_coord',\n",
       "       'previous_event_y_coord', 'gamePk', 'game_season', 'game_type',\n",
       "       'game_start_time', 'x_coord_norm', 'y_coord_norm', 'angle_from_net',\n",
       "       'rebound', 'previous_event_x_coord_norm', 'previous_event_y_coord_norm',\n",
       "       'angle_change', 'is_goal'],\n",
       "      dtype='object')"
      ]
     },
     "execution_count": 145,
     "metadata": {},
     "output_type": "execute_result"
    }
   ],
   "source": [
    "df.columns"
   ]
  },
  {
   "cell_type": "code",
   "execution_count": 148,
   "id": "35c6657d",
   "metadata": {},
   "outputs": [
    {
     "data": {
      "text/plain": [
       "244391     Snap Shot\n",
       "244392    Wrist Shot\n",
       "244393      Backhand\n",
       "244394     Slap Shot\n",
       "244395    Wrist Shot\n",
       "             ...    \n",
       "244457     Snap Shot\n",
       "244458     Slap Shot\n",
       "244459     Slap Shot\n",
       "244460    Wrist Shot\n",
       "244461    Wrist Shot\n",
       "Name: shot_type, Length: 71, dtype: object"
      ]
     },
     "execution_count": 148,
     "metadata": {},
     "output_type": "execute_result"
    }
   ],
   "source": [
    "df[df['gamePk']==2017021065][]"
   ]
  },
  {
   "cell_type": "code",
   "execution_count": 150,
   "id": "7a57867a",
   "metadata": {},
   "outputs": [
    {
     "data": {
      "text/html": [
       "<div>\n",
       "<style scoped>\n",
       "    .dataframe tbody tr th:only-of-type {\n",
       "        vertical-align: middle;\n",
       "    }\n",
       "\n",
       "    .dataframe tbody tr th {\n",
       "        vertical-align: top;\n",
       "    }\n",
       "\n",
       "    .dataframe thead th {\n",
       "        text-align: right;\n",
       "    }\n",
       "</style>\n",
       "<table border=\"1\" class=\"dataframe\">\n",
       "  <thead>\n",
       "    <tr style=\"text-align: right;\">\n",
       "      <th></th>\n",
       "      <th>seconds_elapsed</th>\n",
       "      <th>period_idx</th>\n",
       "      <th>x_coord</th>\n",
       "      <th>y_coord</th>\n",
       "      <th>x_coord_norm</th>\n",
       "      <th>y_coord_norm</th>\n",
       "      <th>dist_from_net</th>\n",
       "      <th>angle_from_net</th>\n",
       "      <th>Backhand</th>\n",
       "      <th>Deflected</th>\n",
       "      <th>...</th>\n",
       "      <th>SHOT</th>\n",
       "      <th>STOP</th>\n",
       "      <th>TAKEAWAY</th>\n",
       "      <th>previous_x_coord</th>\n",
       "      <th>previous_y_coord</th>\n",
       "      <th>seconds_from_previous</th>\n",
       "      <th>dist_from_previous</th>\n",
       "      <th>rebound</th>\n",
       "      <th>angle_change</th>\n",
       "      <th>speed</th>\n",
       "    </tr>\n",
       "  </thead>\n",
       "  <tbody>\n",
       "    <tr>\n",
       "      <th>0</th>\n",
       "      <td>33.0</td>\n",
       "      <td>1</td>\n",
       "      <td>-83.0</td>\n",
       "      <td>13.0</td>\n",
       "      <td>83.0</td>\n",
       "      <td>-13.0</td>\n",
       "      <td>14.317821</td>\n",
       "      <td>-65.224859</td>\n",
       "      <td>0</td>\n",
       "      <td>0</td>\n",
       "      <td>...</td>\n",
       "      <td>0</td>\n",
       "      <td>0</td>\n",
       "      <td>0</td>\n",
       "      <td>0.0</td>\n",
       "      <td>0.0</td>\n",
       "      <td>33.0</td>\n",
       "      <td>84.011904</td>\n",
       "      <td>0</td>\n",
       "      <td>0.000000</td>\n",
       "      <td>2.545815</td>\n",
       "    </tr>\n",
       "    <tr>\n",
       "      <th>1</th>\n",
       "      <td>96.0</td>\n",
       "      <td>1</td>\n",
       "      <td>-34.0</td>\n",
       "      <td>2.0</td>\n",
       "      <td>34.0</td>\n",
       "      <td>-2.0</td>\n",
       "      <td>55.036352</td>\n",
       "      <td>-2.082565</td>\n",
       "      <td>0</td>\n",
       "      <td>0</td>\n",
       "      <td>...</td>\n",
       "      <td>0</td>\n",
       "      <td>0</td>\n",
       "      <td>0</td>\n",
       "      <td>-69.0</td>\n",
       "      <td>-22.0</td>\n",
       "      <td>18.0</td>\n",
       "      <td>42.438190</td>\n",
       "      <td>0</td>\n",
       "      <td>0.000000</td>\n",
       "      <td>2.357677</td>\n",
       "    </tr>\n",
       "    <tr>\n",
       "      <th>2</th>\n",
       "      <td>174.0</td>\n",
       "      <td>1</td>\n",
       "      <td>-57.0</td>\n",
       "      <td>-29.0</td>\n",
       "      <td>57.0</td>\n",
       "      <td>29.0</td>\n",
       "      <td>43.185646</td>\n",
       "      <td>42.184443</td>\n",
       "      <td>0</td>\n",
       "      <td>0</td>\n",
       "      <td>...</td>\n",
       "      <td>0</td>\n",
       "      <td>0</td>\n",
       "      <td>0</td>\n",
       "      <td>-97.0</td>\n",
       "      <td>-5.0</td>\n",
       "      <td>1.0</td>\n",
       "      <td>46.647615</td>\n",
       "      <td>0</td>\n",
       "      <td>0.000000</td>\n",
       "      <td>46.647615</td>\n",
       "    </tr>\n",
       "    <tr>\n",
       "      <th>3</th>\n",
       "      <td>221.0</td>\n",
       "      <td>1</td>\n",
       "      <td>61.0</td>\n",
       "      <td>4.0</td>\n",
       "      <td>61.0</td>\n",
       "      <td>4.0</td>\n",
       "      <td>28.284271</td>\n",
       "      <td>8.130102</td>\n",
       "      <td>0</td>\n",
       "      <td>0</td>\n",
       "      <td>...</td>\n",
       "      <td>0</td>\n",
       "      <td>0</td>\n",
       "      <td>0</td>\n",
       "      <td>88.0</td>\n",
       "      <td>-39.0</td>\n",
       "      <td>14.0</td>\n",
       "      <td>50.774009</td>\n",
       "      <td>0</td>\n",
       "      <td>0.000000</td>\n",
       "      <td>3.626715</td>\n",
       "    </tr>\n",
       "    <tr>\n",
       "      <th>4</th>\n",
       "      <td>240.0</td>\n",
       "      <td>1</td>\n",
       "      <td>64.0</td>\n",
       "      <td>7.0</td>\n",
       "      <td>64.0</td>\n",
       "      <td>7.0</td>\n",
       "      <td>25.961510</td>\n",
       "      <td>15.642246</td>\n",
       "      <td>0</td>\n",
       "      <td>0</td>\n",
       "      <td>...</td>\n",
       "      <td>1</td>\n",
       "      <td>0</td>\n",
       "      <td>0</td>\n",
       "      <td>61.0</td>\n",
       "      <td>4.0</td>\n",
       "      <td>19.0</td>\n",
       "      <td>4.242641</td>\n",
       "      <td>1</td>\n",
       "      <td>7.512144</td>\n",
       "      <td>0.223297</td>\n",
       "    </tr>\n",
       "  </tbody>\n",
       "</table>\n",
       "<p>5 rows × 35 columns</p>\n",
       "</div>"
      ],
      "text/plain": [
       "   seconds_elapsed  period_idx  x_coord  y_coord  x_coord_norm  y_coord_norm  \\\n",
       "0             33.0           1    -83.0     13.0          83.0         -13.0   \n",
       "1             96.0           1    -34.0      2.0          34.0          -2.0   \n",
       "2            174.0           1    -57.0    -29.0          57.0          29.0   \n",
       "3            221.0           1     61.0      4.0          61.0           4.0   \n",
       "4            240.0           1     64.0      7.0          64.0           7.0   \n",
       "\n",
       "   dist_from_net  angle_from_net  Backhand  Deflected  ...  SHOT  STOP  \\\n",
       "0      14.317821      -65.224859         0          0  ...     0     0   \n",
       "1      55.036352       -2.082565         0          0  ...     0     0   \n",
       "2      43.185646       42.184443         0          0  ...     0     0   \n",
       "3      28.284271        8.130102         0          0  ...     0     0   \n",
       "4      25.961510       15.642246         0          0  ...     1     0   \n",
       "\n",
       "   TAKEAWAY  previous_x_coord  previous_y_coord  seconds_from_previous  \\\n",
       "0         0               0.0               0.0                   33.0   \n",
       "1         0             -69.0             -22.0                   18.0   \n",
       "2         0             -97.0              -5.0                    1.0   \n",
       "3         0              88.0             -39.0                   14.0   \n",
       "4         0              61.0               4.0                   19.0   \n",
       "\n",
       "   dist_from_previous  rebound  angle_change      speed  \n",
       "0           84.011904        0      0.000000   2.545815  \n",
       "1           42.438190        0      0.000000   2.357677  \n",
       "2           46.647615        0      0.000000  46.647615  \n",
       "3           50.774009        0      0.000000   3.626715  \n",
       "4            4.242641        1      7.512144   0.223297  \n",
       "\n",
       "[5 rows x 35 columns]"
      ]
     },
     "execution_count": 150,
     "metadata": {},
     "output_type": "execute_result"
    }
   ],
   "source": [
    "advanced_df.head()"
   ]
  },
  {
   "cell_type": "code",
   "execution_count": 140,
   "id": "3ae020fd",
   "metadata": {},
   "outputs": [
    {
     "data": {
      "text/html": [
       "<div>\n",
       "<style scoped>\n",
       "    .dataframe tbody tr th:only-of-type {\n",
       "        vertical-align: middle;\n",
       "    }\n",
       "\n",
       "    .dataframe tbody tr th {\n",
       "        vertical-align: top;\n",
       "    }\n",
       "\n",
       "    .dataframe thead th {\n",
       "        text-align: right;\n",
       "    }\n",
       "</style>\n",
       "<table border=\"1\" class=\"dataframe\">\n",
       "  <thead>\n",
       "    <tr style=\"text-align: right;\">\n",
       "      <th></th>\n",
       "      <th>gamePk</th>\n",
       "      <th>period_idx</th>\n",
       "      <th>x_coord</th>\n",
       "      <th>y_coord</th>\n",
       "    </tr>\n",
       "  </thead>\n",
       "  <tbody>\n",
       "    <tr>\n",
       "      <th>0</th>\n",
       "      <td>2015010002</td>\n",
       "      <td>1</td>\n",
       "      <td>-83.0</td>\n",
       "      <td>13.0</td>\n",
       "    </tr>\n",
       "    <tr>\n",
       "      <th>1</th>\n",
       "      <td>2015010002</td>\n",
       "      <td>1</td>\n",
       "      <td>-34.0</td>\n",
       "      <td>2.0</td>\n",
       "    </tr>\n",
       "    <tr>\n",
       "      <th>2</th>\n",
       "      <td>2015010002</td>\n",
       "      <td>1</td>\n",
       "      <td>-57.0</td>\n",
       "      <td>-29.0</td>\n",
       "    </tr>\n",
       "    <tr>\n",
       "      <th>3</th>\n",
       "      <td>2015010002</td>\n",
       "      <td>1</td>\n",
       "      <td>61.0</td>\n",
       "      <td>4.0</td>\n",
       "    </tr>\n",
       "    <tr>\n",
       "      <th>4</th>\n",
       "      <td>2015010002</td>\n",
       "      <td>1</td>\n",
       "      <td>64.0</td>\n",
       "      <td>7.0</td>\n",
       "    </tr>\n",
       "  </tbody>\n",
       "</table>\n",
       "</div>"
      ],
      "text/plain": [
       "       gamePk  period_idx  x_coord  y_coord\n",
       "0  2015010002           1    -83.0     13.0\n",
       "1  2015010002           1    -34.0      2.0\n",
       "2  2015010002           1    -57.0    -29.0\n",
       "3  2015010002           1     61.0      4.0\n",
       "4  2015010002           1     64.0      7.0"
      ]
     },
     "execution_count": 140,
     "metadata": {},
     "output_type": "execute_result"
    }
   ],
   "source": [
    "df[['gamePk','period_idx', 'x_coord','y_coord']].head()"
   ]
  },
  {
   "cell_type": "code",
   "execution_count": 152,
   "id": "45e07026",
   "metadata": {},
   "outputs": [
    {
     "name": "stderr",
     "output_type": "stream",
     "text": [
      "\n",
      "A value is trying to be set on a copy of a slice from a DataFrame\n",
      "\n",
      "See the caveats in the documentation: https://pandas.pydata.org/pandas-docs/stable/user_guide/indexing.html#returning-a-view-versus-a-copy\n"
     ]
    }
   ],
   "source": [
    "#df3 = pd.get_dummies(df.shot_type)\n",
    "df2 = pd.get_dummies(df.period_type)\n",
    "df['game_time'] = df['game_time'].astype('datetime64[ns]')\n",
    "result_df = pd.concat([advanced_df, df2, df[['game_time','is_goal','gamePk']]], axis=1).round(2).fillna(0)\n",
    "result_df['game_time'] = result_df['game_time'].astype('datetime64[ns]')\n",
    "df['is_goal'] = np.where(df.event_type_id == \"GOAL\",1,0)\n",
    "\n",
    "\n",
    "dff = result_df[result_df['game_time'].dt.year<=2019]\n",
    "test = result_df[result_df['game_time'].dt.year>2019]\n",
    "dff.drop(['game_time'],axis=1,inplace=True)\n",
    "dff = dff.replace({np.nan: 0, np.inf:0, -np.inf:0})"
   ]
  },
  {
   "cell_type": "code",
   "execution_count": 160,
   "id": "f9d57f7b",
   "metadata": {},
   "outputs": [
    {
     "data": {
      "text/plain": [
       "Index(['event_idx', 'event_type_id', 'period_idx', 'period_type', 'game_time',\n",
       "       'period_time', 'shot_type', 'team_initiative_id',\n",
       "       'team_initiative_name', 'x_coord', 'y_coord', 'shooter_id',\n",
       "       'shooter_name', 'goalie_id', 'goalie_name', 'strength',\n",
       "       'empty_net_bool', 'previous_event_idx', 'previous_event_period',\n",
       "       'previous_event_period_time', 'previous_event_time',\n",
       "       'previous_event_type', 'previous_event_x_coord',\n",
       "       'previous_event_y_coord', 'gamePk', 'game_season', 'game_type',\n",
       "       'game_start_time', 'x_coord_norm', 'y_coord_norm', 'angle_from_net',\n",
       "       'rebound', 'previous_event_x_coord_norm', 'previous_event_y_coord_norm',\n",
       "       'angle_change', 'is_goal'],\n",
       "      dtype='object')"
      ]
     },
     "execution_count": 160,
     "metadata": {},
     "output_type": "execute_result"
    }
   ],
   "source": [
    "df.columns"
   ]
  },
  {
   "cell_type": "code",
   "execution_count": 162,
   "id": "cd5117b9",
   "metadata": {},
   "outputs": [
    {
     "data": {
      "text/plain": [
       "0        1900-01-01 00:00:33\n",
       "1        1900-01-01 00:01:36\n",
       "2        1900-01-01 00:02:54\n",
       "3        1900-01-01 00:03:41\n",
       "4        1900-01-01 00:04:00\n",
       "                 ...        \n",
       "437690   1900-01-01 00:16:01\n",
       "437691   1900-01-01 00:17:20\n",
       "437692   1900-01-01 00:18:50\n",
       "437693   1900-01-01 00:19:27\n",
       "437694   1900-01-01 00:19:45\n",
       "Name: period_time, Length: 437695, dtype: datetime64[ns]"
      ]
     },
     "execution_count": 162,
     "metadata": {},
     "output_type": "execute_result"
    }
   ],
   "source": [
    "df['period_time']"
   ]
  },
  {
   "cell_type": "code",
   "execution_count": 159,
   "id": "6001a677",
   "metadata": {},
   "outputs": [
    {
     "data": {
      "text/plain": [
       "Index(['seconds_elapsed', 'period_idx', 'x_coord', 'y_coord', 'x_coord_norm',\n",
       "       'y_coord_norm', 'dist_from_net', 'angle_from_net', 'Backhand',\n",
       "       'Deflected', 'Slap Shot', 'Snap Shot', 'Tip-In', 'Wrap-around',\n",
       "       'Wrist Shot', 'empty_net', 'BLOCKED_SHOT', 'FACEOFF', 'GIVEAWAY',\n",
       "       'GOAL', 'HIT', 'MISSED_SHOT', 'OTHER', 'PENALTY', 'PERIOD_START',\n",
       "       'SHOT', 'STOP', 'TAKEAWAY', 'previous_x_coord', 'previous_y_coord',\n",
       "       'seconds_from_previous', 'dist_from_previous', 'rebound',\n",
       "       'angle_change', 'speed', 'OVERTIME', 'REGULAR', 'SHOOTOUT', 'game_time',\n",
       "       'is_goal', 'gamePk'],\n",
       "      dtype='object')"
      ]
     },
     "execution_count": 159,
     "metadata": {},
     "output_type": "execute_result"
    }
   ],
   "source": [
    "result_df[result_df['gamePk']==2017021065].columns"
   ]
  },
  {
   "cell_type": "code",
   "execution_count": 81,
   "id": "0c1b539f",
   "metadata": {},
   "outputs": [],
   "source": [
    "X_train, X_test, y_train, y_test = train_test_split(dff.drop(['is_goal','empty_net'],axis=1).fillna(0), dff['is_goal'], test_size=0.30, random_state=42)\n"
   ]
  },
  {
   "cell_type": "markdown",
   "id": "da4748b3",
   "metadata": {},
   "source": [
    "### feature selection"
   ]
  },
  {
   "cell_type": "code",
   "execution_count": 116,
   "id": "7fa8ca65",
   "metadata": {},
   "outputs": [
    {
     "name": "stderr",
     "output_type": "stream",
     "text": [
      "lbfgs failed to converge (status=1):\n",
      "STOP: TOTAL NO. of ITERATIONS REACHED LIMIT.\n",
      "\n",
      "Increase the number of iterations (max_iter) or scale the data as shown in:\n",
      "    https://scikit-learn.org/stable/modules/preprocessing.html\n",
      "Please also refer to the documentation for alternative solver options:\n",
      "    https://scikit-learn.org/stable/modules/linear_model.html#logistic-regression\n",
      "lbfgs failed to converge (status=1):\n",
      "STOP: TOTAL NO. of ITERATIONS REACHED LIMIT.\n",
      "\n",
      "Increase the number of iterations (max_iter) or scale the data as shown in:\n",
      "    https://scikit-learn.org/stable/modules/preprocessing.html\n",
      "Please also refer to the documentation for alternative solver options:\n",
      "    https://scikit-learn.org/stable/modules/linear_model.html#logistic-regression\n",
      "lbfgs failed to converge (status=1):\n",
      "STOP: TOTAL NO. of ITERATIONS REACHED LIMIT.\n",
      "\n",
      "Increase the number of iterations (max_iter) or scale the data as shown in:\n",
      "    https://scikit-learn.org/stable/modules/preprocessing.html\n",
      "Please also refer to the documentation for alternative solver options:\n",
      "    https://scikit-learn.org/stable/modules/linear_model.html#logistic-regression\n",
      "lbfgs failed to converge (status=1):\n",
      "STOP: TOTAL NO. of ITERATIONS REACHED LIMIT.\n",
      "\n",
      "Increase the number of iterations (max_iter) or scale the data as shown in:\n",
      "    https://scikit-learn.org/stable/modules/preprocessing.html\n",
      "Please also refer to the documentation for alternative solver options:\n",
      "    https://scikit-learn.org/stable/modules/linear_model.html#logistic-regression\n",
      "lbfgs failed to converge (status=1):\n",
      "STOP: TOTAL NO. of ITERATIONS REACHED LIMIT.\n",
      "\n",
      "Increase the number of iterations (max_iter) or scale the data as shown in:\n",
      "    https://scikit-learn.org/stable/modules/preprocessing.html\n",
      "Please also refer to the documentation for alternative solver options:\n",
      "    https://scikit-learn.org/stable/modules/linear_model.html#logistic-regression\n",
      "lbfgs failed to converge (status=1):\n",
      "STOP: TOTAL NO. of ITERATIONS REACHED LIMIT.\n",
      "\n",
      "Increase the number of iterations (max_iter) or scale the data as shown in:\n",
      "    https://scikit-learn.org/stable/modules/preprocessing.html\n",
      "Please also refer to the documentation for alternative solver options:\n",
      "    https://scikit-learn.org/stable/modules/linear_model.html#logistic-regression\n",
      "lbfgs failed to converge (status=1):\n",
      "STOP: TOTAL NO. of ITERATIONS REACHED LIMIT.\n",
      "\n",
      "Increase the number of iterations (max_iter) or scale the data as shown in:\n",
      "    https://scikit-learn.org/stable/modules/preprocessing.html\n",
      "Please also refer to the documentation for alternative solver options:\n",
      "    https://scikit-learn.org/stable/modules/linear_model.html#logistic-regression\n"
     ]
    },
    {
     "name": "stdout",
     "output_type": "stream",
     "text": [
      "Num Features: 30\n",
      "Selected Features: [ True  True False  True  True  True  True  True  True  True  True  True\n",
      "  True  True  True False  True  True  True  True False False  True False\n",
      "  True  True  True  True  True  True  True  True False  True  True False\n",
      "  True]\n",
      "Feature Ranking: [1 1 5 1 1 1 1 1 1 1 1 1 1 1 1 8 1 1 1 1 6 7 1 4 1 1 1 1 1 1 1 1 2 1 1 3 1]\n"
     ]
    },
    {
     "name": "stderr",
     "output_type": "stream",
     "text": [
      "lbfgs failed to converge (status=1):\n",
      "STOP: TOTAL NO. of ITERATIONS REACHED LIMIT.\n",
      "\n",
      "Increase the number of iterations (max_iter) or scale the data as shown in:\n",
      "    https://scikit-learn.org/stable/modules/preprocessing.html\n",
      "Please also refer to the documentation for alternative solver options:\n",
      "    https://scikit-learn.org/stable/modules/linear_model.html#logistic-regression\n"
     ]
    }
   ],
   "source": [
    "model = LogisticRegression()\n",
    "rfe = RFE(model, n_features_to_select=30, step=1)\n",
    "fit = rfe.fit(X_train, y_train)\n",
    "print(\"Num Features: %s\" % (fit.n_features_))\n",
    "print(\"Selected Features: %s\" % (fit.support_))\n",
    "print(\"Feature Ranking: %s\" % (fit.ranking_))"
   ]
  },
  {
   "cell_type": "code",
   "execution_count": 117,
   "id": "c54c8bbd",
   "metadata": {},
   "outputs": [],
   "source": [
    "feature_select = pd.DataFrame()\n",
    "feature_select['features'] = X_train.columns\n",
    "feature_select['RFE_select'] = fit.support_"
   ]
  },
  {
   "cell_type": "code",
   "execution_count": 124,
   "id": "2d6fdd39",
   "metadata": {},
   "outputs": [
    {
     "name": "stdout",
     "output_type": "stream",
     "text": [
      "Num Features: 30\n",
      "Selected Features: [ True  True  True  True  True  True  True  True  True  True  True  True\n",
      "  True  True  True  True  True  True False  True  True False False False\n",
      "  True False  True  True  True  True  True  True  True  True False  True\n",
      " False]\n",
      "Feature Ranking: [1 1 1 1 1 1 1 1 1 1 1 1 1 1 1 1 1 1 6 1 1 7 4 8 1 5 1 1 1 1 1 1 1 1 2 1 3]\n"
     ]
    }
   ],
   "source": [
    "model = RandomForestClassifier(random_state = 42)\n",
    "rfe = RFE(model, n_features_to_select=30, step=1)\n",
    "fit = rfe.fit(X_train, y_train)\n",
    "print(\"Num Features: %s\" % (fit.n_features_))\n",
    "print(\"Selected Features: %s\" % (fit.support_))\n",
    "print(\"Feature Ranking: %s\" % (fit.ranking_))"
   ]
  },
  {
   "cell_type": "code",
   "execution_count": 125,
   "id": "53459d6a",
   "metadata": {},
   "outputs": [],
   "source": [
    "feature_select['RFE_random_forest'] = fit.support_"
   ]
  },
  {
   "cell_type": "code",
   "execution_count": 126,
   "id": "f851c5d2",
   "metadata": {},
   "outputs": [],
   "source": [
    "feature_select['select'] = np.where((feature_select['RFE_select']==True)&(feature_select['RFE_select']==True),1,0)"
   ]
  },
  {
   "cell_type": "code",
   "execution_count": 127,
   "id": "e1dcf18f",
   "metadata": {},
   "outputs": [],
   "source": [
    "features = feature_select[feature_select['select']==1]['features'].tolist()"
   ]
  },
  {
   "cell_type": "code",
   "execution_count": 120,
   "id": "54aabc70",
   "metadata": {},
   "outputs": [
    {
     "data": {
      "text/plain": [
       "Index(['seconds_elapsed', 'period_idx', 'x_coord', 'y_coord', 'x_coord_norm',\n",
       "       'y_coord_norm', 'dist_from_net', 'angle_from_net', 'Backhand',\n",
       "       'Deflected', 'Slap Shot', 'Snap Shot', 'Tip-In', 'Wrap-around',\n",
       "       'Wrist Shot', 'BLOCKED_SHOT', 'FACEOFF', 'GIVEAWAY', 'GOAL', 'HIT',\n",
       "       'MISSED_SHOT', 'OTHER', 'PENALTY', 'PERIOD_START', 'SHOT', 'STOP',\n",
       "       'TAKEAWAY', 'previous_x_coord', 'previous_y_coord',\n",
       "       'seconds_from_previous', 'dist_from_previous', 'rebound',\n",
       "       'angle_change', 'speed', 'OVERTIME', 'REGULAR', 'SHOOTOUT'],\n",
       "      dtype='object')"
      ]
     },
     "execution_count": 120,
     "metadata": {},
     "output_type": "execute_result"
    }
   ],
   "source": [
    "X_train.columns"
   ]
  },
  {
   "cell_type": "code",
   "execution_count": 26,
   "id": "fe22f71c",
   "metadata": {
    "collapsed": true
   },
   "outputs": [
    {
     "ename": "ValueError",
     "evalue": "The input feature(s) should be numeric type. Some of the input features                             has character values in it. Please use a encoder before performing monotonic operations.",
     "output_type": "error",
     "traceback": [
      "\u001b[0;31m---------------------------------------------------------------------------\u001b[0m",
      "\u001b[0;31mValueError\u001b[0m                                Traceback (most recent call last)",
      "\u001b[0;32m/opt/anaconda3/envs/DS_project/lib/python3.8/site-packages/xverse/transformer/_binning.py\u001b[0m in \u001b[0;36mfit\u001b[0;34m(self, X, y)\u001b[0m\n\u001b[1;32m    114\u001b[0m         \u001b[0;32mtry\u001b[0m\u001b[0;34m:\u001b[0m\u001b[0;34m\u001b[0m\u001b[0;34m\u001b[0m\u001b[0m\n\u001b[0;32m--> 115\u001b[0;31m             fit_X = pd.DataFrame(check_array(temp_X, accept_sparse=True, force_all_finite=False, \\\n\u001b[0m\u001b[1;32m    116\u001b[0m                                              copy=True), columns=fit_on_features)\n",
      "\u001b[0;32m/opt/anaconda3/envs/DS_project/lib/python3.8/site-packages/pandas/core/frame.py\u001b[0m in \u001b[0;36m__init__\u001b[0;34m(self, data, index, columns, dtype, copy)\u001b[0m\n\u001b[1;32m    671\u001b[0m             \u001b[0;32melse\u001b[0m\u001b[0;34m:\u001b[0m\u001b[0;34m\u001b[0m\u001b[0;34m\u001b[0m\u001b[0m\n\u001b[0;32m--> 672\u001b[0;31m                 mgr = ndarray_to_mgr(\n\u001b[0m\u001b[1;32m    673\u001b[0m                     \u001b[0mdata\u001b[0m\u001b[0;34m,\u001b[0m\u001b[0;34m\u001b[0m\u001b[0;34m\u001b[0m\u001b[0m\n",
      "\u001b[0;32m/opt/anaconda3/envs/DS_project/lib/python3.8/site-packages/pandas/core/internals/construction.py\u001b[0m in \u001b[0;36mndarray_to_mgr\u001b[0;34m(values, index, columns, dtype, copy, typ)\u001b[0m\n\u001b[1;32m    323\u001b[0m \u001b[0;34m\u001b[0m\u001b[0m\n\u001b[0;32m--> 324\u001b[0;31m     \u001b[0m_check_values_indices_shape_match\u001b[0m\u001b[0;34m(\u001b[0m\u001b[0mvalues\u001b[0m\u001b[0;34m,\u001b[0m \u001b[0mindex\u001b[0m\u001b[0;34m,\u001b[0m \u001b[0mcolumns\u001b[0m\u001b[0;34m)\u001b[0m\u001b[0;34m\u001b[0m\u001b[0;34m\u001b[0m\u001b[0m\n\u001b[0m\u001b[1;32m    325\u001b[0m \u001b[0;34m\u001b[0m\u001b[0m\n",
      "\u001b[0;32m/opt/anaconda3/envs/DS_project/lib/python3.8/site-packages/pandas/core/internals/construction.py\u001b[0m in \u001b[0;36m_check_values_indices_shape_match\u001b[0;34m(values, index, columns)\u001b[0m\n\u001b[1;32m    392\u001b[0m         \u001b[0mimplied\u001b[0m \u001b[0;34m=\u001b[0m \u001b[0;34m(\u001b[0m\u001b[0mlen\u001b[0m\u001b[0;34m(\u001b[0m\u001b[0mindex\u001b[0m\u001b[0;34m)\u001b[0m\u001b[0;34m,\u001b[0m \u001b[0mlen\u001b[0m\u001b[0;34m(\u001b[0m\u001b[0mcolumns\u001b[0m\u001b[0;34m)\u001b[0m\u001b[0;34m)\u001b[0m\u001b[0;34m\u001b[0m\u001b[0;34m\u001b[0m\u001b[0m\n\u001b[0;32m--> 393\u001b[0;31m         \u001b[0;32mraise\u001b[0m \u001b[0mValueError\u001b[0m\u001b[0;34m(\u001b[0m\u001b[0;34mf\"Shape of passed values is {passed}, indices imply {implied}\"\u001b[0m\u001b[0;34m)\u001b[0m\u001b[0;34m\u001b[0m\u001b[0;34m\u001b[0m\u001b[0m\n\u001b[0m\u001b[1;32m    394\u001b[0m \u001b[0;34m\u001b[0m\u001b[0m\n",
      "\u001b[0;31mValueError\u001b[0m: Shape of passed values is (279548, 58), indices imply (279548, 44)",
      "\nDuring handling of the above exception, another exception occurred:\n",
      "\u001b[0;31mValueError\u001b[0m                                Traceback (most recent call last)",
      "\u001b[0;32m/var/folders/d0/l9cqdxf90hbg0dj97q8bs7kc0000gn/T/ipykernel_73696/2264778872.py\u001b[0m in \u001b[0;36m<module>\u001b[0;34m\u001b[0m\n\u001b[1;32m      1\u001b[0m \u001b[0;32mfrom\u001b[0m \u001b[0mxverse\u001b[0m\u001b[0;34m.\u001b[0m\u001b[0mtransformer\u001b[0m \u001b[0;32mimport\u001b[0m \u001b[0mWOE\u001b[0m\u001b[0;34m\u001b[0m\u001b[0;34m\u001b[0m\u001b[0m\n\u001b[1;32m      2\u001b[0m \u001b[0mclf\u001b[0m \u001b[0;34m=\u001b[0m \u001b[0mWOE\u001b[0m\u001b[0;34m(\u001b[0m\u001b[0;34m)\u001b[0m\u001b[0;34m\u001b[0m\u001b[0;34m\u001b[0m\u001b[0m\n\u001b[0;32m----> 3\u001b[0;31m \u001b[0mclf\u001b[0m\u001b[0;34m.\u001b[0m\u001b[0mfit\u001b[0m\u001b[0;34m(\u001b[0m\u001b[0mX_train\u001b[0m\u001b[0;34m,\u001b[0m \u001b[0my_train\u001b[0m\u001b[0;34m)\u001b[0m\u001b[0;34m\u001b[0m\u001b[0;34m\u001b[0m\u001b[0m\n\u001b[0m",
      "\u001b[0;32m/opt/anaconda3/envs/DS_project/lib/python3.8/site-packages/xverse/transformer/_woe.py\u001b[0m in \u001b[0;36mfit\u001b[0;34m(self, X, y)\u001b[0m\n\u001b[1;32m    135\u001b[0m                                             \u001b[0mcardinality_cutoff\u001b[0m\u001b[0;34m=\u001b[0m\u001b[0mself\u001b[0m\u001b[0;34m.\u001b[0m\u001b[0mmono_cardinality_cutoff\u001b[0m\u001b[0;34m,\u001b[0m\u001b[0;34m\u001b[0m\u001b[0;34m\u001b[0m\u001b[0m\n\u001b[1;32m    136\u001b[0m                                             prefix=self.mono_prefix, custom_binning=self.mono_custom_binning)\n\u001b[0;32m--> 137\u001b[0;31m             \u001b[0mX\u001b[0m \u001b[0;34m=\u001b[0m \u001b[0mself\u001b[0m\u001b[0;34m.\u001b[0m\u001b[0mmono_bin_clf\u001b[0m\u001b[0;34m.\u001b[0m\u001b[0mfit_transform\u001b[0m\u001b[0;34m(\u001b[0m\u001b[0mX\u001b[0m\u001b[0;34m,\u001b[0m \u001b[0my\u001b[0m\u001b[0;34m)\u001b[0m\u001b[0;34m\u001b[0m\u001b[0;34m\u001b[0m\u001b[0m\n\u001b[0m\u001b[1;32m    138\u001b[0m             \u001b[0mself\u001b[0m\u001b[0;34m.\u001b[0m\u001b[0mmono_custom_binning\u001b[0m \u001b[0;34m=\u001b[0m \u001b[0mself\u001b[0m\u001b[0;34m.\u001b[0m\u001b[0mmono_bin_clf\u001b[0m\u001b[0;34m.\u001b[0m\u001b[0mbins\u001b[0m\u001b[0;34m\u001b[0m\u001b[0;34m\u001b[0m\u001b[0m\n\u001b[1;32m    139\u001b[0m \u001b[0;34m\u001b[0m\u001b[0m\n",
      "\u001b[0;32m/opt/anaconda3/envs/DS_project/lib/python3.8/site-packages/xverse/transformer/_binning.py\u001b[0m in \u001b[0;36mfit_transform\u001b[0;34m(self, X, y)\u001b[0m\n\u001b[1;32m    255\u001b[0m     \u001b[0;31m#Method that describes what we need this transformer to do\u001b[0m\u001b[0;34m\u001b[0m\u001b[0;34m\u001b[0m\u001b[0;34m\u001b[0m\u001b[0m\n\u001b[1;32m    256\u001b[0m     \u001b[0;32mdef\u001b[0m \u001b[0mfit_transform\u001b[0m\u001b[0;34m(\u001b[0m\u001b[0mself\u001b[0m\u001b[0;34m,\u001b[0m \u001b[0mX\u001b[0m\u001b[0;34m,\u001b[0m \u001b[0my\u001b[0m\u001b[0;34m)\u001b[0m\u001b[0;34m:\u001b[0m\u001b[0;34m\u001b[0m\u001b[0;34m\u001b[0m\u001b[0m\n\u001b[0;32m--> 257\u001b[0;31m         \u001b[0;32mreturn\u001b[0m \u001b[0mself\u001b[0m\u001b[0;34m.\u001b[0m\u001b[0mfit\u001b[0m\u001b[0;34m(\u001b[0m\u001b[0mX\u001b[0m\u001b[0;34m,\u001b[0m \u001b[0my\u001b[0m\u001b[0;34m)\u001b[0m\u001b[0;34m.\u001b[0m\u001b[0mtransform\u001b[0m\u001b[0;34m(\u001b[0m\u001b[0mX\u001b[0m\u001b[0;34m)\u001b[0m\u001b[0;34m\u001b[0m\u001b[0;34m\u001b[0m\u001b[0m\n\u001b[0m",
      "\u001b[0;32m/opt/anaconda3/envs/DS_project/lib/python3.8/site-packages/xverse/transformer/_binning.py\u001b[0m in \u001b[0;36mfit\u001b[0;34m(self, X, y)\u001b[0m\n\u001b[1;32m    116\u001b[0m                                              copy=True), columns=fit_on_features)\n\u001b[1;32m    117\u001b[0m         \u001b[0;32mexcept\u001b[0m\u001b[0;34m:\u001b[0m\u001b[0;34m\u001b[0m\u001b[0;34m\u001b[0m\u001b[0m\n\u001b[0;32m--> 118\u001b[0;31m             raise ValueError(\"The input feature(s) should be numeric type. Some of the input features \\\n\u001b[0m\u001b[1;32m    119\u001b[0m                             has character values in it. Please use a encoder before performing monotonic operations.\")\n\u001b[1;32m    120\u001b[0m \u001b[0;34m\u001b[0m\u001b[0m\n",
      "\u001b[0;31mValueError\u001b[0m: The input feature(s) should be numeric type. Some of the input features                             has character values in it. Please use a encoder before performing monotonic operations."
     ]
    }
   ],
   "source": [
    "from xverse.transformer import WOE\n",
    "clf = WOE()\n",
    "clf.fit(X_train, y_train)"
   ]
  },
  {
   "cell_type": "code",
   "execution_count": null,
   "id": "a07126bc",
   "metadata": {},
   "outputs": [],
   "source": [
    "## cross validation"
   ]
  },
  {
   "cell_type": "code",
   "execution_count": 94,
   "id": "eed1ec02",
   "metadata": {},
   "outputs": [
    {
     "name": "stdout",
     "output_type": "stream",
     "text": [
      "              precision    recall  f1-score   support\n",
      "\n",
      "           0       0.91      1.00      0.95    108525\n",
      "           1       0.49      0.03      0.05     11282\n",
      "\n",
      "    accuracy                           0.91    119807\n",
      "   macro avg       0.70      0.51      0.50    119807\n",
      "weighted avg       0.87      0.91      0.87    119807\n",
      "\n",
      "              precision    recall  f1-score   support\n",
      "\n",
      "           0       0.91      1.00      0.95    253000\n",
      "           1       0.51      0.03      0.06     26548\n",
      "\n",
      "    accuracy                           0.91    279548\n",
      "   macro avg       0.71      0.51      0.50    279548\n",
      "weighted avg       0.87      0.91      0.87    279548\n",
      "\n"
     ]
    }
   ],
   "source": [
    "## MLP\n",
    "from sklearn.neural_network import MLPClassifier\n",
    "clf = MLPClassifier(random_state=1, max_iter=300).fit(X_train[features], y_train)\n",
    "print(classification_report(y_test, clf.predict(X_test[features])))\n",
    "print(classification_report(y_train, clf.predict(X_train[features])))\n",
    "##Light gbm"
   ]
  },
  {
   "cell_type": "code",
   "execution_count": 133,
   "id": "b1798ed4",
   "metadata": {},
   "outputs": [
    {
     "name": "stdout",
     "output_type": "stream",
     "text": [
      "              precision    recall  f1-score   support\n",
      "\n",
      "           0       0.92      0.96      0.94    108525\n",
      "           1       0.32      0.18      0.23     11282\n",
      "\n",
      "    accuracy                           0.89    119807\n",
      "   macro avg       0.62      0.57      0.59    119807\n",
      "weighted avg       0.86      0.89      0.87    119807\n",
      "\n",
      "              precision    recall  f1-score   support\n",
      "\n",
      "           0       0.92      0.96      0.94    253000\n",
      "           1       0.31      0.18      0.23     26548\n",
      "\n",
      "    accuracy                           0.88    279548\n",
      "   macro avg       0.62      0.57      0.58    279548\n",
      "weighted avg       0.86      0.88      0.87    279548\n",
      "\n"
     ]
    }
   ],
   "source": [
    "## Random forest\n",
    "randomForest = RandomForestClassifier(random_state = 42, max_depth=6, class_weight = {0: 0.2, 1: 0.8}).fit(X_train[features], y_train)\n",
    "print(classification_report(y_test, randomForest.predict(X_test[features])))\n",
    "print(classification_report(y_train, randomForest.predict(X_train[features])))\n"
   ]
  },
  {
   "cell_type": "code",
   "execution_count": 96,
   "id": "bae623e2",
   "metadata": {},
   "outputs": [
    {
     "data": {
      "image/png": "[encoded data removed]",
      "text/plain": [
       "<Figure size 432x288 with 1 Axes>"
      ]
     },
     "metadata": {
      "needs_background": "light"
     },
     "output_type": "display_data"
    }
   ],
   "source": [
    "\n",
    "y_pred_proba = clf.predict_proba(X_test[features])[::,1]\n",
    "fpr, tpr, _ = metrics.roc_curve(y_test,  y_pred_proba)\n",
    "auc = metrics.roc_auc_score(y_test, y_pred_proba)\n",
    "plt.plot(fpr,tpr,label=\" , auc=\"+str(auc))\n",
    "plt.legend(loc=4)\n",
    "plt.xticks(rotation=50)\n",
    "plt.xlabel('False Positive Rate', fontsize=18)\n",
    "plt.ylabel('True Positive rate', fontsize=16)\n",
    "plt.show()"
   ]
  },
  {
   "cell_type": "code",
   "execution_count": 130,
   "id": "43d5b992",
   "metadata": {},
   "outputs": [
    {
     "name": "stdout",
     "output_type": "stream",
     "text": [
      "[LightGBM] [Warning] min_gain_to_split is set=0.3, min_split_gain=0.0 will be ignored. Current value: min_gain_to_split=0.3\n"
     ]
    }
   ],
   "source": [
    "model = LGBMClassifier(class_weight={0: 0.2, 1: 0.8}, metric='auc',\n",
    "               min_gain_to_split=0.3, objective='binary',)\n",
    "# model = LGBMClassifier(class_weight={0: 0.2, 1: 0.8}, metric='auc',\n",
    "#                min_gain_to_split=0.3, objective='binary', random_state=42,)\n",
    "#                #reg_alpha=0.4, reg_lambda=1)\n",
    "model.fit(X_train[features], y_train)\n",
    "ypred = model.predict(X_test[features])\n",
    "y_tr_pred = model.predict(X_train[features])\n"
   ]
  },
  {
   "cell_type": "code",
   "execution_count": 112,
   "id": "7922deeb",
   "metadata": {},
   "outputs": [],
   "source": [
    "feature_imp = pd.DataFrame({'Value':model.feature_importances_,'Feature':features}).sort_values(by=\"Value\",ascending=False)"
   ]
  },
  {
   "cell_type": "code",
   "execution_count": 113,
   "id": "b58d3318",
   "metadata": {},
   "outputs": [
    {
     "name": "stderr",
     "output_type": "stream",
     "text": [
      "Function plot_confusion_matrix is deprecated; Function `plot_confusion_matrix` is deprecated in 1.0 and will be removed in 1.2. Use one of the class methods: ConfusionMatrixDisplay.from_predictions or ConfusionMatrixDisplay.from_estimator.\n"
     ]
    },
    {
     "data": {
      "text/plain": [
       "<sklearn.metrics._plot.confusion_matrix.ConfusionMatrixDisplay at 0x7fb6cca49d30>"
      ]
     },
     "execution_count": 113,
     "metadata": {},
     "output_type": "execute_result"
    },
    {
     "data": {
      "image/png": "[encoded data removed]",
      "text/plain": [
       "<Figure size 432x288 with 2 Axes>"
      ]
     },
     "metadata": {
      "needs_background": "light"
     },
     "output_type": "display_data"
    }
   ],
   "source": [
    "from sklearn.metrics import plot_confusion_matrix\n",
    "plot_confusion_matrix(model, X_test[features], y_test)"
   ]
  },
  {
   "cell_type": "code",
   "execution_count": 114,
   "id": "63c5ea05",
   "metadata": {},
   "outputs": [
    {
     "data": {
      "image/png": "[encoded data removed]",
      "text/plain": [
       "<Figure size 432x288 with 1 Axes>"
      ]
     },
     "metadata": {
      "needs_background": "light"
     },
     "output_type": "display_data"
    }
   ],
   "source": [
    "feature_imp = pd.DataFrame()\n",
    "feature_imp['features'] = features\n",
    "feature_imp['imp'] = model.feature_importances_\n",
    "\n",
    "ax = sns.barplot(x=\"imp\", y=\"features\", data=feature_imp)"
   ]
  },
  {
   "cell_type": "code",
   "execution_count": 131,
   "id": "3891450a",
   "metadata": {},
   "outputs": [
    {
     "data": {
      "image/png": "[encoded data removed]",
      "text/plain": [
       "<Figure size 432x288 with 1 Axes>"
      ]
     },
     "metadata": {
      "needs_background": "light"
     },
     "output_type": "display_data"
    }
   ],
   "source": [
    "y_pred_proba = model.predict_proba(X_test[features])[::,1]\n",
    "fpr, tpr, _ = metrics.roc_curve(y_test,  y_pred_proba)\n",
    "auc = metrics.roc_auc_score(y_test, y_pred_proba)\n",
    "plt.plot(fpr,tpr,label=\"lightgbm , auc=\"+str(auc))\n",
    "plt.legend(loc=4)\n",
    "plt.xticks(rotation=50)\n",
    "plt.xlabel('False Positive Rate', fontsize=18)\n",
    "plt.ylabel('True Positive rate', fontsize=16)\n",
    "plt.show()"
   ]
  },
  {
   "cell_type": "code",
   "execution_count": 132,
   "id": "1566cd9d",
   "metadata": {},
   "outputs": [
    {
     "name": "stdout",
     "output_type": "stream",
     "text": [
      "test\n",
      "              precision    recall  f1-score   support\n",
      "\n",
      "           0       0.93      0.92      0.92    108525\n",
      "           1       0.30      0.34      0.32     11282\n",
      "\n",
      "    accuracy                           0.86    119807\n",
      "   macro avg       0.62      0.63      0.62    119807\n",
      "weighted avg       0.87      0.86      0.87    119807\n",
      "\n",
      "train\n",
      "              precision    recall  f1-score   support\n",
      "\n",
      "           0       0.93      0.92      0.93    253000\n",
      "           1       0.32      0.35      0.33     26548\n",
      "\n",
      "    accuracy                           0.87    279548\n",
      "   macro avg       0.62      0.64      0.63    279548\n",
      "weighted avg       0.87      0.87      0.87    279548\n",
      "\n"
     ]
    }
   ],
   "source": [
    "print('test')\n",
    "print(classification_report(y_test, model.predict(X_test[features])))\n",
    "print('train')\n",
    "print(classification_report(y_train, model.predict(X_train[features])))"
   ]
  },
  {
   "cell_type": "code",
   "execution_count": null,
   "id": "ce67f466",
   "metadata": {},
   "outputs": [],
   "source": [
    "### Hyperparameter tuning with 5 cross validation"
   ]
  },
  {
   "cell_type": "code",
   "execution_count": 109,
   "id": "2325c1e5",
   "metadata": {},
   "outputs": [
    {
     "name": "stdout",
     "output_type": "stream",
     "text": [
      "[LightGBM] [Warning] min_gain_to_split is set=0.1, min_split_gain=0.0 will be ignored. Current value: min_gain_to_split=0.1\n",
      "[LightGBM] [Warning] min_gain_to_split is set=0.1, min_split_gain=0.0 will be ignored. Current value: min_gain_to_split=0.1\n",
      "[LightGBM] [Warning] min_gain_to_split is set=0.1, min_split_gain=0.0 will be ignored. Current value: min_gain_to_split=0.1\n",
      "[LightGBM] [Warning] min_gain_to_split is set=0.1, min_split_gain=0.0 will be ignored. Current value: min_gain_to_split=0.1\n",
      "[LightGBM] [Warning] min_gain_to_split is set=0.1, min_split_gain=0.0 will be ignored. Current value: min_gain_to_split=0.1\n",
      "[LightGBM] [Warning] min_gain_to_split is set=0.1, min_split_gain=0.0 will be ignored. Current value: min_gain_to_split=0.1\n",
      "[LightGBM] [Warning] min_gain_to_split is set=0.1, min_split_gain=0.0 will be ignored. Current value: min_gain_to_split=0.1\n",
      "[LightGBM] [Warning] min_gain_to_split is set=0.1, min_split_gain=0.0 will be ignored. Current value: min_gain_to_split=0.1\n",
      "[LightGBM] [Warning] min_gain_to_split is set=0.1, min_split_gain=0.0 will be ignored. Current value: min_gain_to_split=0.1\n",
      "[LightGBM] [Warning] min_gain_to_split is set=0.1, min_split_gain=0.0 will be ignored. Current value: min_gain_to_split=0.1\n",
      "[LightGBM] [Warning] min_gain_to_split is set=0.3, min_split_gain=0.0 will be ignored. Current value: min_gain_to_split=0.3\n",
      "[LightGBM] [Warning] min_gain_to_split is set=0.3, min_split_gain=0.0 will be ignored. Current value: min_gain_to_split=0.3\n",
      "[LightGBM] [Warning] min_gain_to_split is set=0.3, min_split_gain=0.0 will be ignored. Current value: min_gain_to_split=0.3\n",
      "[LightGBM] [Warning] min_gain_to_split is set=0.3, min_split_gain=0.0 will be ignored. Current value: min_gain_to_split=0.3\n",
      "[LightGBM] [Warning] min_gain_to_split is set=0.3, min_split_gain=0.0 will be ignored. Current value: min_gain_to_split=0.3\n",
      "[LightGBM] [Warning] min_gain_to_split is set=0.6, min_split_gain=0.0 will be ignored. Current value: min_gain_to_split=0.6\n",
      "[LightGBM] [Warning] min_gain_to_split is set=0.6, min_split_gain=0.0 will be ignored. Current value: min_gain_to_split=0.6\n",
      "[LightGBM] [Warning] min_gain_to_split is set=0.6, min_split_gain=0.0 will be ignored. Current value: min_gain_to_split=0.6\n",
      "[LightGBM] [Warning] min_gain_to_split is set=0.6, min_split_gain=0.0 will be ignored. Current value: min_gain_to_split=0.6\n",
      "[LightGBM] [Warning] min_gain_to_split is set=0.6, min_split_gain=0.0 will be ignored. Current value: min_gain_to_split=0.6\n",
      "[LightGBM] [Warning] min_gain_to_split is set=0.6, min_split_gain=0.0 will be ignored. Current value: min_gain_to_split=0.6\n",
      "[LightGBM] [Warning] min_gain_to_split is set=0.6, min_split_gain=0.0 will be ignored. Current value: min_gain_to_split=0.6\n",
      "[LightGBM] [Warning] min_gain_to_split is set=0.6, min_split_gain=0.0 will be ignored. Current value: min_gain_to_split=0.6\n",
      "[LightGBM] [Warning] min_gain_to_split is set=0.6, min_split_gain=0.0 will be ignored. Current value: min_gain_to_split=0.6\n",
      "[LightGBM] [Warning] min_gain_to_split is set=0.6, min_split_gain=0.0 will be ignored. Current value: min_gain_to_split=0.6\n",
      "[LightGBM] [Warning] min_gain_to_split is set=0.5, min_split_gain=0.0 will be ignored. Current value: min_gain_to_split=0.5\n",
      "[LightGBM] [Warning] min_gain_to_split is set=0.5, min_split_gain=0.0 will be ignored. Current value: min_gain_to_split=0.5\n",
      "[LightGBM] [Warning] min_gain_to_split is set=0.5, min_split_gain=0.0 will be ignored. Current value: min_gain_to_split=0.5\n",
      "[LightGBM] [Warning] min_gain_to_split is set=0.5, min_split_gain=0.0 will be ignored. Current value: min_gain_to_split=0.5\n",
      "[LightGBM] [Warning] min_gain_to_split is set=0.5, min_split_gain=0.0 will be ignored. Current value: min_gain_to_split=0.5\n",
      "[LightGBM] [Warning] min_gain_to_split is set=0.5, min_split_gain=0.0 will be ignored. Current value: min_gain_to_split=0.5\n",
      "[LightGBM] [Warning] min_gain_to_split is set=0.5, min_split_gain=0.0 will be ignored. Current value: min_gain_to_split=0.5\n",
      "[LightGBM] [Warning] min_gain_to_split is set=0.5, min_split_gain=0.0 will be ignored. Current value: min_gain_to_split=0.5\n",
      "[LightGBM] [Warning] min_gain_to_split is set=0.5, min_split_gain=0.0 will be ignored. Current value: min_gain_to_split=0.5\n",
      "[LightGBM] [Warning] min_gain_to_split is set=0.5, min_split_gain=0.0 will be ignored. Current value: min_gain_to_split=0.5\n",
      "[LightGBM] [Warning] min_gain_to_split is set=0.5, min_split_gain=0.0 will be ignored. Current value: min_gain_to_split=0.5\n",
      "[LightGBM] [Warning] min_gain_to_split is set=0.5, min_split_gain=0.0 will be ignored. Current value: min_gain_to_split=0.5\n",
      "[LightGBM] [Warning] min_gain_to_split is set=0.5, min_split_gain=0.0 will be ignored. Current value: min_gain_to_split=0.5\n",
      "[LightGBM] [Warning] min_gain_to_split is set=0.5, min_split_gain=0.0 will be ignored. Current value: min_gain_to_split=0.5\n",
      "[LightGBM] [Warning] min_gain_to_split is set=0.5, min_split_gain=0.0 will be ignored. Current value: min_gain_to_split=0.5\n",
      "[LightGBM] [Warning] min_gain_to_split is set=0.1, min_split_gain=0.0 will be ignored. Current value: min_gain_to_split=0.1\n",
      "[LightGBM] [Warning] min_gain_to_split is set=0.1, min_split_gain=0.0 will be ignored. Current value: min_gain_to_split=0.1\n",
      "[LightGBM] [Warning] min_gain_to_split is set=0.1, min_split_gain=0.0 will be ignored. Current value: min_gain_to_split=0.1\n",
      "[LightGBM] [Warning] min_gain_to_split is set=0.1, min_split_gain=0.0 will be ignored. Current value: min_gain_to_split=0.1\n",
      "[LightGBM] [Warning] min_gain_to_split is set=0.1, min_split_gain=0.0 will be ignored. Current value: min_gain_to_split=0.1\n",
      "[LightGBM] [Warning] min_gain_to_split is set=0.6, min_split_gain=0.0 will be ignored. Current value: min_gain_to_split=0.6\n",
      "[LightGBM] [Warning] min_gain_to_split is set=0.6, min_split_gain=0.0 will be ignored. Current value: min_gain_to_split=0.6\n",
      "[LightGBM] [Warning] min_gain_to_split is set=0.6, min_split_gain=0.0 will be ignored. Current value: min_gain_to_split=0.6\n",
      "[LightGBM] [Warning] min_gain_to_split is set=0.6, min_split_gain=0.0 will be ignored. Current value: min_gain_to_split=0.6\n",
      "[LightGBM] [Warning] min_gain_to_split is set=0.6, min_split_gain=0.0 will be ignored. Current value: min_gain_to_split=0.6\n",
      "[LightGBM] [Warning] min_gain_to_split is set=0.3, min_split_gain=0.0 will be ignored. Current value: min_gain_to_split=0.3\n"
     ]
    },
    {
     "data": {
      "text/plain": [
       "RandomizedSearchCV(cv=5,\n",
       "                   estimator=LGBMClassifier(class_weight={0: 0.2, 1: 0.8},\n",
       "                                            metric='auc', objective='binary',\n",
       "                                            random_state=42),\n",
       "                   param_distributions={'min_gain_to_split': [0.1, 0.3, 0.5,\n",
       "                                                              0.6],\n",
       "                                        'reg_alpha': [0.4, 1],\n",
       "                                        'reg_lambda': [0.7, 1]},\n",
       "                   random_state=42)"
      ]
     },
     "execution_count": 109,
     "metadata": {},
     "output_type": "execute_result"
    }
   ],
   "source": [
    "##Lightgbm\n",
    "mdl = LGBMClassifier(objective=\"binary\" ,class_weight={0:0.2,1:0.8,},\n",
    "                       metric=\"auc\", random_state=42,\n",
    "                     #n_estimators=500  \n",
    "                       #min_split_gain = 23\n",
    "                      )\n",
    "param1 = {'min_gain_to_split':[0.1, 0.3, 0.5, 0.6],\"reg_alpha\" :[0.4, 1],\n",
    "\"reg_lambda\" : [0.7, 1],}\n",
    "clf = RandomizedSearchCV(mdl, param1, random_state=42, cv=5)\n",
    "\n",
    "clf.fit(X_train[features], y_train)"
   ]
  },
  {
   "cell_type": "code",
   "execution_count": 110,
   "id": "e58fa1ea",
   "metadata": {},
   "outputs": [
    {
     "data": {
      "text/plain": [
       "LGBMClassifier(class_weight={0: 0.2, 1: 0.8}, metric='auc',\n",
       "               min_gain_to_split=0.3, objective='binary', random_state=42,\n",
       "               reg_alpha=0.4, reg_lambda=1)"
      ]
     },
     "execution_count": 110,
     "metadata": {},
     "output_type": "execute_result"
    }
   ],
   "source": [
    "clf.best_estimator_"
   ]
  },
  {
   "cell_type": "code",
   "execution_count": 136,
   "id": "a08b3794",
   "metadata": {},
   "outputs": [],
   "source": [
    "path = '/Users/henaghonia/Desktop/udem/Sem-1/Data-science/Hockey-all-star-analytics/models/'\n",
    "filename = path+'lgbm.sav'\n",
    "pickle.dump(model, open(filename, 'wb'))\n",
    "filename = path+'randomForest.sav'\n",
    "pickle.dump(randomForest, open(filename, 'wb'))\n",
    "filename = path+'MLP.sav'\n",
    "pickle.dump(clf, open(filename, 'wb'))"
   ]
  },
  {
   "cell_type": "code",
   "execution_count": 80,
   "id": "62d6c0a8",
   "metadata": {},
   "outputs": [
    {
     "name": "stderr",
     "output_type": "stream",
     "text": [
      "LightGBM binary classifier with TreeExplainer shap values output has changed to a list of ndarray\n"
     ]
    },
    {
     "data": {
      "image/png": "[encoded data removed]",
      "text/plain": [
       "<Figure size 576x684 with 1 Axes>"
      ]
     },
     "metadata": {
      "needs_background": "light"
     },
     "output_type": "display_data"
    }
   ],
   "source": [
    "import shap\n",
    "### Shap\n",
    "explainer = shap.TreeExplainer(model)\n",
    "shap_values = explainer.shap_values(X_test[features])\n",
    "shap.summary_plot(shap_values, X_test[features])"
   ]
  },
  {
   "cell_type": "code",
   "execution_count": 137,
   "id": "fd301a36",
   "metadata": {},
   "outputs": [
    {
     "name": "stdout",
     "output_type": "stream",
     "text": [
      "Writing best_model.py\n"
     ]
    }
   ],
   "source": [
    "%%writefile best_model.py\n",
    "# import comet_ml at the top of your file\n",
    "from comet_ml import Experiment\n",
    "\n",
    "# Create an experiment with your api key\n",
    "experiment = Experiment(\n",
    "    project_name=\"hockey-all-star-analytics\",\n",
    "    workspace=\"zilto\",\n",
    ")\n",
    "path = \"/Users/henaghonia/Desktop/udem/Sem-1/Data-science/Hockey-all-star-analytics/models/\"\n",
    "\n",
    "experiment.log_model(\"Best model-LightGBM\", path+\"lgbm.sav\")\n",
    "experiment.log_model(\"MLP\", path+\"MLP.sav\")\n",
    "experiment.log_model(\"Random forest\", path+\"randomForest.sav\")\n",
    "experiment.end()"
   ]
  },
  {
   "cell_type": "code",
   "execution_count": null,
   "id": "cd48587c",
   "metadata": {},
   "outputs": [],
   "source": []
  }
 ],
 "metadata": {
  "kernelspec": {
   "display_name": "Python 3 (ipykernel)",
   "language": "python",
   "name": "python3"
  },
  "language_info": {
   "codemirror_mode": {
    "name": "ipython",
    "version": 3
   },
   "file_extension": ".py",
   "mimetype": "text/x-python",
   "name": "python",
   "nbconvert_exporter": "python",
   "pygments_lexer": "ipython3",
   "version": "3.8.2"
  }
 },
 "nbformat": 4,
 "nbformat_minor": 5
}
