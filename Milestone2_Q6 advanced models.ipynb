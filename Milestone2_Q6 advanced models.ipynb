{
 "cells": [
  {
   "cell_type": "code",
   "execution_count": 34,
   "id": "0d48d227",
   "metadata": {},
   "outputs": [],
   "source": [
    "import pandas as pd\n",
    "import numpy as np\n",
    "import matplotlib.pyplot as plt\n",
    "import seaborn as sns\n",
    "from comet_ml import Experiment\n",
    "from ipywidgets import interact, IntSlider\n",
    "\n",
    "from src.data.dataset import split_dataset, tidy_plays_df\n",
    "from src.data.data_query import StorageEngine\n",
    "from src.data.plays_model import game_json_to_plays_list\n",
    "from src.features.features import basic_features, advanced_features, normalize_plays_coords\n",
    "#from src.models.xgboost import train_xgb"
   ]
  },
  {
   "cell_type": "code",
   "execution_count": 95,
   "id": "209b6e4d",
   "metadata": {},
   "outputs": [],
   "source": [
    "from sklearn.feature_selection import SelectKBest\n",
    "from sklearn.feature_selection import chi2\n",
    "from sklearn.model_selection import train_test_split\n",
    "from sklearn.metrics import classification_report\n",
    "from sklearn.ensemble import RandomForestClassifier\n",
    "from sklearn.feature_selection import RFE\n",
    "from sklearn.linear_model import LogisticRegression\n",
    "from comet_ml import Experiment\n"
   ]
  },
  {
   "cell_type": "code",
   "execution_count": 120,
   "id": "7a7d5223",
   "metadata": {},
   "outputs": [],
   "source": [
    "from sklearn import metrics\n",
    "from matplotlib.gridspec import GridSpec\n",
    "from sklearn.calibration import calibration_curve, CalibrationDisplay\n",
    "from sklearn.metrics import accuracy_score\n",
    "\n",
    "from lightgbm import LGBMClassifier\n",
    "from sklearn.model_selection import RandomizedSearchCV\n",
    "from sklearn.model_selection import GridSearchCV\n",
    "from sklearn.neural_network import MLPClassifier\n",
    "import pickle"
   ]
  },
  {
   "cell_type": "code",
   "execution_count": 3,
   "id": "9376de88",
   "metadata": {},
   "outputs": [
    {
     "data": {
      "text/html": [
       "<div>\n",
       "<style scoped>\n",
       "    .dataframe tbody tr th:only-of-type {\n",
       "        vertical-align: middle;\n",
       "    }\n",
       "\n",
       "    .dataframe tbody tr th {\n",
       "        vertical-align: top;\n",
       "    }\n",
       "\n",
       "    .dataframe thead th {\n",
       "        text-align: right;\n",
       "    }\n",
       "</style>\n",
       "<table border=\"1\" class=\"dataframe\">\n",
       "  <thead>\n",
       "    <tr style=\"text-align: right;\">\n",
       "      <th></th>\n",
       "      <th>seconds_elapsed</th>\n",
       "      <th>period_idx</th>\n",
       "      <th>x_coord</th>\n",
       "      <th>y_coord</th>\n",
       "      <th>x_coord_norm</th>\n",
       "      <th>y_coord_norm</th>\n",
       "      <th>dist_from_net</th>\n",
       "      <th>angle_from_net</th>\n",
       "      <th>Backhand</th>\n",
       "      <th>Deflected</th>\n",
       "      <th>...</th>\n",
       "      <th>SHOT</th>\n",
       "      <th>STOP</th>\n",
       "      <th>TAKEAWAY</th>\n",
       "      <th>previous_x_coord</th>\n",
       "      <th>previous_y_coord</th>\n",
       "      <th>seconds_from_previous</th>\n",
       "      <th>dist_from_previous</th>\n",
       "      <th>rebound</th>\n",
       "      <th>angle_change</th>\n",
       "      <th>speed</th>\n",
       "    </tr>\n",
       "  </thead>\n",
       "  <tbody>\n",
       "    <tr>\n",
       "      <th>5394</th>\n",
       "      <td>51.0</td>\n",
       "      <td>1</td>\n",
       "      <td>-55.0</td>\n",
       "      <td>6.0</td>\n",
       "      <td>55.0</td>\n",
       "      <td>-6.0</td>\n",
       "      <td>34.525353</td>\n",
       "      <td>-10.007980</td>\n",
       "      <td>0</td>\n",
       "      <td>0</td>\n",
       "      <td>...</td>\n",
       "      <td>0</td>\n",
       "      <td>0</td>\n",
       "      <td>0</td>\n",
       "      <td>94.0</td>\n",
       "      <td>-34.0</td>\n",
       "      <td>11.0</td>\n",
       "      <td>154.275727</td>\n",
       "      <td>0</td>\n",
       "      <td>0.000000</td>\n",
       "      <td>14.025066</td>\n",
       "    </tr>\n",
       "    <tr>\n",
       "      <th>5395</th>\n",
       "      <td>65.0</td>\n",
       "      <td>1</td>\n",
       "      <td>-79.0</td>\n",
       "      <td>0.0</td>\n",
       "      <td>79.0</td>\n",
       "      <td>-0.0</td>\n",
       "      <td>10.000000</td>\n",
       "      <td>0.000000</td>\n",
       "      <td>0</td>\n",
       "      <td>0</td>\n",
       "      <td>...</td>\n",
       "      <td>0</td>\n",
       "      <td>0</td>\n",
       "      <td>0</td>\n",
       "      <td>-37.0</td>\n",
       "      <td>-28.0</td>\n",
       "      <td>7.0</td>\n",
       "      <td>50.477718</td>\n",
       "      <td>0</td>\n",
       "      <td>0.000000</td>\n",
       "      <td>7.211103</td>\n",
       "    </tr>\n",
       "    <tr>\n",
       "      <th>5396</th>\n",
       "      <td>66.0</td>\n",
       "      <td>1</td>\n",
       "      <td>-75.0</td>\n",
       "      <td>-1.0</td>\n",
       "      <td>75.0</td>\n",
       "      <td>1.0</td>\n",
       "      <td>14.035669</td>\n",
       "      <td>4.085617</td>\n",
       "      <td>0</td>\n",
       "      <td>0</td>\n",
       "      <td>...</td>\n",
       "      <td>1</td>\n",
       "      <td>0</td>\n",
       "      <td>0</td>\n",
       "      <td>-79.0</td>\n",
       "      <td>0.0</td>\n",
       "      <td>1.0</td>\n",
       "      <td>4.123106</td>\n",
       "      <td>1</td>\n",
       "      <td>4.085617</td>\n",
       "      <td>4.123106</td>\n",
       "    </tr>\n",
       "    <tr>\n",
       "      <th>5397</th>\n",
       "      <td>113.0</td>\n",
       "      <td>1</td>\n",
       "      <td>-55.0</td>\n",
       "      <td>-36.0</td>\n",
       "      <td>55.0</td>\n",
       "      <td>36.0</td>\n",
       "      <td>49.517674</td>\n",
       "      <td>46.636577</td>\n",
       "      <td>0</td>\n",
       "      <td>0</td>\n",
       "      <td>...</td>\n",
       "      <td>0</td>\n",
       "      <td>0</td>\n",
       "      <td>0</td>\n",
       "      <td>-91.0</td>\n",
       "      <td>35.0</td>\n",
       "      <td>18.0</td>\n",
       "      <td>79.605276</td>\n",
       "      <td>0</td>\n",
       "      <td>0.000000</td>\n",
       "      <td>4.422515</td>\n",
       "    </tr>\n",
       "    <tr>\n",
       "      <th>5398</th>\n",
       "      <td>157.0</td>\n",
       "      <td>1</td>\n",
       "      <td>-61.0</td>\n",
       "      <td>-1.0</td>\n",
       "      <td>61.0</td>\n",
       "      <td>1.0</td>\n",
       "      <td>28.017851</td>\n",
       "      <td>2.045408</td>\n",
       "      <td>0</td>\n",
       "      <td>0</td>\n",
       "      <td>...</td>\n",
       "      <td>0</td>\n",
       "      <td>0</td>\n",
       "      <td>0</td>\n",
       "      <td>-69.0</td>\n",
       "      <td>-22.0</td>\n",
       "      <td>5.0</td>\n",
       "      <td>22.472205</td>\n",
       "      <td>0</td>\n",
       "      <td>0.000000</td>\n",
       "      <td>4.494441</td>\n",
       "    </tr>\n",
       "  </tbody>\n",
       "</table>\n",
       "<p>5 rows × 35 columns</p>\n",
       "</div>"
      ],
      "text/plain": [
       "      seconds_elapsed  period_idx  x_coord  y_coord  x_coord_norm  \\\n",
       "5394             51.0           1    -55.0      6.0          55.0   \n",
       "5395             65.0           1    -79.0      0.0          79.0   \n",
       "5396             66.0           1    -75.0     -1.0          75.0   \n",
       "5397            113.0           1    -55.0    -36.0          55.0   \n",
       "5398            157.0           1    -61.0     -1.0          61.0   \n",
       "\n",
       "      y_coord_norm  dist_from_net  angle_from_net  Backhand  Deflected  ...  \\\n",
       "5394          -6.0      34.525353      -10.007980         0          0  ...   \n",
       "5395          -0.0      10.000000        0.000000         0          0  ...   \n",
       "5396           1.0      14.035669        4.085617         0          0  ...   \n",
       "5397          36.0      49.517674       46.636577         0          0  ...   \n",
       "5398           1.0      28.017851        2.045408         0          0  ...   \n",
       "\n",
       "      SHOT  STOP  TAKEAWAY  previous_x_coord  previous_y_coord  \\\n",
       "5394     0     0         0              94.0             -34.0   \n",
       "5395     0     0         0             -37.0             -28.0   \n",
       "5396     1     0         0             -79.0               0.0   \n",
       "5397     0     0         0             -91.0              35.0   \n",
       "5398     0     0         0             -69.0             -22.0   \n",
       "\n",
       "      seconds_from_previous  dist_from_previous  rebound  angle_change  \\\n",
       "5394                   11.0          154.275727        0      0.000000   \n",
       "5395                    7.0           50.477718        0      0.000000   \n",
       "5396                    1.0            4.123106        1      4.085617   \n",
       "5397                   18.0           79.605276        0      0.000000   \n",
       "5398                    5.0           22.472205        0      0.000000   \n",
       "\n",
       "          speed  \n",
       "5394  14.025066  \n",
       "5395   7.211103  \n",
       "5396   4.123106  \n",
       "5397   4.422515  \n",
       "5398   4.494441  \n",
       "\n",
       "[5 rows x 35 columns]"
      ]
     },
     "execution_count": 3,
     "metadata": {},
     "output_type": "execute_result"
    }
   ],
   "source": [
    "df = pd.read_csv(\"./data/processed/plays_2015-2020.csv\", index_col=False)\n",
    "df, test_df = split_dataset(df)\n",
    "advanced_df = advanced_features(df)\n",
    "advanced_df.head()"
   ]
  },
  {
   "cell_type": "code",
   "execution_count": 9,
   "id": "45e07026",
   "metadata": {},
   "outputs": [],
   "source": [
    "#df3 = pd.get_dummies(df.shot_type)\n",
    "df2 = pd.get_dummies(df.period_type)\n",
    "df['is_goal'] = np.where(df.event_type_id == \"GOAL\",1,0)\n",
    "result_df = pd.concat([advanced_df, df2, df[['is_goal']]], axis=1).round(2).fillna(0)\n",
    "dff = result_df.replace({np.nan: 0, np.inf:0, -np.inf:0})"
   ]
  },
  {
   "cell_type": "markdown",
   "id": "95ba7b99",
   "metadata": {},
   "source": [
    "#### Create train and validation set"
   ]
  },
  {
   "cell_type": "code",
   "execution_count": 10,
   "id": "0c1b539f",
   "metadata": {},
   "outputs": [],
   "source": [
    "X_train, X_test, y_train, y_test = train_test_split(dff.drop(['is_goal','empty_net'],axis=1).fillna(0), dff['is_goal'], test_size=0.30, random_state=42)\n"
   ]
  },
  {
   "cell_type": "markdown",
   "id": "6cd4b114",
   "metadata": {},
   "source": [
    "### feature selection"
   ]
  },
  {
   "cell_type": "code",
   "execution_count": 11,
   "id": "7fa8ca65",
   "metadata": {
    "collapsed": true
   },
   "outputs": [
    {
     "name": "stderr",
     "output_type": "stream",
     "text": [
      "/opt/anaconda3/envs/DS_project/lib/python3.8/site-packages/sklearn/linear_model/_logistic.py:814: ConvergenceWarning: lbfgs failed to converge (status=1):\n",
      "STOP: TOTAL NO. of ITERATIONS REACHED LIMIT.\n",
      "\n",
      "Increase the number of iterations (max_iter) or scale the data as shown in:\n",
      "    https://scikit-learn.org/stable/modules/preprocessing.html\n",
      "Please also refer to the documentation for alternative solver options:\n",
      "    https://scikit-learn.org/stable/modules/linear_model.html#logistic-regression\n",
      "  n_iter_i = _check_optimize_result(\n",
      "/opt/anaconda3/envs/DS_project/lib/python3.8/site-packages/sklearn/linear_model/_logistic.py:814: ConvergenceWarning: lbfgs failed to converge (status=1):\n",
      "STOP: TOTAL NO. of ITERATIONS REACHED LIMIT.\n",
      "\n",
      "Increase the number of iterations (max_iter) or scale the data as shown in:\n",
      "    https://scikit-learn.org/stable/modules/preprocessing.html\n",
      "Please also refer to the documentation for alternative solver options:\n",
      "    https://scikit-learn.org/stable/modules/linear_model.html#logistic-regression\n",
      "  n_iter_i = _check_optimize_result(\n",
      "/opt/anaconda3/envs/DS_project/lib/python3.8/site-packages/sklearn/linear_model/_logistic.py:814: ConvergenceWarning: lbfgs failed to converge (status=1):\n",
      "STOP: TOTAL NO. of ITERATIONS REACHED LIMIT.\n",
      "\n",
      "Increase the number of iterations (max_iter) or scale the data as shown in:\n",
      "    https://scikit-learn.org/stable/modules/preprocessing.html\n",
      "Please also refer to the documentation for alternative solver options:\n",
      "    https://scikit-learn.org/stable/modules/linear_model.html#logistic-regression\n",
      "  n_iter_i = _check_optimize_result(\n",
      "/opt/anaconda3/envs/DS_project/lib/python3.8/site-packages/sklearn/linear_model/_logistic.py:814: ConvergenceWarning: lbfgs failed to converge (status=1):\n",
      "STOP: TOTAL NO. of ITERATIONS REACHED LIMIT.\n",
      "\n",
      "Increase the number of iterations (max_iter) or scale the data as shown in:\n",
      "    https://scikit-learn.org/stable/modules/preprocessing.html\n",
      "Please also refer to the documentation for alternative solver options:\n",
      "    https://scikit-learn.org/stable/modules/linear_model.html#logistic-regression\n",
      "  n_iter_i = _check_optimize_result(\n",
      "/opt/anaconda3/envs/DS_project/lib/python3.8/site-packages/sklearn/linear_model/_logistic.py:814: ConvergenceWarning: lbfgs failed to converge (status=1):\n",
      "STOP: TOTAL NO. of ITERATIONS REACHED LIMIT.\n",
      "\n",
      "Increase the number of iterations (max_iter) or scale the data as shown in:\n",
      "    https://scikit-learn.org/stable/modules/preprocessing.html\n",
      "Please also refer to the documentation for alternative solver options:\n",
      "    https://scikit-learn.org/stable/modules/linear_model.html#logistic-regression\n",
      "  n_iter_i = _check_optimize_result(\n",
      "/opt/anaconda3/envs/DS_project/lib/python3.8/site-packages/sklearn/linear_model/_logistic.py:814: ConvergenceWarning: lbfgs failed to converge (status=1):\n",
      "STOP: TOTAL NO. of ITERATIONS REACHED LIMIT.\n",
      "\n",
      "Increase the number of iterations (max_iter) or scale the data as shown in:\n",
      "    https://scikit-learn.org/stable/modules/preprocessing.html\n",
      "Please also refer to the documentation for alternative solver options:\n",
      "    https://scikit-learn.org/stable/modules/linear_model.html#logistic-regression\n",
      "  n_iter_i = _check_optimize_result(\n",
      "/opt/anaconda3/envs/DS_project/lib/python3.8/site-packages/sklearn/linear_model/_logistic.py:814: ConvergenceWarning: lbfgs failed to converge (status=1):\n",
      "STOP: TOTAL NO. of ITERATIONS REACHED LIMIT.\n",
      "\n",
      "Increase the number of iterations (max_iter) or scale the data as shown in:\n",
      "    https://scikit-learn.org/stable/modules/preprocessing.html\n",
      "Please also refer to the documentation for alternative solver options:\n",
      "    https://scikit-learn.org/stable/modules/linear_model.html#logistic-regression\n",
      "  n_iter_i = _check_optimize_result(\n"
     ]
    },
    {
     "name": "stdout",
     "output_type": "stream",
     "text": [
      "Num Features: 30\n",
      "Selected Features: [ True  True  True  True  True  True  True  True  True  True False  True\n",
      "  True  True  True False  True  True  True  True False False False  True\n",
      "  True  True  True False  True  True  True  True  True  True False  True\n",
      "  True]\n",
      "Feature Ranking: [1 1 1 1 1 1 1 1 1 1 4 1 1 1 1 7 1 1 1 1 5 8 2 1 1 1 1 6 1 1 1 1 1 1 3 1 1]\n"
     ]
    },
    {
     "name": "stderr",
     "output_type": "stream",
     "text": [
      "/opt/anaconda3/envs/DS_project/lib/python3.8/site-packages/sklearn/linear_model/_logistic.py:814: ConvergenceWarning: lbfgs failed to converge (status=1):\n",
      "STOP: TOTAL NO. of ITERATIONS REACHED LIMIT.\n",
      "\n",
      "Increase the number of iterations (max_iter) or scale the data as shown in:\n",
      "    https://scikit-learn.org/stable/modules/preprocessing.html\n",
      "Please also refer to the documentation for alternative solver options:\n",
      "    https://scikit-learn.org/stable/modules/linear_model.html#logistic-regression\n",
      "  n_iter_i = _check_optimize_result(\n"
     ]
    }
   ],
   "source": [
    "model = LogisticRegression()\n",
    "rfe = RFE(model, n_features_to_select=30, step=1)\n",
    "fit = rfe.fit(X_train, y_train)\n",
    "print(\"Num Features: %s\" % (fit.n_features_))\n",
    "print(\"Selected Features: %s\" % (fit.support_))\n",
    "print(\"Feature Ranking: %s\" % (fit.ranking_))"
   ]
  },
  {
   "cell_type": "code",
   "execution_count": 12,
   "id": "c35b3085",
   "metadata": {},
   "outputs": [],
   "source": [
    "feature_select = pd.DataFrame()\n",
    "feature_select['features'] = X_train.columns\n",
    "feature_select['RFE_select'] = fit.support_"
   ]
  },
  {
   "cell_type": "code",
   "execution_count": 13,
   "id": "ea244afc",
   "metadata": {},
   "outputs": [
    {
     "name": "stdout",
     "output_type": "stream",
     "text": [
      "Num Features: 30\n",
      "Selected Features: [ True  True  True  True  True  True  True  True  True  True  True  True\n",
      "  True  True  True  True  True  True False  True  True False False False\n",
      "  True False  True  True  True  True  True  True  True  True False  True\n",
      " False]\n",
      "Feature Ranking: [1 1 1 1 1 1 1 1 1 1 1 1 1 1 1 1 1 1 6 1 1 7 5 8 1 4 1 1 1 1 1 1 1 1 2 1 3]\n"
     ]
    }
   ],
   "source": [
    "model = RandomForestClassifier(random_state = 42)\n",
    "rfe = RFE(model, n_features_to_select=30, step=1)\n",
    "fit = rfe.fit(X_train, y_train)\n",
    "print(\"Num Features: %s\" % (fit.n_features_))\n",
    "print(\"Selected Features: %s\" % (fit.support_))\n",
    "print(\"Feature Ranking: %s\" % (fit.ranking_))"
   ]
  },
  {
   "cell_type": "code",
   "execution_count": 24,
   "id": "fd01500d",
   "metadata": {},
   "outputs": [],
   "source": [
    "feature_select['RFE_random_forest'] = fit.support_\n",
    "feature_select['select'] = np.where((feature_select['RFE_select']==True)&(feature_select['RFE_select']==True),1,0)\n",
    "features = feature_select[feature_select['select']==1]['features'].tolist()"
   ]
  },
  {
   "cell_type": "code",
   "execution_count": 16,
   "id": "e822b6db",
   "metadata": {},
   "outputs": [
    {
     "data": {
      "text/plain": [
       "WOE(mono_custom_binning={'BLOCKED_SHOT': array([0., 1.]),\n",
       "                         'Backhand': array([0., 1.]),\n",
       "                         'Deflected': array([0., 1.]),\n",
       "                         'FACEOFF': array([0., 1.]),\n",
       "                         'GIVEAWAY': array([0., 1.]), 'GOAL': array([0., 1.]),\n",
       "                         'HIT': array([0., 1.]), 'MISSED_SHOT': array([0., 1.]),\n",
       "                         'OTHER': array([0., 1.]), 'OVERTIME': array([0., 1.]),\n",
       "                         'PENALTY': array([0., 1.]),\n",
       "                         'PERIOD_START': array([0., 1.]),\n",
       "                         'REGULAR': array...\n",
       "                                   Interval(-54.0, 54.0, closed='right'): -0.05189122790246956,\n",
       "                                   Interval(54.0, 99.0, closed='right'): 0.02154891839684451},\n",
       "              'previous_y_coord': {Interval(-42.001, -13.0, closed='right'): -0.12960622948947284,\n",
       "                                   Interval(-13.0, 13.0, closed='right'): 0.21013923124825637,\n",
       "                                   Interval(13.0, 42.0, closed='right'): -0.1104578663683256},\n",
       "              'rebound': {0: -0.09929731123040188, 1: 0.3386887784288118}, ...})"
      ]
     },
     "execution_count": 16,
     "metadata": {},
     "output_type": "execute_result"
    }
   ],
   "source": [
    "from xverse.transformer import WOE\n",
    "clf = WOE()\n",
    "clf.fit(X_train, y_train)"
   ]
  },
  {
   "cell_type": "code",
   "execution_count": 20,
   "id": "8c2cd118",
   "metadata": {},
   "outputs": [
    {
     "data": {
      "text/html": [
       "<div>\n",
       "<style scoped>\n",
       "    .dataframe tbody tr th:only-of-type {\n",
       "        vertical-align: middle;\n",
       "    }\n",
       "\n",
       "    .dataframe tbody tr th {\n",
       "        vertical-align: top;\n",
       "    }\n",
       "\n",
       "    .dataframe thead th {\n",
       "        text-align: right;\n",
       "    }\n",
       "</style>\n",
       "<table border=\"1\" class=\"dataframe\">\n",
       "  <thead>\n",
       "    <tr style=\"text-align: right;\">\n",
       "      <th></th>\n",
       "      <th>Variable_Name</th>\n",
       "      <th>Information_Value</th>\n",
       "    </tr>\n",
       "  </thead>\n",
       "  <tbody>\n",
       "    <tr>\n",
       "      <th>24</th>\n",
       "      <td>dist_from_net</td>\n",
       "      <td>0.447066</td>\n",
       "    </tr>\n",
       "    <tr>\n",
       "      <th>34</th>\n",
       "      <td>x_coord_norm</td>\n",
       "      <td>0.303175</td>\n",
       "    </tr>\n",
       "  </tbody>\n",
       "</table>\n",
       "</div>"
      ],
      "text/plain": [
       "    Variable_Name  Information_Value\n",
       "24  dist_from_net           0.447066\n",
       "34   x_coord_norm           0.303175"
      ]
     },
     "execution_count": 20,
     "metadata": {},
     "output_type": "execute_result"
    }
   ],
   "source": [
    "temp = pd.DataFrame(clf.iv_df)\n",
    "temp[temp['Information_Value']>0.3]"
   ]
  },
  {
   "cell_type": "markdown",
   "id": "4655537c",
   "metadata": {},
   "source": [
    "### Model building"
   ]
  },
  {
   "cell_type": "markdown",
   "id": "0b043623",
   "metadata": {},
   "source": [
    "#### MLP classifier"
   ]
  },
  {
   "cell_type": "code",
   "execution_count": 78,
   "id": "5726fd97",
   "metadata": {},
   "outputs": [
    {
     "name": "stdout",
     "output_type": "stream",
     "text": [
      "Best parameters found:\n",
      " {'hidden_layer_sizes': (50, 50, 50), 'alpha': 0.05, 'activation': 'tanh'}\n"
     ]
    },
    {
     "name": "stderr",
     "output_type": "stream",
     "text": [
      "/opt/anaconda3/envs/DS_project/lib/python3.8/site-packages/sklearn/neural_network/_multilayer_perceptron.py:692: ConvergenceWarning: Stochastic Optimizer: Maximum iterations (100) reached and the optimization hasn't converged yet.\n",
      "  warnings.warn(\n",
      "/opt/anaconda3/envs/DS_project/lib/python3.8/site-packages/sklearn/neural_network/_multilayer_perceptron.py:692: ConvergenceWarning: Stochastic Optimizer: Maximum iterations (100) reached and the optimization hasn't converged yet.\n",
      "  warnings.warn(\n",
      "/opt/anaconda3/envs/DS_project/lib/python3.8/site-packages/sklearn/neural_network/_multilayer_perceptron.py:692: ConvergenceWarning: Stochastic Optimizer: Maximum iterations (100) reached and the optimization hasn't converged yet.\n",
      "  warnings.warn(\n",
      "/opt/anaconda3/envs/DS_project/lib/python3.8/site-packages/sklearn/neural_network/_multilayer_perceptron.py:692: ConvergenceWarning: Stochastic Optimizer: Maximum iterations (100) reached and the optimization hasn't converged yet.\n",
      "  warnings.warn(\n",
      "/opt/anaconda3/envs/DS_project/lib/python3.8/site-packages/sklearn/neural_network/_multilayer_perceptron.py:692: ConvergenceWarning: Stochastic Optimizer: Maximum iterations (100) reached and the optimization hasn't converged yet.\n",
      "  warnings.warn(\n",
      "/opt/anaconda3/envs/DS_project/lib/python3.8/site-packages/sklearn/neural_network/_multilayer_perceptron.py:692: ConvergenceWarning: Stochastic Optimizer: Maximum iterations (100) reached and the optimization hasn't converged yet.\n",
      "  warnings.warn(\n",
      "/opt/anaconda3/envs/DS_project/lib/python3.8/site-packages/sklearn/neural_network/_multilayer_perceptron.py:692: ConvergenceWarning: Stochastic Optimizer: Maximum iterations (100) reached and the optimization hasn't converged yet.\n",
      "  warnings.warn(\n"
     ]
    }
   ],
   "source": [
    "## Hyperparameter tuning\n",
    "mlp = MLPClassifier(max_iter=100)\n",
    "parameter_space = {\n",
    "    'hidden_layer_sizes': [(50,50,50), (50,100,50), (100,)],\n",
    "    'activation': ['tanh', 'relu'],\n",
    "    'alpha': [0.0001, 0.05],\n",
    "    \n",
    "}\n",
    "clf = RandomizedSearchCV(mlp, parameter_space, n_jobs=-1, cv=5)\n",
    "clf.fit(X_train[features], y_train)\n",
    "# Best parameter set\n",
    "print('Best parameters found:\\n', clf.best_params_)\n"
   ]
  },
  {
   "cell_type": "code",
   "execution_count": 82,
   "id": "eed1ec02",
   "metadata": {},
   "outputs": [],
   "source": [
    "## MLP\n",
    "from sklearn.neural_network import MLPClassifier\n",
    "clf = MLPClassifier(random_state=1, max_iter=300).fit(X_train[features], y_train)\n"
   ]
  },
  {
   "cell_type": "code",
   "execution_count": 83,
   "id": "00060614",
   "metadata": {},
   "outputs": [
    {
     "name": "stdout",
     "output_type": "stream",
     "text": [
      "              precision    recall  f1-score   support\n",
      "\n",
      "           0       0.91      1.00      0.95     84601\n",
      "           1       0.42      0.03      0.06      8731\n",
      "\n",
      "    accuracy                           0.91     93332\n",
      "   macro avg       0.67      0.51      0.50     93332\n",
      "weighted avg       0.86      0.91      0.87     93332\n",
      "\n",
      "              precision    recall  f1-score   support\n",
      "\n",
      "           0       0.91      1.00      0.95    197318\n",
      "           1       0.47      0.03      0.06     20456\n",
      "\n",
      "    accuracy                           0.91    217774\n",
      "   macro avg       0.69      0.51      0.51    217774\n",
      "weighted avg       0.87      0.91      0.87    217774\n",
      "\n"
     ]
    }
   ],
   "source": [
    "print(classification_report(y_test, clf.predict(X_test[features])))\n",
    "print(classification_report(y_train, clf.predict(X_train[features])))"
   ]
  },
  {
   "cell_type": "code",
   "execution_count": 123,
   "id": "c15f0c82",
   "metadata": {},
   "outputs": [
    {
     "data": {
      "text/plain": [
       "{'web': 'https://www.comet.ml/api/asset/download?assetId=ee59e14228d74947a2858fad4cfadd83&experimentKey=39759444e7444d1ba87933c4e1a99094',\n",
       " 'api': 'https://www.comet.ml/api/rest/v2/experiment/asset/get-asset?assetId=ee59e14228d74947a2858fad4cfadd83&experimentKey=39759444e7444d1ba87933c4e1a99094',\n",
       " 'assetId': 'ee59e14228d74947a2858fad4cfadd83'}"
      ]
     },
     "execution_count": 123,
     "metadata": {},
     "output_type": "execute_result"
    }
   ],
   "source": [
    "experiment.log_confusion_matrix(\n",
    "   np.array(y_test),\n",
    "    clf.predict(X_test[features]),\n",
    "    step=0,\n",
    "    title=\"Confusion Matrix-MLP, \",\n",
    "    file_name=\"confusion-matrix-MLP-%03d.json\" % 0,\n",
    "\n",
    ")"
   ]
  },
  {
   "cell_type": "markdown",
   "id": "69fc6986",
   "metadata": {},
   "source": [
    "### Random forest"
   ]
  },
  {
   "cell_type": "code",
   "execution_count": 74,
   "id": "8278596c",
   "metadata": {},
   "outputs": [
    {
     "name": "stderr",
     "output_type": "stream",
     "text": [
      "The total space of parameters 9 is smaller than n_iter=10. Running 9 iterations. For exhaustive searches, use GridSearchCV.\n"
     ]
    },
    {
     "data": {
      "text/plain": [
       "RandomizedSearchCV(cv=5,\n",
       "                   estimator=RandomForestClassifier(class_weight={0: 0.2,\n",
       "                                                                  1: 0.8},\n",
       "                                                    random_state=42),\n",
       "                   n_jobs=-1,\n",
       "                   param_distributions={'max_depth': [5, 6, 10],\n",
       "                                        'n_estimators': [100, 300, 500]},\n",
       "                   random_state=42)"
      ]
     },
     "execution_count": 74,
     "metadata": {},
     "output_type": "execute_result"
    }
   ],
   "source": [
    "rnd_mdl = RandomForestClassifier(random_state = 42, class_weight = {0: 0.2, 1: 0.8}\n",
    "                      )\n",
    "param1 = {'max_depth':[5,6,10], 'n_estimators':[100, 300, 500]}\n",
    "random_clf = RandomizedSearchCV(rnd_mdl, param1, random_state=42, cv=5, n_jobs=-1)\n",
    "\n",
    "random_clf.fit(X_train[features], y_train)"
   ]
  },
  {
   "cell_type": "code",
   "execution_count": 76,
   "id": "2f09bfa0",
   "metadata": {},
   "outputs": [
    {
     "data": {
      "text/plain": [
       "RandomForestClassifier(class_weight={0: 0.2, 1: 0.8}, max_depth=5,\n",
       "                       n_estimators=500, random_state=42)"
      ]
     },
     "execution_count": 76,
     "metadata": {},
     "output_type": "execute_result"
    }
   ],
   "source": [
    "random_clf.best_estimator_"
   ]
  },
  {
   "cell_type": "code",
   "execution_count": 77,
   "id": "b63fc76f",
   "metadata": {},
   "outputs": [
    {
     "name": "stdout",
     "output_type": "stream",
     "text": [
      "              precision    recall  f1-score   support\n",
      "\n",
      "           0       0.92      0.97      0.94     84601\n",
      "           1       0.32      0.14      0.20      8731\n",
      "\n",
      "    accuracy                           0.89     93332\n",
      "   macro avg       0.62      0.55      0.57     93332\n",
      "weighted avg       0.86      0.89      0.87     93332\n",
      "\n",
      "              precision    recall  f1-score   support\n",
      "\n",
      "           0       0.92      0.97      0.94    197318\n",
      "           1       0.31      0.13      0.19     20456\n",
      "\n",
      "    accuracy                           0.89    217774\n",
      "   macro avg       0.61      0.55      0.56    217774\n",
      "weighted avg       0.86      0.89      0.87    217774\n",
      "\n"
     ]
    }
   ],
   "source": [
    "\n",
    "randomForest = RandomForestClassifier(random_state = 42, max_depth=5, class_weight = {0: 0.2, 1: 0.8}, n_estimators=500).fit(X_train[features], y_train)\n",
    "print(classification_report(y_test, randomForest.predict(X_test[features])))\n",
    "print(classification_report(y_train, randomForest.predict(X_train[features])))\n"
   ]
  },
  {
   "cell_type": "code",
   "execution_count": 124,
   "id": "7c84b977",
   "metadata": {},
   "outputs": [
    {
     "data": {
      "text/plain": [
       "{'web': 'https://www.comet.ml/api/asset/download?assetId=c8f85a8753674150a8751c5259ba78f5&experimentKey=39759444e7444d1ba87933c4e1a99094',\n",
       " 'api': 'https://www.comet.ml/api/rest/v2/experiment/asset/get-asset?assetId=c8f85a8753674150a8751c5259ba78f5&experimentKey=39759444e7444d1ba87933c4e1a99094',\n",
       " 'assetId': 'c8f85a8753674150a8751c5259ba78f5'}"
      ]
     },
     "execution_count": 124,
     "metadata": {},
     "output_type": "execute_result"
    }
   ],
   "source": [
    "experiment.log_confusion_matrix(\n",
    "   np.array(y_test),\n",
    "    randomForest.predict(X_test[features]),\n",
    "    step=0,\n",
    "    title=\"Confusion Matrix-Random-forest, \",\n",
    "    file_name=\"confusion-matrix-Random-forest-%03d.json\" % 0,\n",
    "\n",
    ")"
   ]
  },
  {
   "cell_type": "code",
   "execution_count": 121,
   "id": "e747307f",
   "metadata": {},
   "outputs": [],
   "source": [
    "acc= accuracy_score(clf.predict(X_test[features]), y_test)\n",
    "experiment.log_metric(\"accuracy-MLP\", acc)\n",
    "acc1 = accuracy_score(randomForest.predict(X_test[features]), y_test)\n",
    "experiment.log_metric(\"accuracy-Random-forest\", acc1)\n",
    "acc2 = accuracy_score(model.predict(X_test[features]), y_test)\n",
    "experiment.log_metric(\"accuracy-Lightgbm\", acc2)"
   ]
  },
  {
   "cell_type": "markdown",
   "id": "7536c0bb",
   "metadata": {},
   "source": [
    "### Light gbm hyperparameter tuning"
   ]
  },
  {
   "cell_type": "code",
   "execution_count": 30,
   "id": "c3cd0035",
   "metadata": {
    "collapsed": true
   },
   "outputs": [
    {
     "name": "stdout",
     "output_type": "stream",
     "text": [
      "[LightGBM] [Warning] min_gain_to_split is set=0.1, min_split_gain=0.0 will be ignored. Current value: min_gain_to_split=0.1\n",
      "[LightGBM] [Warning] min_gain_to_split is set=0.1, min_split_gain=0.0 will be ignored. Current value: min_gain_to_split=0.1\n",
      "[LightGBM] [Warning] min_gain_to_split is set=0.1, min_split_gain=0.0 will be ignored. Current value: min_gain_to_split=0.1\n",
      "[LightGBM] [Warning] min_gain_to_split is set=0.1, min_split_gain=0.0 will be ignored. Current value: min_gain_to_split=0.1\n",
      "[LightGBM] [Warning] min_gain_to_split is set=0.1, min_split_gain=0.0 will be ignored. Current value: min_gain_to_split=0.1\n",
      "[LightGBM] [Warning] min_gain_to_split is set=0.1, min_split_gain=0.0 will be ignored. Current value: min_gain_to_split=0.1\n",
      "[LightGBM] [Warning] min_gain_to_split is set=0.1, min_split_gain=0.0 will be ignored. Current value: min_gain_to_split=0.1\n",
      "[LightGBM] [Warning] min_gain_to_split is set=0.1, min_split_gain=0.0 will be ignored. Current value: min_gain_to_split=0.1\n",
      "[LightGBM] [Warning] min_gain_to_split is set=0.1, min_split_gain=0.0 will be ignored. Current value: min_gain_to_split=0.1\n",
      "[LightGBM] [Warning] min_gain_to_split is set=0.1, min_split_gain=0.0 will be ignored. Current value: min_gain_to_split=0.1\n",
      "[LightGBM] [Warning] min_gain_to_split is set=0.3, min_split_gain=0.0 will be ignored. Current value: min_gain_to_split=0.3\n",
      "[LightGBM] [Warning] min_gain_to_split is set=0.3, min_split_gain=0.0 will be ignored. Current value: min_gain_to_split=0.3\n",
      "[LightGBM] [Warning] min_gain_to_split is set=0.3, min_split_gain=0.0 will be ignored. Current value: min_gain_to_split=0.3\n",
      "[LightGBM] [Warning] min_gain_to_split is set=0.3, min_split_gain=0.0 will be ignored. Current value: min_gain_to_split=0.3\n",
      "[LightGBM] [Warning] min_gain_to_split is set=0.3, min_split_gain=0.0 will be ignored. Current value: min_gain_to_split=0.3\n",
      "[LightGBM] [Warning] min_gain_to_split is set=0.6, min_split_gain=0.0 will be ignored. Current value: min_gain_to_split=0.6\n",
      "[LightGBM] [Warning] min_gain_to_split is set=0.6, min_split_gain=0.0 will be ignored. Current value: min_gain_to_split=0.6\n",
      "[LightGBM] [Warning] min_gain_to_split is set=0.6, min_split_gain=0.0 will be ignored. Current value: min_gain_to_split=0.6\n",
      "[LightGBM] [Warning] min_gain_to_split is set=0.6, min_split_gain=0.0 will be ignored. Current value: min_gain_to_split=0.6\n",
      "[LightGBM] [Warning] min_gain_to_split is set=0.6, min_split_gain=0.0 will be ignored. Current value: min_gain_to_split=0.6\n",
      "[LightGBM] [Warning] min_gain_to_split is set=0.6, min_split_gain=0.0 will be ignored. Current value: min_gain_to_split=0.6\n",
      "[LightGBM] [Warning] min_gain_to_split is set=0.6, min_split_gain=0.0 will be ignored. Current value: min_gain_to_split=0.6\n",
      "[LightGBM] [Warning] min_gain_to_split is set=0.6, min_split_gain=0.0 will be ignored. Current value: min_gain_to_split=0.6\n",
      "[LightGBM] [Warning] min_gain_to_split is set=0.6, min_split_gain=0.0 will be ignored. Current value: min_gain_to_split=0.6\n",
      "[LightGBM] [Warning] min_gain_to_split is set=0.6, min_split_gain=0.0 will be ignored. Current value: min_gain_to_split=0.6\n",
      "[LightGBM] [Warning] min_gain_to_split is set=0.5, min_split_gain=0.0 will be ignored. Current value: min_gain_to_split=0.5\n",
      "[LightGBM] [Warning] min_gain_to_split is set=0.5, min_split_gain=0.0 will be ignored. Current value: min_gain_to_split=0.5\n",
      "[LightGBM] [Warning] min_gain_to_split is set=0.5, min_split_gain=0.0 will be ignored. Current value: min_gain_to_split=0.5\n",
      "[LightGBM] [Warning] min_gain_to_split is set=0.5, min_split_gain=0.0 will be ignored. Current value: min_gain_to_split=0.5\n",
      "[LightGBM] [Warning] min_gain_to_split is set=0.5, min_split_gain=0.0 will be ignored. Current value: min_gain_to_split=0.5\n",
      "[LightGBM] [Warning] min_gain_to_split is set=0.5, min_split_gain=0.0 will be ignored. Current value: min_gain_to_split=0.5\n",
      "[LightGBM] [Warning] min_gain_to_split is set=0.5, min_split_gain=0.0 will be ignored. Current value: min_gain_to_split=0.5\n",
      "[LightGBM] [Warning] min_gain_to_split is set=0.5, min_split_gain=0.0 will be ignored. Current value: min_gain_to_split=0.5\n",
      "[LightGBM] [Warning] min_gain_to_split is set=0.5, min_split_gain=0.0 will be ignored. Current value: min_gain_to_split=0.5\n",
      "[LightGBM] [Warning] min_gain_to_split is set=0.5, min_split_gain=0.0 will be ignored. Current value: min_gain_to_split=0.5\n",
      "[LightGBM] [Warning] min_gain_to_split is set=0.5, min_split_gain=0.0 will be ignored. Current value: min_gain_to_split=0.5\n",
      "[LightGBM] [Warning] min_gain_to_split is set=0.5, min_split_gain=0.0 will be ignored. Current value: min_gain_to_split=0.5\n",
      "[LightGBM] [Warning] min_gain_to_split is set=0.5, min_split_gain=0.0 will be ignored. Current value: min_gain_to_split=0.5\n",
      "[LightGBM] [Warning] min_gain_to_split is set=0.5, min_split_gain=0.0 will be ignored. Current value: min_gain_to_split=0.5\n",
      "[LightGBM] [Warning] min_gain_to_split is set=0.5, min_split_gain=0.0 will be ignored. Current value: min_gain_to_split=0.5\n",
      "[LightGBM] [Warning] min_gain_to_split is set=0.1, min_split_gain=0.0 will be ignored. Current value: min_gain_to_split=0.1\n",
      "[LightGBM] [Warning] min_gain_to_split is set=0.1, min_split_gain=0.0 will be ignored. Current value: min_gain_to_split=0.1\n",
      "[LightGBM] [Warning] min_gain_to_split is set=0.1, min_split_gain=0.0 will be ignored. Current value: min_gain_to_split=0.1\n",
      "[LightGBM] [Warning] min_gain_to_split is set=0.1, min_split_gain=0.0 will be ignored. Current value: min_gain_to_split=0.1\n",
      "[LightGBM] [Warning] min_gain_to_split is set=0.1, min_split_gain=0.0 will be ignored. Current value: min_gain_to_split=0.1\n",
      "[LightGBM] [Warning] min_gain_to_split is set=0.6, min_split_gain=0.0 will be ignored. Current value: min_gain_to_split=0.6\n",
      "[LightGBM] [Warning] min_gain_to_split is set=0.6, min_split_gain=0.0 will be ignored. Current value: min_gain_to_split=0.6\n",
      "[LightGBM] [Warning] min_gain_to_split is set=0.6, min_split_gain=0.0 will be ignored. Current value: min_gain_to_split=0.6\n",
      "[LightGBM] [Warning] min_gain_to_split is set=0.6, min_split_gain=0.0 will be ignored. Current value: min_gain_to_split=0.6\n",
      "[LightGBM] [Warning] min_gain_to_split is set=0.6, min_split_gain=0.0 will be ignored. Current value: min_gain_to_split=0.6\n",
      "[LightGBM] [Warning] min_gain_to_split is set=0.1, min_split_gain=0.0 will be ignored. Current value: min_gain_to_split=0.1\n"
     ]
    },
    {
     "data": {
      "text/plain": [
       "RandomizedSearchCV(cv=5,\n",
       "                   estimator=LGBMClassifier(class_weight={0: 0.2, 1: 0.8},\n",
       "                                            metric='auc', objective='binary',\n",
       "                                            random_state=42),\n",
       "                   param_distributions={'min_gain_to_split': [0.1, 0.3, 0.5,\n",
       "                                                              0.6],\n",
       "                                        'reg_alpha': [0.4, 1],\n",
       "                                        'reg_lambda': [0.7, 1]},\n",
       "                   random_state=42)"
      ]
     },
     "execution_count": 30,
     "metadata": {},
     "output_type": "execute_result"
    }
   ],
   "source": [
    "##Lightgbm\n",
    "mdl = LGBMClassifier(objective=\"binary\" ,class_weight={0:0.2,1:0.8,},\n",
    "                       metric=\"auc\", random_state=42,\n",
    "                     #n_estimators=500  \n",
    "                       #min_split_gain = 23\n",
    "                      )\n",
    "param1 = {'min_gain_to_split':[0.1, 0.3, 0.5, 0.6],\"reg_alpha\" :[0.4, 1],\n",
    "\"reg_lambda\" : [0.7, 1],}\n",
    "clf = RandomizedSearchCV(mdl, param1, random_state=42, cv=5)\n",
    "\n",
    "clf.fit(X_train[features], y_train)"
   ]
  },
  {
   "cell_type": "code",
   "execution_count": 31,
   "id": "0ebc3b17",
   "metadata": {},
   "outputs": [
    {
     "data": {
      "text/plain": [
       "LGBMClassifier(class_weight={0: 0.2, 1: 0.8}, metric='auc',\n",
       "               min_gain_to_split=0.1, objective='binary', random_state=42,\n",
       "               reg_alpha=0.4, reg_lambda=0.7)"
      ]
     },
     "execution_count": 31,
     "metadata": {},
     "output_type": "execute_result"
    }
   ],
   "source": [
    "clf.best_estimator_"
   ]
  },
  {
   "cell_type": "code",
   "execution_count": 32,
   "id": "1525e760",
   "metadata": {},
   "outputs": [],
   "source": [
    "\n",
    "model = LGBMClassifier(class_weight={0: 0.2, 1: 0.8}, metric='auc',\n",
    "               min_gain_to_split=0.1, objective='binary', random_state=42,\n",
    "               reg_alpha=0.4, reg_lambda=0.7)\n",
    "model.fit(X_train[features], y_train)\n",
    "ypred = model.predict(X_test[features])\n",
    "y_tr_pred = model.predict(X_train[features])\n",
    "\n"
   ]
  },
  {
   "cell_type": "code",
   "execution_count": 125,
   "id": "7a450f53",
   "metadata": {},
   "outputs": [
    {
     "data": {
      "text/plain": [
       "{'web': 'https://www.comet.ml/api/asset/download?assetId=3bb7d05bb6b04dc3bb960819e1f2430f&experimentKey=39759444e7444d1ba87933c4e1a99094',\n",
       " 'api': 'https://www.comet.ml/api/rest/v2/experiment/asset/get-asset?assetId=3bb7d05bb6b04dc3bb960819e1f2430f&experimentKey=39759444e7444d1ba87933c4e1a99094',\n",
       " 'assetId': '3bb7d05bb6b04dc3bb960819e1f2430f'}"
      ]
     },
     "execution_count": 125,
     "metadata": {},
     "output_type": "execute_result"
    }
   ],
   "source": [
    "experiment.log_confusion_matrix(\n",
    "   np.array(y_test),\n",
    "    model.predict(X_test[features]),\n",
    "    step=0,\n",
    "    title=\"Confusion Matrix-LGBM, \",\n",
    "    file_name=\"confusion-matrix-LGBM-%03d.json\" % 0,\n",
    "\n",
    ")"
   ]
  },
  {
   "cell_type": "code",
   "execution_count": 38,
   "id": "322866e5",
   "metadata": {},
   "outputs": [
    {
     "name": "stdout",
     "output_type": "stream",
     "text": [
      "test\n",
      "              precision    recall  f1-score   support\n",
      "\n",
      "           0       0.93      0.92      0.93     84601\n",
      "           1       0.30      0.33      0.32      8731\n",
      "\n",
      "    accuracy                           0.87     93332\n",
      "   macro avg       0.62      0.63      0.62     93332\n",
      "weighted avg       0.87      0.87      0.87     93332\n",
      "\n",
      "train\n",
      "              precision    recall  f1-score   support\n",
      "\n",
      "           0       0.93      0.92      0.93    197318\n",
      "           1       0.32      0.35      0.34     20456\n",
      "\n",
      "    accuracy                           0.87    217774\n",
      "   macro avg       0.63      0.64      0.63    217774\n",
      "weighted avg       0.87      0.87      0.87    217774\n",
      "\n"
     ]
    }
   ],
   "source": [
    "print('test')\n",
    "print(classification_report(y_test, model.predict(X_test[features])))\n",
    "print('train')\n",
    "print(classification_report(y_train, model.predict(X_train[features])))"
   ]
  },
  {
   "cell_type": "code",
   "execution_count": 39,
   "id": "60c6a2d3",
   "metadata": {},
   "outputs": [
    {
     "name": "stderr",
     "output_type": "stream",
     "text": [
      "/opt/anaconda3/envs/DS_project/lib/python3.8/site-packages/sklearn/utils/deprecation.py:87: FutureWarning: Function plot_confusion_matrix is deprecated; Function `plot_confusion_matrix` is deprecated in 1.0 and will be removed in 1.2. Use one of the class methods: ConfusionMatrixDisplay.from_predictions or ConfusionMatrixDisplay.from_estimator.\n",
      "  warnings.warn(msg, category=FutureWarning)\n"
     ]
    },
    {
     "data": {
      "text/plain": [
       "<sklearn.metrics._plot.confusion_matrix.ConfusionMatrixDisplay at 0x7fe7faca4d30>"
      ]
     },
     "execution_count": 39,
     "metadata": {},
     "output_type": "execute_result"
    },
    {
     "data": {
      "image/png": "[encoded data removed]",
      "text/plain": [
       "<Figure size 432x288 with 2 Axes>"
      ]
     },
     "metadata": {
      "needs_background": "light"
     },
     "output_type": "display_data"
    }
   ],
   "source": [
    "from sklearn.metrics import plot_confusion_matrix\n",
    "plot_confusion_matrix(model, X_test[features], y_test)"
   ]
  },
  {
   "cell_type": "code",
   "execution_count": 40,
   "id": "9ab24258",
   "metadata": {},
   "outputs": [
    {
     "data": {
      "image/png": "[encoded data removed]",
      "text/plain": [
       "<Figure size 432x288 with 1 Axes>"
      ]
     },
     "metadata": {
      "needs_background": "light"
     },
     "output_type": "display_data"
    }
   ],
   "source": [
    "feature_imp = pd.DataFrame()\n",
    "feature_imp['features'] = features\n",
    "feature_imp['imp'] = model.feature_importances_\n",
    "\n",
    "ax = sns.barplot(x=\"imp\", y=\"features\", data=feature_imp)"
   ]
  },
  {
   "cell_type": "code",
   "execution_count": 49,
   "id": "66c391c0",
   "metadata": {},
   "outputs": [],
   "source": [
    "path = '/Users/henaghonia/Desktop/udem/Sem-1/Data-science/Hockey-all-star-analytics/models/'\n",
    "filename = path+'lgbm.sav'\n",
    "pickle.dump(model, open(filename, 'wb'))\n",
    "filename = path+'randomForest.sav'\n",
    "pickle.dump(randomForest, open(filename, 'wb'))\n",
    "filename = path+'MLP.sav'\n",
    "pickle.dump(clf, open(filename, 'wb'))"
   ]
  },
  {
   "cell_type": "code",
   "execution_count": 50,
   "id": "9e377949",
   "metadata": {},
   "outputs": [
    {
     "name": "stdout",
     "output_type": "stream",
     "text": [
      "Overwriting src/models/best_model.py\n"
     ]
    }
   ],
   "source": [
    "%%writefile src/models/best_model.py\n",
    "# import comet_ml at the top of your file\n",
    "from comet_ml import Experiment\n",
    "\n",
    "# Create an experiment with your api key\n",
    "experiment = Experiment(\n",
    "    project_name=\"hockey-all-star-analytics\",\n",
    "    workspace=\"zilto\",\n",
    ")\n",
    "path = \"/Users/henaghonia/Desktop/udem/Sem-1/Data-science/Hockey-all-star-analytics/models/\"\n",
    "\n",
    "experiment.log_model(\"Best model-LightGBM\", path+\"lgbm.sav\")\n",
    "experiment.log_model(\"MLP\", path+\"MLP.sav\")\n",
    "experiment.log_model(\"Random forest\", path+\"randomForest.sav\")\n",
    "experiment.end()"
   ]
  },
  {
   "cell_type": "code",
   "execution_count": 70,
   "id": "363a0e54",
   "metadata": {},
   "outputs": [
    {
     "name": "stdout",
     "output_type": "stream",
     "text": [
      "features used ['seconds_elapsed', 'period_idx', 'x_coord', 'y_coord', 'x_coord_norm', 'y_coord_norm', 'dist_from_net', 'angle_from_net', 'Backhand', 'Deflected', 'Snap Shot', 'Tip-In', 'Wrap-around', 'Wrist Shot', 'FACEOFF', 'GIVEAWAY', 'GOAL', 'HIT', 'PERIOD_START', 'SHOT', 'STOP', 'TAKEAWAY', 'previous_y_coord', 'seconds_from_previous', 'dist_from_previous', 'rebound', 'angle_change', 'speed', 'REGULAR', 'SHOOTOUT']\n"
     ]
    }
   ],
   "source": [
    "print(\"features used\", features)"
   ]
  },
  {
   "cell_type": "code",
   "execution_count": 127,
   "id": "8cf09ea5",
   "metadata": {},
   "outputs": [
    {
     "name": "stderr",
     "output_type": "stream",
     "text": [
      "COMET WARNING: As you are running in a Jupyter environment, you will need to call `experiment.end()` when finished to ensure all metrics and code are logged before exiting.\n",
      "COMET INFO: Experiment is live on comet.ml https://www.comet.ml/zilto/hockey-all-star-analytics/e1befcdc7ea2498e83f7fa40c58b2512\n",
      "\n"
     ]
    }
   ],
   "source": [
    "experiment = Experiment(\n",
    "    project_name=\"hockey-all-star-analytics\",\n",
    "    workspace=\"zilto\",\n",
    ")"
   ]
  },
  {
   "cell_type": "code",
   "execution_count": 86,
   "id": "dde17786",
   "metadata": {},
   "outputs": [],
   "source": [
    "\n",
    "def goal_Rate(pred, y_test): \n",
    "    valid = pd.DataFrame()\n",
    "    valid['pred_prob'] = pred#clf.predict_proba(X_test)[::,1]\n",
    "    valid['true_labels'] = np.array(y_test)\n",
    "    percentile = [[np.percentile(valid['pred_prob'], i), np.percentile(valid['pred_prob'], i+5)] for i in range(0,100,5)]\n",
    "\n",
    "    goal_rate = []\n",
    "    cum=0\n",
    "    for i in range(0, len(percentile)):\n",
    "        goals = valid[ (valid['pred_prob']<=percentile[i][1])&(valid['pred_prob']>percentile[i][0]) & (valid['true_labels']==1)].shape[0]\n",
    "\n",
    "        no_goals = valid[(valid['pred_prob']<=percentile[i][1])&(valid['pred_prob']>percentile[i][0]) & (valid['true_labels']==0)].shape[0]\n",
    "\n",
    "        if goals==0:\n",
    "            goal_rate.append(0)\n",
    "        else:\n",
    "            goal_rate.append((goals*100)/(goals+no_goals))\n",
    "    total_goal = valid[valid['true_labels']==1].shape[0]\n",
    "    cumulative = []\n",
    "    for i in range(0, len(percentile)-1):\n",
    "        goals = valid[(valid['pred_prob']>=percentile[i][0]) & (valid['true_labels']==1)].shape[0]\n",
    "        cumulative.append(goals*100/total_goal)\n",
    "    cumulative.append(0)\n",
    "        \n",
    "    Shot_prob_percentile = [i for i in range(0,100, 5)]\n",
    "    return goal_rate, cumulative, Shot_prob_percentile "
   ]
  },
  {
   "cell_type": "code",
   "execution_count": 128,
   "id": "8b3a8cdc",
   "metadata": {},
   "outputs": [
    {
     "data": {
      "image/png": "[encoded data removed]",
      "text/plain": [
       "<Figure size 432x288 with 1 Axes>"
      ]
     },
     "metadata": {
      "needs_background": "light"
     },
     "output_type": "display_data"
    },
    {
     "data": {
      "image/png": "[encoded data removed]",
      "text/plain": [
       "<Figure size 432x288 with 1 Axes>"
      ]
     },
     "metadata": {
      "needs_background": "light"
     },
     "output_type": "display_data"
    },
    {
     "data": {
      "image/png": "[encoded data removed]",
      "text/plain": [
       "<Figure size 432x288 with 1 Axes>"
      ]
     },
     "metadata": {
      "needs_background": "light"
     },
     "output_type": "display_data"
    },
    {
     "data": {
      "image/png": "[encoded data removed]",
      "text/plain": [
       "<Figure size 720x720 with 1 Axes>"
      ]
     },
     "metadata": {
      "needs_background": "light"
     },
     "output_type": "display_data"
    }
   ],
   "source": [
    "def plots_evaluation(MLP_rate, MLP_cum, Random_forest_rate, Random_forest_cum, Lgbm_rate, lgbm_cum, y_test,y_pred_mlp, y_pred_random_forest, y_pred_lgbm, Shot_percentile):\n",
    "    path = \"/Users/henaghonia/Desktop/udem/Sem-1/Data-science/ift6758-Milestone2_blog/ift6758-Milestone2_blog/images/\"\n",
    "    fpr_mlp, tpr_mlp, _ = metrics.roc_curve(y_test, y_pred_mlp)\n",
    "    auc_mlp = metrics.roc_auc_score(y_test, y_pred_mlp)\n",
    "    plt.plot(fpr_mlp, tpr_mlp,label=\"MLP , auc=\"+str(auc_mlp))\n",
    "    experiment.log_metric(\"MLP auc: \", auc_mlp)\n",
    "    \n",
    "    fpr_random_forest, tpr_random_forest, _ = metrics.roc_curve(y_test, y_pred_random_forest)\n",
    "    auc_random_forest = metrics.roc_auc_score(y_test, y_pred_random_forest)\n",
    "    plt.plot(fpr_random_forest,tpr_random_forest,label=\"Random forest, auc=\"+str(auc_random_forest))\n",
    "    experiment.log_metric(\"Random forest auc: \", auc_random_forest)\n",
    "    \n",
    "    fpr_lgbm, tpr_lgbm, _ = metrics.roc_curve(y_test, y_pred_lgbm)\n",
    "    auc_lgbm = metrics.roc_auc_score(y_test, y_pred_lgbm)\n",
    "    plt.plot(fpr_lgbm,tpr_lgbm,label=\"Lgbm, auc=\"+str(auc_lgbm))\n",
    "    experiment.log_metric(\"Light gbm auc: \", auc_lgbm)\n",
    "\n",
    "    plt.legend(loc='center left', bbox_to_anchor=(1, 0.5))\n",
    "    plt.xticks(rotation=50)\n",
    "    plt.xlabel('False Positive Rate', fontsize=14)\n",
    "    plt.ylabel('True Positive rate', fontsize=14)\n",
    "    plt.legend(loc='center left', bbox_to_anchor=(1, 0.5))\n",
    "    plt.savefig(\"/Users/henaghonia/Desktop/udem/Sem-1/Data-science/ift6758-Milestone2_blog/ift6758-Milestone2_blog/images/ROC_AUC_Q6.png\",bbox_inches=\"tight\")\n",
    "    experiment.log_figure(figure_name=\"AUC_ROC \", overwrite=False, step=None)\n",
    "    plt.show()\n",
    "    \n",
    "    plt.plot(Shot_percentile, MLP_rate, label=\"MLP\")\n",
    "    plt.plot(Shot_percentile, Random_forest_rate, label=\"Random forest\")\n",
    "    plt.plot(Shot_percentile, Lgbm_rate, label=\"Lgbm\")\n",
    "    plt.xlim(max(Shot_percentile), min(Shot_percentile))\n",
    "    plt.ylim(0, 100)\n",
    "    plt.xlabel('Shot probability model percentile', fontsize=14)\n",
    "    plt.ylabel('# of Goal/(# of Goal + # of No Goal)', fontsize=14)\n",
    "    plt.legend(loc='center left', bbox_to_anchor=(1, 0.5))\n",
    "    plt.savefig(\"/Users/henaghonia/Desktop/udem/Sem-1/Data-science/ift6758-Milestone2_blog/ift6758-Milestone2_blog/images/Goal_rate_Q6.png\",bbox_inches=\"tight\")\n",
    "    \n",
    "    experiment.log_figure(figure_name = \"Goal rate vs Shot probability model percentile\", overwrite=False, step=None) \n",
    "    plt.show()\n",
    "    \n",
    "    plt.plot(Shot_percentile, MLP_cum, label=\"MLP\")\n",
    "    plt.plot(Shot_percentile, Random_forest_cum, label=\"Random forest\")\n",
    "    plt.plot(Shot_percentile, lgbm_cum, label=\"LightGBM\")\n",
    "    plt.xlim(max(Shot_percentile), min(Shot_percentile))\n",
    "    plt.ylim(0, 100)\n",
    "    plt.xlabel('Shot probability model percentile', fontsize=14)\n",
    "    plt.ylabel('Proportion', fontsize=14)\n",
    "    plt.legend(loc='center left', bbox_to_anchor=(1, 0.5))\n",
    "    plt.savefig(\"/Users/henaghonia/Desktop/udem/Sem-1/Data-science/ift6758-Milestone2_blog/ift6758-Milestone2_blog/images/cum_Shot_prob_Q6.png\",bbox_inches=\"tight\")\n",
    "    experiment.log_figure(figure_name = \"Proportion vs Shot probability model percentile\", overwrite=False, step=None) \n",
    "    plt.show()\n",
    "\n",
    "    \n",
    "    clf_list = [(y_pred_mlp,'MLP'),(y_pred_random_forest,'Random forest'),(y_pred_lgbm,'Lightgbm')]\n",
    "\n",
    "    fig = plt.figure(figsize=(10, 10))\n",
    "    gs = GridSpec(4, 2)\n",
    "    colors = plt.cm.get_cmap(\"Dark2\")\n",
    "\n",
    "    ax_calibration_curve = fig.add_subplot(gs[:2, :2])\n",
    "    calibration_displays = {}\n",
    "    for i, (clf, name) in enumerate(clf_list):\n",
    "        display = CalibrationDisplay.from_predictions(\n",
    "            \n",
    "            y_test,\n",
    "            clf,\n",
    "            name=name,\n",
    "            n_bins=40,\n",
    "            ax=ax_calibration_curve,\n",
    "            \n",
    "        )\n",
    "        calibration_displays[name] = display\n",
    "\n",
    "    \n",
    "    ax_calibration_curve.grid()\n",
    "    ax_calibration_curve.set_title(\"Calibration plots\")\n",
    "    plt.savefig(\"/Users/henaghonia/Desktop/udem/Sem-1/Data-science/ift6758-Milestone2_blog/ift6758-Milestone2_blog/images/Calibration_Q6.png\")\n",
    "    experiment.log_figure(figure_name = \"Calibration plot\", overwrite=False, step=None) \n",
    "\n",
    "\n",
    "    \n",
    "y_pred_mlp = clf.predict_proba(X_test[features])[::,1]    \n",
    "MLP_rate, MLP_cum, Shot_percentile =  goal_Rate(y_pred_mlp, y_test)\n",
    "\n",
    "y_pred_random_forest = random_clf.predict_proba(X_test[features])[::,1]    \n",
    "Random_forest_rate, Random_forest_cum, Shot_percentile =  goal_Rate(y_pred_random_forest, y_test)\n",
    "\n",
    "y_pred_lgbm = model.predict_proba(X_test[features])[::,1]    \n",
    "Lgbm_rate, lgbm_cum, Shot_percentile =  goal_Rate(y_pred_lgbm, y_test)\n",
    "    \n",
    "plots_evaluation(MLP_rate, MLP_cum, Random_forest_rate, Random_forest_cum, Lgbm_rate, lgbm_cum, y_test,y_pred_mlp, y_pred_random_forest, y_pred_lgbm, Shot_percentile)\n",
    "\n"
   ]
  },
  {
   "cell_type": "code",
   "execution_count": 129,
   "id": "e912b87d",
   "metadata": {},
   "outputs": [
    {
     "name": "stderr",
     "output_type": "stream",
     "text": [
      "COMET INFO: ---------------------------\n",
      "COMET INFO: Comet.ml Experiment Summary\n",
      "COMET INFO: ---------------------------\n",
      "COMET INFO:   Data:\n",
      "COMET INFO:     display_summary_level : 1\n",
      "COMET INFO:     url                   : https://www.comet.ml/zilto/hockey-all-star-analytics/e1befcdc7ea2498e83f7fa40c58b2512\n",
      "COMET INFO:   Metrics:\n",
      "COMET INFO:     Light gbm auc:      : 0.7680720756732786\n",
      "COMET INFO:     MLP auc:            : 0.7482037495983339\n",
      "COMET INFO:     Random forest auc:  : 0.7428913507230924\n",
      "COMET INFO:   Uploads:\n",
      "COMET INFO:     environment details      : 1\n",
      "COMET INFO:     figures                  : 4\n",
      "COMET INFO:     filename                 : 1\n",
      "COMET INFO:     git metadata             : 1\n",
      "COMET INFO:     git-patch (uncompressed) : 1 (548.74 KB)\n",
      "COMET INFO:     installed packages       : 1\n",
      "COMET INFO:     notebook                 : 1\n",
      "COMET INFO:     source_code              : 1\n",
      "COMET INFO: ---------------------------\n",
      "COMET INFO: Uploading 1 metrics, params and output messages\n"
     ]
    }
   ],
   "source": [
    "experiment.end()"
   ]
  },
  {
   "cell_type": "markdown",
   "id": "fda080a4",
   "metadata": {},
   "source": [
    "### For test data"
   ]
  },
  {
   "cell_type": "code",
   "execution_count": 59,
   "id": "d023fc25",
   "metadata": {},
   "outputs": [],
   "source": [
    "def feature_data(test_df):\n",
    "    test_advanced_df = advanced_features(test_df)\n",
    "    test_df2 = pd.get_dummies(test_df.period_type)\n",
    "    test_df['is_goal'] = np.where(test_df.event_type_id == \"GOAL\",1,0)\n",
    "    result_df = pd.concat([test_advanced_df, test_df2, test_df[['is_goal','game_type']]], axis=1).round(2).fillna(0)\n",
    "    test_data = result_df.replace({np.nan: 0, np.inf:0, -np.inf:0})\n",
    "    \n",
    "    return test_data[(test_data['game_type']==\"R\")], test_data[(test_data['game_type']==\"P\")]\n",
    "Regular_test, play_off_test = feature_data(test_df)"
   ]
  },
  {
   "cell_type": "code",
   "execution_count": 63,
   "id": "bfedd9cb",
   "metadata": {},
   "outputs": [],
   "source": [
    "Regualar_pred = pd.DataFrame()\n",
    "Regualar_pred['pred_proba'] = model.predict_proba(Regular_test[features])[::,1]\n",
    "Regualar_pred['Prediction'] = model.predict(Regular_test[features])\n",
    "Regualar_pred['actual'] = np.array(Regular_test['is_goal'])"
   ]
  },
  {
   "cell_type": "code",
   "execution_count": 64,
   "id": "5821c5dc",
   "metadata": {},
   "outputs": [],
   "source": [
    "playoff_pred = pd.DataFrame()\n",
    "playoff_pred['pred_proba'] = model.predict_proba(play_off_test[features])[::,1]\n",
    "playoff_pred['Prediction'] = model.predict(play_off_test[features])\n",
    "playoff_pred['actual'] = np.array(play_off_test['is_goal'])"
   ]
  },
  {
   "cell_type": "code",
   "execution_count": 68,
   "id": "083546df",
   "metadata": {},
   "outputs": [],
   "source": [
    "playoff_pred.to_csv('data/processed/play_off_prediction.csv', index=False)\n",
    "Regualar_pred.to_csv('data/processed/Regualar_prediction.csv', index=False)"
   ]
  },
  {
   "cell_type": "code",
   "execution_count": 66,
   "id": "2a16e117",
   "metadata": {},
   "outputs": [
    {
     "data": {
      "image/png": "[encoded data removed]",
      "text/plain": [
       "<Figure size 432x288 with 1 Axes>"
      ]
     },
     "metadata": {
      "needs_background": "light"
     },
     "output_type": "display_data"
    }
   ],
   "source": [
    "y_pred_proba = playoff_pred['pred_proba']\n",
    "fpr, tpr, _ = metrics.roc_curve(playoff_pred['actual'],  y_pred_proba)\n",
    "auc = metrics.roc_auc_score(playoff_pred['actual'], y_pred_proba)\n",
    "plt.plot(fpr,tpr,label=\"lightgbm , auc=\"+str(auc))\n",
    "plt.legend(loc=4)\n",
    "plt.xticks(rotation=50)\n",
    "plt.xlabel('False Positive Rate', fontsize=18)\n",
    "plt.ylabel('True Positive rate', fontsize=16)\n",
    "plt.show()"
   ]
  },
  {
   "cell_type": "code",
   "execution_count": 67,
   "id": "59e0458f",
   "metadata": {},
   "outputs": [
    {
     "data": {
      "image/png": "[encoded data removed]",
      "text/plain": [
       "<Figure size 432x288 with 1 Axes>"
      ]
     },
     "metadata": {
      "needs_background": "light"
     },
     "output_type": "display_data"
    }
   ],
   "source": [
    "y_pred_proba = Regualar_pred['pred_proba']\n",
    "fpr, tpr, _ = metrics.roc_curve(Regualar_pred['actual'],  y_pred_proba)\n",
    "auc = metrics.roc_auc_score(Regualar_pred['actual'], y_pred_proba)\n",
    "plt.plot(fpr,tpr,label=\"lightgbm , auc=\"+str(auc))\n",
    "plt.legend(loc=4)\n",
    "plt.xticks(rotation=50)\n",
    "plt.xlabel('False Positive Rate', fontsize=18)\n",
    "plt.ylabel('True Positive rate', fontsize=16)\n",
    "plt.show()"
   ]
  },
  {
   "cell_type": "code",
   "execution_count": null,
   "id": "5e47e63a",
   "metadata": {},
   "outputs": [],
   "source": []
  }
 ],
 "metadata": {
  "kernelspec": {
   "display_name": "Python 3 (ipykernel)",
   "language": "python",
   "name": "python3"
  },
  "language_info": {
   "codemirror_mode": {
    "name": "ipython",
    "version": 3
   },
   "file_extension": ".py",
   "mimetype": "text/x-python",
   "name": "python",
   "nbconvert_exporter": "python",
   "pygments_lexer": "ipython3",
   "version": "3.8.2"
  }
 },
 "nbformat": 4,
 "nbformat_minor": 5
}
