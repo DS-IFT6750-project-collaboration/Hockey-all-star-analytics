{
 "cells": [
  {
   "cell_type": "code",
   "execution_count": 34,
   "id": "0d48d227",
   "metadata": {},
   "outputs": [],
   "source": [
    "import pandas as pd\n",
    "import numpy as np\n",
    "import matplotlib.pyplot as plt\n",
    "import seaborn as sns\n",
    "from comet_ml import Experiment\n",
    "from ipywidgets import interact, IntSlider\n",
    "\n",
    "from src.data.dataset import split_dataset, tidy_plays_df\n",
    "from src.data.data_query import StorageEngine\n",
    "from src.data.plays_model import game_json_to_plays_list\n",
    "from src.features.features import basic_features, advanced_features, normalize_plays_coords\n",
    "#from src.models.xgboost import train_xgb"
   ]
  },
  {
   "cell_type": "code",
   "execution_count": 2,
   "id": "209b6e4d",
   "metadata": {},
   "outputs": [],
   "source": [
    "from sklearn.feature_selection import SelectKBest\n",
    "from sklearn.feature_selection import chi2\n",
    "from sklearn.model_selection import train_test_split\n",
    "from sklearn.metrics import classification_report\n",
    "from sklearn.ensemble import RandomForestClassifier\n",
    "from sklearn.feature_selection import RFE\n",
    "from sklearn.linear_model import LogisticRegression"
   ]
  },
  {
   "cell_type": "code",
   "execution_count": 22,
   "id": "6a02db88",
   "metadata": {},
   "outputs": [],
   "source": [
    "from sklearn import metrics\n",
    "from lightgbm import LGBMClassifier\n",
    "from sklearn.model_selection import RandomizedSearchCV\n",
    "from sklearn.model_selection import GridSearchCV\n",
    "import pickle"
   ]
  },
  {
   "cell_type": "code",
   "execution_count": 3,
   "id": "9376de88",
   "metadata": {},
   "outputs": [
    {
     "data": {
      "text/html": [
       "<div>\n",
       "<style scoped>\n",
       "    .dataframe tbody tr th:only-of-type {\n",
       "        vertical-align: middle;\n",
       "    }\n",
       "\n",
       "    .dataframe tbody tr th {\n",
       "        vertical-align: top;\n",
       "    }\n",
       "\n",
       "    .dataframe thead th {\n",
       "        text-align: right;\n",
       "    }\n",
       "</style>\n",
       "<table border=\"1\" class=\"dataframe\">\n",
       "  <thead>\n",
       "    <tr style=\"text-align: right;\">\n",
       "      <th></th>\n",
       "      <th>seconds_elapsed</th>\n",
       "      <th>period_idx</th>\n",
       "      <th>x_coord</th>\n",
       "      <th>y_coord</th>\n",
       "      <th>x_coord_norm</th>\n",
       "      <th>y_coord_norm</th>\n",
       "      <th>dist_from_net</th>\n",
       "      <th>angle_from_net</th>\n",
       "      <th>Backhand</th>\n",
       "      <th>Deflected</th>\n",
       "      <th>...</th>\n",
       "      <th>SHOT</th>\n",
       "      <th>STOP</th>\n",
       "      <th>TAKEAWAY</th>\n",
       "      <th>previous_x_coord</th>\n",
       "      <th>previous_y_coord</th>\n",
       "      <th>seconds_from_previous</th>\n",
       "      <th>dist_from_previous</th>\n",
       "      <th>rebound</th>\n",
       "      <th>angle_change</th>\n",
       "      <th>speed</th>\n",
       "    </tr>\n",
       "  </thead>\n",
       "  <tbody>\n",
       "    <tr>\n",
       "      <th>5394</th>\n",
       "      <td>51.0</td>\n",
       "      <td>1</td>\n",
       "      <td>-55.0</td>\n",
       "      <td>6.0</td>\n",
       "      <td>55.0</td>\n",
       "      <td>-6.0</td>\n",
       "      <td>34.525353</td>\n",
       "      <td>-10.007980</td>\n",
       "      <td>0</td>\n",
       "      <td>0</td>\n",
       "      <td>...</td>\n",
       "      <td>0</td>\n",
       "      <td>0</td>\n",
       "      <td>0</td>\n",
       "      <td>94.0</td>\n",
       "      <td>-34.0</td>\n",
       "      <td>11.0</td>\n",
       "      <td>154.275727</td>\n",
       "      <td>0</td>\n",
       "      <td>0.000000</td>\n",
       "      <td>14.025066</td>\n",
       "    </tr>\n",
       "    <tr>\n",
       "      <th>5395</th>\n",
       "      <td>65.0</td>\n",
       "      <td>1</td>\n",
       "      <td>-79.0</td>\n",
       "      <td>0.0</td>\n",
       "      <td>79.0</td>\n",
       "      <td>-0.0</td>\n",
       "      <td>10.000000</td>\n",
       "      <td>0.000000</td>\n",
       "      <td>0</td>\n",
       "      <td>0</td>\n",
       "      <td>...</td>\n",
       "      <td>0</td>\n",
       "      <td>0</td>\n",
       "      <td>0</td>\n",
       "      <td>-37.0</td>\n",
       "      <td>-28.0</td>\n",
       "      <td>7.0</td>\n",
       "      <td>50.477718</td>\n",
       "      <td>0</td>\n",
       "      <td>0.000000</td>\n",
       "      <td>7.211103</td>\n",
       "    </tr>\n",
       "    <tr>\n",
       "      <th>5396</th>\n",
       "      <td>66.0</td>\n",
       "      <td>1</td>\n",
       "      <td>-75.0</td>\n",
       "      <td>-1.0</td>\n",
       "      <td>75.0</td>\n",
       "      <td>1.0</td>\n",
       "      <td>14.035669</td>\n",
       "      <td>4.085617</td>\n",
       "      <td>0</td>\n",
       "      <td>0</td>\n",
       "      <td>...</td>\n",
       "      <td>1</td>\n",
       "      <td>0</td>\n",
       "      <td>0</td>\n",
       "      <td>-79.0</td>\n",
       "      <td>0.0</td>\n",
       "      <td>1.0</td>\n",
       "      <td>4.123106</td>\n",
       "      <td>1</td>\n",
       "      <td>4.085617</td>\n",
       "      <td>4.123106</td>\n",
       "    </tr>\n",
       "    <tr>\n",
       "      <th>5397</th>\n",
       "      <td>113.0</td>\n",
       "      <td>1</td>\n",
       "      <td>-55.0</td>\n",
       "      <td>-36.0</td>\n",
       "      <td>55.0</td>\n",
       "      <td>36.0</td>\n",
       "      <td>49.517674</td>\n",
       "      <td>46.636577</td>\n",
       "      <td>0</td>\n",
       "      <td>0</td>\n",
       "      <td>...</td>\n",
       "      <td>0</td>\n",
       "      <td>0</td>\n",
       "      <td>0</td>\n",
       "      <td>-91.0</td>\n",
       "      <td>35.0</td>\n",
       "      <td>18.0</td>\n",
       "      <td>79.605276</td>\n",
       "      <td>0</td>\n",
       "      <td>0.000000</td>\n",
       "      <td>4.422515</td>\n",
       "    </tr>\n",
       "    <tr>\n",
       "      <th>5398</th>\n",
       "      <td>157.0</td>\n",
       "      <td>1</td>\n",
       "      <td>-61.0</td>\n",
       "      <td>-1.0</td>\n",
       "      <td>61.0</td>\n",
       "      <td>1.0</td>\n",
       "      <td>28.017851</td>\n",
       "      <td>2.045408</td>\n",
       "      <td>0</td>\n",
       "      <td>0</td>\n",
       "      <td>...</td>\n",
       "      <td>0</td>\n",
       "      <td>0</td>\n",
       "      <td>0</td>\n",
       "      <td>-69.0</td>\n",
       "      <td>-22.0</td>\n",
       "      <td>5.0</td>\n",
       "      <td>22.472205</td>\n",
       "      <td>0</td>\n",
       "      <td>0.000000</td>\n",
       "      <td>4.494441</td>\n",
       "    </tr>\n",
       "  </tbody>\n",
       "</table>\n",
       "<p>5 rows × 35 columns</p>\n",
       "</div>"
      ],
      "text/plain": [
       "      seconds_elapsed  period_idx  x_coord  y_coord  x_coord_norm  \\\n",
       "5394             51.0           1    -55.0      6.0          55.0   \n",
       "5395             65.0           1    -79.0      0.0          79.0   \n",
       "5396             66.0           1    -75.0     -1.0          75.0   \n",
       "5397            113.0           1    -55.0    -36.0          55.0   \n",
       "5398            157.0           1    -61.0     -1.0          61.0   \n",
       "\n",
       "      y_coord_norm  dist_from_net  angle_from_net  Backhand  Deflected  ...  \\\n",
       "5394          -6.0      34.525353      -10.007980         0          0  ...   \n",
       "5395          -0.0      10.000000        0.000000         0          0  ...   \n",
       "5396           1.0      14.035669        4.085617         0          0  ...   \n",
       "5397          36.0      49.517674       46.636577         0          0  ...   \n",
       "5398           1.0      28.017851        2.045408         0          0  ...   \n",
       "\n",
       "      SHOT  STOP  TAKEAWAY  previous_x_coord  previous_y_coord  \\\n",
       "5394     0     0         0              94.0             -34.0   \n",
       "5395     0     0         0             -37.0             -28.0   \n",
       "5396     1     0         0             -79.0               0.0   \n",
       "5397     0     0         0             -91.0              35.0   \n",
       "5398     0     0         0             -69.0             -22.0   \n",
       "\n",
       "      seconds_from_previous  dist_from_previous  rebound  angle_change  \\\n",
       "5394                   11.0          154.275727        0      0.000000   \n",
       "5395                    7.0           50.477718        0      0.000000   \n",
       "5396                    1.0            4.123106        1      4.085617   \n",
       "5397                   18.0           79.605276        0      0.000000   \n",
       "5398                    5.0           22.472205        0      0.000000   \n",
       "\n",
       "          speed  \n",
       "5394  14.025066  \n",
       "5395   7.211103  \n",
       "5396   4.123106  \n",
       "5397   4.422515  \n",
       "5398   4.494441  \n",
       "\n",
       "[5 rows x 35 columns]"
      ]
     },
     "execution_count": 3,
     "metadata": {},
     "output_type": "execute_result"
    }
   ],
   "source": [
    "df = pd.read_csv(\"./data/processed/plays_2015-2020.csv\", index_col=False)\n",
    "df, test_df = split_dataset(df)\n",
    "advanced_df = advanced_features(df)\n",
    "advanced_df.head()"
   ]
  },
  {
   "cell_type": "code",
   "execution_count": 9,
   "id": "45e07026",
   "metadata": {},
   "outputs": [],
   "source": [
    "#df3 = pd.get_dummies(df.shot_type)\n",
    "df2 = pd.get_dummies(df.period_type)\n",
    "df['is_goal'] = np.where(df.event_type_id == \"GOAL\",1,0)\n",
    "result_df = pd.concat([advanced_df, df2, df[['is_goal']]], axis=1).round(2).fillna(0)\n",
    "dff = result_df.replace({np.nan: 0, np.inf:0, -np.inf:0})"
   ]
  },
  {
   "cell_type": "markdown",
   "id": "74048e7c",
   "metadata": {},
   "source": [
    "#### Create train and validation set"
   ]
  },
  {
   "cell_type": "code",
   "execution_count": 10,
   "id": "0c1b539f",
   "metadata": {},
   "outputs": [],
   "source": [
    "X_train, X_test, y_train, y_test = train_test_split(dff.drop(['is_goal','empty_net'],axis=1).fillna(0), dff['is_goal'], test_size=0.30, random_state=42)\n"
   ]
  },
  {
   "cell_type": "markdown",
   "id": "82e97357",
   "metadata": {},
   "source": [
    "### feature selection"
   ]
  },
  {
   "cell_type": "code",
   "execution_count": 11,
   "id": "7fa8ca65",
   "metadata": {},
   "outputs": [
    {
     "name": "stderr",
     "output_type": "stream",
     "text": [
      "/opt/anaconda3/envs/DS_project/lib/python3.8/site-packages/sklearn/linear_model/_logistic.py:814: ConvergenceWarning: lbfgs failed to converge (status=1):\n",
      "STOP: TOTAL NO. of ITERATIONS REACHED LIMIT.\n",
      "\n",
      "Increase the number of iterations (max_iter) or scale the data as shown in:\n",
      "    https://scikit-learn.org/stable/modules/preprocessing.html\n",
      "Please also refer to the documentation for alternative solver options:\n",
      "    https://scikit-learn.org/stable/modules/linear_model.html#logistic-regression\n",
      "  n_iter_i = _check_optimize_result(\n",
      "/opt/anaconda3/envs/DS_project/lib/python3.8/site-packages/sklearn/linear_model/_logistic.py:814: ConvergenceWarning: lbfgs failed to converge (status=1):\n",
      "STOP: TOTAL NO. of ITERATIONS REACHED LIMIT.\n",
      "\n",
      "Increase the number of iterations (max_iter) or scale the data as shown in:\n",
      "    https://scikit-learn.org/stable/modules/preprocessing.html\n",
      "Please also refer to the documentation for alternative solver options:\n",
      "    https://scikit-learn.org/stable/modules/linear_model.html#logistic-regression\n",
      "  n_iter_i = _check_optimize_result(\n",
      "/opt/anaconda3/envs/DS_project/lib/python3.8/site-packages/sklearn/linear_model/_logistic.py:814: ConvergenceWarning: lbfgs failed to converge (status=1):\n",
      "STOP: TOTAL NO. of ITERATIONS REACHED LIMIT.\n",
      "\n",
      "Increase the number of iterations (max_iter) or scale the data as shown in:\n",
      "    https://scikit-learn.org/stable/modules/preprocessing.html\n",
      "Please also refer to the documentation for alternative solver options:\n",
      "    https://scikit-learn.org/stable/modules/linear_model.html#logistic-regression\n",
      "  n_iter_i = _check_optimize_result(\n",
      "/opt/anaconda3/envs/DS_project/lib/python3.8/site-packages/sklearn/linear_model/_logistic.py:814: ConvergenceWarning: lbfgs failed to converge (status=1):\n",
      "STOP: TOTAL NO. of ITERATIONS REACHED LIMIT.\n",
      "\n",
      "Increase the number of iterations (max_iter) or scale the data as shown in:\n",
      "    https://scikit-learn.org/stable/modules/preprocessing.html\n",
      "Please also refer to the documentation for alternative solver options:\n",
      "    https://scikit-learn.org/stable/modules/linear_model.html#logistic-regression\n",
      "  n_iter_i = _check_optimize_result(\n",
      "/opt/anaconda3/envs/DS_project/lib/python3.8/site-packages/sklearn/linear_model/_logistic.py:814: ConvergenceWarning: lbfgs failed to converge (status=1):\n",
      "STOP: TOTAL NO. of ITERATIONS REACHED LIMIT.\n",
      "\n",
      "Increase the number of iterations (max_iter) or scale the data as shown in:\n",
      "    https://scikit-learn.org/stable/modules/preprocessing.html\n",
      "Please also refer to the documentation for alternative solver options:\n",
      "    https://scikit-learn.org/stable/modules/linear_model.html#logistic-regression\n",
      "  n_iter_i = _check_optimize_result(\n",
      "/opt/anaconda3/envs/DS_project/lib/python3.8/site-packages/sklearn/linear_model/_logistic.py:814: ConvergenceWarning: lbfgs failed to converge (status=1):\n",
      "STOP: TOTAL NO. of ITERATIONS REACHED LIMIT.\n",
      "\n",
      "Increase the number of iterations (max_iter) or scale the data as shown in:\n",
      "    https://scikit-learn.org/stable/modules/preprocessing.html\n",
      "Please also refer to the documentation for alternative solver options:\n",
      "    https://scikit-learn.org/stable/modules/linear_model.html#logistic-regression\n",
      "  n_iter_i = _check_optimize_result(\n",
      "/opt/anaconda3/envs/DS_project/lib/python3.8/site-packages/sklearn/linear_model/_logistic.py:814: ConvergenceWarning: lbfgs failed to converge (status=1):\n",
      "STOP: TOTAL NO. of ITERATIONS REACHED LIMIT.\n",
      "\n",
      "Increase the number of iterations (max_iter) or scale the data as shown in:\n",
      "    https://scikit-learn.org/stable/modules/preprocessing.html\n",
      "Please also refer to the documentation for alternative solver options:\n",
      "    https://scikit-learn.org/stable/modules/linear_model.html#logistic-regression\n",
      "  n_iter_i = _check_optimize_result(\n"
     ]
    },
    {
     "name": "stdout",
     "output_type": "stream",
     "text": [
      "Num Features: 30\n",
      "Selected Features: [ True  True  True  True  True  True  True  True  True  True False  True\n",
      "  True  True  True False  True  True  True  True False False False  True\n",
      "  True  True  True False  True  True  True  True  True  True False  True\n",
      "  True]\n",
      "Feature Ranking: [1 1 1 1 1 1 1 1 1 1 4 1 1 1 1 7 1 1 1 1 5 8 2 1 1 1 1 6 1 1 1 1 1 1 3 1 1]\n"
     ]
    },
    {
     "name": "stderr",
     "output_type": "stream",
     "text": [
      "/opt/anaconda3/envs/DS_project/lib/python3.8/site-packages/sklearn/linear_model/_logistic.py:814: ConvergenceWarning: lbfgs failed to converge (status=1):\n",
      "STOP: TOTAL NO. of ITERATIONS REACHED LIMIT.\n",
      "\n",
      "Increase the number of iterations (max_iter) or scale the data as shown in:\n",
      "    https://scikit-learn.org/stable/modules/preprocessing.html\n",
      "Please also refer to the documentation for alternative solver options:\n",
      "    https://scikit-learn.org/stable/modules/linear_model.html#logistic-regression\n",
      "  n_iter_i = _check_optimize_result(\n"
     ]
    }
   ],
   "source": [
    "model = LogisticRegression()\n",
    "rfe = RFE(model, n_features_to_select=30, step=1)\n",
    "fit = rfe.fit(X_train, y_train)\n",
    "print(\"Num Features: %s\" % (fit.n_features_))\n",
    "print(\"Selected Features: %s\" % (fit.support_))\n",
    "print(\"Feature Ranking: %s\" % (fit.ranking_))"
   ]
  },
  {
   "cell_type": "code",
   "execution_count": 12,
   "id": "76bc295a",
   "metadata": {},
   "outputs": [],
   "source": [
    "feature_select = pd.DataFrame()\n",
    "feature_select['features'] = X_train.columns\n",
    "feature_select['RFE_select'] = fit.support_"
   ]
  },
  {
   "cell_type": "code",
   "execution_count": 13,
   "id": "0497243f",
   "metadata": {},
   "outputs": [
    {
     "name": "stdout",
     "output_type": "stream",
     "text": [
      "Num Features: 30\n",
      "Selected Features: [ True  True  True  True  True  True  True  True  True  True  True  True\n",
      "  True  True  True  True  True  True False  True  True False False False\n",
      "  True False  True  True  True  True  True  True  True  True False  True\n",
      " False]\n",
      "Feature Ranking: [1 1 1 1 1 1 1 1 1 1 1 1 1 1 1 1 1 1 6 1 1 7 5 8 1 4 1 1 1 1 1 1 1 1 2 1 3]\n"
     ]
    }
   ],
   "source": [
    "model = RandomForestClassifier(random_state = 42)\n",
    "rfe = RFE(model, n_features_to_select=30, step=1)\n",
    "fit = rfe.fit(X_train, y_train)\n",
    "print(\"Num Features: %s\" % (fit.n_features_))\n",
    "print(\"Selected Features: %s\" % (fit.support_))\n",
    "print(\"Feature Ranking: %s\" % (fit.ranking_))"
   ]
  },
  {
   "cell_type": "code",
   "execution_count": 24,
   "id": "4c1012aa",
   "metadata": {},
   "outputs": [],
   "source": [
    "feature_select['RFE_random_forest'] = fit.support_\n",
    "feature_select['select'] = np.where((feature_select['RFE_select']==True)&(feature_select['RFE_select']==True),1,0)\n",
    "features = feature_select[feature_select['select']==1]['features'].tolist()"
   ]
  },
  {
   "cell_type": "code",
   "execution_count": 16,
   "id": "25d99417",
   "metadata": {},
   "outputs": [
    {
     "data": {
      "text/plain": [
       "WOE(mono_custom_binning={'BLOCKED_SHOT': array([0., 1.]),\n",
       "                         'Backhand': array([0., 1.]),\n",
       "                         'Deflected': array([0., 1.]),\n",
       "                         'FACEOFF': array([0., 1.]),\n",
       "                         'GIVEAWAY': array([0., 1.]), 'GOAL': array([0., 1.]),\n",
       "                         'HIT': array([0., 1.]), 'MISSED_SHOT': array([0., 1.]),\n",
       "                         'OTHER': array([0., 1.]), 'OVERTIME': array([0., 1.]),\n",
       "                         'PENALTY': array([0., 1.]),\n",
       "                         'PERIOD_START': array([0., 1.]),\n",
       "                         'REGULAR': array...\n",
       "                                   Interval(-54.0, 54.0, closed='right'): -0.05189122790246956,\n",
       "                                   Interval(54.0, 99.0, closed='right'): 0.02154891839684451},\n",
       "              'previous_y_coord': {Interval(-42.001, -13.0, closed='right'): -0.12960622948947284,\n",
       "                                   Interval(-13.0, 13.0, closed='right'): 0.21013923124825637,\n",
       "                                   Interval(13.0, 42.0, closed='right'): -0.1104578663683256},\n",
       "              'rebound': {0: -0.09929731123040188, 1: 0.3386887784288118}, ...})"
      ]
     },
     "execution_count": 16,
     "metadata": {},
     "output_type": "execute_result"
    }
   ],
   "source": [
    "from xverse.transformer import WOE\n",
    "clf = WOE()\n",
    "clf.fit(X_train, y_train)"
   ]
  },
  {
   "cell_type": "code",
   "execution_count": 20,
   "id": "5569be54",
   "metadata": {},
   "outputs": [
    {
     "data": {
      "text/html": [
       "<div>\n",
       "<style scoped>\n",
       "    .dataframe tbody tr th:only-of-type {\n",
       "        vertical-align: middle;\n",
       "    }\n",
       "\n",
       "    .dataframe tbody tr th {\n",
       "        vertical-align: top;\n",
       "    }\n",
       "\n",
       "    .dataframe thead th {\n",
       "        text-align: right;\n",
       "    }\n",
       "</style>\n",
       "<table border=\"1\" class=\"dataframe\">\n",
       "  <thead>\n",
       "    <tr style=\"text-align: right;\">\n",
       "      <th></th>\n",
       "      <th>Variable_Name</th>\n",
       "      <th>Information_Value</th>\n",
       "    </tr>\n",
       "  </thead>\n",
       "  <tbody>\n",
       "    <tr>\n",
       "      <th>24</th>\n",
       "      <td>dist_from_net</td>\n",
       "      <td>0.447066</td>\n",
       "    </tr>\n",
       "    <tr>\n",
       "      <th>34</th>\n",
       "      <td>x_coord_norm</td>\n",
       "      <td>0.303175</td>\n",
       "    </tr>\n",
       "  </tbody>\n",
       "</table>\n",
       "</div>"
      ],
      "text/plain": [
       "    Variable_Name  Information_Value\n",
       "24  dist_from_net           0.447066\n",
       "34   x_coord_norm           0.303175"
      ]
     },
     "execution_count": 20,
     "metadata": {},
     "output_type": "execute_result"
    }
   ],
   "source": [
    "temp = pd.DataFrame(clf.iv_df)\n",
    "temp[temp['Information_Value']>0.3]"
   ]
  },
  {
   "cell_type": "markdown",
   "id": "3cfd8201",
   "metadata": {},
   "source": [
    "### Model building"
   ]
  },
  {
   "cell_type": "markdown",
   "id": "5ec5380d",
   "metadata": {},
   "source": [
    "#### MLP classifier"
   ]
  },
  {
   "cell_type": "code",
   "execution_count": null,
   "id": "c11345b9",
   "metadata": {},
   "outputs": [],
   "source": [
    "## Hyperparameter tuning\n",
    "mlp = MLPClassifier(max_iter=100)\n",
    "parameter_space = {\n",
    "    'hidden_layer_sizes': [(50,50,50), (50,100,50), (100,)],\n",
    "    'activation': ['tanh', 'relu'],\n",
    "    'alpha': [0.0001, 0.05],\n",
    "    \n",
    "}\n",
    "clf = RandomizedSearchCV(mlp, parameter_space, n_jobs=-1, cv=5)\n",
    "clf.fit(X_train[features], y_train)\n",
    "# Best parameter set\n",
    "print('Best parameters found:\\n', clf.best_params_)\n",
    "\n",
    "# All results\n",
    "means = clf.cv_results_['mean_test_score']\n",
    "stds = clf.cv_results_['std_test_score']\n",
    "for mean, std, params in zip(means, stds, clf.cv_results_['params']):\n",
    "    print(\"%0.3f (+/-%0.03f) for %r\" % (mean, std * 2, params))"
   ]
  },
  {
   "cell_type": "code",
   "execution_count": null,
   "id": "f2761265",
   "metadata": {},
   "outputs": [],
   "source": [
    "y_true, y_pred = y_test , clf.predict(X_test[features])\n",
    "\n",
    "from sklearn.metrics import classification_report\n",
    "print('Results on the test set:')\n",
    "print(classification_report(y_true, y_pred))"
   ]
  },
  {
   "cell_type": "code",
   "execution_count": null,
   "id": "eed1ec02",
   "metadata": {},
   "outputs": [],
   "source": [
    "## MLP\n",
    "from sklearn.neural_network import MLPClassifier\n",
    "clf = MLPClassifier(random_state=1, max_iter=300).fit(X_train[features], y_train)\n",
    "\n"
   ]
  },
  {
   "cell_type": "code",
   "execution_count": 47,
   "id": "69add68c",
   "metadata": {},
   "outputs": [
    {
     "name": "stdout",
     "output_type": "stream",
     "text": [
      "              precision    recall  f1-score   support\n",
      "\n",
      "           0       0.91      1.00      0.95     84601\n",
      "           1       0.42      0.03      0.06      8731\n",
      "\n",
      "    accuracy                           0.91     93332\n",
      "   macro avg       0.67      0.51      0.50     93332\n",
      "weighted avg       0.86      0.91      0.87     93332\n",
      "\n",
      "              precision    recall  f1-score   support\n",
      "\n",
      "           0       0.91      1.00      0.95    197318\n",
      "           1       0.47      0.03      0.06     20456\n",
      "\n",
      "    accuracy                           0.91    217774\n",
      "   macro avg       0.69      0.51      0.51    217774\n",
      "weighted avg       0.87      0.91      0.87    217774\n",
      "\n"
     ]
    }
   ],
   "source": [
    "print(classification_report(y_test, clf.predict(X_test[features])))\n",
    "print(classification_report(y_train, clf.predict(X_train[features])))"
   ]
  },
  {
   "cell_type": "code",
   "execution_count": 48,
   "id": "7a5786f6",
   "metadata": {},
   "outputs": [
    {
     "data": {
      "image/png": "[encoded data removed]",
      "text/plain": [
       "<Figure size 432x288 with 1 Axes>"
      ]
     },
     "metadata": {
      "needs_background": "light"
     },
     "output_type": "display_data"
    }
   ],
   "source": [
    "y_pred_proba = clf.predict_proba(X_test[features])[::,1]\n",
    "fpr, tpr, _ = metrics.roc_curve(y_test,  y_pred_proba)\n",
    "auc = metrics.roc_auc_score(y_test, y_pred_proba)\n",
    "plt.plot(fpr,tpr,label=\" , auc=\"+str(auc))\n",
    "plt.legend(loc=4)\n",
    "plt.xticks(rotation=50)\n",
    "plt.xlabel('False Positive Rate', fontsize=18)\n",
    "plt.ylabel('True Positive rate', fontsize=16)\n",
    "plt.show()"
   ]
  },
  {
   "cell_type": "markdown",
   "id": "7e65b537",
   "metadata": {},
   "source": [
    "### Random forest"
   ]
  },
  {
   "cell_type": "code",
   "execution_count": 42,
   "id": "4da8b77a",
   "metadata": {},
   "outputs": [
    {
     "name": "stdout",
     "output_type": "stream",
     "text": [
      "              precision    recall  f1-score   support\n",
      "\n",
      "           0       0.92      0.95      0.94     84601\n",
      "           1       0.31      0.20      0.25      8731\n",
      "\n",
      "    accuracy                           0.88     93332\n",
      "   macro avg       0.61      0.58      0.59     93332\n",
      "weighted avg       0.86      0.88      0.87     93332\n",
      "\n",
      "              precision    recall  f1-score   support\n",
      "\n",
      "           0       0.92      0.95      0.94    197318\n",
      "           1       0.30      0.19      0.24     20456\n",
      "\n",
      "    accuracy                           0.88    217774\n",
      "   macro avg       0.61      0.57      0.59    217774\n",
      "weighted avg       0.86      0.88      0.87    217774\n",
      "\n"
     ]
    }
   ],
   "source": [
    "\n",
    "randomForest = RandomForestClassifier(random_state = 42, max_depth=6, class_weight = {0: 0.2, 1: 0.8}).fit(X_train[features], y_train)\n",
    "print(classification_report(y_test, randomForest.predict(X_test[features])))\n",
    "print(classification_report(y_train, randomForest.predict(X_train[features])))\n"
   ]
  },
  {
   "cell_type": "code",
   "execution_count": 44,
   "id": "facd4ede",
   "metadata": {},
   "outputs": [
    {
     "data": {
      "image/png": "[encoded data removed]",
      "text/plain": [
       "<Figure size 432x288 with 1 Axes>"
      ]
     },
     "metadata": {
      "needs_background": "light"
     },
     "output_type": "display_data"
    }
   ],
   "source": [
    "\n",
    "y_pred_proba = randomForest.predict_proba(X_test[features])[::,1]\n",
    "fpr, tpr, _ = metrics.roc_curve(y_test,  y_pred_proba)\n",
    "auc = metrics.roc_auc_score(y_test, y_pred_proba)\n",
    "plt.plot(fpr,tpr,label=\" , auc=\"+str(auc))\n",
    "plt.legend(loc=4)\n",
    "plt.xticks(rotation=50)\n",
    "plt.xlabel('False Positive Rate', fontsize=18)\n",
    "plt.ylabel('True Positive rate', fontsize=16)\n",
    "plt.show()"
   ]
  },
  {
   "cell_type": "markdown",
   "id": "712efc98",
   "metadata": {},
   "source": [
    "### Light gbm hyperparameter tuning"
   ]
  },
  {
   "cell_type": "code",
   "execution_count": 30,
   "id": "1b56f57e",
   "metadata": {
    "collapsed": true
   },
   "outputs": [
    {
     "name": "stdout",
     "output_type": "stream",
     "text": [
      "[LightGBM] [Warning] min_gain_to_split is set=0.1, min_split_gain=0.0 will be ignored. Current value: min_gain_to_split=0.1\n",
      "[LightGBM] [Warning] min_gain_to_split is set=0.1, min_split_gain=0.0 will be ignored. Current value: min_gain_to_split=0.1\n",
      "[LightGBM] [Warning] min_gain_to_split is set=0.1, min_split_gain=0.0 will be ignored. Current value: min_gain_to_split=0.1\n",
      "[LightGBM] [Warning] min_gain_to_split is set=0.1, min_split_gain=0.0 will be ignored. Current value: min_gain_to_split=0.1\n",
      "[LightGBM] [Warning] min_gain_to_split is set=0.1, min_split_gain=0.0 will be ignored. Current value: min_gain_to_split=0.1\n",
      "[LightGBM] [Warning] min_gain_to_split is set=0.1, min_split_gain=0.0 will be ignored. Current value: min_gain_to_split=0.1\n",
      "[LightGBM] [Warning] min_gain_to_split is set=0.1, min_split_gain=0.0 will be ignored. Current value: min_gain_to_split=0.1\n",
      "[LightGBM] [Warning] min_gain_to_split is set=0.1, min_split_gain=0.0 will be ignored. Current value: min_gain_to_split=0.1\n",
      "[LightGBM] [Warning] min_gain_to_split is set=0.1, min_split_gain=0.0 will be ignored. Current value: min_gain_to_split=0.1\n",
      "[LightGBM] [Warning] min_gain_to_split is set=0.1, min_split_gain=0.0 will be ignored. Current value: min_gain_to_split=0.1\n",
      "[LightGBM] [Warning] min_gain_to_split is set=0.3, min_split_gain=0.0 will be ignored. Current value: min_gain_to_split=0.3\n",
      "[LightGBM] [Warning] min_gain_to_split is set=0.3, min_split_gain=0.0 will be ignored. Current value: min_gain_to_split=0.3\n",
      "[LightGBM] [Warning] min_gain_to_split is set=0.3, min_split_gain=0.0 will be ignored. Current value: min_gain_to_split=0.3\n",
      "[LightGBM] [Warning] min_gain_to_split is set=0.3, min_split_gain=0.0 will be ignored. Current value: min_gain_to_split=0.3\n",
      "[LightGBM] [Warning] min_gain_to_split is set=0.3, min_split_gain=0.0 will be ignored. Current value: min_gain_to_split=0.3\n",
      "[LightGBM] [Warning] min_gain_to_split is set=0.6, min_split_gain=0.0 will be ignored. Current value: min_gain_to_split=0.6\n",
      "[LightGBM] [Warning] min_gain_to_split is set=0.6, min_split_gain=0.0 will be ignored. Current value: min_gain_to_split=0.6\n",
      "[LightGBM] [Warning] min_gain_to_split is set=0.6, min_split_gain=0.0 will be ignored. Current value: min_gain_to_split=0.6\n",
      "[LightGBM] [Warning] min_gain_to_split is set=0.6, min_split_gain=0.0 will be ignored. Current value: min_gain_to_split=0.6\n",
      "[LightGBM] [Warning] min_gain_to_split is set=0.6, min_split_gain=0.0 will be ignored. Current value: min_gain_to_split=0.6\n",
      "[LightGBM] [Warning] min_gain_to_split is set=0.6, min_split_gain=0.0 will be ignored. Current value: min_gain_to_split=0.6\n",
      "[LightGBM] [Warning] min_gain_to_split is set=0.6, min_split_gain=0.0 will be ignored. Current value: min_gain_to_split=0.6\n",
      "[LightGBM] [Warning] min_gain_to_split is set=0.6, min_split_gain=0.0 will be ignored. Current value: min_gain_to_split=0.6\n",
      "[LightGBM] [Warning] min_gain_to_split is set=0.6, min_split_gain=0.0 will be ignored. Current value: min_gain_to_split=0.6\n",
      "[LightGBM] [Warning] min_gain_to_split is set=0.6, min_split_gain=0.0 will be ignored. Current value: min_gain_to_split=0.6\n",
      "[LightGBM] [Warning] min_gain_to_split is set=0.5, min_split_gain=0.0 will be ignored. Current value: min_gain_to_split=0.5\n",
      "[LightGBM] [Warning] min_gain_to_split is set=0.5, min_split_gain=0.0 will be ignored. Current value: min_gain_to_split=0.5\n",
      "[LightGBM] [Warning] min_gain_to_split is set=0.5, min_split_gain=0.0 will be ignored. Current value: min_gain_to_split=0.5\n",
      "[LightGBM] [Warning] min_gain_to_split is set=0.5, min_split_gain=0.0 will be ignored. Current value: min_gain_to_split=0.5\n",
      "[LightGBM] [Warning] min_gain_to_split is set=0.5, min_split_gain=0.0 will be ignored. Current value: min_gain_to_split=0.5\n",
      "[LightGBM] [Warning] min_gain_to_split is set=0.5, min_split_gain=0.0 will be ignored. Current value: min_gain_to_split=0.5\n",
      "[LightGBM] [Warning] min_gain_to_split is set=0.5, min_split_gain=0.0 will be ignored. Current value: min_gain_to_split=0.5\n",
      "[LightGBM] [Warning] min_gain_to_split is set=0.5, min_split_gain=0.0 will be ignored. Current value: min_gain_to_split=0.5\n",
      "[LightGBM] [Warning] min_gain_to_split is set=0.5, min_split_gain=0.0 will be ignored. Current value: min_gain_to_split=0.5\n",
      "[LightGBM] [Warning] min_gain_to_split is set=0.5, min_split_gain=0.0 will be ignored. Current value: min_gain_to_split=0.5\n",
      "[LightGBM] [Warning] min_gain_to_split is set=0.5, min_split_gain=0.0 will be ignored. Current value: min_gain_to_split=0.5\n",
      "[LightGBM] [Warning] min_gain_to_split is set=0.5, min_split_gain=0.0 will be ignored. Current value: min_gain_to_split=0.5\n",
      "[LightGBM] [Warning] min_gain_to_split is set=0.5, min_split_gain=0.0 will be ignored. Current value: min_gain_to_split=0.5\n",
      "[LightGBM] [Warning] min_gain_to_split is set=0.5, min_split_gain=0.0 will be ignored. Current value: min_gain_to_split=0.5\n",
      "[LightGBM] [Warning] min_gain_to_split is set=0.5, min_split_gain=0.0 will be ignored. Current value: min_gain_to_split=0.5\n",
      "[LightGBM] [Warning] min_gain_to_split is set=0.1, min_split_gain=0.0 will be ignored. Current value: min_gain_to_split=0.1\n",
      "[LightGBM] [Warning] min_gain_to_split is set=0.1, min_split_gain=0.0 will be ignored. Current value: min_gain_to_split=0.1\n",
      "[LightGBM] [Warning] min_gain_to_split is set=0.1, min_split_gain=0.0 will be ignored. Current value: min_gain_to_split=0.1\n",
      "[LightGBM] [Warning] min_gain_to_split is set=0.1, min_split_gain=0.0 will be ignored. Current value: min_gain_to_split=0.1\n",
      "[LightGBM] [Warning] min_gain_to_split is set=0.1, min_split_gain=0.0 will be ignored. Current value: min_gain_to_split=0.1\n",
      "[LightGBM] [Warning] min_gain_to_split is set=0.6, min_split_gain=0.0 will be ignored. Current value: min_gain_to_split=0.6\n",
      "[LightGBM] [Warning] min_gain_to_split is set=0.6, min_split_gain=0.0 will be ignored. Current value: min_gain_to_split=0.6\n",
      "[LightGBM] [Warning] min_gain_to_split is set=0.6, min_split_gain=0.0 will be ignored. Current value: min_gain_to_split=0.6\n",
      "[LightGBM] [Warning] min_gain_to_split is set=0.6, min_split_gain=0.0 will be ignored. Current value: min_gain_to_split=0.6\n",
      "[LightGBM] [Warning] min_gain_to_split is set=0.6, min_split_gain=0.0 will be ignored. Current value: min_gain_to_split=0.6\n",
      "[LightGBM] [Warning] min_gain_to_split is set=0.1, min_split_gain=0.0 will be ignored. Current value: min_gain_to_split=0.1\n"
     ]
    },
    {
     "data": {
      "text/plain": [
       "RandomizedSearchCV(cv=5,\n",
       "                   estimator=LGBMClassifier(class_weight={0: 0.2, 1: 0.8},\n",
       "                                            metric='auc', objective='binary',\n",
       "                                            random_state=42),\n",
       "                   param_distributions={'min_gain_to_split': [0.1, 0.3, 0.5,\n",
       "                                                              0.6],\n",
       "                                        'reg_alpha': [0.4, 1],\n",
       "                                        'reg_lambda': [0.7, 1]},\n",
       "                   random_state=42)"
      ]
     },
     "execution_count": 30,
     "metadata": {},
     "output_type": "execute_result"
    }
   ],
   "source": [
    "##Lightgbm\n",
    "mdl = LGBMClassifier(objective=\"binary\" ,class_weight={0:0.2,1:0.8,},\n",
    "                       metric=\"auc\", random_state=42,\n",
    "                     #n_estimators=500  \n",
    "                       #min_split_gain = 23\n",
    "                      )\n",
    "param1 = {'min_gain_to_split':[0.1, 0.3, 0.5, 0.6],\"reg_alpha\" :[0.4, 1],\n",
    "\"reg_lambda\" : [0.7, 1],}\n",
    "clf = RandomizedSearchCV(mdl, param1, random_state=42, cv=5)\n",
    "\n",
    "clf.fit(X_train[features], y_train)"
   ]
  },
  {
   "cell_type": "code",
   "execution_count": 31,
   "id": "a12270bc",
   "metadata": {},
   "outputs": [
    {
     "data": {
      "text/plain": [
       "LGBMClassifier(class_weight={0: 0.2, 1: 0.8}, metric='auc',\n",
       "               min_gain_to_split=0.1, objective='binary', random_state=42,\n",
       "               reg_alpha=0.4, reg_lambda=0.7)"
      ]
     },
     "execution_count": 31,
     "metadata": {},
     "output_type": "execute_result"
    }
   ],
   "source": [
    "clf.best_estimator_"
   ]
  },
  {
   "cell_type": "code",
   "execution_count": 32,
   "id": "c5b3fbbc",
   "metadata": {},
   "outputs": [],
   "source": [
    "# model = LGBMClassifier(class_weight={0: 0.2, 1: 0.8}, metric='auc',\n",
    "#                min_gain_to_split=0.3, objective='binary',)\n",
    "# model = LGBMClassifier(class_weight={0: 0.2, 1: 0.8}, metric='auc',\n",
    "#                min_gain_to_split=0.3, objective='binary', random_state=42,)\n",
    "#                #reg_alpha=0.4, reg_lambda=1)\n",
    "model = LGBMClassifier(class_weight={0: 0.2, 1: 0.8}, metric='auc',\n",
    "               min_gain_to_split=0.1, objective='binary', random_state=42,\n",
    "               reg_alpha=0.4, reg_lambda=0.7)\n",
    "model.fit(X_train[features], y_train)\n",
    "ypred = model.predict(X_test[features])\n",
    "y_tr_pred = model.predict(X_train[features])\n",
    "\n"
   ]
  },
  {
   "cell_type": "code",
   "execution_count": 36,
   "id": "c415398c",
   "metadata": {},
   "outputs": [],
   "source": [
    "%matplotlib inline"
   ]
  },
  {
   "cell_type": "code",
   "execution_count": 37,
   "id": "5ccdc955",
   "metadata": {},
   "outputs": [
    {
     "data": {
      "image/png": "[encoded data removed]",
      "text/plain": [
       "<Figure size 432x288 with 1 Axes>"
      ]
     },
     "metadata": {
      "needs_background": "light"
     },
     "output_type": "display_data"
    }
   ],
   "source": [
    "y_pred_proba = model.predict_proba(X_test[features])[::,1]\n",
    "fpr, tpr, _ = metrics.roc_curve(y_test,  y_pred_proba)\n",
    "auc = metrics.roc_auc_score(y_test, y_pred_proba)\n",
    "plt.plot(fpr,tpr,label=\"lightgbm , auc=\"+str(auc))\n",
    "plt.legend(loc=4)\n",
    "plt.xticks(rotation=50)\n",
    "plt.xlabel('False Positive Rate', fontsize=18)\n",
    "plt.ylabel('True Positive rate', fontsize=16)\n",
    "plt.show()"
   ]
  },
  {
   "cell_type": "code",
   "execution_count": 38,
   "id": "dd9ea438",
   "metadata": {},
   "outputs": [
    {
     "name": "stdout",
     "output_type": "stream",
     "text": [
      "test\n",
      "              precision    recall  f1-score   support\n",
      "\n",
      "           0       0.93      0.92      0.93     84601\n",
      "           1       0.30      0.33      0.32      8731\n",
      "\n",
      "    accuracy                           0.87     93332\n",
      "   macro avg       0.62      0.63      0.62     93332\n",
      "weighted avg       0.87      0.87      0.87     93332\n",
      "\n",
      "train\n",
      "              precision    recall  f1-score   support\n",
      "\n",
      "           0       0.93      0.92      0.93    197318\n",
      "           1       0.32      0.35      0.34     20456\n",
      "\n",
      "    accuracy                           0.87    217774\n",
      "   macro avg       0.63      0.64      0.63    217774\n",
      "weighted avg       0.87      0.87      0.87    217774\n",
      "\n"
     ]
    }
   ],
   "source": [
    "print('test')\n",
    "print(classification_report(y_test, model.predict(X_test[features])))\n",
    "print('train')\n",
    "print(classification_report(y_train, model.predict(X_train[features])))"
   ]
  },
  {
   "cell_type": "code",
   "execution_count": 39,
   "id": "0ba20510",
   "metadata": {},
   "outputs": [
    {
     "name": "stderr",
     "output_type": "stream",
     "text": [
      "/opt/anaconda3/envs/DS_project/lib/python3.8/site-packages/sklearn/utils/deprecation.py:87: FutureWarning: Function plot_confusion_matrix is deprecated; Function `plot_confusion_matrix` is deprecated in 1.0 and will be removed in 1.2. Use one of the class methods: ConfusionMatrixDisplay.from_predictions or ConfusionMatrixDisplay.from_estimator.\n",
      "  warnings.warn(msg, category=FutureWarning)\n"
     ]
    },
    {
     "data": {
      "text/plain": [
       "<sklearn.metrics._plot.confusion_matrix.ConfusionMatrixDisplay at 0x7fe7faca4d30>"
      ]
     },
     "execution_count": 39,
     "metadata": {},
     "output_type": "execute_result"
    },
    {
     "data": {
      "image/png": "[encoded data removed]",
      "text/plain": [
       "<Figure size 432x288 with 2 Axes>"
      ]
     },
     "metadata": {
      "needs_background": "light"
     },
     "output_type": "display_data"
    }
   ],
   "source": [
    "from sklearn.metrics import plot_confusion_matrix\n",
    "plot_confusion_matrix(model, X_test[features], y_test)"
   ]
  },
  {
   "cell_type": "code",
   "execution_count": 40,
   "id": "530937ef",
   "metadata": {},
   "outputs": [
    {
     "data": {
      "image/png": "[encoded data removed]",
      "text/plain": [
       "<Figure size 432x288 with 1 Axes>"
      ]
     },
     "metadata": {
      "needs_background": "light"
     },
     "output_type": "display_data"
    }
   ],
   "source": [
    "feature_imp = pd.DataFrame()\n",
    "feature_imp['features'] = features\n",
    "feature_imp['imp'] = model.feature_importances_\n",
    "\n",
    "ax = sns.barplot(x=\"imp\", y=\"features\", data=feature_imp)"
   ]
  },
  {
   "cell_type": "code",
   "execution_count": 49,
   "id": "d9f72902",
   "metadata": {},
   "outputs": [],
   "source": [
    "path = '/Users/henaghonia/Desktop/udem/Sem-1/Data-science/Hockey-all-star-analytics/models/'\n",
    "filename = path+'lgbm.sav'\n",
    "pickle.dump(model, open(filename, 'wb'))\n",
    "filename = path+'randomForest.sav'\n",
    "pickle.dump(randomForest, open(filename, 'wb'))\n",
    "filename = path+'MLP.sav'\n",
    "pickle.dump(clf, open(filename, 'wb'))"
   ]
  },
  {
   "cell_type": "code",
   "execution_count": 41,
   "id": "2f2055e0",
   "metadata": {},
   "outputs": [
    {
     "name": "stderr",
     "output_type": "stream",
     "text": [
      "LightGBM binary classifier with TreeExplainer shap values output has changed to a list of ndarray\n"
     ]
    },
    {
     "data": {
      "image/png": "[encoded data removed]",
      "text/plain": [
       "<Figure size 576x684 with 1 Axes>"
      ]
     },
     "metadata": {
      "needs_background": "light"
     },
     "output_type": "display_data"
    }
   ],
   "source": [
    "import shap\n",
    "### Shap\n",
    "explainer = shap.TreeExplainer(model)\n",
    "shap_values = explainer.shap_values(X_test[features])\n",
    "shap.summary_plot(shap_values, X_test[features])"
   ]
  },
  {
   "cell_type": "code",
   "execution_count": 50,
   "id": "8aa96b82",
   "metadata": {},
   "outputs": [
    {
     "name": "stdout",
     "output_type": "stream",
     "text": [
      "Overwriting src/models/best_model.py\n"
     ]
    }
   ],
   "source": [
    "%%writefile src/models/best_model.py\n",
    "# import comet_ml at the top of your file\n",
    "from comet_ml import Experiment\n",
    "\n",
    "# Create an experiment with your api key\n",
    "experiment = Experiment(\n",
    "    project_name=\"hockey-all-star-analytics\",\n",
    "    workspace=\"zilto\",\n",
    ")\n",
    "path = \"/Users/henaghonia/Desktop/udem/Sem-1/Data-science/Hockey-all-star-analytics/models/\"\n",
    "\n",
    "experiment.log_model(\"Best model-LightGBM\", path+\"lgbm.sav\")\n",
    "experiment.log_model(\"MLP\", path+\"MLP.sav\")\n",
    "experiment.log_model(\"Random forest\", path+\"randomForest.sav\")\n",
    "experiment.end()"
   ]
  },
  {
   "cell_type": "code",
   "execution_count": 70,
   "id": "9e18867e",
   "metadata": {},
   "outputs": [
    {
     "name": "stdout",
     "output_type": "stream",
     "text": [
      "features used ['seconds_elapsed', 'period_idx', 'x_coord', 'y_coord', 'x_coord_norm', 'y_coord_norm', 'dist_from_net', 'angle_from_net', 'Backhand', 'Deflected', 'Snap Shot', 'Tip-In', 'Wrap-around', 'Wrist Shot', 'FACEOFF', 'GIVEAWAY', 'GOAL', 'HIT', 'PERIOD_START', 'SHOT', 'STOP', 'TAKEAWAY', 'previous_y_coord', 'seconds_from_previous', 'dist_from_previous', 'rebound', 'angle_change', 'speed', 'REGULAR', 'SHOOTOUT']\n"
     ]
    }
   ],
   "source": [
    "print(\"features used\", features)"
   ]
  },
  {
   "cell_type": "markdown",
   "id": "2699aa46",
   "metadata": {},
   "source": [
    "### For test data"
   ]
  },
  {
   "cell_type": "code",
   "execution_count": 59,
   "id": "b1467970",
   "metadata": {},
   "outputs": [],
   "source": [
    "def feature_data(test_df):\n",
    "    test_advanced_df = advanced_features(test_df)\n",
    "    test_df2 = pd.get_dummies(test_df.period_type)\n",
    "    test_df['is_goal'] = np.where(test_df.event_type_id == \"GOAL\",1,0)\n",
    "    result_df = pd.concat([test_advanced_df, test_df2, test_df[['is_goal','game_type']]], axis=1).round(2).fillna(0)\n",
    "    test_data = result_df.replace({np.nan: 0, np.inf:0, -np.inf:0})\n",
    "    \n",
    "    return test_data[(test_data['game_type']==\"R\")], test_data[(test_data['game_type']==\"P\")]\n",
    "Regular_test, play_off_test = feature_data(test_df)"
   ]
  },
  {
   "cell_type": "code",
   "execution_count": 63,
   "id": "8c2744a4",
   "metadata": {},
   "outputs": [],
   "source": [
    "Regualar_pred = pd.DataFrame()\n",
    "Regualar_pred['pred_proba'] = model.predict_proba(Regular_test[features])[::,1]\n",
    "Regualar_pred['Prediction'] = model.predict(Regular_test[features])\n",
    "Regualar_pred['actual'] = np.array(Regular_test['is_goal'])"
   ]
  },
  {
   "cell_type": "code",
   "execution_count": 64,
   "id": "f2a55449",
   "metadata": {},
   "outputs": [],
   "source": [
    "playoff_pred = pd.DataFrame()\n",
    "playoff_pred['pred_proba'] = model.predict_proba(play_off_test[features])[::,1]\n",
    "playoff_pred['Prediction'] = model.predict(play_off_test[features])\n",
    "playoff_pred['actual'] = np.array(play_off_test['is_goal'])"
   ]
  },
  {
   "cell_type": "code",
   "execution_count": 68,
   "id": "3eefc1a1",
   "metadata": {},
   "outputs": [],
   "source": [
    "playoff_pred.to_csv('data/processed/play_off_prediction.csv', index=False)\n",
    "Regualar_pred.to_csv('data/processed/Regualar_prediction.csv', index=False)"
   ]
  },
  {
   "cell_type": "code",
   "execution_count": 66,
   "id": "79d447ae",
   "metadata": {},
   "outputs": [
    {
     "data": {
      "image/png": "[encoded data removed]",
      "text/plain": [
       "<Figure size 432x288 with 1 Axes>"
      ]
     },
     "metadata": {
      "needs_background": "light"
     },
     "output_type": "display_data"
    }
   ],
   "source": [
    "y_pred_proba = playoff_pred['pred_proba']\n",
    "fpr, tpr, _ = metrics.roc_curve(playoff_pred['actual'],  y_pred_proba)\n",
    "auc = metrics.roc_auc_score(playoff_pred['actual'], y_pred_proba)\n",
    "plt.plot(fpr,tpr,label=\"lightgbm , auc=\"+str(auc))\n",
    "plt.legend(loc=4)\n",
    "plt.xticks(rotation=50)\n",
    "plt.xlabel('False Positive Rate', fontsize=18)\n",
    "plt.ylabel('True Positive rate', fontsize=16)\n",
    "plt.show()"
   ]
  },
  {
   "cell_type": "code",
   "execution_count": 67,
   "id": "f6f1b717",
   "metadata": {},
   "outputs": [
    {
     "data": {
      "image/png": "[encoded data removed]",
      "text/plain": [
       "<Figure size 432x288 with 1 Axes>"
      ]
     },
     "metadata": {
      "needs_background": "light"
     },
     "output_type": "display_data"
    }
   ],
   "source": [
    "y_pred_proba = Regualar_pred['pred_proba']\n",
    "fpr, tpr, _ = metrics.roc_curve(Regualar_pred['actual'],  y_pred_proba)\n",
    "auc = metrics.roc_auc_score(Regualar_pred['actual'], y_pred_proba)\n",
    "plt.plot(fpr,tpr,label=\"lightgbm , auc=\"+str(auc))\n",
    "plt.legend(loc=4)\n",
    "plt.xticks(rotation=50)\n",
    "plt.xlabel('False Positive Rate', fontsize=18)\n",
    "plt.ylabel('True Positive rate', fontsize=16)\n",
    "plt.show()"
   ]
  },
  {
   "cell_type": "code",
   "execution_count": null,
   "id": "73c4bb80",
   "metadata": {},
   "outputs": [],
   "source": []
  }
 ],
 "metadata": {
  "kernelspec": {
   "display_name": "Python 3 (ipykernel)",
   "language": "python",
   "name": "python3"
  },
  "language_info": {
   "codemirror_mode": {
    "name": "ipython",
    "version": 3
   },
   "file_extension": ".py",
   "mimetype": "text/x-python",
   "name": "python",
   "nbconvert_exporter": "python",
   "pygments_lexer": "ipython3",
   "version": "3.8.2"
  }
 },
 "nbformat": 4,
 "nbformat_minor": 5
}
